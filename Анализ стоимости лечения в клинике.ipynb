{
  "cells": [
    {
      "cell_type": "markdown",
      "id": "ff59efb0",
      "metadata": {
        "toc": true,
        "id": "ff59efb0"
      },
      "source": [
        "<h1>Table of Contents<span class=\"tocSkip\"></span></h1>\n",
        "<div class=\"toc\"><ul class=\"toc-item\"><li><span><a href=\"#Предобработка-данных\" data-toc-modified-id=\"Предобработка-данных-1\"><span class=\"toc-item-num\">1&nbsp;&nbsp;</span>Предобработка данных</a></span><ul class=\"toc-item\"><li><span><a href=\"#Исправление-данных\" data-toc-modified-id=\"Исправление-данных-1.1\"><span class=\"toc-item-num\">1.1&nbsp;&nbsp;</span>Исправление данных</a></span></li><li><span><a href=\"#Обогащение-данных\" data-toc-modified-id=\"Обогащение-данных-1.2\"><span class=\"toc-item-num\">1.2&nbsp;&nbsp;</span>Обогащение данных</a></span></li></ul></li><li><span><a href=\"#Исследовательский-анализ-данных\" data-toc-modified-id=\"Исследовательский-анализ-данных-2\"><span class=\"toc-item-num\">2&nbsp;&nbsp;</span>Исследовательский анализ данных</a></span><ul class=\"toc-item\"><li><span><a href=\"#Изменение-стоимости-лечения\" data-toc-modified-id=\"Изменение-стоимости-лечения-2.1\"><span class=\"toc-item-num\">2.1&nbsp;&nbsp;</span>Изменение стоимости лечения</a></span></li><li><span><a href=\"#Изменение-цен-на-услуги\" data-toc-modified-id=\"Изменение-цен-на-услуги-2.2\"><span class=\"toc-item-num\">2.2&nbsp;&nbsp;</span>Изменение цен на услуги</a></span></li><li><span><a href=\"#Изменение-среднего-количества-оказанных-услуг-на-один-кейс-\" data-toc-modified-id=\"Изменение-среднего-количества-оказанных-услуг-на-один-кейс--2.3\"><span class=\"toc-item-num\">2.3&nbsp;&nbsp;</span>Изменение среднего количества оказанных услуг на один кейс <br></a></span></li><li><span><a href=\"#Изменения-поло-возрастной-структуры-обслуживаемых-пациентов\" data-toc-modified-id=\"Изменения-поло-возрастной-структуры-обслуживаемых-пациентов-2.4\"><span class=\"toc-item-num\">2.4&nbsp;&nbsp;</span>Изменения поло-возрастной структуры обслуживаемых пациентов</a></span></li><li><span><a href=\"#Изменения-структуры-оказываемых-услуг\" data-toc-modified-id=\"Изменения-структуры-оказываемых-услуг-2.5\"><span class=\"toc-item-num\">2.5&nbsp;&nbsp;</span>Изменения структуры оказываемых услуг</a></span></li></ul></li><li><span><a href=\"#Проверка-гипотез\" data-toc-modified-id=\"Проверка-гипотез-3\"><span class=\"toc-item-num\">3&nbsp;&nbsp;</span>Проверка гипотез</a></span><ul class=\"toc-item\"><li><span><a href=\"#Гипотеза-о-влиянии-изменения-цен-на-увеличение-стоимости-лечения\" data-toc-modified-id=\"Гипотеза-о-влиянии-изменения-цен-на-увеличение-стоимости-лечения-3.1\"><span class=\"toc-item-num\">3.1&nbsp;&nbsp;</span>Гипотеза о влиянии изменения цен на увеличение стоимости лечения</a></span></li><li><span><a href=\"#Гипотеза-о-влиянии-среднего-количества-оказываемых-услуг-на-стоимость-лечения\" data-toc-modified-id=\"Гипотеза-о-влиянии-среднего-количества-оказываемых-услуг-на-стоимость-лечения-3.2\"><span class=\"toc-item-num\">3.2&nbsp;&nbsp;</span>Гипотеза о влиянии среднего количества оказываемых услуг на стоимость лечения</a></span></li><li><span><a href=\"#Гипотеза-о-влиянии-изменения-поло-возрастной-структуры-пациентов\" data-toc-modified-id=\"Гипотеза-о-влиянии-изменения-поло-возрастной-структуры-пациентов-3.3\"><span class=\"toc-item-num\">3.3&nbsp;&nbsp;</span>Гипотеза о влиянии изменения поло-возрастной структуры пациентов</a></span></li><li><span><a href=\"#Гипотеза-о-влиянии-структуры-оказываемых-услуг-на-увеличение-стоимости-лечения\" data-toc-modified-id=\"Гипотеза-о-влиянии-структуры-оказываемых-услуг-на-увеличение-стоимости-лечения-3.4\"><span class=\"toc-item-num\">3.4&nbsp;&nbsp;</span>Гипотеза о влиянии структуры оказываемых услуг на увеличение стоимости лечения</a></span></li></ul></li></ul></div>"
      ]
    },
    {
      "cell_type": "markdown",
      "id": "345f5b12",
      "metadata": {
        "id": "345f5b12"
      },
      "source": [
        "# Анализ причин изменения стоимости лечения в клининке 2022 году"
      ]
    },
    {
      "cell_type": "markdown",
      "id": "380af9d2",
      "metadata": {
        "id": "380af9d2"
      },
      "source": [
        "**Цель исследования:**\n",
        "Требуется провести анализ изменения стоимости лечения в 2022г. относительно 2021г. в медицинской клинике и определить ключевые драйверы изменения. <br>\n",
        "\n",
        "**Задачи исследования:**<br>\n",
        "Проанализировать влияние нескольких факторов на факт изменения стоимости лечения. Проверить статистические гипотезы:<br>\n",
        "- Средняя стоимость обслуживания пациентов изменилась из-за изменения цен на услуги<br>\n",
        "- Средняя стоимость обслуживания изменилась из-за изменения среднего количества оказанных услуг на один кейс<br>\n",
        "- Средняя стоимость обслуживания пациентов изменилась из-за изменения поло-возрастной структуры обслуживаемых пациентов<br>\n",
        "- Средняя стоимость обслуживания пациентов изменилась из-за изменения структуры оказываемых услуг (раньше были дорогие услуги, теперь дешевые или наоборот)<br>\n",
        "\n",
        "**План исследования:**<br>\n",
        "- Откроем, изучим и подготовим имеющиеся данные<br>\n",
        "- Проведем исследовательский анализ данных, выявим закономерности<br>\n",
        "- Сформулируем и проверим гипотезы<br>\n",
        "\n",
        "**Инструментарий**:<br>\n",
        "Есть один датасет с информацией о визитах пациентов 'data_test_task_2022.xlsx':<br>\n",
        "- record_id- уникальный идентификатор строки данных<br>\n",
        "- service_date - дата оказания медицинской услуги<br>\n",
        "- service_name - наименование медицинской услуги<br>\n",
        "- service_number - количество услуг<br>\n",
        "- service_amount - сумма выплат (стоимость оказанных услуг в рублях)<br>\n",
        "- insured - уникальный идентификатор пациента<br>\n",
        "- sex_id - пол пациента<br>\n",
        "- age_for_service_date - возраст пациента<br>\n",
        "\n",
        "\n",
        "**Определение:**<br>\n",
        "Медицинский кейс - последовательность медицинских услуг, полученных одним застрахованном в одной клинике с интервалом между любыми соседними по дате услугами не более 14 дней. Т.е. между любыми 2-мя услугами в кейсе не должно быть разрыва более 14 дней."
      ]
    },
    {
      "cell_type": "code",
      "execution_count": 6,
      "id": "ae2dc9b0",
      "metadata": {
        "id": "ae2dc9b0"
      },
      "outputs": [],
      "source": [
        "import pandas as pd\n",
        "import numpy as np\n",
        "import seaborn as sns\n",
        "import matplotlib.pyplot as plt\n",
        "from scipy import stats as st\n",
        "from scipy.stats import mannwhitneyu\n",
        "from scipy.stats import norm\n",
        "from scipy.stats import ttest_ind\n",
        "import math"
      ]
    },
    {
      "cell_type": "markdown",
      "id": "207cfb9e",
      "metadata": {
        "id": "207cfb9e"
      },
      "source": [
        "Загрузим данные и получим первое представление о них."
      ]
    },
    {
      "cell_type": "code",
      "execution_count": 7,
      "id": "819da664",
      "metadata": {
        "id": "819da664"
      },
      "outputs": [],
      "source": [
        "df = pd.read_excel('data_test_task_2022.xlsx')"
      ]
    },
    {
      "cell_type": "code",
      "execution_count": 8,
      "id": "31bd4801",
      "metadata": {
        "colab": {
          "base_uri": "https://localhost:8080/",
          "height": 206
        },
        "id": "31bd4801",
        "outputId": "ce5d404f-3d8a-48ec-808d-fabe4df15865"
      },
      "outputs": [
        {
          "output_type": "execute_result",
          "data": {
            "text/plain": [
              "     record_id service_date  \\\n",
              "0  30268157003   2021-01-24   \n",
              "1  30268157103   2021-01-24   \n",
              "2  30268157203   2021-01-24   \n",
              "3  30268157303   2021-01-24   \n",
              "4  30268157403   2021-01-24   \n",
              "\n",
              "                                        service_name  service_amount  \\\n",
              "0                                    Прием первичный            1470   \n",
              "1  Взятие материала на посев, цитологическое иссл...             284   \n",
              "2  Посев отдел, дыхательных путей - слизистая зев...            1134   \n",
              "3      Общий анализ крови (лейкоцитарная форм,, СОЭ)             693   \n",
              "4                                Ревматоидный фактор             420   \n",
              "\n",
              "   service_number  insured  sex_id  age_for_service_date  \n",
              "0               1   490777     2.0                    26  \n",
              "1               1   490777     2.0                    26  \n",
              "2               1   490777     2.0                    26  \n",
              "3               1   490777     2.0                    26  \n",
              "4               1   490777     2.0                    26  "
            ],
            "text/html": [
              "\n",
              "  <div id=\"df-ca201173-9e7f-4809-bfaf-67ad2c329416\">\n",
              "    <div class=\"colab-df-container\">\n",
              "      <div>\n",
              "<style scoped>\n",
              "    .dataframe tbody tr th:only-of-type {\n",
              "        vertical-align: middle;\n",
              "    }\n",
              "\n",
              "    .dataframe tbody tr th {\n",
              "        vertical-align: top;\n",
              "    }\n",
              "\n",
              "    .dataframe thead th {\n",
              "        text-align: right;\n",
              "    }\n",
              "</style>\n",
              "<table border=\"1\" class=\"dataframe\">\n",
              "  <thead>\n",
              "    <tr style=\"text-align: right;\">\n",
              "      <th></th>\n",
              "      <th>record_id</th>\n",
              "      <th>service_date</th>\n",
              "      <th>service_name</th>\n",
              "      <th>service_amount</th>\n",
              "      <th>service_number</th>\n",
              "      <th>insured</th>\n",
              "      <th>sex_id</th>\n",
              "      <th>age_for_service_date</th>\n",
              "    </tr>\n",
              "  </thead>\n",
              "  <tbody>\n",
              "    <tr>\n",
              "      <th>0</th>\n",
              "      <td>30268157003</td>\n",
              "      <td>2021-01-24</td>\n",
              "      <td>Прием первичный</td>\n",
              "      <td>1470</td>\n",
              "      <td>1</td>\n",
              "      <td>490777</td>\n",
              "      <td>2.0</td>\n",
              "      <td>26</td>\n",
              "    </tr>\n",
              "    <tr>\n",
              "      <th>1</th>\n",
              "      <td>30268157103</td>\n",
              "      <td>2021-01-24</td>\n",
              "      <td>Взятие материала на посев, цитологическое иссл...</td>\n",
              "      <td>284</td>\n",
              "      <td>1</td>\n",
              "      <td>490777</td>\n",
              "      <td>2.0</td>\n",
              "      <td>26</td>\n",
              "    </tr>\n",
              "    <tr>\n",
              "      <th>2</th>\n",
              "      <td>30268157203</td>\n",
              "      <td>2021-01-24</td>\n",
              "      <td>Посев отдел, дыхательных путей - слизистая зев...</td>\n",
              "      <td>1134</td>\n",
              "      <td>1</td>\n",
              "      <td>490777</td>\n",
              "      <td>2.0</td>\n",
              "      <td>26</td>\n",
              "    </tr>\n",
              "    <tr>\n",
              "      <th>3</th>\n",
              "      <td>30268157303</td>\n",
              "      <td>2021-01-24</td>\n",
              "      <td>Общий анализ крови (лейкоцитарная форм,, СОЭ)</td>\n",
              "      <td>693</td>\n",
              "      <td>1</td>\n",
              "      <td>490777</td>\n",
              "      <td>2.0</td>\n",
              "      <td>26</td>\n",
              "    </tr>\n",
              "    <tr>\n",
              "      <th>4</th>\n",
              "      <td>30268157403</td>\n",
              "      <td>2021-01-24</td>\n",
              "      <td>Ревматоидный фактор</td>\n",
              "      <td>420</td>\n",
              "      <td>1</td>\n",
              "      <td>490777</td>\n",
              "      <td>2.0</td>\n",
              "      <td>26</td>\n",
              "    </tr>\n",
              "  </tbody>\n",
              "</table>\n",
              "</div>\n",
              "      <button class=\"colab-df-convert\" onclick=\"convertToInteractive('df-ca201173-9e7f-4809-bfaf-67ad2c329416')\"\n",
              "              title=\"Convert this dataframe to an interactive table.\"\n",
              "              style=\"display:none;\">\n",
              "        \n",
              "  <svg xmlns=\"http://www.w3.org/2000/svg\" height=\"24px\"viewBox=\"0 0 24 24\"\n",
              "       width=\"24px\">\n",
              "    <path d=\"M0 0h24v24H0V0z\" fill=\"none\"/>\n",
              "    <path d=\"M18.56 5.44l.94 2.06.94-2.06 2.06-.94-2.06-.94-.94-2.06-.94 2.06-2.06.94zm-11 1L8.5 8.5l.94-2.06 2.06-.94-2.06-.94L8.5 2.5l-.94 2.06-2.06.94zm10 10l.94 2.06.94-2.06 2.06-.94-2.06-.94-.94-2.06-.94 2.06-2.06.94z\"/><path d=\"M17.41 7.96l-1.37-1.37c-.4-.4-.92-.59-1.43-.59-.52 0-1.04.2-1.43.59L10.3 9.45l-7.72 7.72c-.78.78-.78 2.05 0 2.83L4 21.41c.39.39.9.59 1.41.59.51 0 1.02-.2 1.41-.59l7.78-7.78 2.81-2.81c.8-.78.8-2.07 0-2.86zM5.41 20L4 18.59l7.72-7.72 1.47 1.35L5.41 20z\"/>\n",
              "  </svg>\n",
              "      </button>\n",
              "      \n",
              "  <style>\n",
              "    .colab-df-container {\n",
              "      display:flex;\n",
              "      flex-wrap:wrap;\n",
              "      gap: 12px;\n",
              "    }\n",
              "\n",
              "    .colab-df-convert {\n",
              "      background-color: #E8F0FE;\n",
              "      border: none;\n",
              "      border-radius: 50%;\n",
              "      cursor: pointer;\n",
              "      display: none;\n",
              "      fill: #1967D2;\n",
              "      height: 32px;\n",
              "      padding: 0 0 0 0;\n",
              "      width: 32px;\n",
              "    }\n",
              "\n",
              "    .colab-df-convert:hover {\n",
              "      background-color: #E2EBFA;\n",
              "      box-shadow: 0px 1px 2px rgba(60, 64, 67, 0.3), 0px 1px 3px 1px rgba(60, 64, 67, 0.15);\n",
              "      fill: #174EA6;\n",
              "    }\n",
              "\n",
              "    [theme=dark] .colab-df-convert {\n",
              "      background-color: #3B4455;\n",
              "      fill: #D2E3FC;\n",
              "    }\n",
              "\n",
              "    [theme=dark] .colab-df-convert:hover {\n",
              "      background-color: #434B5C;\n",
              "      box-shadow: 0px 1px 3px 1px rgba(0, 0, 0, 0.15);\n",
              "      filter: drop-shadow(0px 1px 2px rgba(0, 0, 0, 0.3));\n",
              "      fill: #FFFFFF;\n",
              "    }\n",
              "  </style>\n",
              "\n",
              "      <script>\n",
              "        const buttonEl =\n",
              "          document.querySelector('#df-ca201173-9e7f-4809-bfaf-67ad2c329416 button.colab-df-convert');\n",
              "        buttonEl.style.display =\n",
              "          google.colab.kernel.accessAllowed ? 'block' : 'none';\n",
              "\n",
              "        async function convertToInteractive(key) {\n",
              "          const element = document.querySelector('#df-ca201173-9e7f-4809-bfaf-67ad2c329416');\n",
              "          const dataTable =\n",
              "            await google.colab.kernel.invokeFunction('convertToInteractive',\n",
              "                                                     [key], {});\n",
              "          if (!dataTable) return;\n",
              "\n",
              "          const docLinkHtml = 'Like what you see? Visit the ' +\n",
              "            '<a target=\"_blank\" href=https://colab.research.google.com/notebooks/data_table.ipynb>data table notebook</a>'\n",
              "            + ' to learn more about interactive tables.';\n",
              "          element.innerHTML = '';\n",
              "          dataTable['output_type'] = 'display_data';\n",
              "          await google.colab.output.renderOutput(dataTable, element);\n",
              "          const docLink = document.createElement('div');\n",
              "          docLink.innerHTML = docLinkHtml;\n",
              "          element.appendChild(docLink);\n",
              "        }\n",
              "      </script>\n",
              "    </div>\n",
              "  </div>\n",
              "  "
            ]
          },
          "metadata": {},
          "execution_count": 8
        }
      ],
      "source": [
        "df.head()"
      ]
    },
    {
      "cell_type": "code",
      "execution_count": 9,
      "id": "2f028ec6",
      "metadata": {
        "colab": {
          "base_uri": "https://localhost:8080/"
        },
        "id": "2f028ec6",
        "outputId": "9c217c46-7d0d-4fea-9957-4a53d36289e9"
      },
      "outputs": [
        {
          "output_type": "stream",
          "name": "stdout",
          "text": [
            "<class 'pandas.core.frame.DataFrame'>\n",
            "RangeIndex: 85369 entries, 0 to 85368\n",
            "Data columns (total 8 columns):\n",
            " #   Column                Non-Null Count  Dtype  \n",
            "---  ------                --------------  -----  \n",
            " 0   record_id             85369 non-null  int64  \n",
            " 1   service_date          85369 non-null  object \n",
            " 2   service_name          85369 non-null  object \n",
            " 3   service_amount        85369 non-null  int64  \n",
            " 4   service_number        85369 non-null  int64  \n",
            " 5   insured               85369 non-null  int64  \n",
            " 6   sex_id                85348 non-null  float64\n",
            " 7   age_for_service_date  85369 non-null  int64  \n",
            "dtypes: float64(1), int64(5), object(2)\n",
            "memory usage: 5.2+ MB\n"
          ]
        }
      ],
      "source": [
        "df.info()"
      ]
    },
    {
      "cell_type": "markdown",
      "id": "8ebdb18a",
      "metadata": {
        "id": "8ebdb18a"
      },
      "source": [
        "## Предобработка данных"
      ]
    },
    {
      "cell_type": "markdown",
      "id": "f348e7fd",
      "metadata": {
        "id": "f348e7fd"
      },
      "source": [
        "### Исправление данных "
      ]
    },
    {
      "cell_type": "markdown",
      "id": "9278e27f",
      "metadata": {
        "id": "9278e27f"
      },
      "source": [
        "Столбец 'service_date' необходимо перевести в формат даты."
      ]
    },
    {
      "cell_type": "code",
      "execution_count": 10,
      "id": "13b6e244",
      "metadata": {
        "id": "13b6e244"
      },
      "outputs": [],
      "source": [
        "df['service_date'] = pd.to_datetime(df['service_date'])"
      ]
    },
    {
      "cell_type": "markdown",
      "id": "de2f3f95",
      "metadata": {
        "id": "de2f3f95"
      },
      "source": [
        "Проверим, все ли данные корректно заполнены в этом столбце."
      ]
    },
    {
      "cell_type": "code",
      "execution_count": 11,
      "id": "f43169d8",
      "metadata": {
        "colab": {
          "base_uri": "https://localhost:8080/"
        },
        "id": "f43169d8",
        "outputId": "cb33f110-c849-403b-ef29-b377207d0614"
      },
      "outputs": [
        {
          "output_type": "execute_result",
          "data": {
            "text/plain": [
              "min   2021-01-03\n",
              "max   2022-08-31\n",
              "Name: service_date, dtype: datetime64[ns]"
            ]
          },
          "metadata": {},
          "execution_count": 11
        }
      ],
      "source": [
        "df['service_date'].agg(['min', 'max'])"
      ]
    },
    {
      "cell_type": "markdown",
      "id": "0c6dc020",
      "metadata": {
        "id": "0c6dc020"
      },
      "source": [
        "Данные выглядят корректно."
      ]
    },
    {
      "cell_type": "markdown",
      "id": "39b21bab",
      "metadata": {
        "id": "39b21bab"
      },
      "source": [
        "Проверим столбец со стоимостью оказанных услуг на корректность заполнения."
      ]
    },
    {
      "cell_type": "code",
      "execution_count": 12,
      "id": "da0043be",
      "metadata": {
        "colab": {
          "base_uri": "https://localhost:8080/"
        },
        "id": "da0043be",
        "outputId": "cc1c7334-4c92-4e5b-c200-86391ed5b9d1"
      },
      "outputs": [
        {
          "output_type": "execute_result",
          "data": {
            "text/plain": [
              "count    85369.000000\n",
              "mean      1166.094636\n",
              "std        799.062660\n",
              "min        147.000000\n",
              "25%        550.000000\n",
              "50%       1155.000000\n",
              "75%       1530.000000\n",
              "max      26999.000000\n",
              "Name: service_amount, dtype: float64"
            ]
          },
          "metadata": {},
          "execution_count": 12
        }
      ],
      "source": [
        "df['service_amount'].describe()"
      ]
    },
    {
      "cell_type": "markdown",
      "id": "4f77527a",
      "metadata": {
        "id": "4f77527a"
      },
      "source": [
        "Максимальная сумма выглядит немного подозрительно, она намного выше средней стоимости, но пока оставим как есть, возможно это просто очень дорогая услуга."
      ]
    },
    {
      "cell_type": "markdown",
      "id": "6efd8692",
      "metadata": {
        "id": "6efd8692"
      },
      "source": [
        "Проверим столбец с количеством указанных услуг на корректность заполнения."
      ]
    },
    {
      "cell_type": "code",
      "execution_count": 13,
      "id": "ee7b9a9e",
      "metadata": {
        "colab": {
          "base_uri": "https://localhost:8080/"
        },
        "id": "ee7b9a9e",
        "outputId": "426c0b7d-4ad1-452d-c97b-f2c9eb968e04"
      },
      "outputs": [
        {
          "output_type": "execute_result",
          "data": {
            "text/plain": [
              "1     83807\n",
              "2      1373\n",
              "3       135\n",
              "4        26\n",
              "5        10\n",
              "13        5\n",
              "7         4\n",
              "12        2\n",
              "16        2\n",
              "14        2\n",
              "11        1\n",
              "6         1\n",
              "15        1\n",
              "Name: service_number, dtype: int64"
            ]
          },
          "metadata": {},
          "execution_count": 13
        }
      ],
      "source": [
        "df['service_number'].value_counts()"
      ]
    },
    {
      "cell_type": "markdown",
      "id": "745bce2d",
      "metadata": {
        "id": "745bce2d"
      },
      "source": [
        "Данные выглядят корректно, несмотря на довольно большой разброс."
      ]
    },
    {
      "cell_type": "markdown",
      "id": "7e0498a6",
      "metadata": {
        "id": "7e0498a6"
      },
      "source": [
        "Проверим столбец 'insured' на корректность заполнения и заодно выясним, сколько уникальных клиентов содержится в датафрейме."
      ]
    },
    {
      "cell_type": "code",
      "execution_count": 14,
      "id": "56899d34",
      "metadata": {
        "colab": {
          "base_uri": "https://localhost:8080/",
          "height": 423
        },
        "id": "56899d34",
        "outputId": "beb3399d-d8f7-42f0-b152-f8a2c20ca688"
      },
      "outputs": [
        {
          "output_type": "execute_result",
          "data": {
            "text/plain": [
              "      insured  amount\n",
              "712    418193     303\n",
              "159    180725     238\n",
              "1330   544854     227\n",
              "682    402409     208\n",
              "1773   634801     204\n",
              "...       ...     ...\n",
              "79     164401       1\n",
              "78     163826       1\n",
              "1524   596437       1\n",
              "4039  1154940       1\n",
              "714    419169       1\n",
              "\n",
              "[4488 rows x 2 columns]"
            ],
            "text/html": [
              "\n",
              "  <div id=\"df-ed563603-6915-4448-95b5-07611f8e4a7e\">\n",
              "    <div class=\"colab-df-container\">\n",
              "      <div>\n",
              "<style scoped>\n",
              "    .dataframe tbody tr th:only-of-type {\n",
              "        vertical-align: middle;\n",
              "    }\n",
              "\n",
              "    .dataframe tbody tr th {\n",
              "        vertical-align: top;\n",
              "    }\n",
              "\n",
              "    .dataframe thead th {\n",
              "        text-align: right;\n",
              "    }\n",
              "</style>\n",
              "<table border=\"1\" class=\"dataframe\">\n",
              "  <thead>\n",
              "    <tr style=\"text-align: right;\">\n",
              "      <th></th>\n",
              "      <th>insured</th>\n",
              "      <th>amount</th>\n",
              "    </tr>\n",
              "  </thead>\n",
              "  <tbody>\n",
              "    <tr>\n",
              "      <th>712</th>\n",
              "      <td>418193</td>\n",
              "      <td>303</td>\n",
              "    </tr>\n",
              "    <tr>\n",
              "      <th>159</th>\n",
              "      <td>180725</td>\n",
              "      <td>238</td>\n",
              "    </tr>\n",
              "    <tr>\n",
              "      <th>1330</th>\n",
              "      <td>544854</td>\n",
              "      <td>227</td>\n",
              "    </tr>\n",
              "    <tr>\n",
              "      <th>682</th>\n",
              "      <td>402409</td>\n",
              "      <td>208</td>\n",
              "    </tr>\n",
              "    <tr>\n",
              "      <th>1773</th>\n",
              "      <td>634801</td>\n",
              "      <td>204</td>\n",
              "    </tr>\n",
              "    <tr>\n",
              "      <th>...</th>\n",
              "      <td>...</td>\n",
              "      <td>...</td>\n",
              "    </tr>\n",
              "    <tr>\n",
              "      <th>79</th>\n",
              "      <td>164401</td>\n",
              "      <td>1</td>\n",
              "    </tr>\n",
              "    <tr>\n",
              "      <th>78</th>\n",
              "      <td>163826</td>\n",
              "      <td>1</td>\n",
              "    </tr>\n",
              "    <tr>\n",
              "      <th>1524</th>\n",
              "      <td>596437</td>\n",
              "      <td>1</td>\n",
              "    </tr>\n",
              "    <tr>\n",
              "      <th>4039</th>\n",
              "      <td>1154940</td>\n",
              "      <td>1</td>\n",
              "    </tr>\n",
              "    <tr>\n",
              "      <th>714</th>\n",
              "      <td>419169</td>\n",
              "      <td>1</td>\n",
              "    </tr>\n",
              "  </tbody>\n",
              "</table>\n",
              "<p>4488 rows × 2 columns</p>\n",
              "</div>\n",
              "      <button class=\"colab-df-convert\" onclick=\"convertToInteractive('df-ed563603-6915-4448-95b5-07611f8e4a7e')\"\n",
              "              title=\"Convert this dataframe to an interactive table.\"\n",
              "              style=\"display:none;\">\n",
              "        \n",
              "  <svg xmlns=\"http://www.w3.org/2000/svg\" height=\"24px\"viewBox=\"0 0 24 24\"\n",
              "       width=\"24px\">\n",
              "    <path d=\"M0 0h24v24H0V0z\" fill=\"none\"/>\n",
              "    <path d=\"M18.56 5.44l.94 2.06.94-2.06 2.06-.94-2.06-.94-.94-2.06-.94 2.06-2.06.94zm-11 1L8.5 8.5l.94-2.06 2.06-.94-2.06-.94L8.5 2.5l-.94 2.06-2.06.94zm10 10l.94 2.06.94-2.06 2.06-.94-2.06-.94-.94-2.06-.94 2.06-2.06.94z\"/><path d=\"M17.41 7.96l-1.37-1.37c-.4-.4-.92-.59-1.43-.59-.52 0-1.04.2-1.43.59L10.3 9.45l-7.72 7.72c-.78.78-.78 2.05 0 2.83L4 21.41c.39.39.9.59 1.41.59.51 0 1.02-.2 1.41-.59l7.78-7.78 2.81-2.81c.8-.78.8-2.07 0-2.86zM5.41 20L4 18.59l7.72-7.72 1.47 1.35L5.41 20z\"/>\n",
              "  </svg>\n",
              "      </button>\n",
              "      \n",
              "  <style>\n",
              "    .colab-df-container {\n",
              "      display:flex;\n",
              "      flex-wrap:wrap;\n",
              "      gap: 12px;\n",
              "    }\n",
              "\n",
              "    .colab-df-convert {\n",
              "      background-color: #E8F0FE;\n",
              "      border: none;\n",
              "      border-radius: 50%;\n",
              "      cursor: pointer;\n",
              "      display: none;\n",
              "      fill: #1967D2;\n",
              "      height: 32px;\n",
              "      padding: 0 0 0 0;\n",
              "      width: 32px;\n",
              "    }\n",
              "\n",
              "    .colab-df-convert:hover {\n",
              "      background-color: #E2EBFA;\n",
              "      box-shadow: 0px 1px 2px rgba(60, 64, 67, 0.3), 0px 1px 3px 1px rgba(60, 64, 67, 0.15);\n",
              "      fill: #174EA6;\n",
              "    }\n",
              "\n",
              "    [theme=dark] .colab-df-convert {\n",
              "      background-color: #3B4455;\n",
              "      fill: #D2E3FC;\n",
              "    }\n",
              "\n",
              "    [theme=dark] .colab-df-convert:hover {\n",
              "      background-color: #434B5C;\n",
              "      box-shadow: 0px 1px 3px 1px rgba(0, 0, 0, 0.15);\n",
              "      filter: drop-shadow(0px 1px 2px rgba(0, 0, 0, 0.3));\n",
              "      fill: #FFFFFF;\n",
              "    }\n",
              "  </style>\n",
              "\n",
              "      <script>\n",
              "        const buttonEl =\n",
              "          document.querySelector('#df-ed563603-6915-4448-95b5-07611f8e4a7e button.colab-df-convert');\n",
              "        buttonEl.style.display =\n",
              "          google.colab.kernel.accessAllowed ? 'block' : 'none';\n",
              "\n",
              "        async function convertToInteractive(key) {\n",
              "          const element = document.querySelector('#df-ed563603-6915-4448-95b5-07611f8e4a7e');\n",
              "          const dataTable =\n",
              "            await google.colab.kernel.invokeFunction('convertToInteractive',\n",
              "                                                     [key], {});\n",
              "          if (!dataTable) return;\n",
              "\n",
              "          const docLinkHtml = 'Like what you see? Visit the ' +\n",
              "            '<a target=\"_blank\" href=https://colab.research.google.com/notebooks/data_table.ipynb>data table notebook</a>'\n",
              "            + ' to learn more about interactive tables.';\n",
              "          element.innerHTML = '';\n",
              "          dataTable['output_type'] = 'display_data';\n",
              "          await google.colab.output.renderOutput(dataTable, element);\n",
              "          const docLink = document.createElement('div');\n",
              "          docLink.innerHTML = docLinkHtml;\n",
              "          element.appendChild(docLink);\n",
              "        }\n",
              "      </script>\n",
              "    </div>\n",
              "  </div>\n",
              "  "
            ]
          },
          "metadata": {},
          "execution_count": 14
        }
      ],
      "source": [
        "df.groupby('insured').agg({'record_id': 'count'}).reset_index().rename(columns={'record_id': 'amount'}).\\\n",
        "                    sort_values(by='amount', ascending=False)"
      ]
    },
    {
      "cell_type": "markdown",
      "id": "23a47c24",
      "metadata": {
        "id": "23a47c24"
      },
      "source": [
        "Всего в датафрейме содержится информация о 4488 уникальных клиентов."
      ]
    },
    {
      "cell_type": "markdown",
      "id": "3cb7e55c",
      "metadata": {
        "id": "3cb7e55c"
      },
      "source": [
        "В столбце 'sex_id' есть пропущенные значения. Посмотрим, можно ли это как-то исправить."
      ]
    },
    {
      "cell_type": "code",
      "execution_count": 15,
      "id": "797354cd",
      "metadata": {
        "colab": {
          "base_uri": "https://localhost:8080/",
          "height": 708
        },
        "id": "797354cd",
        "outputId": "01073ed0-3877-4711-813b-da2cf22c6464"
      },
      "outputs": [
        {
          "output_type": "execute_result",
          "data": {
            "text/plain": [
              "         record_id service_date  \\\n",
              "4411   30489299203   2021-03-18   \n",
              "4412   30489299303   2021-03-27   \n",
              "4413   30489299403   2021-03-27   \n",
              "4414   30489299503   2021-03-27   \n",
              "4415   30489299603   2021-03-27   \n",
              "4416   30489299703   2021-03-27   \n",
              "4417   30489299803   2021-03-27   \n",
              "4418   30489299903   2021-03-27   \n",
              "4419   30489300003   2021-03-27   \n",
              "4420   30489300103   2021-03-27   \n",
              "4421   30489300203   2021-03-27   \n",
              "4422   30489300303   2021-03-27   \n",
              "4423   30489300403   2021-03-27   \n",
              "4424   30489300503   2021-03-29   \n",
              "4425   30489300603   2021-03-29   \n",
              "8880   30620882903   2021-04-22   \n",
              "8881   30620883003   2021-04-29   \n",
              "12357  30786036703   2021-05-31   \n",
              "17987  30961733903   2021-06-21   \n",
              "18016  30961736803   2021-06-22   \n",
              "18017  30961736903   2021-06-22   \n",
              "\n",
              "                                         service_name  service_amount  \\\n",
              "4411                                  Прием первичный            1470   \n",
              "4412    Общий анализ крови (лейкоцитарная форм,, СОЭ)             693   \n",
              "4413                                Общий анализ мочи             431   \n",
              "4414                    Альфа-амилаза панкреатическая             287   \n",
              "4415                     АЛТ (аланинаминотрансфераза)             278   \n",
              "4416                   АСТ (аспартатаминотрансфераза)             242   \n",
              "4417                                  Билирубин общий             287   \n",
              "4418                ГГТ (гамма - глютамилтрансфераза)             287   \n",
              "4419                                    Глюкоза крови             273   \n",
              "4420                               Фосфотаза щелочная             287   \n",
              "4421              Взятие крови из периферической вены             158   \n",
              "4422                       Эзофагогастродуоденоскопия            2678   \n",
              "4423      Ультразвуковое исследование брюшной полости            2100   \n",
              "4424                                  Прием первичный            1470   \n",
              "4425                                  Прием повторный            1313   \n",
              "8880                                  Прием первичный            1470   \n",
              "8881                                  Прием повторный            1313   \n",
              "12357                                 Прием первичный            1470   \n",
              "17987                                 Прием повторный            1313   \n",
              "18016                                 Прием первичный            1470   \n",
              "18017  Дуплексное сканирование вен нижних конечностей            2625   \n",
              "\n",
              "       service_number  insured  sex_id  age_for_service_date  \n",
              "4411                1   512590     NaN                    26  \n",
              "4412                1   512590     NaN                    26  \n",
              "4413                1   512590     NaN                    26  \n",
              "4414                1   512590     NaN                    26  \n",
              "4415                1   512590     NaN                    26  \n",
              "4416                1   512590     NaN                    26  \n",
              "4417                1   512590     NaN                    26  \n",
              "4418                1   512590     NaN                    26  \n",
              "4419                1   512590     NaN                    26  \n",
              "4420                1   512590     NaN                    26  \n",
              "4421                1   512590     NaN                    26  \n",
              "4422                1   512590     NaN                    26  \n",
              "4423                1   512590     NaN                    26  \n",
              "4424                1   512590     NaN                    26  \n",
              "4425                1   512590     NaN                    26  \n",
              "8880                1   221581     NaN                    42  \n",
              "8881                1   221581     NaN                    42  \n",
              "12357               1   221581     NaN                    42  \n",
              "17987               1   221581     NaN                    42  \n",
              "18016               1   512590     NaN                    26  \n",
              "18017               1   512590     NaN                    26  "
            ],
            "text/html": [
              "\n",
              "  <div id=\"df-ee5365e0-15f6-4820-83e5-939b056e4a20\">\n",
              "    <div class=\"colab-df-container\">\n",
              "      <div>\n",
              "<style scoped>\n",
              "    .dataframe tbody tr th:only-of-type {\n",
              "        vertical-align: middle;\n",
              "    }\n",
              "\n",
              "    .dataframe tbody tr th {\n",
              "        vertical-align: top;\n",
              "    }\n",
              "\n",
              "    .dataframe thead th {\n",
              "        text-align: right;\n",
              "    }\n",
              "</style>\n",
              "<table border=\"1\" class=\"dataframe\">\n",
              "  <thead>\n",
              "    <tr style=\"text-align: right;\">\n",
              "      <th></th>\n",
              "      <th>record_id</th>\n",
              "      <th>service_date</th>\n",
              "      <th>service_name</th>\n",
              "      <th>service_amount</th>\n",
              "      <th>service_number</th>\n",
              "      <th>insured</th>\n",
              "      <th>sex_id</th>\n",
              "      <th>age_for_service_date</th>\n",
              "    </tr>\n",
              "  </thead>\n",
              "  <tbody>\n",
              "    <tr>\n",
              "      <th>4411</th>\n",
              "      <td>30489299203</td>\n",
              "      <td>2021-03-18</td>\n",
              "      <td>Прием первичный</td>\n",
              "      <td>1470</td>\n",
              "      <td>1</td>\n",
              "      <td>512590</td>\n",
              "      <td>NaN</td>\n",
              "      <td>26</td>\n",
              "    </tr>\n",
              "    <tr>\n",
              "      <th>4412</th>\n",
              "      <td>30489299303</td>\n",
              "      <td>2021-03-27</td>\n",
              "      <td>Общий анализ крови (лейкоцитарная форм,, СОЭ)</td>\n",
              "      <td>693</td>\n",
              "      <td>1</td>\n",
              "      <td>512590</td>\n",
              "      <td>NaN</td>\n",
              "      <td>26</td>\n",
              "    </tr>\n",
              "    <tr>\n",
              "      <th>4413</th>\n",
              "      <td>30489299403</td>\n",
              "      <td>2021-03-27</td>\n",
              "      <td>Общий анализ мочи</td>\n",
              "      <td>431</td>\n",
              "      <td>1</td>\n",
              "      <td>512590</td>\n",
              "      <td>NaN</td>\n",
              "      <td>26</td>\n",
              "    </tr>\n",
              "    <tr>\n",
              "      <th>4414</th>\n",
              "      <td>30489299503</td>\n",
              "      <td>2021-03-27</td>\n",
              "      <td>Альфа-амилаза панкреатическая</td>\n",
              "      <td>287</td>\n",
              "      <td>1</td>\n",
              "      <td>512590</td>\n",
              "      <td>NaN</td>\n",
              "      <td>26</td>\n",
              "    </tr>\n",
              "    <tr>\n",
              "      <th>4415</th>\n",
              "      <td>30489299603</td>\n",
              "      <td>2021-03-27</td>\n",
              "      <td>АЛТ (аланинаминотрансфераза)</td>\n",
              "      <td>278</td>\n",
              "      <td>1</td>\n",
              "      <td>512590</td>\n",
              "      <td>NaN</td>\n",
              "      <td>26</td>\n",
              "    </tr>\n",
              "    <tr>\n",
              "      <th>4416</th>\n",
              "      <td>30489299703</td>\n",
              "      <td>2021-03-27</td>\n",
              "      <td>АСТ (аспартатаминотрансфераза)</td>\n",
              "      <td>242</td>\n",
              "      <td>1</td>\n",
              "      <td>512590</td>\n",
              "      <td>NaN</td>\n",
              "      <td>26</td>\n",
              "    </tr>\n",
              "    <tr>\n",
              "      <th>4417</th>\n",
              "      <td>30489299803</td>\n",
              "      <td>2021-03-27</td>\n",
              "      <td>Билирубин общий</td>\n",
              "      <td>287</td>\n",
              "      <td>1</td>\n",
              "      <td>512590</td>\n",
              "      <td>NaN</td>\n",
              "      <td>26</td>\n",
              "    </tr>\n",
              "    <tr>\n",
              "      <th>4418</th>\n",
              "      <td>30489299903</td>\n",
              "      <td>2021-03-27</td>\n",
              "      <td>ГГТ (гамма - глютамилтрансфераза)</td>\n",
              "      <td>287</td>\n",
              "      <td>1</td>\n",
              "      <td>512590</td>\n",
              "      <td>NaN</td>\n",
              "      <td>26</td>\n",
              "    </tr>\n",
              "    <tr>\n",
              "      <th>4419</th>\n",
              "      <td>30489300003</td>\n",
              "      <td>2021-03-27</td>\n",
              "      <td>Глюкоза крови</td>\n",
              "      <td>273</td>\n",
              "      <td>1</td>\n",
              "      <td>512590</td>\n",
              "      <td>NaN</td>\n",
              "      <td>26</td>\n",
              "    </tr>\n",
              "    <tr>\n",
              "      <th>4420</th>\n",
              "      <td>30489300103</td>\n",
              "      <td>2021-03-27</td>\n",
              "      <td>Фосфотаза щелочная</td>\n",
              "      <td>287</td>\n",
              "      <td>1</td>\n",
              "      <td>512590</td>\n",
              "      <td>NaN</td>\n",
              "      <td>26</td>\n",
              "    </tr>\n",
              "    <tr>\n",
              "      <th>4421</th>\n",
              "      <td>30489300203</td>\n",
              "      <td>2021-03-27</td>\n",
              "      <td>Взятие крови из периферической вены</td>\n",
              "      <td>158</td>\n",
              "      <td>1</td>\n",
              "      <td>512590</td>\n",
              "      <td>NaN</td>\n",
              "      <td>26</td>\n",
              "    </tr>\n",
              "    <tr>\n",
              "      <th>4422</th>\n",
              "      <td>30489300303</td>\n",
              "      <td>2021-03-27</td>\n",
              "      <td>Эзофагогастродуоденоскопия</td>\n",
              "      <td>2678</td>\n",
              "      <td>1</td>\n",
              "      <td>512590</td>\n",
              "      <td>NaN</td>\n",
              "      <td>26</td>\n",
              "    </tr>\n",
              "    <tr>\n",
              "      <th>4423</th>\n",
              "      <td>30489300403</td>\n",
              "      <td>2021-03-27</td>\n",
              "      <td>Ультразвуковое исследование брюшной полости</td>\n",
              "      <td>2100</td>\n",
              "      <td>1</td>\n",
              "      <td>512590</td>\n",
              "      <td>NaN</td>\n",
              "      <td>26</td>\n",
              "    </tr>\n",
              "    <tr>\n",
              "      <th>4424</th>\n",
              "      <td>30489300503</td>\n",
              "      <td>2021-03-29</td>\n",
              "      <td>Прием первичный</td>\n",
              "      <td>1470</td>\n",
              "      <td>1</td>\n",
              "      <td>512590</td>\n",
              "      <td>NaN</td>\n",
              "      <td>26</td>\n",
              "    </tr>\n",
              "    <tr>\n",
              "      <th>4425</th>\n",
              "      <td>30489300603</td>\n",
              "      <td>2021-03-29</td>\n",
              "      <td>Прием повторный</td>\n",
              "      <td>1313</td>\n",
              "      <td>1</td>\n",
              "      <td>512590</td>\n",
              "      <td>NaN</td>\n",
              "      <td>26</td>\n",
              "    </tr>\n",
              "    <tr>\n",
              "      <th>8880</th>\n",
              "      <td>30620882903</td>\n",
              "      <td>2021-04-22</td>\n",
              "      <td>Прием первичный</td>\n",
              "      <td>1470</td>\n",
              "      <td>1</td>\n",
              "      <td>221581</td>\n",
              "      <td>NaN</td>\n",
              "      <td>42</td>\n",
              "    </tr>\n",
              "    <tr>\n",
              "      <th>8881</th>\n",
              "      <td>30620883003</td>\n",
              "      <td>2021-04-29</td>\n",
              "      <td>Прием повторный</td>\n",
              "      <td>1313</td>\n",
              "      <td>1</td>\n",
              "      <td>221581</td>\n",
              "      <td>NaN</td>\n",
              "      <td>42</td>\n",
              "    </tr>\n",
              "    <tr>\n",
              "      <th>12357</th>\n",
              "      <td>30786036703</td>\n",
              "      <td>2021-05-31</td>\n",
              "      <td>Прием первичный</td>\n",
              "      <td>1470</td>\n",
              "      <td>1</td>\n",
              "      <td>221581</td>\n",
              "      <td>NaN</td>\n",
              "      <td>42</td>\n",
              "    </tr>\n",
              "    <tr>\n",
              "      <th>17987</th>\n",
              "      <td>30961733903</td>\n",
              "      <td>2021-06-21</td>\n",
              "      <td>Прием повторный</td>\n",
              "      <td>1313</td>\n",
              "      <td>1</td>\n",
              "      <td>221581</td>\n",
              "      <td>NaN</td>\n",
              "      <td>42</td>\n",
              "    </tr>\n",
              "    <tr>\n",
              "      <th>18016</th>\n",
              "      <td>30961736803</td>\n",
              "      <td>2021-06-22</td>\n",
              "      <td>Прием первичный</td>\n",
              "      <td>1470</td>\n",
              "      <td>1</td>\n",
              "      <td>512590</td>\n",
              "      <td>NaN</td>\n",
              "      <td>26</td>\n",
              "    </tr>\n",
              "    <tr>\n",
              "      <th>18017</th>\n",
              "      <td>30961736903</td>\n",
              "      <td>2021-06-22</td>\n",
              "      <td>Дуплексное сканирование вен нижних конечностей</td>\n",
              "      <td>2625</td>\n",
              "      <td>1</td>\n",
              "      <td>512590</td>\n",
              "      <td>NaN</td>\n",
              "      <td>26</td>\n",
              "    </tr>\n",
              "  </tbody>\n",
              "</table>\n",
              "</div>\n",
              "      <button class=\"colab-df-convert\" onclick=\"convertToInteractive('df-ee5365e0-15f6-4820-83e5-939b056e4a20')\"\n",
              "              title=\"Convert this dataframe to an interactive table.\"\n",
              "              style=\"display:none;\">\n",
              "        \n",
              "  <svg xmlns=\"http://www.w3.org/2000/svg\" height=\"24px\"viewBox=\"0 0 24 24\"\n",
              "       width=\"24px\">\n",
              "    <path d=\"M0 0h24v24H0V0z\" fill=\"none\"/>\n",
              "    <path d=\"M18.56 5.44l.94 2.06.94-2.06 2.06-.94-2.06-.94-.94-2.06-.94 2.06-2.06.94zm-11 1L8.5 8.5l.94-2.06 2.06-.94-2.06-.94L8.5 2.5l-.94 2.06-2.06.94zm10 10l.94 2.06.94-2.06 2.06-.94-2.06-.94-.94-2.06-.94 2.06-2.06.94z\"/><path d=\"M17.41 7.96l-1.37-1.37c-.4-.4-.92-.59-1.43-.59-.52 0-1.04.2-1.43.59L10.3 9.45l-7.72 7.72c-.78.78-.78 2.05 0 2.83L4 21.41c.39.39.9.59 1.41.59.51 0 1.02-.2 1.41-.59l7.78-7.78 2.81-2.81c.8-.78.8-2.07 0-2.86zM5.41 20L4 18.59l7.72-7.72 1.47 1.35L5.41 20z\"/>\n",
              "  </svg>\n",
              "      </button>\n",
              "      \n",
              "  <style>\n",
              "    .colab-df-container {\n",
              "      display:flex;\n",
              "      flex-wrap:wrap;\n",
              "      gap: 12px;\n",
              "    }\n",
              "\n",
              "    .colab-df-convert {\n",
              "      background-color: #E8F0FE;\n",
              "      border: none;\n",
              "      border-radius: 50%;\n",
              "      cursor: pointer;\n",
              "      display: none;\n",
              "      fill: #1967D2;\n",
              "      height: 32px;\n",
              "      padding: 0 0 0 0;\n",
              "      width: 32px;\n",
              "    }\n",
              "\n",
              "    .colab-df-convert:hover {\n",
              "      background-color: #E2EBFA;\n",
              "      box-shadow: 0px 1px 2px rgba(60, 64, 67, 0.3), 0px 1px 3px 1px rgba(60, 64, 67, 0.15);\n",
              "      fill: #174EA6;\n",
              "    }\n",
              "\n",
              "    [theme=dark] .colab-df-convert {\n",
              "      background-color: #3B4455;\n",
              "      fill: #D2E3FC;\n",
              "    }\n",
              "\n",
              "    [theme=dark] .colab-df-convert:hover {\n",
              "      background-color: #434B5C;\n",
              "      box-shadow: 0px 1px 3px 1px rgba(0, 0, 0, 0.15);\n",
              "      filter: drop-shadow(0px 1px 2px rgba(0, 0, 0, 0.3));\n",
              "      fill: #FFFFFF;\n",
              "    }\n",
              "  </style>\n",
              "\n",
              "      <script>\n",
              "        const buttonEl =\n",
              "          document.querySelector('#df-ee5365e0-15f6-4820-83e5-939b056e4a20 button.colab-df-convert');\n",
              "        buttonEl.style.display =\n",
              "          google.colab.kernel.accessAllowed ? 'block' : 'none';\n",
              "\n",
              "        async function convertToInteractive(key) {\n",
              "          const element = document.querySelector('#df-ee5365e0-15f6-4820-83e5-939b056e4a20');\n",
              "          const dataTable =\n",
              "            await google.colab.kernel.invokeFunction('convertToInteractive',\n",
              "                                                     [key], {});\n",
              "          if (!dataTable) return;\n",
              "\n",
              "          const docLinkHtml = 'Like what you see? Visit the ' +\n",
              "            '<a target=\"_blank\" href=https://colab.research.google.com/notebooks/data_table.ipynb>data table notebook</a>'\n",
              "            + ' to learn more about interactive tables.';\n",
              "          element.innerHTML = '';\n",
              "          dataTable['output_type'] = 'display_data';\n",
              "          await google.colab.output.renderOutput(dataTable, element);\n",
              "          const docLink = document.createElement('div');\n",
              "          docLink.innerHTML = docLinkHtml;\n",
              "          element.appendChild(docLink);\n",
              "        }\n",
              "      </script>\n",
              "    </div>\n",
              "  </div>\n",
              "  "
            ]
          },
          "metadata": {},
          "execution_count": 15
        }
      ],
      "source": [
        "df[df['sex_id'].isnull()]"
      ]
    },
    {
      "cell_type": "markdown",
      "id": "2c3654cb",
      "metadata": {
        "id": "2c3654cb"
      },
      "source": [
        "Нет информации только о двух пользователях. Посмотрим, можно ли найти ее в другой части таблицы."
      ]
    },
    {
      "cell_type": "code",
      "execution_count": 16,
      "id": "223bc43b",
      "metadata": {
        "colab": {
          "base_uri": "https://localhost:8080/",
          "height": 708
        },
        "id": "223bc43b",
        "outputId": "cb100d44-6825-4e88-873e-625a5682661f"
      },
      "outputs": [
        {
          "output_type": "execute_result",
          "data": {
            "text/plain": [
              "         record_id service_date  \\\n",
              "4411   30489299203   2021-03-18   \n",
              "4412   30489299303   2021-03-27   \n",
              "4413   30489299403   2021-03-27   \n",
              "4414   30489299503   2021-03-27   \n",
              "4415   30489299603   2021-03-27   \n",
              "4416   30489299703   2021-03-27   \n",
              "4417   30489299803   2021-03-27   \n",
              "4418   30489299903   2021-03-27   \n",
              "4419   30489300003   2021-03-27   \n",
              "4420   30489300103   2021-03-27   \n",
              "4421   30489300203   2021-03-27   \n",
              "4422   30489300303   2021-03-27   \n",
              "4423   30489300403   2021-03-27   \n",
              "4424   30489300503   2021-03-29   \n",
              "4425   30489300603   2021-03-29   \n",
              "18016  30961736803   2021-06-22   \n",
              "18017  30961736903   2021-06-22   \n",
              "29311  31408954403   2021-09-24   \n",
              "29312  31408954503   2021-09-25   \n",
              "29313  31408954603   2021-09-25   \n",
              "29314  31408954703   2021-09-27   \n",
              "\n",
              "                                         service_name  service_amount  \\\n",
              "4411                                  Прием первичный            1470   \n",
              "4412    Общий анализ крови (лейкоцитарная форм,, СОЭ)             693   \n",
              "4413                                Общий анализ мочи             431   \n",
              "4414                    Альфа-амилаза панкреатическая             287   \n",
              "4415                     АЛТ (аланинаминотрансфераза)             278   \n",
              "4416                   АСТ (аспартатаминотрансфераза)             242   \n",
              "4417                                  Билирубин общий             287   \n",
              "4418                ГГТ (гамма - глютамилтрансфераза)             287   \n",
              "4419                                    Глюкоза крови             273   \n",
              "4420                               Фосфотаза щелочная             287   \n",
              "4421              Взятие крови из периферической вены             158   \n",
              "4422                       Эзофагогастродуоденоскопия            2678   \n",
              "4423      Ультразвуковое исследование брюшной полости            2100   \n",
              "4424                                  Прием первичный            1470   \n",
              "4425                                  Прием повторный            1313   \n",
              "18016                                 Прием первичный            1470   \n",
              "18017  Дуплексное сканирование вен нижних конечностей            2625   \n",
              "29311                                 Прием первичный            1470   \n",
              "29312      Рентгенография крупного сустава (2 снимка)            1575   \n",
              "29313             Ультразвуковое исследование сустава            1890   \n",
              "29314                                 Прием повторный            1313   \n",
              "\n",
              "       service_number  insured  sex_id  age_for_service_date  \n",
              "4411                1   512590     NaN                    26  \n",
              "4412                1   512590     NaN                    26  \n",
              "4413                1   512590     NaN                    26  \n",
              "4414                1   512590     NaN                    26  \n",
              "4415                1   512590     NaN                    26  \n",
              "4416                1   512590     NaN                    26  \n",
              "4417                1   512590     NaN                    26  \n",
              "4418                1   512590     NaN                    26  \n",
              "4419                1   512590     NaN                    26  \n",
              "4420                1   512590     NaN                    26  \n",
              "4421                1   512590     NaN                    26  \n",
              "4422                1   512590     NaN                    26  \n",
              "4423                1   512590     NaN                    26  \n",
              "4424                1   512590     NaN                    26  \n",
              "4425                1   512590     NaN                    26  \n",
              "18016               1   512590     NaN                    26  \n",
              "18017               1   512590     NaN                    26  \n",
              "29311               1   512590     2.0                    27  \n",
              "29312               1   512590     2.0                    27  \n",
              "29313               1   512590     2.0                    27  \n",
              "29314               1   512590     2.0                    27  "
            ],
            "text/html": [
              "\n",
              "  <div id=\"df-4c9ee975-00f6-4b14-b57f-79dd6ec80641\">\n",
              "    <div class=\"colab-df-container\">\n",
              "      <div>\n",
              "<style scoped>\n",
              "    .dataframe tbody tr th:only-of-type {\n",
              "        vertical-align: middle;\n",
              "    }\n",
              "\n",
              "    .dataframe tbody tr th {\n",
              "        vertical-align: top;\n",
              "    }\n",
              "\n",
              "    .dataframe thead th {\n",
              "        text-align: right;\n",
              "    }\n",
              "</style>\n",
              "<table border=\"1\" class=\"dataframe\">\n",
              "  <thead>\n",
              "    <tr style=\"text-align: right;\">\n",
              "      <th></th>\n",
              "      <th>record_id</th>\n",
              "      <th>service_date</th>\n",
              "      <th>service_name</th>\n",
              "      <th>service_amount</th>\n",
              "      <th>service_number</th>\n",
              "      <th>insured</th>\n",
              "      <th>sex_id</th>\n",
              "      <th>age_for_service_date</th>\n",
              "    </tr>\n",
              "  </thead>\n",
              "  <tbody>\n",
              "    <tr>\n",
              "      <th>4411</th>\n",
              "      <td>30489299203</td>\n",
              "      <td>2021-03-18</td>\n",
              "      <td>Прием первичный</td>\n",
              "      <td>1470</td>\n",
              "      <td>1</td>\n",
              "      <td>512590</td>\n",
              "      <td>NaN</td>\n",
              "      <td>26</td>\n",
              "    </tr>\n",
              "    <tr>\n",
              "      <th>4412</th>\n",
              "      <td>30489299303</td>\n",
              "      <td>2021-03-27</td>\n",
              "      <td>Общий анализ крови (лейкоцитарная форм,, СОЭ)</td>\n",
              "      <td>693</td>\n",
              "      <td>1</td>\n",
              "      <td>512590</td>\n",
              "      <td>NaN</td>\n",
              "      <td>26</td>\n",
              "    </tr>\n",
              "    <tr>\n",
              "      <th>4413</th>\n",
              "      <td>30489299403</td>\n",
              "      <td>2021-03-27</td>\n",
              "      <td>Общий анализ мочи</td>\n",
              "      <td>431</td>\n",
              "      <td>1</td>\n",
              "      <td>512590</td>\n",
              "      <td>NaN</td>\n",
              "      <td>26</td>\n",
              "    </tr>\n",
              "    <tr>\n",
              "      <th>4414</th>\n",
              "      <td>30489299503</td>\n",
              "      <td>2021-03-27</td>\n",
              "      <td>Альфа-амилаза панкреатическая</td>\n",
              "      <td>287</td>\n",
              "      <td>1</td>\n",
              "      <td>512590</td>\n",
              "      <td>NaN</td>\n",
              "      <td>26</td>\n",
              "    </tr>\n",
              "    <tr>\n",
              "      <th>4415</th>\n",
              "      <td>30489299603</td>\n",
              "      <td>2021-03-27</td>\n",
              "      <td>АЛТ (аланинаминотрансфераза)</td>\n",
              "      <td>278</td>\n",
              "      <td>1</td>\n",
              "      <td>512590</td>\n",
              "      <td>NaN</td>\n",
              "      <td>26</td>\n",
              "    </tr>\n",
              "    <tr>\n",
              "      <th>4416</th>\n",
              "      <td>30489299703</td>\n",
              "      <td>2021-03-27</td>\n",
              "      <td>АСТ (аспартатаминотрансфераза)</td>\n",
              "      <td>242</td>\n",
              "      <td>1</td>\n",
              "      <td>512590</td>\n",
              "      <td>NaN</td>\n",
              "      <td>26</td>\n",
              "    </tr>\n",
              "    <tr>\n",
              "      <th>4417</th>\n",
              "      <td>30489299803</td>\n",
              "      <td>2021-03-27</td>\n",
              "      <td>Билирубин общий</td>\n",
              "      <td>287</td>\n",
              "      <td>1</td>\n",
              "      <td>512590</td>\n",
              "      <td>NaN</td>\n",
              "      <td>26</td>\n",
              "    </tr>\n",
              "    <tr>\n",
              "      <th>4418</th>\n",
              "      <td>30489299903</td>\n",
              "      <td>2021-03-27</td>\n",
              "      <td>ГГТ (гамма - глютамилтрансфераза)</td>\n",
              "      <td>287</td>\n",
              "      <td>1</td>\n",
              "      <td>512590</td>\n",
              "      <td>NaN</td>\n",
              "      <td>26</td>\n",
              "    </tr>\n",
              "    <tr>\n",
              "      <th>4419</th>\n",
              "      <td>30489300003</td>\n",
              "      <td>2021-03-27</td>\n",
              "      <td>Глюкоза крови</td>\n",
              "      <td>273</td>\n",
              "      <td>1</td>\n",
              "      <td>512590</td>\n",
              "      <td>NaN</td>\n",
              "      <td>26</td>\n",
              "    </tr>\n",
              "    <tr>\n",
              "      <th>4420</th>\n",
              "      <td>30489300103</td>\n",
              "      <td>2021-03-27</td>\n",
              "      <td>Фосфотаза щелочная</td>\n",
              "      <td>287</td>\n",
              "      <td>1</td>\n",
              "      <td>512590</td>\n",
              "      <td>NaN</td>\n",
              "      <td>26</td>\n",
              "    </tr>\n",
              "    <tr>\n",
              "      <th>4421</th>\n",
              "      <td>30489300203</td>\n",
              "      <td>2021-03-27</td>\n",
              "      <td>Взятие крови из периферической вены</td>\n",
              "      <td>158</td>\n",
              "      <td>1</td>\n",
              "      <td>512590</td>\n",
              "      <td>NaN</td>\n",
              "      <td>26</td>\n",
              "    </tr>\n",
              "    <tr>\n",
              "      <th>4422</th>\n",
              "      <td>30489300303</td>\n",
              "      <td>2021-03-27</td>\n",
              "      <td>Эзофагогастродуоденоскопия</td>\n",
              "      <td>2678</td>\n",
              "      <td>1</td>\n",
              "      <td>512590</td>\n",
              "      <td>NaN</td>\n",
              "      <td>26</td>\n",
              "    </tr>\n",
              "    <tr>\n",
              "      <th>4423</th>\n",
              "      <td>30489300403</td>\n",
              "      <td>2021-03-27</td>\n",
              "      <td>Ультразвуковое исследование брюшной полости</td>\n",
              "      <td>2100</td>\n",
              "      <td>1</td>\n",
              "      <td>512590</td>\n",
              "      <td>NaN</td>\n",
              "      <td>26</td>\n",
              "    </tr>\n",
              "    <tr>\n",
              "      <th>4424</th>\n",
              "      <td>30489300503</td>\n",
              "      <td>2021-03-29</td>\n",
              "      <td>Прием первичный</td>\n",
              "      <td>1470</td>\n",
              "      <td>1</td>\n",
              "      <td>512590</td>\n",
              "      <td>NaN</td>\n",
              "      <td>26</td>\n",
              "    </tr>\n",
              "    <tr>\n",
              "      <th>4425</th>\n",
              "      <td>30489300603</td>\n",
              "      <td>2021-03-29</td>\n",
              "      <td>Прием повторный</td>\n",
              "      <td>1313</td>\n",
              "      <td>1</td>\n",
              "      <td>512590</td>\n",
              "      <td>NaN</td>\n",
              "      <td>26</td>\n",
              "    </tr>\n",
              "    <tr>\n",
              "      <th>18016</th>\n",
              "      <td>30961736803</td>\n",
              "      <td>2021-06-22</td>\n",
              "      <td>Прием первичный</td>\n",
              "      <td>1470</td>\n",
              "      <td>1</td>\n",
              "      <td>512590</td>\n",
              "      <td>NaN</td>\n",
              "      <td>26</td>\n",
              "    </tr>\n",
              "    <tr>\n",
              "      <th>18017</th>\n",
              "      <td>30961736903</td>\n",
              "      <td>2021-06-22</td>\n",
              "      <td>Дуплексное сканирование вен нижних конечностей</td>\n",
              "      <td>2625</td>\n",
              "      <td>1</td>\n",
              "      <td>512590</td>\n",
              "      <td>NaN</td>\n",
              "      <td>26</td>\n",
              "    </tr>\n",
              "    <tr>\n",
              "      <th>29311</th>\n",
              "      <td>31408954403</td>\n",
              "      <td>2021-09-24</td>\n",
              "      <td>Прием первичный</td>\n",
              "      <td>1470</td>\n",
              "      <td>1</td>\n",
              "      <td>512590</td>\n",
              "      <td>2.0</td>\n",
              "      <td>27</td>\n",
              "    </tr>\n",
              "    <tr>\n",
              "      <th>29312</th>\n",
              "      <td>31408954503</td>\n",
              "      <td>2021-09-25</td>\n",
              "      <td>Рентгенография крупного сустава (2 снимка)</td>\n",
              "      <td>1575</td>\n",
              "      <td>1</td>\n",
              "      <td>512590</td>\n",
              "      <td>2.0</td>\n",
              "      <td>27</td>\n",
              "    </tr>\n",
              "    <tr>\n",
              "      <th>29313</th>\n",
              "      <td>31408954603</td>\n",
              "      <td>2021-09-25</td>\n",
              "      <td>Ультразвуковое исследование сустава</td>\n",
              "      <td>1890</td>\n",
              "      <td>1</td>\n",
              "      <td>512590</td>\n",
              "      <td>2.0</td>\n",
              "      <td>27</td>\n",
              "    </tr>\n",
              "    <tr>\n",
              "      <th>29314</th>\n",
              "      <td>31408954703</td>\n",
              "      <td>2021-09-27</td>\n",
              "      <td>Прием повторный</td>\n",
              "      <td>1313</td>\n",
              "      <td>1</td>\n",
              "      <td>512590</td>\n",
              "      <td>2.0</td>\n",
              "      <td>27</td>\n",
              "    </tr>\n",
              "  </tbody>\n",
              "</table>\n",
              "</div>\n",
              "      <button class=\"colab-df-convert\" onclick=\"convertToInteractive('df-4c9ee975-00f6-4b14-b57f-79dd6ec80641')\"\n",
              "              title=\"Convert this dataframe to an interactive table.\"\n",
              "              style=\"display:none;\">\n",
              "        \n",
              "  <svg xmlns=\"http://www.w3.org/2000/svg\" height=\"24px\"viewBox=\"0 0 24 24\"\n",
              "       width=\"24px\">\n",
              "    <path d=\"M0 0h24v24H0V0z\" fill=\"none\"/>\n",
              "    <path d=\"M18.56 5.44l.94 2.06.94-2.06 2.06-.94-2.06-.94-.94-2.06-.94 2.06-2.06.94zm-11 1L8.5 8.5l.94-2.06 2.06-.94-2.06-.94L8.5 2.5l-.94 2.06-2.06.94zm10 10l.94 2.06.94-2.06 2.06-.94-2.06-.94-.94-2.06-.94 2.06-2.06.94z\"/><path d=\"M17.41 7.96l-1.37-1.37c-.4-.4-.92-.59-1.43-.59-.52 0-1.04.2-1.43.59L10.3 9.45l-7.72 7.72c-.78.78-.78 2.05 0 2.83L4 21.41c.39.39.9.59 1.41.59.51 0 1.02-.2 1.41-.59l7.78-7.78 2.81-2.81c.8-.78.8-2.07 0-2.86zM5.41 20L4 18.59l7.72-7.72 1.47 1.35L5.41 20z\"/>\n",
              "  </svg>\n",
              "      </button>\n",
              "      \n",
              "  <style>\n",
              "    .colab-df-container {\n",
              "      display:flex;\n",
              "      flex-wrap:wrap;\n",
              "      gap: 12px;\n",
              "    }\n",
              "\n",
              "    .colab-df-convert {\n",
              "      background-color: #E8F0FE;\n",
              "      border: none;\n",
              "      border-radius: 50%;\n",
              "      cursor: pointer;\n",
              "      display: none;\n",
              "      fill: #1967D2;\n",
              "      height: 32px;\n",
              "      padding: 0 0 0 0;\n",
              "      width: 32px;\n",
              "    }\n",
              "\n",
              "    .colab-df-convert:hover {\n",
              "      background-color: #E2EBFA;\n",
              "      box-shadow: 0px 1px 2px rgba(60, 64, 67, 0.3), 0px 1px 3px 1px rgba(60, 64, 67, 0.15);\n",
              "      fill: #174EA6;\n",
              "    }\n",
              "\n",
              "    [theme=dark] .colab-df-convert {\n",
              "      background-color: #3B4455;\n",
              "      fill: #D2E3FC;\n",
              "    }\n",
              "\n",
              "    [theme=dark] .colab-df-convert:hover {\n",
              "      background-color: #434B5C;\n",
              "      box-shadow: 0px 1px 3px 1px rgba(0, 0, 0, 0.15);\n",
              "      filter: drop-shadow(0px 1px 2px rgba(0, 0, 0, 0.3));\n",
              "      fill: #FFFFFF;\n",
              "    }\n",
              "  </style>\n",
              "\n",
              "      <script>\n",
              "        const buttonEl =\n",
              "          document.querySelector('#df-4c9ee975-00f6-4b14-b57f-79dd6ec80641 button.colab-df-convert');\n",
              "        buttonEl.style.display =\n",
              "          google.colab.kernel.accessAllowed ? 'block' : 'none';\n",
              "\n",
              "        async function convertToInteractive(key) {\n",
              "          const element = document.querySelector('#df-4c9ee975-00f6-4b14-b57f-79dd6ec80641');\n",
              "          const dataTable =\n",
              "            await google.colab.kernel.invokeFunction('convertToInteractive',\n",
              "                                                     [key], {});\n",
              "          if (!dataTable) return;\n",
              "\n",
              "          const docLinkHtml = 'Like what you see? Visit the ' +\n",
              "            '<a target=\"_blank\" href=https://colab.research.google.com/notebooks/data_table.ipynb>data table notebook</a>'\n",
              "            + ' to learn more about interactive tables.';\n",
              "          element.innerHTML = '';\n",
              "          dataTable['output_type'] = 'display_data';\n",
              "          await google.colab.output.renderOutput(dataTable, element);\n",
              "          const docLink = document.createElement('div');\n",
              "          docLink.innerHTML = docLinkHtml;\n",
              "          element.appendChild(docLink);\n",
              "        }\n",
              "      </script>\n",
              "    </div>\n",
              "  </div>\n",
              "  "
            ]
          },
          "metadata": {},
          "execution_count": 16
        }
      ],
      "source": [
        "df[df['insured'] == 512590]"
      ]
    },
    {
      "cell_type": "markdown",
      "id": "9f5f93b0",
      "metadata": {
        "id": "9f5f93b0"
      },
      "source": [
        "Видим, что sex_id пациента 512590 - 2"
      ]
    },
    {
      "cell_type": "code",
      "execution_count": 17,
      "id": "bb7bdea6",
      "metadata": {
        "id": "bb7bdea6"
      },
      "outputs": [],
      "source": [
        "df.loc[df['insured'] == 512590, 'sex_id'] = 2"
      ]
    },
    {
      "cell_type": "markdown",
      "id": "1e113c36",
      "metadata": {
        "id": "1e113c36"
      },
      "source": [
        "Аналогично поступим со вторым клиентом."
      ]
    },
    {
      "cell_type": "code",
      "execution_count": 18,
      "id": "4fa4ce61",
      "metadata": {
        "colab": {
          "base_uri": "https://localhost:8080/",
          "height": 175
        },
        "id": "4fa4ce61",
        "outputId": "49b56e4a-792e-4a4b-e6c7-c3cfdb277ee4"
      },
      "outputs": [
        {
          "output_type": "execute_result",
          "data": {
            "text/plain": [
              "         record_id service_date     service_name  service_amount  \\\n",
              "8880   30620882903   2021-04-22  Прием первичный            1470   \n",
              "8881   30620883003   2021-04-29  Прием повторный            1313   \n",
              "12357  30786036703   2021-05-31  Прием первичный            1470   \n",
              "17987  30961733903   2021-06-21  Прием повторный            1313   \n",
              "\n",
              "       service_number  insured  sex_id  age_for_service_date  \n",
              "8880                1   221581     NaN                    42  \n",
              "8881                1   221581     NaN                    42  \n",
              "12357               1   221581     NaN                    42  \n",
              "17987               1   221581     NaN                    42  "
            ],
            "text/html": [
              "\n",
              "  <div id=\"df-71241cb4-6060-4263-bd28-675b8fb0d1d3\">\n",
              "    <div class=\"colab-df-container\">\n",
              "      <div>\n",
              "<style scoped>\n",
              "    .dataframe tbody tr th:only-of-type {\n",
              "        vertical-align: middle;\n",
              "    }\n",
              "\n",
              "    .dataframe tbody tr th {\n",
              "        vertical-align: top;\n",
              "    }\n",
              "\n",
              "    .dataframe thead th {\n",
              "        text-align: right;\n",
              "    }\n",
              "</style>\n",
              "<table border=\"1\" class=\"dataframe\">\n",
              "  <thead>\n",
              "    <tr style=\"text-align: right;\">\n",
              "      <th></th>\n",
              "      <th>record_id</th>\n",
              "      <th>service_date</th>\n",
              "      <th>service_name</th>\n",
              "      <th>service_amount</th>\n",
              "      <th>service_number</th>\n",
              "      <th>insured</th>\n",
              "      <th>sex_id</th>\n",
              "      <th>age_for_service_date</th>\n",
              "    </tr>\n",
              "  </thead>\n",
              "  <tbody>\n",
              "    <tr>\n",
              "      <th>8880</th>\n",
              "      <td>30620882903</td>\n",
              "      <td>2021-04-22</td>\n",
              "      <td>Прием первичный</td>\n",
              "      <td>1470</td>\n",
              "      <td>1</td>\n",
              "      <td>221581</td>\n",
              "      <td>NaN</td>\n",
              "      <td>42</td>\n",
              "    </tr>\n",
              "    <tr>\n",
              "      <th>8881</th>\n",
              "      <td>30620883003</td>\n",
              "      <td>2021-04-29</td>\n",
              "      <td>Прием повторный</td>\n",
              "      <td>1313</td>\n",
              "      <td>1</td>\n",
              "      <td>221581</td>\n",
              "      <td>NaN</td>\n",
              "      <td>42</td>\n",
              "    </tr>\n",
              "    <tr>\n",
              "      <th>12357</th>\n",
              "      <td>30786036703</td>\n",
              "      <td>2021-05-31</td>\n",
              "      <td>Прием первичный</td>\n",
              "      <td>1470</td>\n",
              "      <td>1</td>\n",
              "      <td>221581</td>\n",
              "      <td>NaN</td>\n",
              "      <td>42</td>\n",
              "    </tr>\n",
              "    <tr>\n",
              "      <th>17987</th>\n",
              "      <td>30961733903</td>\n",
              "      <td>2021-06-21</td>\n",
              "      <td>Прием повторный</td>\n",
              "      <td>1313</td>\n",
              "      <td>1</td>\n",
              "      <td>221581</td>\n",
              "      <td>NaN</td>\n",
              "      <td>42</td>\n",
              "    </tr>\n",
              "  </tbody>\n",
              "</table>\n",
              "</div>\n",
              "      <button class=\"colab-df-convert\" onclick=\"convertToInteractive('df-71241cb4-6060-4263-bd28-675b8fb0d1d3')\"\n",
              "              title=\"Convert this dataframe to an interactive table.\"\n",
              "              style=\"display:none;\">\n",
              "        \n",
              "  <svg xmlns=\"http://www.w3.org/2000/svg\" height=\"24px\"viewBox=\"0 0 24 24\"\n",
              "       width=\"24px\">\n",
              "    <path d=\"M0 0h24v24H0V0z\" fill=\"none\"/>\n",
              "    <path d=\"M18.56 5.44l.94 2.06.94-2.06 2.06-.94-2.06-.94-.94-2.06-.94 2.06-2.06.94zm-11 1L8.5 8.5l.94-2.06 2.06-.94-2.06-.94L8.5 2.5l-.94 2.06-2.06.94zm10 10l.94 2.06.94-2.06 2.06-.94-2.06-.94-.94-2.06-.94 2.06-2.06.94z\"/><path d=\"M17.41 7.96l-1.37-1.37c-.4-.4-.92-.59-1.43-.59-.52 0-1.04.2-1.43.59L10.3 9.45l-7.72 7.72c-.78.78-.78 2.05 0 2.83L4 21.41c.39.39.9.59 1.41.59.51 0 1.02-.2 1.41-.59l7.78-7.78 2.81-2.81c.8-.78.8-2.07 0-2.86zM5.41 20L4 18.59l7.72-7.72 1.47 1.35L5.41 20z\"/>\n",
              "  </svg>\n",
              "      </button>\n",
              "      \n",
              "  <style>\n",
              "    .colab-df-container {\n",
              "      display:flex;\n",
              "      flex-wrap:wrap;\n",
              "      gap: 12px;\n",
              "    }\n",
              "\n",
              "    .colab-df-convert {\n",
              "      background-color: #E8F0FE;\n",
              "      border: none;\n",
              "      border-radius: 50%;\n",
              "      cursor: pointer;\n",
              "      display: none;\n",
              "      fill: #1967D2;\n",
              "      height: 32px;\n",
              "      padding: 0 0 0 0;\n",
              "      width: 32px;\n",
              "    }\n",
              "\n",
              "    .colab-df-convert:hover {\n",
              "      background-color: #E2EBFA;\n",
              "      box-shadow: 0px 1px 2px rgba(60, 64, 67, 0.3), 0px 1px 3px 1px rgba(60, 64, 67, 0.15);\n",
              "      fill: #174EA6;\n",
              "    }\n",
              "\n",
              "    [theme=dark] .colab-df-convert {\n",
              "      background-color: #3B4455;\n",
              "      fill: #D2E3FC;\n",
              "    }\n",
              "\n",
              "    [theme=dark] .colab-df-convert:hover {\n",
              "      background-color: #434B5C;\n",
              "      box-shadow: 0px 1px 3px 1px rgba(0, 0, 0, 0.15);\n",
              "      filter: drop-shadow(0px 1px 2px rgba(0, 0, 0, 0.3));\n",
              "      fill: #FFFFFF;\n",
              "    }\n",
              "  </style>\n",
              "\n",
              "      <script>\n",
              "        const buttonEl =\n",
              "          document.querySelector('#df-71241cb4-6060-4263-bd28-675b8fb0d1d3 button.colab-df-convert');\n",
              "        buttonEl.style.display =\n",
              "          google.colab.kernel.accessAllowed ? 'block' : 'none';\n",
              "\n",
              "        async function convertToInteractive(key) {\n",
              "          const element = document.querySelector('#df-71241cb4-6060-4263-bd28-675b8fb0d1d3');\n",
              "          const dataTable =\n",
              "            await google.colab.kernel.invokeFunction('convertToInteractive',\n",
              "                                                     [key], {});\n",
              "          if (!dataTable) return;\n",
              "\n",
              "          const docLinkHtml = 'Like what you see? Visit the ' +\n",
              "            '<a target=\"_blank\" href=https://colab.research.google.com/notebooks/data_table.ipynb>data table notebook</a>'\n",
              "            + ' to learn more about interactive tables.';\n",
              "          element.innerHTML = '';\n",
              "          dataTable['output_type'] = 'display_data';\n",
              "          await google.colab.output.renderOutput(dataTable, element);\n",
              "          const docLink = document.createElement('div');\n",
              "          docLink.innerHTML = docLinkHtml;\n",
              "          element.appendChild(docLink);\n",
              "        }\n",
              "      </script>\n",
              "    </div>\n",
              "  </div>\n",
              "  "
            ]
          },
          "metadata": {},
          "execution_count": 18
        }
      ],
      "source": [
        "df[df['insured'] == 221581]"
      ]
    },
    {
      "cell_type": "markdown",
      "id": "87966350",
      "metadata": {
        "id": "87966350"
      },
      "source": [
        "Здесь такой способ не прошел. Пока заполним нулями."
      ]
    },
    {
      "cell_type": "code",
      "execution_count": 19,
      "id": "84536f82",
      "metadata": {
        "id": "84536f82"
      },
      "outputs": [],
      "source": [
        "df.loc[df['insured'] == 221581, 'sex_id'] = 0"
      ]
    },
    {
      "cell_type": "markdown",
      "id": "4d885af9",
      "metadata": {
        "id": "4d885af9"
      },
      "source": [
        "Столбец 'sex_id' переведем в формат строки, так как это категориальная переменная."
      ]
    },
    {
      "cell_type": "code",
      "execution_count": 20,
      "id": "1a84957f",
      "metadata": {
        "id": "1a84957f"
      },
      "outputs": [],
      "source": [
        "df['sex_id'] = df['sex_id'].astype(int).astype(str)"
      ]
    },
    {
      "cell_type": "markdown",
      "id": "be9ce052",
      "metadata": {
        "id": "be9ce052"
      },
      "source": [
        "Убедимся, что нет некорректных значений в этом столбце."
      ]
    },
    {
      "cell_type": "code",
      "execution_count": 21,
      "id": "549dd958",
      "metadata": {
        "colab": {
          "base_uri": "https://localhost:8080/"
        },
        "id": "549dd958",
        "outputId": "53093a9d-f5f5-4c04-d487-c0cf8800abce"
      },
      "outputs": [
        {
          "output_type": "execute_result",
          "data": {
            "text/plain": [
              "2    52821\n",
              "1    32544\n",
              "0        4\n",
              "Name: sex_id, dtype: int64"
            ]
          },
          "metadata": {},
          "execution_count": 21
        }
      ],
      "source": [
        "df['sex_id'].value_counts()"
      ]
    },
    {
      "cell_type": "markdown",
      "id": "d20f277b",
      "metadata": {
        "id": "d20f277b"
      },
      "source": [
        "Остается проверить последний столбец на корректность заполнения."
      ]
    },
    {
      "cell_type": "code",
      "execution_count": 22,
      "id": "71ee72e3",
      "metadata": {
        "colab": {
          "base_uri": "https://localhost:8080/"
        },
        "id": "71ee72e3",
        "outputId": "5c3876c6-686a-4e8b-d684-bfacb00186b0"
      },
      "outputs": [
        {
          "output_type": "execute_result",
          "data": {
            "text/plain": [
              "count    85369.000000\n",
              "mean        33.851691\n",
              "std         12.144646\n",
              "min          0.000000\n",
              "25%         27.000000\n",
              "50%         34.000000\n",
              "75%         41.000000\n",
              "max         83.000000\n",
              "Name: age_for_service_date, dtype: float64"
            ]
          },
          "metadata": {},
          "execution_count": 22
        }
      ],
      "source": [
        "df['age_for_service_date'].describe()"
      ]
    },
    {
      "cell_type": "markdown",
      "id": "1e06dc49",
      "metadata": {
        "id": "1e06dc49"
      },
      "source": [
        "Есть строки со значением равным нулю. Взглянем на них."
      ]
    },
    {
      "cell_type": "code",
      "execution_count": 23,
      "id": "221f65c7",
      "metadata": {
        "colab": {
          "base_uri": "https://localhost:8080/",
          "height": 423
        },
        "id": "221f65c7",
        "outputId": "49c1bd21-2d73-42a8-9439-7c1061d2acc3"
      },
      "outputs": [
        {
          "output_type": "execute_result",
          "data": {
            "text/plain": [
              "         record_id service_date                             service_name  \\\n",
              "116    30268168603   2021-01-20                          Прием повторный   \n",
              "117    30268168703   2021-01-03                          Прием повторный   \n",
              "118    30268168803   2021-01-08                          Прием повторный   \n",
              "127    30268169703   2021-01-04                          Прием первичный   \n",
              "128    30268169803   2021-01-06                        Общий анализ мочи   \n",
              "...            ...          ...                                      ...   \n",
              "80057  32978891803   2022-07-16   Прием травматолога-ортопеда, повторный   \n",
              "85341  33178144403   2022-08-09           Вакцинация вакциной \"Менактра\"   \n",
              "85342  33178144503   2022-08-09  Консультация педиатра перед вакцинацией   \n",
              "85343  33178144603   2022-08-13  Консультация педиатра перед вакцинацией   \n",
              "85344  33178144703   2022-08-13          Вакцинация вакциной \"Варилрикс\"   \n",
              "\n",
              "       service_amount  service_number  insured sex_id  age_for_service_date  \n",
              "116              1313               1   246934      2                     0  \n",
              "117              1313               1   246935      2                     0  \n",
              "118              1313               1   246935      2                     0  \n",
              "127              1470               1   221630      1                     0  \n",
              "128               431               1   221630      1                     0  \n",
              "...               ...             ...      ...    ...                   ...  \n",
              "80057            1450               1  1155016      1                     0  \n",
              "85341            9000               1  1155165      2                     0  \n",
              "85342            1230               1  1155165      2                     0  \n",
              "85343            1230               1  1155165      2                     0  \n",
              "85344            4600               1  1155165      2                     0  \n",
              "\n",
              "[402 rows x 8 columns]"
            ],
            "text/html": [
              "\n",
              "  <div id=\"df-4bbdbfec-d57c-49b7-bf9f-d3050237c904\">\n",
              "    <div class=\"colab-df-container\">\n",
              "      <div>\n",
              "<style scoped>\n",
              "    .dataframe tbody tr th:only-of-type {\n",
              "        vertical-align: middle;\n",
              "    }\n",
              "\n",
              "    .dataframe tbody tr th {\n",
              "        vertical-align: top;\n",
              "    }\n",
              "\n",
              "    .dataframe thead th {\n",
              "        text-align: right;\n",
              "    }\n",
              "</style>\n",
              "<table border=\"1\" class=\"dataframe\">\n",
              "  <thead>\n",
              "    <tr style=\"text-align: right;\">\n",
              "      <th></th>\n",
              "      <th>record_id</th>\n",
              "      <th>service_date</th>\n",
              "      <th>service_name</th>\n",
              "      <th>service_amount</th>\n",
              "      <th>service_number</th>\n",
              "      <th>insured</th>\n",
              "      <th>sex_id</th>\n",
              "      <th>age_for_service_date</th>\n",
              "    </tr>\n",
              "  </thead>\n",
              "  <tbody>\n",
              "    <tr>\n",
              "      <th>116</th>\n",
              "      <td>30268168603</td>\n",
              "      <td>2021-01-20</td>\n",
              "      <td>Прием повторный</td>\n",
              "      <td>1313</td>\n",
              "      <td>1</td>\n",
              "      <td>246934</td>\n",
              "      <td>2</td>\n",
              "      <td>0</td>\n",
              "    </tr>\n",
              "    <tr>\n",
              "      <th>117</th>\n",
              "      <td>30268168703</td>\n",
              "      <td>2021-01-03</td>\n",
              "      <td>Прием повторный</td>\n",
              "      <td>1313</td>\n",
              "      <td>1</td>\n",
              "      <td>246935</td>\n",
              "      <td>2</td>\n",
              "      <td>0</td>\n",
              "    </tr>\n",
              "    <tr>\n",
              "      <th>118</th>\n",
              "      <td>30268168803</td>\n",
              "      <td>2021-01-08</td>\n",
              "      <td>Прием повторный</td>\n",
              "      <td>1313</td>\n",
              "      <td>1</td>\n",
              "      <td>246935</td>\n",
              "      <td>2</td>\n",
              "      <td>0</td>\n",
              "    </tr>\n",
              "    <tr>\n",
              "      <th>127</th>\n",
              "      <td>30268169703</td>\n",
              "      <td>2021-01-04</td>\n",
              "      <td>Прием первичный</td>\n",
              "      <td>1470</td>\n",
              "      <td>1</td>\n",
              "      <td>221630</td>\n",
              "      <td>1</td>\n",
              "      <td>0</td>\n",
              "    </tr>\n",
              "    <tr>\n",
              "      <th>128</th>\n",
              "      <td>30268169803</td>\n",
              "      <td>2021-01-06</td>\n",
              "      <td>Общий анализ мочи</td>\n",
              "      <td>431</td>\n",
              "      <td>1</td>\n",
              "      <td>221630</td>\n",
              "      <td>1</td>\n",
              "      <td>0</td>\n",
              "    </tr>\n",
              "    <tr>\n",
              "      <th>...</th>\n",
              "      <td>...</td>\n",
              "      <td>...</td>\n",
              "      <td>...</td>\n",
              "      <td>...</td>\n",
              "      <td>...</td>\n",
              "      <td>...</td>\n",
              "      <td>...</td>\n",
              "      <td>...</td>\n",
              "    </tr>\n",
              "    <tr>\n",
              "      <th>80057</th>\n",
              "      <td>32978891803</td>\n",
              "      <td>2022-07-16</td>\n",
              "      <td>Прием травматолога-ортопеда, повторный</td>\n",
              "      <td>1450</td>\n",
              "      <td>1</td>\n",
              "      <td>1155016</td>\n",
              "      <td>1</td>\n",
              "      <td>0</td>\n",
              "    </tr>\n",
              "    <tr>\n",
              "      <th>85341</th>\n",
              "      <td>33178144403</td>\n",
              "      <td>2022-08-09</td>\n",
              "      <td>Вакцинация вакциной \"Менактра\"</td>\n",
              "      <td>9000</td>\n",
              "      <td>1</td>\n",
              "      <td>1155165</td>\n",
              "      <td>2</td>\n",
              "      <td>0</td>\n",
              "    </tr>\n",
              "    <tr>\n",
              "      <th>85342</th>\n",
              "      <td>33178144503</td>\n",
              "      <td>2022-08-09</td>\n",
              "      <td>Консультация педиатра перед вакцинацией</td>\n",
              "      <td>1230</td>\n",
              "      <td>1</td>\n",
              "      <td>1155165</td>\n",
              "      <td>2</td>\n",
              "      <td>0</td>\n",
              "    </tr>\n",
              "    <tr>\n",
              "      <th>85343</th>\n",
              "      <td>33178144603</td>\n",
              "      <td>2022-08-13</td>\n",
              "      <td>Консультация педиатра перед вакцинацией</td>\n",
              "      <td>1230</td>\n",
              "      <td>1</td>\n",
              "      <td>1155165</td>\n",
              "      <td>2</td>\n",
              "      <td>0</td>\n",
              "    </tr>\n",
              "    <tr>\n",
              "      <th>85344</th>\n",
              "      <td>33178144703</td>\n",
              "      <td>2022-08-13</td>\n",
              "      <td>Вакцинация вакциной \"Варилрикс\"</td>\n",
              "      <td>4600</td>\n",
              "      <td>1</td>\n",
              "      <td>1155165</td>\n",
              "      <td>2</td>\n",
              "      <td>0</td>\n",
              "    </tr>\n",
              "  </tbody>\n",
              "</table>\n",
              "<p>402 rows × 8 columns</p>\n",
              "</div>\n",
              "      <button class=\"colab-df-convert\" onclick=\"convertToInteractive('df-4bbdbfec-d57c-49b7-bf9f-d3050237c904')\"\n",
              "              title=\"Convert this dataframe to an interactive table.\"\n",
              "              style=\"display:none;\">\n",
              "        \n",
              "  <svg xmlns=\"http://www.w3.org/2000/svg\" height=\"24px\"viewBox=\"0 0 24 24\"\n",
              "       width=\"24px\">\n",
              "    <path d=\"M0 0h24v24H0V0z\" fill=\"none\"/>\n",
              "    <path d=\"M18.56 5.44l.94 2.06.94-2.06 2.06-.94-2.06-.94-.94-2.06-.94 2.06-2.06.94zm-11 1L8.5 8.5l.94-2.06 2.06-.94-2.06-.94L8.5 2.5l-.94 2.06-2.06.94zm10 10l.94 2.06.94-2.06 2.06-.94-2.06-.94-.94-2.06-.94 2.06-2.06.94z\"/><path d=\"M17.41 7.96l-1.37-1.37c-.4-.4-.92-.59-1.43-.59-.52 0-1.04.2-1.43.59L10.3 9.45l-7.72 7.72c-.78.78-.78 2.05 0 2.83L4 21.41c.39.39.9.59 1.41.59.51 0 1.02-.2 1.41-.59l7.78-7.78 2.81-2.81c.8-.78.8-2.07 0-2.86zM5.41 20L4 18.59l7.72-7.72 1.47 1.35L5.41 20z\"/>\n",
              "  </svg>\n",
              "      </button>\n",
              "      \n",
              "  <style>\n",
              "    .colab-df-container {\n",
              "      display:flex;\n",
              "      flex-wrap:wrap;\n",
              "      gap: 12px;\n",
              "    }\n",
              "\n",
              "    .colab-df-convert {\n",
              "      background-color: #E8F0FE;\n",
              "      border: none;\n",
              "      border-radius: 50%;\n",
              "      cursor: pointer;\n",
              "      display: none;\n",
              "      fill: #1967D2;\n",
              "      height: 32px;\n",
              "      padding: 0 0 0 0;\n",
              "      width: 32px;\n",
              "    }\n",
              "\n",
              "    .colab-df-convert:hover {\n",
              "      background-color: #E2EBFA;\n",
              "      box-shadow: 0px 1px 2px rgba(60, 64, 67, 0.3), 0px 1px 3px 1px rgba(60, 64, 67, 0.15);\n",
              "      fill: #174EA6;\n",
              "    }\n",
              "\n",
              "    [theme=dark] .colab-df-convert {\n",
              "      background-color: #3B4455;\n",
              "      fill: #D2E3FC;\n",
              "    }\n",
              "\n",
              "    [theme=dark] .colab-df-convert:hover {\n",
              "      background-color: #434B5C;\n",
              "      box-shadow: 0px 1px 3px 1px rgba(0, 0, 0, 0.15);\n",
              "      filter: drop-shadow(0px 1px 2px rgba(0, 0, 0, 0.3));\n",
              "      fill: #FFFFFF;\n",
              "    }\n",
              "  </style>\n",
              "\n",
              "      <script>\n",
              "        const buttonEl =\n",
              "          document.querySelector('#df-4bbdbfec-d57c-49b7-bf9f-d3050237c904 button.colab-df-convert');\n",
              "        buttonEl.style.display =\n",
              "          google.colab.kernel.accessAllowed ? 'block' : 'none';\n",
              "\n",
              "        async function convertToInteractive(key) {\n",
              "          const element = document.querySelector('#df-4bbdbfec-d57c-49b7-bf9f-d3050237c904');\n",
              "          const dataTable =\n",
              "            await google.colab.kernel.invokeFunction('convertToInteractive',\n",
              "                                                     [key], {});\n",
              "          if (!dataTable) return;\n",
              "\n",
              "          const docLinkHtml = 'Like what you see? Visit the ' +\n",
              "            '<a target=\"_blank\" href=https://colab.research.google.com/notebooks/data_table.ipynb>data table notebook</a>'\n",
              "            + ' to learn more about interactive tables.';\n",
              "          element.innerHTML = '';\n",
              "          dataTable['output_type'] = 'display_data';\n",
              "          await google.colab.output.renderOutput(dataTable, element);\n",
              "          const docLink = document.createElement('div');\n",
              "          docLink.innerHTML = docLinkHtml;\n",
              "          element.appendChild(docLink);\n",
              "        }\n",
              "      </script>\n",
              "    </div>\n",
              "  </div>\n",
              "  "
            ]
          },
          "metadata": {},
          "execution_count": 23
        }
      ],
      "source": [
        "df[df['age_for_service_date'] == 0]"
      ]
    },
    {
      "cell_type": "markdown",
      "id": "6d3c6a2f",
      "metadata": {
        "id": "6d3c6a2f"
      },
      "source": [
        "С одной стороны видим, что есть такие услуги как, например, 'Вакцинация вакциной \"Варилрикс\"', которые могут оказываться пациентам с 9 месяцев, и в этом случае возраст 0 будет корректен. С другой стороны, есть услуги такие как 'Прием травматолога-ортопеда, повторный', которые не факт, что оказываются младенцам, следовательно данные могут быть некорректно заполнены."
      ]
    },
    {
      "cell_type": "code",
      "execution_count": 24,
      "id": "9e846f55",
      "metadata": {
        "colab": {
          "base_uri": "https://localhost:8080/"
        },
        "id": "9e846f55",
        "outputId": "908e715c-6894-4a7b-faba-54bd6be4a48c"
      },
      "outputs": [
        {
          "output_type": "execute_result",
          "data": {
            "text/plain": [
              "31"
            ]
          },
          "metadata": {},
          "execution_count": 24
        }
      ],
      "source": [
        "df[df['age_for_service_date'] == 0]['insured'].nunique()"
      ]
    },
    {
      "cell_type": "markdown",
      "id": "02da2b47",
      "metadata": {
        "id": "02da2b47"
      },
      "source": [
        "Таких пациентов в датафрейме 31 из 4488."
      ]
    },
    {
      "cell_type": "markdown",
      "id": "11f51bf8",
      "metadata": {
        "id": "11f51bf8"
      },
      "source": [
        "Осталось проверить датафрейм на явные дубликаты."
      ]
    },
    {
      "cell_type": "code",
      "execution_count": 25,
      "id": "3f2a496a",
      "metadata": {
        "colab": {
          "base_uri": "https://localhost:8080/"
        },
        "id": "3f2a496a",
        "outputId": "92ce9d96-8aaa-45d4-cca7-b0a3c1364ed4"
      },
      "outputs": [
        {
          "output_type": "execute_result",
          "data": {
            "text/plain": [
              "0"
            ]
          },
          "metadata": {},
          "execution_count": 25
        }
      ],
      "source": [
        "df.duplicated().sum()"
      ]
    },
    {
      "cell_type": "markdown",
      "id": "57862e59",
      "metadata": {
        "id": "57862e59"
      },
      "source": [
        "Явных дубликатов нет."
      ]
    },
    {
      "cell_type": "markdown",
      "id": "dd97b2b5",
      "metadata": {
        "id": "dd97b2b5"
      },
      "source": [
        "### Обогащение данных"
      ]
    },
    {
      "cell_type": "markdown",
      "id": "704f15c0",
      "metadata": {
        "id": "704f15c0"
      },
      "source": [
        "Добавим столбец 'price', чтобы вычислить цену за услугу. Сейчас в таблице содержится общая сумма оплаты за посещение и количество услуг. В этом легко убедиться, если, проверить стоимость по одной из услуг. Если количество в столбце 'service_number' равно двум, то и сумма в два раза выше."
      ]
    },
    {
      "cell_type": "code",
      "execution_count": 26,
      "id": "b29de681",
      "metadata": {
        "colab": {
          "base_uri": "https://localhost:8080/",
          "height": 423
        },
        "id": "b29de681",
        "outputId": "50f9852f-113a-4df9-a5b9-1406b921e841"
      },
      "outputs": [
        {
          "output_type": "execute_result",
          "data": {
            "text/plain": [
              "         record_id service_date                         service_name  \\\n",
              "1521   30268309403   2021-01-19  Ультразвуковое исследование сустава   \n",
              "2057   30346792903   2021-02-13  Ультразвуковое исследование сустава   \n",
              "2106   30346798403   2021-02-28  Ультразвуковое исследование сустава   \n",
              "2397   30346831403   2021-02-03  Ультразвуковое исследование сустава   \n",
              "2580   30346854403   2021-02-01  Ультразвуковое исследование сустава   \n",
              "...            ...          ...                                  ...   \n",
              "83937  33177894403   2022-08-17  Ультразвуковое исследование сустава   \n",
              "84319  33177976803   2022-08-11  Ультразвуковое исследование сустава   \n",
              "84511  33178011803   2022-08-21  Ультразвуковое исследование сустава   \n",
              "84610  33178030803   2022-08-20  Ультразвуковое исследование сустава   \n",
              "85177  33178119403   2022-08-30  Ультразвуковое исследование сустава   \n",
              "\n",
              "       service_amount  service_number  insured sex_id  age_for_service_date  \n",
              "1521             1890               1   536416      1                    42  \n",
              "2057             1890               1   490723      2                    39  \n",
              "2106             1890               1   490654      2                    25  \n",
              "2397             1890               1   243348      1                    54  \n",
              "2580             1890               1   490974      1                    39  \n",
              "...               ...             ...      ...    ...                   ...  \n",
              "83937            4360               2  1217249      2                    22  \n",
              "84319            2180               1  1302882      1                    52  \n",
              "84511            2180               1  1202991      2                    43  \n",
              "84610            2180               1  1072932      1                    34  \n",
              "85177            4360               2   873231      1                    38  \n",
              "\n",
              "[320 rows x 8 columns]"
            ],
            "text/html": [
              "\n",
              "  <div id=\"df-4ad557be-ac1a-4d83-829b-a679ad34af46\">\n",
              "    <div class=\"colab-df-container\">\n",
              "      <div>\n",
              "<style scoped>\n",
              "    .dataframe tbody tr th:only-of-type {\n",
              "        vertical-align: middle;\n",
              "    }\n",
              "\n",
              "    .dataframe tbody tr th {\n",
              "        vertical-align: top;\n",
              "    }\n",
              "\n",
              "    .dataframe thead th {\n",
              "        text-align: right;\n",
              "    }\n",
              "</style>\n",
              "<table border=\"1\" class=\"dataframe\">\n",
              "  <thead>\n",
              "    <tr style=\"text-align: right;\">\n",
              "      <th></th>\n",
              "      <th>record_id</th>\n",
              "      <th>service_date</th>\n",
              "      <th>service_name</th>\n",
              "      <th>service_amount</th>\n",
              "      <th>service_number</th>\n",
              "      <th>insured</th>\n",
              "      <th>sex_id</th>\n",
              "      <th>age_for_service_date</th>\n",
              "    </tr>\n",
              "  </thead>\n",
              "  <tbody>\n",
              "    <tr>\n",
              "      <th>1521</th>\n",
              "      <td>30268309403</td>\n",
              "      <td>2021-01-19</td>\n",
              "      <td>Ультразвуковое исследование сустава</td>\n",
              "      <td>1890</td>\n",
              "      <td>1</td>\n",
              "      <td>536416</td>\n",
              "      <td>1</td>\n",
              "      <td>42</td>\n",
              "    </tr>\n",
              "    <tr>\n",
              "      <th>2057</th>\n",
              "      <td>30346792903</td>\n",
              "      <td>2021-02-13</td>\n",
              "      <td>Ультразвуковое исследование сустава</td>\n",
              "      <td>1890</td>\n",
              "      <td>1</td>\n",
              "      <td>490723</td>\n",
              "      <td>2</td>\n",
              "      <td>39</td>\n",
              "    </tr>\n",
              "    <tr>\n",
              "      <th>2106</th>\n",
              "      <td>30346798403</td>\n",
              "      <td>2021-02-28</td>\n",
              "      <td>Ультразвуковое исследование сустава</td>\n",
              "      <td>1890</td>\n",
              "      <td>1</td>\n",
              "      <td>490654</td>\n",
              "      <td>2</td>\n",
              "      <td>25</td>\n",
              "    </tr>\n",
              "    <tr>\n",
              "      <th>2397</th>\n",
              "      <td>30346831403</td>\n",
              "      <td>2021-02-03</td>\n",
              "      <td>Ультразвуковое исследование сустава</td>\n",
              "      <td>1890</td>\n",
              "      <td>1</td>\n",
              "      <td>243348</td>\n",
              "      <td>1</td>\n",
              "      <td>54</td>\n",
              "    </tr>\n",
              "    <tr>\n",
              "      <th>2580</th>\n",
              "      <td>30346854403</td>\n",
              "      <td>2021-02-01</td>\n",
              "      <td>Ультразвуковое исследование сустава</td>\n",
              "      <td>1890</td>\n",
              "      <td>1</td>\n",
              "      <td>490974</td>\n",
              "      <td>1</td>\n",
              "      <td>39</td>\n",
              "    </tr>\n",
              "    <tr>\n",
              "      <th>...</th>\n",
              "      <td>...</td>\n",
              "      <td>...</td>\n",
              "      <td>...</td>\n",
              "      <td>...</td>\n",
              "      <td>...</td>\n",
              "      <td>...</td>\n",
              "      <td>...</td>\n",
              "      <td>...</td>\n",
              "    </tr>\n",
              "    <tr>\n",
              "      <th>83937</th>\n",
              "      <td>33177894403</td>\n",
              "      <td>2022-08-17</td>\n",
              "      <td>Ультразвуковое исследование сустава</td>\n",
              "      <td>4360</td>\n",
              "      <td>2</td>\n",
              "      <td>1217249</td>\n",
              "      <td>2</td>\n",
              "      <td>22</td>\n",
              "    </tr>\n",
              "    <tr>\n",
              "      <th>84319</th>\n",
              "      <td>33177976803</td>\n",
              "      <td>2022-08-11</td>\n",
              "      <td>Ультразвуковое исследование сустава</td>\n",
              "      <td>2180</td>\n",
              "      <td>1</td>\n",
              "      <td>1302882</td>\n",
              "      <td>1</td>\n",
              "      <td>52</td>\n",
              "    </tr>\n",
              "    <tr>\n",
              "      <th>84511</th>\n",
              "      <td>33178011803</td>\n",
              "      <td>2022-08-21</td>\n",
              "      <td>Ультразвуковое исследование сустава</td>\n",
              "      <td>2180</td>\n",
              "      <td>1</td>\n",
              "      <td>1202991</td>\n",
              "      <td>2</td>\n",
              "      <td>43</td>\n",
              "    </tr>\n",
              "    <tr>\n",
              "      <th>84610</th>\n",
              "      <td>33178030803</td>\n",
              "      <td>2022-08-20</td>\n",
              "      <td>Ультразвуковое исследование сустава</td>\n",
              "      <td>2180</td>\n",
              "      <td>1</td>\n",
              "      <td>1072932</td>\n",
              "      <td>1</td>\n",
              "      <td>34</td>\n",
              "    </tr>\n",
              "    <tr>\n",
              "      <th>85177</th>\n",
              "      <td>33178119403</td>\n",
              "      <td>2022-08-30</td>\n",
              "      <td>Ультразвуковое исследование сустава</td>\n",
              "      <td>4360</td>\n",
              "      <td>2</td>\n",
              "      <td>873231</td>\n",
              "      <td>1</td>\n",
              "      <td>38</td>\n",
              "    </tr>\n",
              "  </tbody>\n",
              "</table>\n",
              "<p>320 rows × 8 columns</p>\n",
              "</div>\n",
              "      <button class=\"colab-df-convert\" onclick=\"convertToInteractive('df-4ad557be-ac1a-4d83-829b-a679ad34af46')\"\n",
              "              title=\"Convert this dataframe to an interactive table.\"\n",
              "              style=\"display:none;\">\n",
              "        \n",
              "  <svg xmlns=\"http://www.w3.org/2000/svg\" height=\"24px\"viewBox=\"0 0 24 24\"\n",
              "       width=\"24px\">\n",
              "    <path d=\"M0 0h24v24H0V0z\" fill=\"none\"/>\n",
              "    <path d=\"M18.56 5.44l.94 2.06.94-2.06 2.06-.94-2.06-.94-.94-2.06-.94 2.06-2.06.94zm-11 1L8.5 8.5l.94-2.06 2.06-.94-2.06-.94L8.5 2.5l-.94 2.06-2.06.94zm10 10l.94 2.06.94-2.06 2.06-.94-2.06-.94-.94-2.06-.94 2.06-2.06.94z\"/><path d=\"M17.41 7.96l-1.37-1.37c-.4-.4-.92-.59-1.43-.59-.52 0-1.04.2-1.43.59L10.3 9.45l-7.72 7.72c-.78.78-.78 2.05 0 2.83L4 21.41c.39.39.9.59 1.41.59.51 0 1.02-.2 1.41-.59l7.78-7.78 2.81-2.81c.8-.78.8-2.07 0-2.86zM5.41 20L4 18.59l7.72-7.72 1.47 1.35L5.41 20z\"/>\n",
              "  </svg>\n",
              "      </button>\n",
              "      \n",
              "  <style>\n",
              "    .colab-df-container {\n",
              "      display:flex;\n",
              "      flex-wrap:wrap;\n",
              "      gap: 12px;\n",
              "    }\n",
              "\n",
              "    .colab-df-convert {\n",
              "      background-color: #E8F0FE;\n",
              "      border: none;\n",
              "      border-radius: 50%;\n",
              "      cursor: pointer;\n",
              "      display: none;\n",
              "      fill: #1967D2;\n",
              "      height: 32px;\n",
              "      padding: 0 0 0 0;\n",
              "      width: 32px;\n",
              "    }\n",
              "\n",
              "    .colab-df-convert:hover {\n",
              "      background-color: #E2EBFA;\n",
              "      box-shadow: 0px 1px 2px rgba(60, 64, 67, 0.3), 0px 1px 3px 1px rgba(60, 64, 67, 0.15);\n",
              "      fill: #174EA6;\n",
              "    }\n",
              "\n",
              "    [theme=dark] .colab-df-convert {\n",
              "      background-color: #3B4455;\n",
              "      fill: #D2E3FC;\n",
              "    }\n",
              "\n",
              "    [theme=dark] .colab-df-convert:hover {\n",
              "      background-color: #434B5C;\n",
              "      box-shadow: 0px 1px 3px 1px rgba(0, 0, 0, 0.15);\n",
              "      filter: drop-shadow(0px 1px 2px rgba(0, 0, 0, 0.3));\n",
              "      fill: #FFFFFF;\n",
              "    }\n",
              "  </style>\n",
              "\n",
              "      <script>\n",
              "        const buttonEl =\n",
              "          document.querySelector('#df-4ad557be-ac1a-4d83-829b-a679ad34af46 button.colab-df-convert');\n",
              "        buttonEl.style.display =\n",
              "          google.colab.kernel.accessAllowed ? 'block' : 'none';\n",
              "\n",
              "        async function convertToInteractive(key) {\n",
              "          const element = document.querySelector('#df-4ad557be-ac1a-4d83-829b-a679ad34af46');\n",
              "          const dataTable =\n",
              "            await google.colab.kernel.invokeFunction('convertToInteractive',\n",
              "                                                     [key], {});\n",
              "          if (!dataTable) return;\n",
              "\n",
              "          const docLinkHtml = 'Like what you see? Visit the ' +\n",
              "            '<a target=\"_blank\" href=https://colab.research.google.com/notebooks/data_table.ipynb>data table notebook</a>'\n",
              "            + ' to learn more about interactive tables.';\n",
              "          element.innerHTML = '';\n",
              "          dataTable['output_type'] = 'display_data';\n",
              "          await google.colab.output.renderOutput(dataTable, element);\n",
              "          const docLink = document.createElement('div');\n",
              "          docLink.innerHTML = docLinkHtml;\n",
              "          element.appendChild(docLink);\n",
              "        }\n",
              "      </script>\n",
              "    </div>\n",
              "  </div>\n",
              "  "
            ]
          },
          "metadata": {},
          "execution_count": 26
        }
      ],
      "source": [
        "df[df['service_name']=='Ультразвуковое исследование сустава']"
      ]
    },
    {
      "cell_type": "code",
      "execution_count": 27,
      "id": "c9a3d176",
      "metadata": {
        "id": "c9a3d176"
      },
      "outputs": [],
      "source": [
        "df['price'] = df['service_amount'] / df['service_number']"
      ]
    },
    {
      "cell_type": "markdown",
      "id": "07c7974f",
      "metadata": {
        "id": "07c7974f"
      },
      "source": [
        "Также добавим столбец с указанием года, так как в дальнейшем будем сравнивать цены относительно года оказания услуги."
      ]
    },
    {
      "cell_type": "code",
      "execution_count": 28,
      "id": "69de9a61",
      "metadata": {
        "id": "69de9a61"
      },
      "outputs": [],
      "source": [
        "df['year'] = df['service_date'].dt.year.astype(str)"
      ]
    },
    {
      "cell_type": "markdown",
      "id": "ff531336",
      "metadata": {
        "id": "ff531336"
      },
      "source": [
        "Далее посчитаем среднюю стоимость обслуживания клиентов. \n",
        "Обслуживанием будем считать последовательность медицинских услуг, полученных одним застрахованном в одной клинике с интервалом между любыми соседними по дате услугами не более 14 дней."
      ]
    },
    {
      "cell_type": "markdown",
      "id": "b10f8659",
      "metadata": {
        "id": "b10f8659"
      },
      "source": [
        "Для такого расчета потребуются дополнительные столбцы."
      ]
    },
    {
      "cell_type": "markdown",
      "id": "2b8ddd30",
      "metadata": {
        "id": "2b8ddd30"
      },
      "source": [
        "Для начала упорядочим таблицу по id пациента и порядковому номеру записи."
      ]
    },
    {
      "cell_type": "code",
      "execution_count": 29,
      "id": "9ada21a4",
      "metadata": {
        "id": "9ada21a4"
      },
      "outputs": [],
      "source": [
        "df = df.sort_values(by=['insured', 'record_id'])"
      ]
    },
    {
      "cell_type": "markdown",
      "id": "2155f944",
      "metadata": {
        "id": "2155f944"
      },
      "source": [
        "Используем аналог оконной функции sql для того чтобы понять, когда клиент приходил в предыдущий раз."
      ]
    },
    {
      "cell_type": "code",
      "execution_count": 30,
      "id": "3db560ad",
      "metadata": {
        "id": "3db560ad"
      },
      "outputs": [],
      "source": [
        "df['prev_visit_date'] = df.sort_values(by=['service_date', 'record_id']).groupby(['insured'])['service_date'].shift(1)"
      ]
    },
    {
      "cell_type": "markdown",
      "id": "4e40fe49",
      "metadata": {
        "id": "4e40fe49"
      },
      "source": [
        "Посчитаем разницу в датах в днях и добавим ее в отдельный столбец."
      ]
    },
    {
      "cell_type": "code",
      "execution_count": 31,
      "id": "4eb51cec",
      "metadata": {
        "id": "4eb51cec"
      },
      "outputs": [],
      "source": [
        "df['diff_days'] = (df['service_date'] - df['prev_visit_date']).dt.days"
      ]
    },
    {
      "cell_type": "markdown",
      "id": "b90eaa36",
      "metadata": {
        "id": "b90eaa36"
      },
      "source": [
        "Проделаем некоторые манипуляции, для корректного расчета далее."
      ]
    },
    {
      "cell_type": "code",
      "execution_count": 32,
      "id": "b8dc8921",
      "metadata": {
        "id": "b8dc8921"
      },
      "outputs": [],
      "source": [
        "df['diff_days'] = df['diff_days'].fillna(0)\n",
        "df['diff_days'] = df['diff_days'].astype(int)"
      ]
    },
    {
      "cell_type": "markdown",
      "id": "1cbe628a",
      "metadata": {
        "id": "1cbe628a"
      },
      "source": [
        "Похожим образом можем понять, когда в таблице меняется id клиента в упорядоченном списке."
      ]
    },
    {
      "cell_type": "code",
      "execution_count": 33,
      "id": "9464d73c",
      "metadata": {
        "id": "9464d73c"
      },
      "outputs": [],
      "source": [
        "df['next_insured'] = df['insured'].shift(-1, fill_value=0)"
      ]
    },
    {
      "cell_type": "markdown",
      "id": "14da545f",
      "metadata": {
        "id": "14da545f"
      },
      "source": [
        "Далее, наконец, можем получить номер \"кейса\", то есть последовательности медицинских услуг, полученных одним застрахованном лицом в интервале между любыми соседними по дате услугами не более 14 дней. \n",
        "\n",
        "Если у одного и того же пациента между услугами прошло более 14 дней, то будем считать это отдельным кейсом, так как, вероятнее всего, он обратился в клинику по поводу другого заболевания. "
      ]
    },
    {
      "cell_type": "code",
      "execution_count": 34,
      "id": "7800e11a",
      "metadata": {
        "id": "7800e11a"
      },
      "outputs": [],
      "source": [
        "j = 1\n",
        "for i, row in df.iterrows():\n",
        "    if row['diff_days'] <= 14 and (row['insured'] == row['next_insured']):\n",
        "        df.loc[[i],'flag'] = j\n",
        "    elif row['diff_days'] > 14 and (row['insured'] == row['next_insured']):\n",
        "        j += 1\n",
        "        df.loc[[i],'flag'] = j\n",
        "    else:\n",
        "        df.loc[[i],'flag'] = j\n",
        "        j += 1"
      ]
    },
    {
      "cell_type": "markdown",
      "id": "44ff6032",
      "metadata": {
        "id": "44ff6032"
      },
      "source": [
        "Создаем столбец с id кейса и все дальнейшие расчеты и гипотезы будем строить вокруг этой метрики."
      ]
    },
    {
      "cell_type": "code",
      "execution_count": 35,
      "id": "c19d82ea",
      "metadata": {
        "id": "c19d82ea"
      },
      "outputs": [],
      "source": [
        "df['case_id'] = df['insured'].astype(str) + \"_\" + df['flag'].astype(int).astype(str)"
      ]
    },
    {
      "cell_type": "code",
      "execution_count": 36,
      "id": "1d04cfe3",
      "metadata": {
        "colab": {
          "base_uri": "https://localhost:8080/",
          "height": 1000
        },
        "id": "1d04cfe3",
        "outputId": "0c5ef5b6-0dae-4781-b8f5-743ec2df3807"
      },
      "outputs": [
        {
          "output_type": "execute_result",
          "data": {
            "text/plain": [
              "         record_id service_date  \\\n",
              "602    30268217203   2021-01-11   \n",
              "603    30268217303   2021-01-11   \n",
              "604    30268217403   2021-01-11   \n",
              "605    30268217503   2021-01-16   \n",
              "606    30268217603   2021-01-17   \n",
              "607    30268217703   2021-01-17   \n",
              "608    30268217803   2021-01-23   \n",
              "28849  31408907803   2021-09-21   \n",
              "28850  31408907903   2021-09-21   \n",
              "28851  31408908003   2021-09-25   \n",
              "28852  31408908103   2021-09-25   \n",
              "28853  31408908203   2021-09-25   \n",
              "28854  31408908303   2021-09-25   \n",
              "28855  31408908403   2021-09-25   \n",
              "28856  31408908503   2021-09-28   \n",
              "28857  31408908603   2021-09-30   \n",
              "31846  31485647203   2021-10-02   \n",
              "31847  31485647303   2021-10-02   \n",
              "31848  31485647403   2021-10-02   \n",
              "31849  31485647503   2021-10-05   \n",
              "38153  31680786403   2021-11-16   \n",
              "38154  31680786503   2021-11-17   \n",
              "38155  31680786603   2021-11-17   \n",
              "38156  31680786703   2021-11-17   \n",
              "38157  31680786903   2021-11-23   \n",
              "38158  31680787003   2021-11-26   \n",
              "38159  31680787103   2021-11-28   \n",
              "1718   30268329103   2021-01-22   \n",
              "1719   30268329203   2021-01-22   \n",
              "1720   30268329303   2021-01-22   \n",
              "1721   30268329403   2021-01-29   \n",
              "35064  31485971703   2021-10-06   \n",
              "35065  31485971803   2021-10-11   \n",
              "35066  31485971903   2021-10-11   \n",
              "35067  31485972003   2021-10-11   \n",
              "35068  31485972103   2021-10-11   \n",
              "35069  31485972203   2021-10-11   \n",
              "35289  31485994303   2021-10-11   \n",
              "35290  31485994403   2021-10-11   \n",
              "35291  31485994503   2021-10-11   \n",
              "39065  31680879703   2021-11-12   \n",
              "63415  32511101303   2022-04-06   \n",
              "63416  32511101403   2022-04-06   \n",
              "63417  32511101503   2022-04-06   \n",
              "63418  32511101603   2022-04-13   \n",
              "63419  32511101703   2022-04-13   \n",
              "25023  31249457803   2021-08-04   \n",
              "41403  31813998503   2021-12-28   \n",
              "41404  31813998603   2021-12-28   \n",
              "41405  31813998703   2021-12-28   \n",
              "\n",
              "                                            service_name  service_amount  \\\n",
              "602                                      Прием первичный            1470   \n",
              "603        Общий анализ крови (лейкоцитарная форм,, СОЭ)             693   \n",
              "604                  Взятие крови из периферической вены             158   \n",
              "605    Рентгенография органов грудной клетки ( 2 прое...            1827   \n",
              "606                                      Прием повторный            1313   \n",
              "607               РНК коронавирусов SARS-CoV-2 (COVID-19            2500   \n",
              "608                                      Прием повторный            1313   \n",
              "28849                                    Прием первичный            1470   \n",
              "28850                                    Прием первичный            1470   \n",
              "28851      Общий анализ крови (лейкоцитарная форм,, СОЭ)             693   \n",
              "28852                                  Общий анализ мочи             431   \n",
              "28853                Взятие крови из периферической вены             158   \n",
              "28854  Рентгенография пояснично-крестцового отдела по...            1607   \n",
              "28855   Рентгенография крестцово-подвздошного сочленения            1134   \n",
              "28856                                    Прием повторный            1313   \n",
              "28857                                    Прием первичный            1470   \n",
              "31846  Ультразвуковое исследование почек и надпочечников            2090   \n",
              "31847        Ультразвуковое исследование мочевого пузыря            1650   \n",
              "31848                                    Прием повторный            1380   \n",
              "31849                                    Прием повторный            1380   \n",
              "38153                          Прием трапевта, первичный            1540   \n",
              "38154      Общий анализ крови (лейкоцитарная форм,, СОЭ)             730   \n",
              "38155                                 С-реактивный белок             440   \n",
              "38156                Взятие крови из периферической вены             170   \n",
              "38157                        Прием терапевта , повторный            1380   \n",
              "38158  Рентгенография органов грудной клетки ( 2 прое...            1920   \n",
              "38159                        Прием терапевта , повторный            1380   \n",
              "1718                                     Прием повторный            1313   \n",
              "1719   Взятие материала для цитологического исследования             284   \n",
              "1720            Исследование отделяемого молочной железы             887   \n",
              "1721          Ультразвуковое исследование молочных желез            1995   \n",
              "35064                                    Прием повторный            1380   \n",
              "35065  Взятие материала для цитологического исследования             300   \n",
              "35066         Инфильтрационная анестезия (малых объемов)            1070   \n",
              "35067  Гистологическое исследование биоптата органов ...            3030   \n",
              "35068                                    Прием повторный            1380   \n",
              "35069  Пункция молочной железы, опухолей кожи, лимфоу...            1460   \n",
              "35289  Обзорная рентгенография молочных желез в прямо...            3640   \n",
              "35290                         УЗИ - контроль при пункции             930   \n",
              "35291         Ультразвуковое исследование молочных желез            2090   \n",
              "39065                           Прием хирурга, повторный            1380   \n",
              "63415                           Прием хирурга, повторный            1380   \n",
              "63416  Взятие материала для цитологического исследования             600   \n",
              "63417           Исследование отделяемого молочной железы             930   \n",
              "63418                           Прием хирурга, повторный            1380   \n",
              "63419         Ультразвуковое исследование молочных желез            2090   \n",
              "25023                                    Прием первичный            1470   \n",
              "41403                     Прием офтальмолога,  первичный            1540   \n",
              "41404                                     Рефрактометрия             750   \n",
              "41405           Исследование глазного дна щелевой лампой            1010   \n",
              "\n",
              "       service_number  insured sex_id  age_for_service_date   price  year  \\\n",
              "602                 1   125073      2                    65  1470.0  2021   \n",
              "603                 1   125073      2                    65   693.0  2021   \n",
              "604                 1   125073      2                    65   158.0  2021   \n",
              "605                 1   125073      2                    65  1827.0  2021   \n",
              "606                 1   125073      2                    65  1313.0  2021   \n",
              "607                 1   125073      2                    65  2500.0  2021   \n",
              "608                 1   125073      2                    65  1313.0  2021   \n",
              "28849               1   125073      2                    66  1470.0  2021   \n",
              "28850               1   125073      2                    66  1470.0  2021   \n",
              "28851               1   125073      2                    66   693.0  2021   \n",
              "28852               1   125073      2                    66   431.0  2021   \n",
              "28853               1   125073      2                    66   158.0  2021   \n",
              "28854               1   125073      2                    66  1607.0  2021   \n",
              "28855               1   125073      2                    66  1134.0  2021   \n",
              "28856               1   125073      2                    66  1313.0  2021   \n",
              "28857               1   125073      2                    66  1470.0  2021   \n",
              "31846               1   125073      2                    66  2090.0  2021   \n",
              "31847               1   125073      2                    66  1650.0  2021   \n",
              "31848               1   125073      2                    66  1380.0  2021   \n",
              "31849               1   125073      2                    66  1380.0  2021   \n",
              "38153               1   125073      2                    66  1540.0  2021   \n",
              "38154               1   125073      2                    66   730.0  2021   \n",
              "38155               1   125073      2                    66   440.0  2021   \n",
              "38156               1   125073      2                    66   170.0  2021   \n",
              "38157               1   125073      2                    66  1380.0  2021   \n",
              "38158               1   125073      2                    66  1920.0  2021   \n",
              "38159               1   125073      2                    66  1380.0  2021   \n",
              "1718                1   125094      2                    43  1313.0  2021   \n",
              "1719                1   125094      2                    43   284.0  2021   \n",
              "1720                1   125094      2                    43   887.0  2021   \n",
              "1721                1   125094      2                    43  1995.0  2021   \n",
              "35064               1   125094      2                    44  1380.0  2021   \n",
              "35065               1   125094      2                    44   300.0  2021   \n",
              "35066               1   125094      2                    44  1070.0  2021   \n",
              "35067               1   125094      2                    44  3030.0  2021   \n",
              "35068               1   125094      2                    44  1380.0  2021   \n",
              "35069               1   125094      2                    44  1460.0  2021   \n",
              "35289               1   125094      2                    44  3640.0  2021   \n",
              "35290               1   125094      2                    44   930.0  2021   \n",
              "35291               1   125094      2                    44  2090.0  2021   \n",
              "39065               1   125094      2                    44  1380.0  2021   \n",
              "63415               1   125094      2                    44  1380.0  2022   \n",
              "63416               2   125094      2                    44   300.0  2022   \n",
              "63417               1   125094      2                    44   930.0  2022   \n",
              "63418               1   125094      2                    44  1380.0  2022   \n",
              "63419               1   125094      2                    44  2090.0  2022   \n",
              "25023               1   125404      1                    26  1470.0  2021   \n",
              "41403               1   139315      1                    25  1540.0  2021   \n",
              "41404               1   139315      1                    25   750.0  2021   \n",
              "41405               1   139315      1                    25  1010.0  2021   \n",
              "\n",
              "      prev_visit_date  diff_days  next_insured  flag   case_id  \n",
              "602               NaT          0        125073   1.0  125073_1  \n",
              "603        2021-01-11          0        125073   1.0  125073_1  \n",
              "604        2021-01-11          0        125073   1.0  125073_1  \n",
              "605        2021-01-11          5        125073   1.0  125073_1  \n",
              "606        2021-01-16          1        125073   1.0  125073_1  \n",
              "607        2021-01-17          0        125073   1.0  125073_1  \n",
              "608        2021-01-17          6        125073   1.0  125073_1  \n",
              "28849      2021-01-23        241        125073   2.0  125073_2  \n",
              "28850      2021-09-21          0        125073   2.0  125073_2  \n",
              "28851      2021-09-21          4        125073   2.0  125073_2  \n",
              "28852      2021-09-25          0        125073   2.0  125073_2  \n",
              "28853      2021-09-25          0        125073   2.0  125073_2  \n",
              "28854      2021-09-25          0        125073   2.0  125073_2  \n",
              "28855      2021-09-25          0        125073   2.0  125073_2  \n",
              "28856      2021-09-25          3        125073   2.0  125073_2  \n",
              "28857      2021-09-28          2        125073   2.0  125073_2  \n",
              "31846      2021-09-30          2        125073   2.0  125073_2  \n",
              "31847      2021-10-02          0        125073   2.0  125073_2  \n",
              "31848      2021-10-02          0        125073   2.0  125073_2  \n",
              "31849      2021-10-02          3        125073   2.0  125073_2  \n",
              "38153      2021-10-05         42        125073   3.0  125073_3  \n",
              "38154      2021-11-16          1        125073   3.0  125073_3  \n",
              "38155      2021-11-17          0        125073   3.0  125073_3  \n",
              "38156      2021-11-17          0        125073   3.0  125073_3  \n",
              "38157      2021-11-17          6        125073   3.0  125073_3  \n",
              "38158      2021-11-23          3        125073   3.0  125073_3  \n",
              "38159      2021-11-26          2        125094   3.0  125073_3  \n",
              "1718              NaT          0        125094   4.0  125094_4  \n",
              "1719       2021-01-22          0        125094   4.0  125094_4  \n",
              "1720       2021-01-22          0        125094   4.0  125094_4  \n",
              "1721       2021-01-22          7        125094   4.0  125094_4  \n",
              "35064      2021-01-29        250        125094   5.0  125094_5  \n",
              "35065      2021-10-06          5        125094   5.0  125094_5  \n",
              "35066      2021-10-11          0        125094   5.0  125094_5  \n",
              "35067      2021-10-11          0        125094   5.0  125094_5  \n",
              "35068      2021-10-11          0        125094   5.0  125094_5  \n",
              "35069      2021-10-11          0        125094   5.0  125094_5  \n",
              "35289      2021-10-11          0        125094   5.0  125094_5  \n",
              "35290      2021-10-11          0        125094   5.0  125094_5  \n",
              "35291      2021-10-11          0        125094   5.0  125094_5  \n",
              "39065      2021-10-11         32        125094   6.0  125094_6  \n",
              "63415      2021-11-12        145        125094   7.0  125094_7  \n",
              "63416      2022-04-06          0        125094   7.0  125094_7  \n",
              "63417      2022-04-06          0        125094   7.0  125094_7  \n",
              "63418      2022-04-06          7        125094   7.0  125094_7  \n",
              "63419      2022-04-13          0        125404   7.0  125094_7  \n",
              "25023             NaT          0        139315   8.0  125404_8  \n",
              "41403             NaT          0        139315   9.0  139315_9  \n",
              "41404      2021-12-28          0        139315   9.0  139315_9  \n",
              "41405      2021-12-28          0        139539   9.0  139315_9  "
            ],
            "text/html": [
              "\n",
              "  <div id=\"df-2ba874ce-3617-4fee-81ea-edbc7def1c38\">\n",
              "    <div class=\"colab-df-container\">\n",
              "      <div>\n",
              "<style scoped>\n",
              "    .dataframe tbody tr th:only-of-type {\n",
              "        vertical-align: middle;\n",
              "    }\n",
              "\n",
              "    .dataframe tbody tr th {\n",
              "        vertical-align: top;\n",
              "    }\n",
              "\n",
              "    .dataframe thead th {\n",
              "        text-align: right;\n",
              "    }\n",
              "</style>\n",
              "<table border=\"1\" class=\"dataframe\">\n",
              "  <thead>\n",
              "    <tr style=\"text-align: right;\">\n",
              "      <th></th>\n",
              "      <th>record_id</th>\n",
              "      <th>service_date</th>\n",
              "      <th>service_name</th>\n",
              "      <th>service_amount</th>\n",
              "      <th>service_number</th>\n",
              "      <th>insured</th>\n",
              "      <th>sex_id</th>\n",
              "      <th>age_for_service_date</th>\n",
              "      <th>price</th>\n",
              "      <th>year</th>\n",
              "      <th>prev_visit_date</th>\n",
              "      <th>diff_days</th>\n",
              "      <th>next_insured</th>\n",
              "      <th>flag</th>\n",
              "      <th>case_id</th>\n",
              "    </tr>\n",
              "  </thead>\n",
              "  <tbody>\n",
              "    <tr>\n",
              "      <th>602</th>\n",
              "      <td>30268217203</td>\n",
              "      <td>2021-01-11</td>\n",
              "      <td>Прием первичный</td>\n",
              "      <td>1470</td>\n",
              "      <td>1</td>\n",
              "      <td>125073</td>\n",
              "      <td>2</td>\n",
              "      <td>65</td>\n",
              "      <td>1470.0</td>\n",
              "      <td>2021</td>\n",
              "      <td>NaT</td>\n",
              "      <td>0</td>\n",
              "      <td>125073</td>\n",
              "      <td>1.0</td>\n",
              "      <td>125073_1</td>\n",
              "    </tr>\n",
              "    <tr>\n",
              "      <th>603</th>\n",
              "      <td>30268217303</td>\n",
              "      <td>2021-01-11</td>\n",
              "      <td>Общий анализ крови (лейкоцитарная форм,, СОЭ)</td>\n",
              "      <td>693</td>\n",
              "      <td>1</td>\n",
              "      <td>125073</td>\n",
              "      <td>2</td>\n",
              "      <td>65</td>\n",
              "      <td>693.0</td>\n",
              "      <td>2021</td>\n",
              "      <td>2021-01-11</td>\n",
              "      <td>0</td>\n",
              "      <td>125073</td>\n",
              "      <td>1.0</td>\n",
              "      <td>125073_1</td>\n",
              "    </tr>\n",
              "    <tr>\n",
              "      <th>604</th>\n",
              "      <td>30268217403</td>\n",
              "      <td>2021-01-11</td>\n",
              "      <td>Взятие крови из периферической вены</td>\n",
              "      <td>158</td>\n",
              "      <td>1</td>\n",
              "      <td>125073</td>\n",
              "      <td>2</td>\n",
              "      <td>65</td>\n",
              "      <td>158.0</td>\n",
              "      <td>2021</td>\n",
              "      <td>2021-01-11</td>\n",
              "      <td>0</td>\n",
              "      <td>125073</td>\n",
              "      <td>1.0</td>\n",
              "      <td>125073_1</td>\n",
              "    </tr>\n",
              "    <tr>\n",
              "      <th>605</th>\n",
              "      <td>30268217503</td>\n",
              "      <td>2021-01-16</td>\n",
              "      <td>Рентгенография органов грудной клетки ( 2 прое...</td>\n",
              "      <td>1827</td>\n",
              "      <td>1</td>\n",
              "      <td>125073</td>\n",
              "      <td>2</td>\n",
              "      <td>65</td>\n",
              "      <td>1827.0</td>\n",
              "      <td>2021</td>\n",
              "      <td>2021-01-11</td>\n",
              "      <td>5</td>\n",
              "      <td>125073</td>\n",
              "      <td>1.0</td>\n",
              "      <td>125073_1</td>\n",
              "    </tr>\n",
              "    <tr>\n",
              "      <th>606</th>\n",
              "      <td>30268217603</td>\n",
              "      <td>2021-01-17</td>\n",
              "      <td>Прием повторный</td>\n",
              "      <td>1313</td>\n",
              "      <td>1</td>\n",
              "      <td>125073</td>\n",
              "      <td>2</td>\n",
              "      <td>65</td>\n",
              "      <td>1313.0</td>\n",
              "      <td>2021</td>\n",
              "      <td>2021-01-16</td>\n",
              "      <td>1</td>\n",
              "      <td>125073</td>\n",
              "      <td>1.0</td>\n",
              "      <td>125073_1</td>\n",
              "    </tr>\n",
              "    <tr>\n",
              "      <th>607</th>\n",
              "      <td>30268217703</td>\n",
              "      <td>2021-01-17</td>\n",
              "      <td>РНК коронавирусов SARS-CoV-2 (COVID-19</td>\n",
              "      <td>2500</td>\n",
              "      <td>1</td>\n",
              "      <td>125073</td>\n",
              "      <td>2</td>\n",
              "      <td>65</td>\n",
              "      <td>2500.0</td>\n",
              "      <td>2021</td>\n",
              "      <td>2021-01-17</td>\n",
              "      <td>0</td>\n",
              "      <td>125073</td>\n",
              "      <td>1.0</td>\n",
              "      <td>125073_1</td>\n",
              "    </tr>\n",
              "    <tr>\n",
              "      <th>608</th>\n",
              "      <td>30268217803</td>\n",
              "      <td>2021-01-23</td>\n",
              "      <td>Прием повторный</td>\n",
              "      <td>1313</td>\n",
              "      <td>1</td>\n",
              "      <td>125073</td>\n",
              "      <td>2</td>\n",
              "      <td>65</td>\n",
              "      <td>1313.0</td>\n",
              "      <td>2021</td>\n",
              "      <td>2021-01-17</td>\n",
              "      <td>6</td>\n",
              "      <td>125073</td>\n",
              "      <td>1.0</td>\n",
              "      <td>125073_1</td>\n",
              "    </tr>\n",
              "    <tr>\n",
              "      <th>28849</th>\n",
              "      <td>31408907803</td>\n",
              "      <td>2021-09-21</td>\n",
              "      <td>Прием первичный</td>\n",
              "      <td>1470</td>\n",
              "      <td>1</td>\n",
              "      <td>125073</td>\n",
              "      <td>2</td>\n",
              "      <td>66</td>\n",
              "      <td>1470.0</td>\n",
              "      <td>2021</td>\n",
              "      <td>2021-01-23</td>\n",
              "      <td>241</td>\n",
              "      <td>125073</td>\n",
              "      <td>2.0</td>\n",
              "      <td>125073_2</td>\n",
              "    </tr>\n",
              "    <tr>\n",
              "      <th>28850</th>\n",
              "      <td>31408907903</td>\n",
              "      <td>2021-09-21</td>\n",
              "      <td>Прием первичный</td>\n",
              "      <td>1470</td>\n",
              "      <td>1</td>\n",
              "      <td>125073</td>\n",
              "      <td>2</td>\n",
              "      <td>66</td>\n",
              "      <td>1470.0</td>\n",
              "      <td>2021</td>\n",
              "      <td>2021-09-21</td>\n",
              "      <td>0</td>\n",
              "      <td>125073</td>\n",
              "      <td>2.0</td>\n",
              "      <td>125073_2</td>\n",
              "    </tr>\n",
              "    <tr>\n",
              "      <th>28851</th>\n",
              "      <td>31408908003</td>\n",
              "      <td>2021-09-25</td>\n",
              "      <td>Общий анализ крови (лейкоцитарная форм,, СОЭ)</td>\n",
              "      <td>693</td>\n",
              "      <td>1</td>\n",
              "      <td>125073</td>\n",
              "      <td>2</td>\n",
              "      <td>66</td>\n",
              "      <td>693.0</td>\n",
              "      <td>2021</td>\n",
              "      <td>2021-09-21</td>\n",
              "      <td>4</td>\n",
              "      <td>125073</td>\n",
              "      <td>2.0</td>\n",
              "      <td>125073_2</td>\n",
              "    </tr>\n",
              "    <tr>\n",
              "      <th>28852</th>\n",
              "      <td>31408908103</td>\n",
              "      <td>2021-09-25</td>\n",
              "      <td>Общий анализ мочи</td>\n",
              "      <td>431</td>\n",
              "      <td>1</td>\n",
              "      <td>125073</td>\n",
              "      <td>2</td>\n",
              "      <td>66</td>\n",
              "      <td>431.0</td>\n",
              "      <td>2021</td>\n",
              "      <td>2021-09-25</td>\n",
              "      <td>0</td>\n",
              "      <td>125073</td>\n",
              "      <td>2.0</td>\n",
              "      <td>125073_2</td>\n",
              "    </tr>\n",
              "    <tr>\n",
              "      <th>28853</th>\n",
              "      <td>31408908203</td>\n",
              "      <td>2021-09-25</td>\n",
              "      <td>Взятие крови из периферической вены</td>\n",
              "      <td>158</td>\n",
              "      <td>1</td>\n",
              "      <td>125073</td>\n",
              "      <td>2</td>\n",
              "      <td>66</td>\n",
              "      <td>158.0</td>\n",
              "      <td>2021</td>\n",
              "      <td>2021-09-25</td>\n",
              "      <td>0</td>\n",
              "      <td>125073</td>\n",
              "      <td>2.0</td>\n",
              "      <td>125073_2</td>\n",
              "    </tr>\n",
              "    <tr>\n",
              "      <th>28854</th>\n",
              "      <td>31408908303</td>\n",
              "      <td>2021-09-25</td>\n",
              "      <td>Рентгенография пояснично-крестцового отдела по...</td>\n",
              "      <td>1607</td>\n",
              "      <td>1</td>\n",
              "      <td>125073</td>\n",
              "      <td>2</td>\n",
              "      <td>66</td>\n",
              "      <td>1607.0</td>\n",
              "      <td>2021</td>\n",
              "      <td>2021-09-25</td>\n",
              "      <td>0</td>\n",
              "      <td>125073</td>\n",
              "      <td>2.0</td>\n",
              "      <td>125073_2</td>\n",
              "    </tr>\n",
              "    <tr>\n",
              "      <th>28855</th>\n",
              "      <td>31408908403</td>\n",
              "      <td>2021-09-25</td>\n",
              "      <td>Рентгенография крестцово-подвздошного сочленения</td>\n",
              "      <td>1134</td>\n",
              "      <td>1</td>\n",
              "      <td>125073</td>\n",
              "      <td>2</td>\n",
              "      <td>66</td>\n",
              "      <td>1134.0</td>\n",
              "      <td>2021</td>\n",
              "      <td>2021-09-25</td>\n",
              "      <td>0</td>\n",
              "      <td>125073</td>\n",
              "      <td>2.0</td>\n",
              "      <td>125073_2</td>\n",
              "    </tr>\n",
              "    <tr>\n",
              "      <th>28856</th>\n",
              "      <td>31408908503</td>\n",
              "      <td>2021-09-28</td>\n",
              "      <td>Прием повторный</td>\n",
              "      <td>1313</td>\n",
              "      <td>1</td>\n",
              "      <td>125073</td>\n",
              "      <td>2</td>\n",
              "      <td>66</td>\n",
              "      <td>1313.0</td>\n",
              "      <td>2021</td>\n",
              "      <td>2021-09-25</td>\n",
              "      <td>3</td>\n",
              "      <td>125073</td>\n",
              "      <td>2.0</td>\n",
              "      <td>125073_2</td>\n",
              "    </tr>\n",
              "    <tr>\n",
              "      <th>28857</th>\n",
              "      <td>31408908603</td>\n",
              "      <td>2021-09-30</td>\n",
              "      <td>Прием первичный</td>\n",
              "      <td>1470</td>\n",
              "      <td>1</td>\n",
              "      <td>125073</td>\n",
              "      <td>2</td>\n",
              "      <td>66</td>\n",
              "      <td>1470.0</td>\n",
              "      <td>2021</td>\n",
              "      <td>2021-09-28</td>\n",
              "      <td>2</td>\n",
              "      <td>125073</td>\n",
              "      <td>2.0</td>\n",
              "      <td>125073_2</td>\n",
              "    </tr>\n",
              "    <tr>\n",
              "      <th>31846</th>\n",
              "      <td>31485647203</td>\n",
              "      <td>2021-10-02</td>\n",
              "      <td>Ультразвуковое исследование почек и надпочечников</td>\n",
              "      <td>2090</td>\n",
              "      <td>1</td>\n",
              "      <td>125073</td>\n",
              "      <td>2</td>\n",
              "      <td>66</td>\n",
              "      <td>2090.0</td>\n",
              "      <td>2021</td>\n",
              "      <td>2021-09-30</td>\n",
              "      <td>2</td>\n",
              "      <td>125073</td>\n",
              "      <td>2.0</td>\n",
              "      <td>125073_2</td>\n",
              "    </tr>\n",
              "    <tr>\n",
              "      <th>31847</th>\n",
              "      <td>31485647303</td>\n",
              "      <td>2021-10-02</td>\n",
              "      <td>Ультразвуковое исследование мочевого пузыря</td>\n",
              "      <td>1650</td>\n",
              "      <td>1</td>\n",
              "      <td>125073</td>\n",
              "      <td>2</td>\n",
              "      <td>66</td>\n",
              "      <td>1650.0</td>\n",
              "      <td>2021</td>\n",
              "      <td>2021-10-02</td>\n",
              "      <td>0</td>\n",
              "      <td>125073</td>\n",
              "      <td>2.0</td>\n",
              "      <td>125073_2</td>\n",
              "    </tr>\n",
              "    <tr>\n",
              "      <th>31848</th>\n",
              "      <td>31485647403</td>\n",
              "      <td>2021-10-02</td>\n",
              "      <td>Прием повторный</td>\n",
              "      <td>1380</td>\n",
              "      <td>1</td>\n",
              "      <td>125073</td>\n",
              "      <td>2</td>\n",
              "      <td>66</td>\n",
              "      <td>1380.0</td>\n",
              "      <td>2021</td>\n",
              "      <td>2021-10-02</td>\n",
              "      <td>0</td>\n",
              "      <td>125073</td>\n",
              "      <td>2.0</td>\n",
              "      <td>125073_2</td>\n",
              "    </tr>\n",
              "    <tr>\n",
              "      <th>31849</th>\n",
              "      <td>31485647503</td>\n",
              "      <td>2021-10-05</td>\n",
              "      <td>Прием повторный</td>\n",
              "      <td>1380</td>\n",
              "      <td>1</td>\n",
              "      <td>125073</td>\n",
              "      <td>2</td>\n",
              "      <td>66</td>\n",
              "      <td>1380.0</td>\n",
              "      <td>2021</td>\n",
              "      <td>2021-10-02</td>\n",
              "      <td>3</td>\n",
              "      <td>125073</td>\n",
              "      <td>2.0</td>\n",
              "      <td>125073_2</td>\n",
              "    </tr>\n",
              "    <tr>\n",
              "      <th>38153</th>\n",
              "      <td>31680786403</td>\n",
              "      <td>2021-11-16</td>\n",
              "      <td>Прием трапевта, первичный</td>\n",
              "      <td>1540</td>\n",
              "      <td>1</td>\n",
              "      <td>125073</td>\n",
              "      <td>2</td>\n",
              "      <td>66</td>\n",
              "      <td>1540.0</td>\n",
              "      <td>2021</td>\n",
              "      <td>2021-10-05</td>\n",
              "      <td>42</td>\n",
              "      <td>125073</td>\n",
              "      <td>3.0</td>\n",
              "      <td>125073_3</td>\n",
              "    </tr>\n",
              "    <tr>\n",
              "      <th>38154</th>\n",
              "      <td>31680786503</td>\n",
              "      <td>2021-11-17</td>\n",
              "      <td>Общий анализ крови (лейкоцитарная форм,, СОЭ)</td>\n",
              "      <td>730</td>\n",
              "      <td>1</td>\n",
              "      <td>125073</td>\n",
              "      <td>2</td>\n",
              "      <td>66</td>\n",
              "      <td>730.0</td>\n",
              "      <td>2021</td>\n",
              "      <td>2021-11-16</td>\n",
              "      <td>1</td>\n",
              "      <td>125073</td>\n",
              "      <td>3.0</td>\n",
              "      <td>125073_3</td>\n",
              "    </tr>\n",
              "    <tr>\n",
              "      <th>38155</th>\n",
              "      <td>31680786603</td>\n",
              "      <td>2021-11-17</td>\n",
              "      <td>С-реактивный белок</td>\n",
              "      <td>440</td>\n",
              "      <td>1</td>\n",
              "      <td>125073</td>\n",
              "      <td>2</td>\n",
              "      <td>66</td>\n",
              "      <td>440.0</td>\n",
              "      <td>2021</td>\n",
              "      <td>2021-11-17</td>\n",
              "      <td>0</td>\n",
              "      <td>125073</td>\n",
              "      <td>3.0</td>\n",
              "      <td>125073_3</td>\n",
              "    </tr>\n",
              "    <tr>\n",
              "      <th>38156</th>\n",
              "      <td>31680786703</td>\n",
              "      <td>2021-11-17</td>\n",
              "      <td>Взятие крови из периферической вены</td>\n",
              "      <td>170</td>\n",
              "      <td>1</td>\n",
              "      <td>125073</td>\n",
              "      <td>2</td>\n",
              "      <td>66</td>\n",
              "      <td>170.0</td>\n",
              "      <td>2021</td>\n",
              "      <td>2021-11-17</td>\n",
              "      <td>0</td>\n",
              "      <td>125073</td>\n",
              "      <td>3.0</td>\n",
              "      <td>125073_3</td>\n",
              "    </tr>\n",
              "    <tr>\n",
              "      <th>38157</th>\n",
              "      <td>31680786903</td>\n",
              "      <td>2021-11-23</td>\n",
              "      <td>Прием терапевта , повторный</td>\n",
              "      <td>1380</td>\n",
              "      <td>1</td>\n",
              "      <td>125073</td>\n",
              "      <td>2</td>\n",
              "      <td>66</td>\n",
              "      <td>1380.0</td>\n",
              "      <td>2021</td>\n",
              "      <td>2021-11-17</td>\n",
              "      <td>6</td>\n",
              "      <td>125073</td>\n",
              "      <td>3.0</td>\n",
              "      <td>125073_3</td>\n",
              "    </tr>\n",
              "    <tr>\n",
              "      <th>38158</th>\n",
              "      <td>31680787003</td>\n",
              "      <td>2021-11-26</td>\n",
              "      <td>Рентгенография органов грудной клетки ( 2 прое...</td>\n",
              "      <td>1920</td>\n",
              "      <td>1</td>\n",
              "      <td>125073</td>\n",
              "      <td>2</td>\n",
              "      <td>66</td>\n",
              "      <td>1920.0</td>\n",
              "      <td>2021</td>\n",
              "      <td>2021-11-23</td>\n",
              "      <td>3</td>\n",
              "      <td>125073</td>\n",
              "      <td>3.0</td>\n",
              "      <td>125073_3</td>\n",
              "    </tr>\n",
              "    <tr>\n",
              "      <th>38159</th>\n",
              "      <td>31680787103</td>\n",
              "      <td>2021-11-28</td>\n",
              "      <td>Прием терапевта , повторный</td>\n",
              "      <td>1380</td>\n",
              "      <td>1</td>\n",
              "      <td>125073</td>\n",
              "      <td>2</td>\n",
              "      <td>66</td>\n",
              "      <td>1380.0</td>\n",
              "      <td>2021</td>\n",
              "      <td>2021-11-26</td>\n",
              "      <td>2</td>\n",
              "      <td>125094</td>\n",
              "      <td>3.0</td>\n",
              "      <td>125073_3</td>\n",
              "    </tr>\n",
              "    <tr>\n",
              "      <th>1718</th>\n",
              "      <td>30268329103</td>\n",
              "      <td>2021-01-22</td>\n",
              "      <td>Прием повторный</td>\n",
              "      <td>1313</td>\n",
              "      <td>1</td>\n",
              "      <td>125094</td>\n",
              "      <td>2</td>\n",
              "      <td>43</td>\n",
              "      <td>1313.0</td>\n",
              "      <td>2021</td>\n",
              "      <td>NaT</td>\n",
              "      <td>0</td>\n",
              "      <td>125094</td>\n",
              "      <td>4.0</td>\n",
              "      <td>125094_4</td>\n",
              "    </tr>\n",
              "    <tr>\n",
              "      <th>1719</th>\n",
              "      <td>30268329203</td>\n",
              "      <td>2021-01-22</td>\n",
              "      <td>Взятие материала для цитологического исследования</td>\n",
              "      <td>284</td>\n",
              "      <td>1</td>\n",
              "      <td>125094</td>\n",
              "      <td>2</td>\n",
              "      <td>43</td>\n",
              "      <td>284.0</td>\n",
              "      <td>2021</td>\n",
              "      <td>2021-01-22</td>\n",
              "      <td>0</td>\n",
              "      <td>125094</td>\n",
              "      <td>4.0</td>\n",
              "      <td>125094_4</td>\n",
              "    </tr>\n",
              "    <tr>\n",
              "      <th>1720</th>\n",
              "      <td>30268329303</td>\n",
              "      <td>2021-01-22</td>\n",
              "      <td>Исследование отделяемого молочной железы</td>\n",
              "      <td>887</td>\n",
              "      <td>1</td>\n",
              "      <td>125094</td>\n",
              "      <td>2</td>\n",
              "      <td>43</td>\n",
              "      <td>887.0</td>\n",
              "      <td>2021</td>\n",
              "      <td>2021-01-22</td>\n",
              "      <td>0</td>\n",
              "      <td>125094</td>\n",
              "      <td>4.0</td>\n",
              "      <td>125094_4</td>\n",
              "    </tr>\n",
              "    <tr>\n",
              "      <th>1721</th>\n",
              "      <td>30268329403</td>\n",
              "      <td>2021-01-29</td>\n",
              "      <td>Ультразвуковое исследование молочных желез</td>\n",
              "      <td>1995</td>\n",
              "      <td>1</td>\n",
              "      <td>125094</td>\n",
              "      <td>2</td>\n",
              "      <td>43</td>\n",
              "      <td>1995.0</td>\n",
              "      <td>2021</td>\n",
              "      <td>2021-01-22</td>\n",
              "      <td>7</td>\n",
              "      <td>125094</td>\n",
              "      <td>4.0</td>\n",
              "      <td>125094_4</td>\n",
              "    </tr>\n",
              "    <tr>\n",
              "      <th>35064</th>\n",
              "      <td>31485971703</td>\n",
              "      <td>2021-10-06</td>\n",
              "      <td>Прием повторный</td>\n",
              "      <td>1380</td>\n",
              "      <td>1</td>\n",
              "      <td>125094</td>\n",
              "      <td>2</td>\n",
              "      <td>44</td>\n",
              "      <td>1380.0</td>\n",
              "      <td>2021</td>\n",
              "      <td>2021-01-29</td>\n",
              "      <td>250</td>\n",
              "      <td>125094</td>\n",
              "      <td>5.0</td>\n",
              "      <td>125094_5</td>\n",
              "    </tr>\n",
              "    <tr>\n",
              "      <th>35065</th>\n",
              "      <td>31485971803</td>\n",
              "      <td>2021-10-11</td>\n",
              "      <td>Взятие материала для цитологического исследования</td>\n",
              "      <td>300</td>\n",
              "      <td>1</td>\n",
              "      <td>125094</td>\n",
              "      <td>2</td>\n",
              "      <td>44</td>\n",
              "      <td>300.0</td>\n",
              "      <td>2021</td>\n",
              "      <td>2021-10-06</td>\n",
              "      <td>5</td>\n",
              "      <td>125094</td>\n",
              "      <td>5.0</td>\n",
              "      <td>125094_5</td>\n",
              "    </tr>\n",
              "    <tr>\n",
              "      <th>35066</th>\n",
              "      <td>31485971903</td>\n",
              "      <td>2021-10-11</td>\n",
              "      <td>Инфильтрационная анестезия (малых объемов)</td>\n",
              "      <td>1070</td>\n",
              "      <td>1</td>\n",
              "      <td>125094</td>\n",
              "      <td>2</td>\n",
              "      <td>44</td>\n",
              "      <td>1070.0</td>\n",
              "      <td>2021</td>\n",
              "      <td>2021-10-11</td>\n",
              "      <td>0</td>\n",
              "      <td>125094</td>\n",
              "      <td>5.0</td>\n",
              "      <td>125094_5</td>\n",
              "    </tr>\n",
              "    <tr>\n",
              "      <th>35067</th>\n",
              "      <td>31485972003</td>\n",
              "      <td>2021-10-11</td>\n",
              "      <td>Гистологическое исследование биоптата органов ...</td>\n",
              "      <td>3030</td>\n",
              "      <td>1</td>\n",
              "      <td>125094</td>\n",
              "      <td>2</td>\n",
              "      <td>44</td>\n",
              "      <td>3030.0</td>\n",
              "      <td>2021</td>\n",
              "      <td>2021-10-11</td>\n",
              "      <td>0</td>\n",
              "      <td>125094</td>\n",
              "      <td>5.0</td>\n",
              "      <td>125094_5</td>\n",
              "    </tr>\n",
              "    <tr>\n",
              "      <th>35068</th>\n",
              "      <td>31485972103</td>\n",
              "      <td>2021-10-11</td>\n",
              "      <td>Прием повторный</td>\n",
              "      <td>1380</td>\n",
              "      <td>1</td>\n",
              "      <td>125094</td>\n",
              "      <td>2</td>\n",
              "      <td>44</td>\n",
              "      <td>1380.0</td>\n",
              "      <td>2021</td>\n",
              "      <td>2021-10-11</td>\n",
              "      <td>0</td>\n",
              "      <td>125094</td>\n",
              "      <td>5.0</td>\n",
              "      <td>125094_5</td>\n",
              "    </tr>\n",
              "    <tr>\n",
              "      <th>35069</th>\n",
              "      <td>31485972203</td>\n",
              "      <td>2021-10-11</td>\n",
              "      <td>Пункция молочной железы, опухолей кожи, лимфоу...</td>\n",
              "      <td>1460</td>\n",
              "      <td>1</td>\n",
              "      <td>125094</td>\n",
              "      <td>2</td>\n",
              "      <td>44</td>\n",
              "      <td>1460.0</td>\n",
              "      <td>2021</td>\n",
              "      <td>2021-10-11</td>\n",
              "      <td>0</td>\n",
              "      <td>125094</td>\n",
              "      <td>5.0</td>\n",
              "      <td>125094_5</td>\n",
              "    </tr>\n",
              "    <tr>\n",
              "      <th>35289</th>\n",
              "      <td>31485994303</td>\n",
              "      <td>2021-10-11</td>\n",
              "      <td>Обзорная рентгенография молочных желез в прямо...</td>\n",
              "      <td>3640</td>\n",
              "      <td>1</td>\n",
              "      <td>125094</td>\n",
              "      <td>2</td>\n",
              "      <td>44</td>\n",
              "      <td>3640.0</td>\n",
              "      <td>2021</td>\n",
              "      <td>2021-10-11</td>\n",
              "      <td>0</td>\n",
              "      <td>125094</td>\n",
              "      <td>5.0</td>\n",
              "      <td>125094_5</td>\n",
              "    </tr>\n",
              "    <tr>\n",
              "      <th>35290</th>\n",
              "      <td>31485994403</td>\n",
              "      <td>2021-10-11</td>\n",
              "      <td>УЗИ - контроль при пункции</td>\n",
              "      <td>930</td>\n",
              "      <td>1</td>\n",
              "      <td>125094</td>\n",
              "      <td>2</td>\n",
              "      <td>44</td>\n",
              "      <td>930.0</td>\n",
              "      <td>2021</td>\n",
              "      <td>2021-10-11</td>\n",
              "      <td>0</td>\n",
              "      <td>125094</td>\n",
              "      <td>5.0</td>\n",
              "      <td>125094_5</td>\n",
              "    </tr>\n",
              "    <tr>\n",
              "      <th>35291</th>\n",
              "      <td>31485994503</td>\n",
              "      <td>2021-10-11</td>\n",
              "      <td>Ультразвуковое исследование молочных желез</td>\n",
              "      <td>2090</td>\n",
              "      <td>1</td>\n",
              "      <td>125094</td>\n",
              "      <td>2</td>\n",
              "      <td>44</td>\n",
              "      <td>2090.0</td>\n",
              "      <td>2021</td>\n",
              "      <td>2021-10-11</td>\n",
              "      <td>0</td>\n",
              "      <td>125094</td>\n",
              "      <td>5.0</td>\n",
              "      <td>125094_5</td>\n",
              "    </tr>\n",
              "    <tr>\n",
              "      <th>39065</th>\n",
              "      <td>31680879703</td>\n",
              "      <td>2021-11-12</td>\n",
              "      <td>Прием хирурга, повторный</td>\n",
              "      <td>1380</td>\n",
              "      <td>1</td>\n",
              "      <td>125094</td>\n",
              "      <td>2</td>\n",
              "      <td>44</td>\n",
              "      <td>1380.0</td>\n",
              "      <td>2021</td>\n",
              "      <td>2021-10-11</td>\n",
              "      <td>32</td>\n",
              "      <td>125094</td>\n",
              "      <td>6.0</td>\n",
              "      <td>125094_6</td>\n",
              "    </tr>\n",
              "    <tr>\n",
              "      <th>63415</th>\n",
              "      <td>32511101303</td>\n",
              "      <td>2022-04-06</td>\n",
              "      <td>Прием хирурга, повторный</td>\n",
              "      <td>1380</td>\n",
              "      <td>1</td>\n",
              "      <td>125094</td>\n",
              "      <td>2</td>\n",
              "      <td>44</td>\n",
              "      <td>1380.0</td>\n",
              "      <td>2022</td>\n",
              "      <td>2021-11-12</td>\n",
              "      <td>145</td>\n",
              "      <td>125094</td>\n",
              "      <td>7.0</td>\n",
              "      <td>125094_7</td>\n",
              "    </tr>\n",
              "    <tr>\n",
              "      <th>63416</th>\n",
              "      <td>32511101403</td>\n",
              "      <td>2022-04-06</td>\n",
              "      <td>Взятие материала для цитологического исследования</td>\n",
              "      <td>600</td>\n",
              "      <td>2</td>\n",
              "      <td>125094</td>\n",
              "      <td>2</td>\n",
              "      <td>44</td>\n",
              "      <td>300.0</td>\n",
              "      <td>2022</td>\n",
              "      <td>2022-04-06</td>\n",
              "      <td>0</td>\n",
              "      <td>125094</td>\n",
              "      <td>7.0</td>\n",
              "      <td>125094_7</td>\n",
              "    </tr>\n",
              "    <tr>\n",
              "      <th>63417</th>\n",
              "      <td>32511101503</td>\n",
              "      <td>2022-04-06</td>\n",
              "      <td>Исследование отделяемого молочной железы</td>\n",
              "      <td>930</td>\n",
              "      <td>1</td>\n",
              "      <td>125094</td>\n",
              "      <td>2</td>\n",
              "      <td>44</td>\n",
              "      <td>930.0</td>\n",
              "      <td>2022</td>\n",
              "      <td>2022-04-06</td>\n",
              "      <td>0</td>\n",
              "      <td>125094</td>\n",
              "      <td>7.0</td>\n",
              "      <td>125094_7</td>\n",
              "    </tr>\n",
              "    <tr>\n",
              "      <th>63418</th>\n",
              "      <td>32511101603</td>\n",
              "      <td>2022-04-13</td>\n",
              "      <td>Прием хирурга, повторный</td>\n",
              "      <td>1380</td>\n",
              "      <td>1</td>\n",
              "      <td>125094</td>\n",
              "      <td>2</td>\n",
              "      <td>44</td>\n",
              "      <td>1380.0</td>\n",
              "      <td>2022</td>\n",
              "      <td>2022-04-06</td>\n",
              "      <td>7</td>\n",
              "      <td>125094</td>\n",
              "      <td>7.0</td>\n",
              "      <td>125094_7</td>\n",
              "    </tr>\n",
              "    <tr>\n",
              "      <th>63419</th>\n",
              "      <td>32511101703</td>\n",
              "      <td>2022-04-13</td>\n",
              "      <td>Ультразвуковое исследование молочных желез</td>\n",
              "      <td>2090</td>\n",
              "      <td>1</td>\n",
              "      <td>125094</td>\n",
              "      <td>2</td>\n",
              "      <td>44</td>\n",
              "      <td>2090.0</td>\n",
              "      <td>2022</td>\n",
              "      <td>2022-04-13</td>\n",
              "      <td>0</td>\n",
              "      <td>125404</td>\n",
              "      <td>7.0</td>\n",
              "      <td>125094_7</td>\n",
              "    </tr>\n",
              "    <tr>\n",
              "      <th>25023</th>\n",
              "      <td>31249457803</td>\n",
              "      <td>2021-08-04</td>\n",
              "      <td>Прием первичный</td>\n",
              "      <td>1470</td>\n",
              "      <td>1</td>\n",
              "      <td>125404</td>\n",
              "      <td>1</td>\n",
              "      <td>26</td>\n",
              "      <td>1470.0</td>\n",
              "      <td>2021</td>\n",
              "      <td>NaT</td>\n",
              "      <td>0</td>\n",
              "      <td>139315</td>\n",
              "      <td>8.0</td>\n",
              "      <td>125404_8</td>\n",
              "    </tr>\n",
              "    <tr>\n",
              "      <th>41403</th>\n",
              "      <td>31813998503</td>\n",
              "      <td>2021-12-28</td>\n",
              "      <td>Прием офтальмолога,  первичный</td>\n",
              "      <td>1540</td>\n",
              "      <td>1</td>\n",
              "      <td>139315</td>\n",
              "      <td>1</td>\n",
              "      <td>25</td>\n",
              "      <td>1540.0</td>\n",
              "      <td>2021</td>\n",
              "      <td>NaT</td>\n",
              "      <td>0</td>\n",
              "      <td>139315</td>\n",
              "      <td>9.0</td>\n",
              "      <td>139315_9</td>\n",
              "    </tr>\n",
              "    <tr>\n",
              "      <th>41404</th>\n",
              "      <td>31813998603</td>\n",
              "      <td>2021-12-28</td>\n",
              "      <td>Рефрактометрия</td>\n",
              "      <td>750</td>\n",
              "      <td>1</td>\n",
              "      <td>139315</td>\n",
              "      <td>1</td>\n",
              "      <td>25</td>\n",
              "      <td>750.0</td>\n",
              "      <td>2021</td>\n",
              "      <td>2021-12-28</td>\n",
              "      <td>0</td>\n",
              "      <td>139315</td>\n",
              "      <td>9.0</td>\n",
              "      <td>139315_9</td>\n",
              "    </tr>\n",
              "    <tr>\n",
              "      <th>41405</th>\n",
              "      <td>31813998703</td>\n",
              "      <td>2021-12-28</td>\n",
              "      <td>Исследование глазного дна щелевой лампой</td>\n",
              "      <td>1010</td>\n",
              "      <td>1</td>\n",
              "      <td>139315</td>\n",
              "      <td>1</td>\n",
              "      <td>25</td>\n",
              "      <td>1010.0</td>\n",
              "      <td>2021</td>\n",
              "      <td>2021-12-28</td>\n",
              "      <td>0</td>\n",
              "      <td>139539</td>\n",
              "      <td>9.0</td>\n",
              "      <td>139315_9</td>\n",
              "    </tr>\n",
              "  </tbody>\n",
              "</table>\n",
              "</div>\n",
              "      <button class=\"colab-df-convert\" onclick=\"convertToInteractive('df-2ba874ce-3617-4fee-81ea-edbc7def1c38')\"\n",
              "              title=\"Convert this dataframe to an interactive table.\"\n",
              "              style=\"display:none;\">\n",
              "        \n",
              "  <svg xmlns=\"http://www.w3.org/2000/svg\" height=\"24px\"viewBox=\"0 0 24 24\"\n",
              "       width=\"24px\">\n",
              "    <path d=\"M0 0h24v24H0V0z\" fill=\"none\"/>\n",
              "    <path d=\"M18.56 5.44l.94 2.06.94-2.06 2.06-.94-2.06-.94-.94-2.06-.94 2.06-2.06.94zm-11 1L8.5 8.5l.94-2.06 2.06-.94-2.06-.94L8.5 2.5l-.94 2.06-2.06.94zm10 10l.94 2.06.94-2.06 2.06-.94-2.06-.94-.94-2.06-.94 2.06-2.06.94z\"/><path d=\"M17.41 7.96l-1.37-1.37c-.4-.4-.92-.59-1.43-.59-.52 0-1.04.2-1.43.59L10.3 9.45l-7.72 7.72c-.78.78-.78 2.05 0 2.83L4 21.41c.39.39.9.59 1.41.59.51 0 1.02-.2 1.41-.59l7.78-7.78 2.81-2.81c.8-.78.8-2.07 0-2.86zM5.41 20L4 18.59l7.72-7.72 1.47 1.35L5.41 20z\"/>\n",
              "  </svg>\n",
              "      </button>\n",
              "      \n",
              "  <style>\n",
              "    .colab-df-container {\n",
              "      display:flex;\n",
              "      flex-wrap:wrap;\n",
              "      gap: 12px;\n",
              "    }\n",
              "\n",
              "    .colab-df-convert {\n",
              "      background-color: #E8F0FE;\n",
              "      border: none;\n",
              "      border-radius: 50%;\n",
              "      cursor: pointer;\n",
              "      display: none;\n",
              "      fill: #1967D2;\n",
              "      height: 32px;\n",
              "      padding: 0 0 0 0;\n",
              "      width: 32px;\n",
              "    }\n",
              "\n",
              "    .colab-df-convert:hover {\n",
              "      background-color: #E2EBFA;\n",
              "      box-shadow: 0px 1px 2px rgba(60, 64, 67, 0.3), 0px 1px 3px 1px rgba(60, 64, 67, 0.15);\n",
              "      fill: #174EA6;\n",
              "    }\n",
              "\n",
              "    [theme=dark] .colab-df-convert {\n",
              "      background-color: #3B4455;\n",
              "      fill: #D2E3FC;\n",
              "    }\n",
              "\n",
              "    [theme=dark] .colab-df-convert:hover {\n",
              "      background-color: #434B5C;\n",
              "      box-shadow: 0px 1px 3px 1px rgba(0, 0, 0, 0.15);\n",
              "      filter: drop-shadow(0px 1px 2px rgba(0, 0, 0, 0.3));\n",
              "      fill: #FFFFFF;\n",
              "    }\n",
              "  </style>\n",
              "\n",
              "      <script>\n",
              "        const buttonEl =\n",
              "          document.querySelector('#df-2ba874ce-3617-4fee-81ea-edbc7def1c38 button.colab-df-convert');\n",
              "        buttonEl.style.display =\n",
              "          google.colab.kernel.accessAllowed ? 'block' : 'none';\n",
              "\n",
              "        async function convertToInteractive(key) {\n",
              "          const element = document.querySelector('#df-2ba874ce-3617-4fee-81ea-edbc7def1c38');\n",
              "          const dataTable =\n",
              "            await google.colab.kernel.invokeFunction('convertToInteractive',\n",
              "                                                     [key], {});\n",
              "          if (!dataTable) return;\n",
              "\n",
              "          const docLinkHtml = 'Like what you see? Visit the ' +\n",
              "            '<a target=\"_blank\" href=https://colab.research.google.com/notebooks/data_table.ipynb>data table notebook</a>'\n",
              "            + ' to learn more about interactive tables.';\n",
              "          element.innerHTML = '';\n",
              "          dataTable['output_type'] = 'display_data';\n",
              "          await google.colab.output.renderOutput(dataTable, element);\n",
              "          const docLink = document.createElement('div');\n",
              "          docLink.innerHTML = docLinkHtml;\n",
              "          element.appendChild(docLink);\n",
              "        }\n",
              "      </script>\n",
              "    </div>\n",
              "  </div>\n",
              "  "
            ]
          },
          "metadata": {},
          "execution_count": 36
        }
      ],
      "source": [
        "df.head(50)"
      ]
    },
    {
      "cell_type": "markdown",
      "id": "50036045",
      "metadata": {
        "id": "50036045"
      },
      "source": [
        "**Вывод:** Получили первое представление о данных, с которыми предстоит работать, проверили датафрейм на корректность заполнения, поправили формат в некоторых столбцах, дополнили необходимыми для расчета данными. \n",
        "\n",
        "Данные готовы к исследованию. "
      ]
    },
    {
      "cell_type": "markdown",
      "id": "2efcdfd6",
      "metadata": {
        "id": "2efcdfd6"
      },
      "source": [
        "## Исследовательский анализ данных"
      ]
    },
    {
      "cell_type": "markdown",
      "id": "a0228640",
      "metadata": {
        "id": "a0228640"
      },
      "source": [
        "### Изменение стоимости лечения"
      ]
    },
    {
      "cell_type": "markdown",
      "id": "47cc500a",
      "metadata": {
        "id": "47cc500a"
      },
      "source": [
        "Прежде чем приступать к анализу причин изменения стоимости лечения в клинике, необходимо понять, действительно ли изменилась стоимость лечения и на какую величину. \n",
        "Изучим распределение стоимости лечения."
      ]
    },
    {
      "cell_type": "code",
      "execution_count": 37,
      "id": "ba88f5c1",
      "metadata": {
        "colab": {
          "base_uri": "https://localhost:8080/",
          "height": 206
        },
        "id": "ba88f5c1",
        "outputId": "4863c76d-6ceb-4fd0-a5a5-9a0c1566e0de"
      },
      "outputs": [
        {
          "output_type": "execute_result",
          "data": {
            "text/plain": [
              "        case_id  service_amount\n",
              "0  1036212_7576            4650\n",
              "1  1048342_7577            3750\n",
              "2  1048690_7578            5490\n",
              "3  1048690_7579            6132\n",
              "4  1048721_7580            3120"
            ],
            "text/html": [
              "\n",
              "  <div id=\"df-5174fa98-1996-436c-925f-63cd00d64212\">\n",
              "    <div class=\"colab-df-container\">\n",
              "      <div>\n",
              "<style scoped>\n",
              "    .dataframe tbody tr th:only-of-type {\n",
              "        vertical-align: middle;\n",
              "    }\n",
              "\n",
              "    .dataframe tbody tr th {\n",
              "        vertical-align: top;\n",
              "    }\n",
              "\n",
              "    .dataframe thead th {\n",
              "        text-align: right;\n",
              "    }\n",
              "</style>\n",
              "<table border=\"1\" class=\"dataframe\">\n",
              "  <thead>\n",
              "    <tr style=\"text-align: right;\">\n",
              "      <th></th>\n",
              "      <th>case_id</th>\n",
              "      <th>service_amount</th>\n",
              "    </tr>\n",
              "  </thead>\n",
              "  <tbody>\n",
              "    <tr>\n",
              "      <th>0</th>\n",
              "      <td>1036212_7576</td>\n",
              "      <td>4650</td>\n",
              "    </tr>\n",
              "    <tr>\n",
              "      <th>1</th>\n",
              "      <td>1048342_7577</td>\n",
              "      <td>3750</td>\n",
              "    </tr>\n",
              "    <tr>\n",
              "      <th>2</th>\n",
              "      <td>1048690_7578</td>\n",
              "      <td>5490</td>\n",
              "    </tr>\n",
              "    <tr>\n",
              "      <th>3</th>\n",
              "      <td>1048690_7579</td>\n",
              "      <td>6132</td>\n",
              "    </tr>\n",
              "    <tr>\n",
              "      <th>4</th>\n",
              "      <td>1048721_7580</td>\n",
              "      <td>3120</td>\n",
              "    </tr>\n",
              "  </tbody>\n",
              "</table>\n",
              "</div>\n",
              "      <button class=\"colab-df-convert\" onclick=\"convertToInteractive('df-5174fa98-1996-436c-925f-63cd00d64212')\"\n",
              "              title=\"Convert this dataframe to an interactive table.\"\n",
              "              style=\"display:none;\">\n",
              "        \n",
              "  <svg xmlns=\"http://www.w3.org/2000/svg\" height=\"24px\"viewBox=\"0 0 24 24\"\n",
              "       width=\"24px\">\n",
              "    <path d=\"M0 0h24v24H0V0z\" fill=\"none\"/>\n",
              "    <path d=\"M18.56 5.44l.94 2.06.94-2.06 2.06-.94-2.06-.94-.94-2.06-.94 2.06-2.06.94zm-11 1L8.5 8.5l.94-2.06 2.06-.94-2.06-.94L8.5 2.5l-.94 2.06-2.06.94zm10 10l.94 2.06.94-2.06 2.06-.94-2.06-.94-.94-2.06-.94 2.06-2.06.94z\"/><path d=\"M17.41 7.96l-1.37-1.37c-.4-.4-.92-.59-1.43-.59-.52 0-1.04.2-1.43.59L10.3 9.45l-7.72 7.72c-.78.78-.78 2.05 0 2.83L4 21.41c.39.39.9.59 1.41.59.51 0 1.02-.2 1.41-.59l7.78-7.78 2.81-2.81c.8-.78.8-2.07 0-2.86zM5.41 20L4 18.59l7.72-7.72 1.47 1.35L5.41 20z\"/>\n",
              "  </svg>\n",
              "      </button>\n",
              "      \n",
              "  <style>\n",
              "    .colab-df-container {\n",
              "      display:flex;\n",
              "      flex-wrap:wrap;\n",
              "      gap: 12px;\n",
              "    }\n",
              "\n",
              "    .colab-df-convert {\n",
              "      background-color: #E8F0FE;\n",
              "      border: none;\n",
              "      border-radius: 50%;\n",
              "      cursor: pointer;\n",
              "      display: none;\n",
              "      fill: #1967D2;\n",
              "      height: 32px;\n",
              "      padding: 0 0 0 0;\n",
              "      width: 32px;\n",
              "    }\n",
              "\n",
              "    .colab-df-convert:hover {\n",
              "      background-color: #E2EBFA;\n",
              "      box-shadow: 0px 1px 2px rgba(60, 64, 67, 0.3), 0px 1px 3px 1px rgba(60, 64, 67, 0.15);\n",
              "      fill: #174EA6;\n",
              "    }\n",
              "\n",
              "    [theme=dark] .colab-df-convert {\n",
              "      background-color: #3B4455;\n",
              "      fill: #D2E3FC;\n",
              "    }\n",
              "\n",
              "    [theme=dark] .colab-df-convert:hover {\n",
              "      background-color: #434B5C;\n",
              "      box-shadow: 0px 1px 3px 1px rgba(0, 0, 0, 0.15);\n",
              "      filter: drop-shadow(0px 1px 2px rgba(0, 0, 0, 0.3));\n",
              "      fill: #FFFFFF;\n",
              "    }\n",
              "  </style>\n",
              "\n",
              "      <script>\n",
              "        const buttonEl =\n",
              "          document.querySelector('#df-5174fa98-1996-436c-925f-63cd00d64212 button.colab-df-convert');\n",
              "        buttonEl.style.display =\n",
              "          google.colab.kernel.accessAllowed ? 'block' : 'none';\n",
              "\n",
              "        async function convertToInteractive(key) {\n",
              "          const element = document.querySelector('#df-5174fa98-1996-436c-925f-63cd00d64212');\n",
              "          const dataTable =\n",
              "            await google.colab.kernel.invokeFunction('convertToInteractive',\n",
              "                                                     [key], {});\n",
              "          if (!dataTable) return;\n",
              "\n",
              "          const docLinkHtml = 'Like what you see? Visit the ' +\n",
              "            '<a target=\"_blank\" href=https://colab.research.google.com/notebooks/data_table.ipynb>data table notebook</a>'\n",
              "            + ' to learn more about interactive tables.';\n",
              "          element.innerHTML = '';\n",
              "          dataTable['output_type'] = 'display_data';\n",
              "          await google.colab.output.renderOutput(dataTable, element);\n",
              "          const docLink = document.createElement('div');\n",
              "          docLink.innerHTML = docLinkHtml;\n",
              "          element.appendChild(docLink);\n",
              "        }\n",
              "      </script>\n",
              "    </div>\n",
              "  </div>\n",
              "  "
            ]
          },
          "metadata": {},
          "execution_count": 37
        }
      ],
      "source": [
        "df_cases = df.pivot_table(index='case_id', values='service_amount', aggfunc='sum').reset_index()\n",
        "df_cases.head()"
      ]
    },
    {
      "cell_type": "code",
      "execution_count": 38,
      "id": "70b1db31",
      "metadata": {
        "colab": {
          "base_uri": "https://localhost:8080/"
        },
        "id": "70b1db31",
        "outputId": "f9948a55-cfe1-4829-839e-43d3bf69a7e2"
      },
      "outputs": [
        {
          "output_type": "execute_result",
          "data": {
            "text/plain": [
              "0    1470\n",
              "dtype: int64"
            ]
          },
          "metadata": {},
          "execution_count": 38
        }
      ],
      "source": [
        "df_cases['service_amount'].mode()"
      ]
    },
    {
      "cell_type": "markdown",
      "id": "c3a1c5be",
      "metadata": {
        "id": "c3a1c5be"
      },
      "source": [
        "Самая часто встречающаяся стоимость лечения 1470 рублей."
      ]
    },
    {
      "cell_type": "code",
      "execution_count": 39,
      "id": "8990d9f3",
      "metadata": {
        "colab": {
          "base_uri": "https://localhost:8080/",
          "height": 629
        },
        "id": "8990d9f3",
        "outputId": "1559c787-9340-4faa-cc4a-aede5d408a04"
      },
      "outputs": [
        {
          "output_type": "display_data",
          "data": {
            "text/plain": [
              "<Figure size 1440x720 with 1 Axes>"
            ],
            "image/png": "[encoded data removed]"
          },
          "metadata": {
            "needs_background": "light"
          }
        }
      ],
      "source": [
        "plt.figure(figsize=(20, 10))\n",
        "sns.set_theme(style=\"whitegrid\")\n",
        "sns.boxplot(x=df_cases['service_amount'])\n",
        "plt.title('Распределение стоимости лечения', fontsize=16)\n",
        "plt.show()"
      ]
    },
    {
      "cell_type": "markdown",
      "id": "d74153d4",
      "metadata": {
        "id": "d74153d4"
      },
      "source": [
        "Такое распределение вполне объяснимо. Большинство пациентов приходят в клинику за консультацией и недорогими анализами, в то время как некоторым из них требуется дорогостоящее лечение. \n",
        "Видимо придется ввести несколько категорий цен, так как с такими выбросами сравнивать средние значения бессмысленно. "
      ]
    },
    {
      "cell_type": "markdown",
      "id": "c388e68b",
      "metadata": {
        "id": "c388e68b"
      },
      "source": [
        "Вопрос в том, как определить границу категорий стоимости лечения. Можно использовать чисто статистический подход. Всё что выше границы верхнего \"уса\" это выбросы, значит можно считать что это новая категория цены."
      ]
    },
    {
      "cell_type": "code",
      "execution_count": 40,
      "id": "1ee10398",
      "metadata": {
        "colab": {
          "base_uri": "https://localhost:8080/"
        },
        "id": "1ee10398",
        "outputId": "165c1db6-b269-4ee8-e6dd-03d7b5a0a0cb"
      },
      "outputs": [
        {
          "output_type": "execute_result",
          "data": {
            "text/plain": [
              "17370.0"
            ]
          },
          "metadata": {},
          "execution_count": 40
        }
      ],
      "source": [
        "q3, q1 = np.percentile(df_cases['service_amount'], [75 ,25])\n",
        "iqr = q3 - q1\n",
        "df['service_amount'].quantile(.75) + 1.5 * iqr"
      ]
    },
    {
      "cell_type": "markdown",
      "id": "da1b0ca4",
      "metadata": {
        "id": "da1b0ca4"
      },
      "source": [
        "Лечение стоимостью до 17 370 отнесем к категории 1"
      ]
    },
    {
      "cell_type": "code",
      "execution_count": 41,
      "id": "d46f2590",
      "metadata": {
        "colab": {
          "base_uri": "https://localhost:8080/",
          "height": 629
        },
        "id": "d46f2590",
        "outputId": "71b23e4a-1f64-424c-fe02-984ad0a4d03c"
      },
      "outputs": [
        {
          "output_type": "display_data",
          "data": {
            "text/plain": [
              "<Figure size 1440x720 with 1 Axes>"
            ],
            "image/png": "[encoded data removed]"
          },
          "metadata": {}
        }
      ],
      "source": [
        "plt.figure(figsize=(20, 10))\n",
        "sns.set_theme(style=\"whitegrid\")\n",
        "sns.boxplot(x=df_cases[df_cases['service_amount'] > 17370]['service_amount'])\n",
        "plt.title('Распределение стоимости лечения 2 категории', fontsize=16)\n",
        "plt.show()"
      ]
    },
    {
      "cell_type": "code",
      "execution_count": 42,
      "id": "679c6126",
      "metadata": {
        "colab": {
          "base_uri": "https://localhost:8080/"
        },
        "id": "679c6126",
        "outputId": "2b4478b0-2075-4700-b1b2-ce59b7d90465"
      },
      "outputs": [
        {
          "output_type": "execute_result",
          "data": {
            "text/plain": [
              "service_amount    74883.0\n",
              "Name: 0.75, dtype: float64"
            ]
          },
          "metadata": {},
          "execution_count": 42
        }
      ],
      "source": [
        "q3, q1 = np.percentile(df_cases[df_cases['service_amount'] > 17370]['service_amount'], [75 ,25])\n",
        "iqr = q3 - q1\n",
        "df_cases[df_cases['service_amount'] > 17370].quantile(.75) + 1.5 * iqr"
      ]
    },
    {
      "cell_type": "markdown",
      "id": "b42cc94f",
      "metadata": {
        "id": "b42cc94f"
      },
      "source": [
        "Лечение от 17 370 до 74 883 отнесем к категории 2"
      ]
    },
    {
      "cell_type": "code",
      "execution_count": 43,
      "id": "6576d4ed",
      "metadata": {
        "colab": {
          "base_uri": "https://localhost:8080/",
          "height": 629
        },
        "id": "6576d4ed",
        "outputId": "ee1b3426-472f-4697-a168-6f7a52d1453f"
      },
      "outputs": [
        {
          "output_type": "display_data",
          "data": {
            "text/plain": [
              "<Figure size 1440x720 with 1 Axes>"
            ],
            "image/png": "[encoded data removed]"
          },
          "metadata": {}
        }
      ],
      "source": [
        "plt.figure(figsize=(20, 10))\n",
        "sns.set_theme(style=\"whitegrid\")\n",
        "sns.boxplot(x=df_cases[df_cases['service_amount'] > 74883]['service_amount'])\n",
        "plt.title('Распределение стоимости лечения 3 категории', fontsize=16)\n",
        "plt.show()"
      ]
    },
    {
      "cell_type": "markdown",
      "id": "8f6bcc3e",
      "metadata": {
        "id": "8f6bcc3e"
      },
      "source": [
        "Лечение стомостью выше 74 883 отнесем к третьей категории. "
      ]
    },
    {
      "cell_type": "code",
      "execution_count": 44,
      "id": "f33ffced",
      "metadata": {
        "colab": {
          "base_uri": "https://localhost:8080/"
        },
        "id": "f33ffced",
        "outputId": "72b39ea3-adaf-4589-8620-e9b1d0d01aaf"
      },
      "outputs": [
        {
          "output_type": "execute_result",
          "data": {
            "text/plain": [
              "service_amount    163371.375\n",
              "Name: 0.75, dtype: float64"
            ]
          },
          "metadata": {},
          "execution_count": 44
        }
      ],
      "source": [
        "q3, q1 = np.percentile(df_cases[df_cases['service_amount'] > 74883]['service_amount'], [75 ,25])\n",
        "iqr = q3 - q1\n",
        "df_cases[df_cases['service_amount'] > 74883].quantile(.75) + 1.5 * iqr"
      ]
    },
    {
      "cell_type": "markdown",
      "id": "ad55d935",
      "metadata": {
        "id": "ad55d935"
      },
      "source": [
        "Остальные значения это выбросы. Всего 4 случая, когда стоимость лечения превышала эту отметку."
      ]
    },
    {
      "cell_type": "markdown",
      "id": "c0f52f2d",
      "metadata": {
        "id": "c0f52f2d"
      },
      "source": [
        "Изучим, как изменились категории стоимости услуг в 2022 году относительно 2021г."
      ]
    },
    {
      "cell_type": "code",
      "execution_count": 45,
      "id": "d57be0e0",
      "metadata": {
        "id": "d57be0e0"
      },
      "outputs": [],
      "source": [
        "df_cases_by_year = df.pivot_table(index=['case_id', 'year'], values='service_amount', aggfunc='sum').reset_index()"
      ]
    },
    {
      "cell_type": "markdown",
      "id": "a4a05b58",
      "metadata": {
        "id": "a4a05b58"
      },
      "source": [
        "Помним, что надо избавиться от выбросов в стоимости лечения. Ранее определили границу выбросов в 160 000 рублей."
      ]
    },
    {
      "cell_type": "code",
      "execution_count": 46,
      "id": "c3c3c7d0",
      "metadata": {
        "id": "c3c3c7d0"
      },
      "outputs": [],
      "source": [
        "df_cases_by_year = df_cases_by_year[df_cases_by_year['service_amount'] < 160000]"
      ]
    },
    {
      "cell_type": "markdown",
      "id": "412c42e5",
      "metadata": {
        "id": "412c42e5"
      },
      "source": [
        "Присвоим категории, в зависимости от стоимости лечения по ранее выбранным критериям."
      ]
    },
    {
      "cell_type": "code",
      "execution_count": 47,
      "id": "4e88085b",
      "metadata": {
        "id": "4e88085b"
      },
      "outputs": [],
      "source": [
        "df_cases_by_year.loc[df_cases_by_year['service_amount'] < 17370, 'cost_category'] = '1'\n",
        "df_cases_by_year.loc[(df_cases_by_year['service_amount'] >= 17370) & (df_cases_by_year['service_amount'] < 74883), 'cost_category'] = '2'\n",
        "df_cases_by_year.loc[df_cases_by_year['service_amount'] >= 74883, 'cost_category'] = '3'"
      ]
    },
    {
      "cell_type": "code",
      "execution_count": 48,
      "id": "8be4d122",
      "metadata": {
        "colab": {
          "base_uri": "https://localhost:8080/",
          "height": 112
        },
        "id": "8be4d122",
        "outputId": "13b1165e-fe05-4d97-e3da-a82dcf86ede0"
      },
      "outputs": [
        {
          "output_type": "execute_result",
          "data": {
            "text/plain": [
              "   year  service_amount\n",
              "0  2021    11019.286755\n",
              "1  2022    11848.774963"
            ],
            "text/html": [
              "\n",
              "  <div id=\"df-74903d3c-a0b3-43d2-b487-023ae73ee3ce\">\n",
              "    <div class=\"colab-df-container\">\n",
              "      <div>\n",
              "<style scoped>\n",
              "    .dataframe tbody tr th:only-of-type {\n",
              "        vertical-align: middle;\n",
              "    }\n",
              "\n",
              "    .dataframe tbody tr th {\n",
              "        vertical-align: top;\n",
              "    }\n",
              "\n",
              "    .dataframe thead th {\n",
              "        text-align: right;\n",
              "    }\n",
              "</style>\n",
              "<table border=\"1\" class=\"dataframe\">\n",
              "  <thead>\n",
              "    <tr style=\"text-align: right;\">\n",
              "      <th></th>\n",
              "      <th>year</th>\n",
              "      <th>service_amount</th>\n",
              "    </tr>\n",
              "  </thead>\n",
              "  <tbody>\n",
              "    <tr>\n",
              "      <th>0</th>\n",
              "      <td>2021</td>\n",
              "      <td>11019.286755</td>\n",
              "    </tr>\n",
              "    <tr>\n",
              "      <th>1</th>\n",
              "      <td>2022</td>\n",
              "      <td>11848.774963</td>\n",
              "    </tr>\n",
              "  </tbody>\n",
              "</table>\n",
              "</div>\n",
              "      <button class=\"colab-df-convert\" onclick=\"convertToInteractive('df-74903d3c-a0b3-43d2-b487-023ae73ee3ce')\"\n",
              "              title=\"Convert this dataframe to an interactive table.\"\n",
              "              style=\"display:none;\">\n",
              "        \n",
              "  <svg xmlns=\"http://www.w3.org/2000/svg\" height=\"24px\"viewBox=\"0 0 24 24\"\n",
              "       width=\"24px\">\n",
              "    <path d=\"M0 0h24v24H0V0z\" fill=\"none\"/>\n",
              "    <path d=\"M18.56 5.44l.94 2.06.94-2.06 2.06-.94-2.06-.94-.94-2.06-.94 2.06-2.06.94zm-11 1L8.5 8.5l.94-2.06 2.06-.94-2.06-.94L8.5 2.5l-.94 2.06-2.06.94zm10 10l.94 2.06.94-2.06 2.06-.94-2.06-.94-.94-2.06-.94 2.06-2.06.94z\"/><path d=\"M17.41 7.96l-1.37-1.37c-.4-.4-.92-.59-1.43-.59-.52 0-1.04.2-1.43.59L10.3 9.45l-7.72 7.72c-.78.78-.78 2.05 0 2.83L4 21.41c.39.39.9.59 1.41.59.51 0 1.02-.2 1.41-.59l7.78-7.78 2.81-2.81c.8-.78.8-2.07 0-2.86zM5.41 20L4 18.59l7.72-7.72 1.47 1.35L5.41 20z\"/>\n",
              "  </svg>\n",
              "      </button>\n",
              "      \n",
              "  <style>\n",
              "    .colab-df-container {\n",
              "      display:flex;\n",
              "      flex-wrap:wrap;\n",
              "      gap: 12px;\n",
              "    }\n",
              "\n",
              "    .colab-df-convert {\n",
              "      background-color: #E8F0FE;\n",
              "      border: none;\n",
              "      border-radius: 50%;\n",
              "      cursor: pointer;\n",
              "      display: none;\n",
              "      fill: #1967D2;\n",
              "      height: 32px;\n",
              "      padding: 0 0 0 0;\n",
              "      width: 32px;\n",
              "    }\n",
              "\n",
              "    .colab-df-convert:hover {\n",
              "      background-color: #E2EBFA;\n",
              "      box-shadow: 0px 1px 2px rgba(60, 64, 67, 0.3), 0px 1px 3px 1px rgba(60, 64, 67, 0.15);\n",
              "      fill: #174EA6;\n",
              "    }\n",
              "\n",
              "    [theme=dark] .colab-df-convert {\n",
              "      background-color: #3B4455;\n",
              "      fill: #D2E3FC;\n",
              "    }\n",
              "\n",
              "    [theme=dark] .colab-df-convert:hover {\n",
              "      background-color: #434B5C;\n",
              "      box-shadow: 0px 1px 3px 1px rgba(0, 0, 0, 0.15);\n",
              "      filter: drop-shadow(0px 1px 2px rgba(0, 0, 0, 0.3));\n",
              "      fill: #FFFFFF;\n",
              "    }\n",
              "  </style>\n",
              "\n",
              "      <script>\n",
              "        const buttonEl =\n",
              "          document.querySelector('#df-74903d3c-a0b3-43d2-b487-023ae73ee3ce button.colab-df-convert');\n",
              "        buttonEl.style.display =\n",
              "          google.colab.kernel.accessAllowed ? 'block' : 'none';\n",
              "\n",
              "        async function convertToInteractive(key) {\n",
              "          const element = document.querySelector('#df-74903d3c-a0b3-43d2-b487-023ae73ee3ce');\n",
              "          const dataTable =\n",
              "            await google.colab.kernel.invokeFunction('convertToInteractive',\n",
              "                                                     [key], {});\n",
              "          if (!dataTable) return;\n",
              "\n",
              "          const docLinkHtml = 'Like what you see? Visit the ' +\n",
              "            '<a target=\"_blank\" href=https://colab.research.google.com/notebooks/data_table.ipynb>data table notebook</a>'\n",
              "            + ' to learn more about interactive tables.';\n",
              "          element.innerHTML = '';\n",
              "          dataTable['output_type'] = 'display_data';\n",
              "          await google.colab.output.renderOutput(dataTable, element);\n",
              "          const docLink = document.createElement('div');\n",
              "          docLink.innerHTML = docLinkHtml;\n",
              "          element.appendChild(docLink);\n",
              "        }\n",
              "      </script>\n",
              "    </div>\n",
              "  </div>\n",
              "  "
            ]
          },
          "metadata": {},
          "execution_count": 48
        }
      ],
      "source": [
        "df_cases_by_year.groupby(['year']).agg({'service_amount' : 'mean'}).reset_index()"
      ]
    },
    {
      "cell_type": "markdown",
      "id": "eeee0229",
      "metadata": {
        "id": "eeee0229"
      },
      "source": [
        "Построим столбчатую диаграмму изменения стоимости лечения для каждой категории."
      ]
    },
    {
      "cell_type": "code",
      "execution_count": 49,
      "id": "41447b35",
      "metadata": {
        "id": "41447b35"
      },
      "outputs": [],
      "source": [
        "df_cases_by_year = df_cases_by_year.sort_values(by=['year', 'cost_category'])"
      ]
    },
    {
      "cell_type": "code",
      "execution_count": 50,
      "id": "6bbe4f25",
      "metadata": {
        "colab": {
          "base_uri": "https://localhost:8080/",
          "height": 629
        },
        "id": "6bbe4f25",
        "outputId": "10db9701-6b02-499d-9360-d484eabdda50"
      },
      "outputs": [
        {
          "output_type": "display_data",
          "data": {
            "text/plain": [
              "<Figure size 1440x720 with 1 Axes>"
            ],
            "image/png": "[encoded data removed]"
          },
          "metadata": {}
        }
      ],
      "source": [
        "plt.figure(figsize=(20, 10))\n",
        "sns.set_theme(style=\"whitegrid\")\n",
        "sns.barplot(x=df_cases_by_year['year'],  y=df_cases_by_year['service_amount'], hue=df_cases_by_year['cost_category'])\n",
        "plt.title('Изменение стоимости лечения в 2022г. относительно 2021г. по категориям', fontsize=16)\n",
        "plt.show()"
      ]
    },
    {
      "cell_type": "markdown",
      "id": "2a037ec9",
      "metadata": {
        "id": "2a037ec9"
      },
      "source": [
        "Видны изменения стоимости лечения по каждой из категорий, которые, впрочем, они едва заметны на графике."
      ]
    },
    {
      "cell_type": "code",
      "execution_count": 51,
      "id": "a43a31c5",
      "metadata": {
        "colab": {
          "base_uri": "https://localhost:8080/",
          "height": 143
        },
        "id": "a43a31c5",
        "outputId": "a726e747-621e-4695-99f8-c19da9f9a985"
      },
      "outputs": [
        {
          "output_type": "execute_result",
          "data": {
            "text/plain": [
              "year cost_category          2021          2022  diff, %\n",
              "0                1   5627.585023   5997.271627     6.57\n",
              "1                2  31767.182510  31997.812500     0.73\n",
              "2                3  96110.119048  99202.812500     3.22"
            ],
            "text/html": [
              "\n",
              "  <div id=\"df-8afe1e6d-7f5d-4c18-9ffe-6ac74627a7fb\">\n",
              "    <div class=\"colab-df-container\">\n",
              "      <div>\n",
              "<style scoped>\n",
              "    .dataframe tbody tr th:only-of-type {\n",
              "        vertical-align: middle;\n",
              "    }\n",
              "\n",
              "    .dataframe tbody tr th {\n",
              "        vertical-align: top;\n",
              "    }\n",
              "\n",
              "    .dataframe thead th {\n",
              "        text-align: right;\n",
              "    }\n",
              "</style>\n",
              "<table border=\"1\" class=\"dataframe\">\n",
              "  <thead>\n",
              "    <tr style=\"text-align: right;\">\n",
              "      <th>year</th>\n",
              "      <th>cost_category</th>\n",
              "      <th>2021</th>\n",
              "      <th>2022</th>\n",
              "      <th>diff, %</th>\n",
              "    </tr>\n",
              "  </thead>\n",
              "  <tbody>\n",
              "    <tr>\n",
              "      <th>0</th>\n",
              "      <td>1</td>\n",
              "      <td>5627.585023</td>\n",
              "      <td>5997.271627</td>\n",
              "      <td>6.57</td>\n",
              "    </tr>\n",
              "    <tr>\n",
              "      <th>1</th>\n",
              "      <td>2</td>\n",
              "      <td>31767.182510</td>\n",
              "      <td>31997.812500</td>\n",
              "      <td>0.73</td>\n",
              "    </tr>\n",
              "    <tr>\n",
              "      <th>2</th>\n",
              "      <td>3</td>\n",
              "      <td>96110.119048</td>\n",
              "      <td>99202.812500</td>\n",
              "      <td>3.22</td>\n",
              "    </tr>\n",
              "  </tbody>\n",
              "</table>\n",
              "</div>\n",
              "      <button class=\"colab-df-convert\" onclick=\"convertToInteractive('df-8afe1e6d-7f5d-4c18-9ffe-6ac74627a7fb')\"\n",
              "              title=\"Convert this dataframe to an interactive table.\"\n",
              "              style=\"display:none;\">\n",
              "        \n",
              "  <svg xmlns=\"http://www.w3.org/2000/svg\" height=\"24px\"viewBox=\"0 0 24 24\"\n",
              "       width=\"24px\">\n",
              "    <path d=\"M0 0h24v24H0V0z\" fill=\"none\"/>\n",
              "    <path d=\"M18.56 5.44l.94 2.06.94-2.06 2.06-.94-2.06-.94-.94-2.06-.94 2.06-2.06.94zm-11 1L8.5 8.5l.94-2.06 2.06-.94-2.06-.94L8.5 2.5l-.94 2.06-2.06.94zm10 10l.94 2.06.94-2.06 2.06-.94-2.06-.94-.94-2.06-.94 2.06-2.06.94z\"/><path d=\"M17.41 7.96l-1.37-1.37c-.4-.4-.92-.59-1.43-.59-.52 0-1.04.2-1.43.59L10.3 9.45l-7.72 7.72c-.78.78-.78 2.05 0 2.83L4 21.41c.39.39.9.59 1.41.59.51 0 1.02-.2 1.41-.59l7.78-7.78 2.81-2.81c.8-.78.8-2.07 0-2.86zM5.41 20L4 18.59l7.72-7.72 1.47 1.35L5.41 20z\"/>\n",
              "  </svg>\n",
              "      </button>\n",
              "      \n",
              "  <style>\n",
              "    .colab-df-container {\n",
              "      display:flex;\n",
              "      flex-wrap:wrap;\n",
              "      gap: 12px;\n",
              "    }\n",
              "\n",
              "    .colab-df-convert {\n",
              "      background-color: #E8F0FE;\n",
              "      border: none;\n",
              "      border-radius: 50%;\n",
              "      cursor: pointer;\n",
              "      display: none;\n",
              "      fill: #1967D2;\n",
              "      height: 32px;\n",
              "      padding: 0 0 0 0;\n",
              "      width: 32px;\n",
              "    }\n",
              "\n",
              "    .colab-df-convert:hover {\n",
              "      background-color: #E2EBFA;\n",
              "      box-shadow: 0px 1px 2px rgba(60, 64, 67, 0.3), 0px 1px 3px 1px rgba(60, 64, 67, 0.15);\n",
              "      fill: #174EA6;\n",
              "    }\n",
              "\n",
              "    [theme=dark] .colab-df-convert {\n",
              "      background-color: #3B4455;\n",
              "      fill: #D2E3FC;\n",
              "    }\n",
              "\n",
              "    [theme=dark] .colab-df-convert:hover {\n",
              "      background-color: #434B5C;\n",
              "      box-shadow: 0px 1px 3px 1px rgba(0, 0, 0, 0.15);\n",
              "      filter: drop-shadow(0px 1px 2px rgba(0, 0, 0, 0.3));\n",
              "      fill: #FFFFFF;\n",
              "    }\n",
              "  </style>\n",
              "\n",
              "      <script>\n",
              "        const buttonEl =\n",
              "          document.querySelector('#df-8afe1e6d-7f5d-4c18-9ffe-6ac74627a7fb button.colab-df-convert');\n",
              "        buttonEl.style.display =\n",
              "          google.colab.kernel.accessAllowed ? 'block' : 'none';\n",
              "\n",
              "        async function convertToInteractive(key) {\n",
              "          const element = document.querySelector('#df-8afe1e6d-7f5d-4c18-9ffe-6ac74627a7fb');\n",
              "          const dataTable =\n",
              "            await google.colab.kernel.invokeFunction('convertToInteractive',\n",
              "                                                     [key], {});\n",
              "          if (!dataTable) return;\n",
              "\n",
              "          const docLinkHtml = 'Like what you see? Visit the ' +\n",
              "            '<a target=\"_blank\" href=https://colab.research.google.com/notebooks/data_table.ipynb>data table notebook</a>'\n",
              "            + ' to learn more about interactive tables.';\n",
              "          element.innerHTML = '';\n",
              "          dataTable['output_type'] = 'display_data';\n",
              "          await google.colab.output.renderOutput(dataTable, element);\n",
              "          const docLink = document.createElement('div');\n",
              "          docLink.innerHTML = docLinkHtml;\n",
              "          element.appendChild(docLink);\n",
              "        }\n",
              "      </script>\n",
              "    </div>\n",
              "  </div>\n",
              "  "
            ]
          },
          "metadata": {},
          "execution_count": 51
        }
      ],
      "source": [
        "df_cost_diff = df_cases_by_year.pivot_table(index='cost_category', values='service_amount', columns='year', aggfunc='mean').reset_index()\n",
        "df_cost_diff['diff, %'] = round(df_cost_diff['2022'] / df_cost_diff['2021'] * 100 - 100, 2)\n",
        "df_cost_diff"
      ]
    },
    {
      "cell_type": "markdown",
      "id": "59b843b9",
      "metadata": {
        "id": "59b843b9"
      },
      "source": [
        "Видим, что средняя стоимость обслуживания изменилась примерно на 6,57% по категории 1, по категории 2 выросла на 0,73%, а по категории 3 стоимость обслуживания выросла в среднем на 3,22%"
      ]
    },
    {
      "cell_type": "markdown",
      "id": "ab5431aa",
      "metadata": {
        "id": "ab5431aa"
      },
      "source": [
        "Проверим, является ли разница статистически значимой для каждой из категорий. Так как распределение не является нормальным, при этом имеем выбросы, проведем тест Манна-Уитни, так как у него нет требований к нормальности распределения и он не сильно чувствителен к выбросам."
      ]
    },
    {
      "cell_type": "code",
      "execution_count": 52,
      "id": "c13d8b41",
      "metadata": {
        "id": "c13d8b41"
      },
      "outputs": [],
      "source": [
        "cost_21 = np.array(df_cases_by_year[df_cases_by_year['year'] == '2021']['service_amount'])\n",
        "cost_22 = np.array(df_cases_by_year[df_cases_by_year['year'] == '2022']['service_amount'])"
      ]
    },
    {
      "cell_type": "code",
      "execution_count": 53,
      "id": "21c401a2",
      "metadata": {
        "colab": {
          "base_uri": "https://localhost:8080/"
        },
        "id": "21c401a2",
        "outputId": "b23219fc-04e1-4863-a59c-02a75144a4f2"
      },
      "outputs": [
        {
          "output_type": "stream",
          "name": "stdout",
          "text": [
            "Отвергаем нулевую гипотезу. Разница статистически значима. Значение p-value 1.1220959949498114e-07\n"
          ]
        }
      ],
      "source": [
        "alpha = .01\n",
        "result = mannwhitneyu(cost_21, cost_22)[1]\n",
        "if result < alpha:\n",
        "    print(f'Отвергаем нулевую гипотезу. Разница статистически значима. Значение p-value {result}')\n",
        "else:\n",
        "    print(f'Не получилось отвергнуть нулевую гипотезу, вывод о различии сделать нельзя. Значение p-value {result}')"
      ]
    },
    {
      "cell_type": "markdown",
      "id": "264a0181",
      "metadata": {
        "id": "264a0181"
      },
      "source": [
        "Стоимость обслуживания в 2022 г. выросла статистически значимо."
      ]
    },
    {
      "cell_type": "markdown",
      "id": "831fbb04",
      "metadata": {
        "id": "831fbb04"
      },
      "source": [
        "### Изменение цен на услуги"
      ]
    },
    {
      "cell_type": "markdown",
      "id": "e3e467e1",
      "metadata": {
        "id": "e3e467e1"
      },
      "source": [
        "Чтобы понять, когда было изменение цен, построим график для самых востребованных услуг.\n",
        "\n",
        "Для начала определим самые востребованные услуги."
      ]
    },
    {
      "cell_type": "code",
      "execution_count": 54,
      "id": "06001312",
      "metadata": {
        "colab": {
          "base_uri": "https://localhost:8080/",
          "height": 363
        },
        "id": "06001312",
        "outputId": "852c7df9-9e34-4eb6-fe68-cd6e52d37ab3"
      },
      "outputs": [
        {
          "output_type": "execute_result",
          "data": {
            "text/plain": [
              "                                      service_name  amount\n",
              "574                                Прием первичный    6058\n",
              "575                                Прием повторный    4477\n",
              "177            Взятие крови из периферической вены    4215\n",
              "439  Общий анализ крови (лейкоцитарная форм,, СОЭ)    3190\n",
              "398                       Магнитотерапия (1 сеанс)    2838\n",
              "178                                   Взятие мазка    1567\n",
              "440                              Общий анализ мочи    1550\n",
              "355                        Лазеротерапия (1 сеанс)    1313\n",
              "272      Интерференционные токи (1 сеанс) (4 поля)    1195\n",
              "215                         Гинекологический мазок    1194"
            ],
            "text/html": [
              "\n",
              "  <div id=\"df-bab99b7d-bfa5-44ca-bb00-7c28e1726f17\">\n",
              "    <div class=\"colab-df-container\">\n",
              "      <div>\n",
              "<style scoped>\n",
              "    .dataframe tbody tr th:only-of-type {\n",
              "        vertical-align: middle;\n",
              "    }\n",
              "\n",
              "    .dataframe tbody tr th {\n",
              "        vertical-align: top;\n",
              "    }\n",
              "\n",
              "    .dataframe thead th {\n",
              "        text-align: right;\n",
              "    }\n",
              "</style>\n",
              "<table border=\"1\" class=\"dataframe\">\n",
              "  <thead>\n",
              "    <tr style=\"text-align: right;\">\n",
              "      <th></th>\n",
              "      <th>service_name</th>\n",
              "      <th>amount</th>\n",
              "    </tr>\n",
              "  </thead>\n",
              "  <tbody>\n",
              "    <tr>\n",
              "      <th>574</th>\n",
              "      <td>Прием первичный</td>\n",
              "      <td>6058</td>\n",
              "    </tr>\n",
              "    <tr>\n",
              "      <th>575</th>\n",
              "      <td>Прием повторный</td>\n",
              "      <td>4477</td>\n",
              "    </tr>\n",
              "    <tr>\n",
              "      <th>177</th>\n",
              "      <td>Взятие крови из периферической вены</td>\n",
              "      <td>4215</td>\n",
              "    </tr>\n",
              "    <tr>\n",
              "      <th>439</th>\n",
              "      <td>Общий анализ крови (лейкоцитарная форм,, СОЭ)</td>\n",
              "      <td>3190</td>\n",
              "    </tr>\n",
              "    <tr>\n",
              "      <th>398</th>\n",
              "      <td>Магнитотерапия (1 сеанс)</td>\n",
              "      <td>2838</td>\n",
              "    </tr>\n",
              "    <tr>\n",
              "      <th>178</th>\n",
              "      <td>Взятие мазка</td>\n",
              "      <td>1567</td>\n",
              "    </tr>\n",
              "    <tr>\n",
              "      <th>440</th>\n",
              "      <td>Общий анализ мочи</td>\n",
              "      <td>1550</td>\n",
              "    </tr>\n",
              "    <tr>\n",
              "      <th>355</th>\n",
              "      <td>Лазеротерапия (1 сеанс)</td>\n",
              "      <td>1313</td>\n",
              "    </tr>\n",
              "    <tr>\n",
              "      <th>272</th>\n",
              "      <td>Интерференционные токи (1 сеанс) (4 поля)</td>\n",
              "      <td>1195</td>\n",
              "    </tr>\n",
              "    <tr>\n",
              "      <th>215</th>\n",
              "      <td>Гинекологический мазок</td>\n",
              "      <td>1194</td>\n",
              "    </tr>\n",
              "  </tbody>\n",
              "</table>\n",
              "</div>\n",
              "      <button class=\"colab-df-convert\" onclick=\"convertToInteractive('df-bab99b7d-bfa5-44ca-bb00-7c28e1726f17')\"\n",
              "              title=\"Convert this dataframe to an interactive table.\"\n",
              "              style=\"display:none;\">\n",
              "        \n",
              "  <svg xmlns=\"http://www.w3.org/2000/svg\" height=\"24px\"viewBox=\"0 0 24 24\"\n",
              "       width=\"24px\">\n",
              "    <path d=\"M0 0h24v24H0V0z\" fill=\"none\"/>\n",
              "    <path d=\"M18.56 5.44l.94 2.06.94-2.06 2.06-.94-2.06-.94-.94-2.06-.94 2.06-2.06.94zm-11 1L8.5 8.5l.94-2.06 2.06-.94-2.06-.94L8.5 2.5l-.94 2.06-2.06.94zm10 10l.94 2.06.94-2.06 2.06-.94-2.06-.94-.94-2.06-.94 2.06-2.06.94z\"/><path d=\"M17.41 7.96l-1.37-1.37c-.4-.4-.92-.59-1.43-.59-.52 0-1.04.2-1.43.59L10.3 9.45l-7.72 7.72c-.78.78-.78 2.05 0 2.83L4 21.41c.39.39.9.59 1.41.59.51 0 1.02-.2 1.41-.59l7.78-7.78 2.81-2.81c.8-.78.8-2.07 0-2.86zM5.41 20L4 18.59l7.72-7.72 1.47 1.35L5.41 20z\"/>\n",
              "  </svg>\n",
              "      </button>\n",
              "      \n",
              "  <style>\n",
              "    .colab-df-container {\n",
              "      display:flex;\n",
              "      flex-wrap:wrap;\n",
              "      gap: 12px;\n",
              "    }\n",
              "\n",
              "    .colab-df-convert {\n",
              "      background-color: #E8F0FE;\n",
              "      border: none;\n",
              "      border-radius: 50%;\n",
              "      cursor: pointer;\n",
              "      display: none;\n",
              "      fill: #1967D2;\n",
              "      height: 32px;\n",
              "      padding: 0 0 0 0;\n",
              "      width: 32px;\n",
              "    }\n",
              "\n",
              "    .colab-df-convert:hover {\n",
              "      background-color: #E2EBFA;\n",
              "      box-shadow: 0px 1px 2px rgba(60, 64, 67, 0.3), 0px 1px 3px 1px rgba(60, 64, 67, 0.15);\n",
              "      fill: #174EA6;\n",
              "    }\n",
              "\n",
              "    [theme=dark] .colab-df-convert {\n",
              "      background-color: #3B4455;\n",
              "      fill: #D2E3FC;\n",
              "    }\n",
              "\n",
              "    [theme=dark] .colab-df-convert:hover {\n",
              "      background-color: #434B5C;\n",
              "      box-shadow: 0px 1px 3px 1px rgba(0, 0, 0, 0.15);\n",
              "      filter: drop-shadow(0px 1px 2px rgba(0, 0, 0, 0.3));\n",
              "      fill: #FFFFFF;\n",
              "    }\n",
              "  </style>\n",
              "\n",
              "      <script>\n",
              "        const buttonEl =\n",
              "          document.querySelector('#df-bab99b7d-bfa5-44ca-bb00-7c28e1726f17 button.colab-df-convert');\n",
              "        buttonEl.style.display =\n",
              "          google.colab.kernel.accessAllowed ? 'block' : 'none';\n",
              "\n",
              "        async function convertToInteractive(key) {\n",
              "          const element = document.querySelector('#df-bab99b7d-bfa5-44ca-bb00-7c28e1726f17');\n",
              "          const dataTable =\n",
              "            await google.colab.kernel.invokeFunction('convertToInteractive',\n",
              "                                                     [key], {});\n",
              "          if (!dataTable) return;\n",
              "\n",
              "          const docLinkHtml = 'Like what you see? Visit the ' +\n",
              "            '<a target=\"_blank\" href=https://colab.research.google.com/notebooks/data_table.ipynb>data table notebook</a>'\n",
              "            + ' to learn more about interactive tables.';\n",
              "          element.innerHTML = '';\n",
              "          dataTable['output_type'] = 'display_data';\n",
              "          await google.colab.output.renderOutput(dataTable, element);\n",
              "          const docLink = document.createElement('div');\n",
              "          docLink.innerHTML = docLinkHtml;\n",
              "          element.appendChild(docLink);\n",
              "        }\n",
              "      </script>\n",
              "    </div>\n",
              "  </div>\n",
              "  "
            ]
          },
          "metadata": {},
          "execution_count": 54
        }
      ],
      "source": [
        "df_service_top10 = df.groupby('service_name').agg({'record_id': 'count'})\\\n",
        "                                             .reset_index().sort_values(by='record_id', ascending=False)[:10]\\\n",
        "                                             .rename(columns={'record_id': 'amount'})\n",
        "df_service_top10"
      ]
    },
    {
      "cell_type": "markdown",
      "id": "c16959a4",
      "metadata": {
        "id": "c16959a4"
      },
      "source": [
        "Далее сделаем выборку из общей таблицы, включив в нее только те строки, которые относятся к самым востребованным услугам. "
      ]
    },
    {
      "cell_type": "code",
      "execution_count": 55,
      "id": "ac214697",
      "metadata": {
        "id": "ac214697"
      },
      "outputs": [],
      "source": [
        "df_services = df.loc[df['service_name'].isin(df_service_top10['service_name'].tolist())]"
      ]
    },
    {
      "cell_type": "markdown",
      "id": "2234c364",
      "metadata": {
        "id": "2234c364"
      },
      "source": [
        "Изучим как изменялись цены на топ-10 самых популярных услуг с течением времени."
      ]
    },
    {
      "cell_type": "code",
      "execution_count": 56,
      "id": "73d7961c",
      "metadata": {
        "colab": {
          "base_uri": "https://localhost:8080/",
          "height": 629
        },
        "id": "73d7961c",
        "outputId": "e638b09b-7ade-448e-b5fc-5130e4e36c17"
      },
      "outputs": [
        {
          "output_type": "display_data",
          "data": {
            "text/plain": [
              "<Figure size 1440x720 with 1 Axes>"
            ],
            "image/png": "[encoded data removed]"
          },
          "metadata": {}
        }
      ],
      "source": [
        "plt.figure(figsize=(20, 10))\n",
        "sns.set_theme(style=\"whitegrid\")\n",
        "sns.lineplot(data=df_services, x=\"service_date\", y=\"price\", hue='service_name')\n",
        "plt.title('Изменение цен на услуги', fontsize=16)\n",
        "plt.show()"
      ]
    },
    {
      "cell_type": "markdown",
      "id": "c1e1c809",
      "metadata": {
        "id": "c1e1c809"
      },
      "source": [
        "Судя по графикам, было два изменения цен в наблюдаемый период: в октябре 2021г. и в июле 2022г."
      ]
    },
    {
      "cell_type": "markdown",
      "id": "2d3cf8c7",
      "metadata": {
        "id": "2d3cf8c7"
      },
      "source": [
        "Интересно, что с ноября 2021г. услуги 'Прием первичный' и 'Прием повторный' перестали оказываться. Это довольно странно, убедимся в этом."
      ]
    },
    {
      "cell_type": "code",
      "execution_count": 57,
      "id": "14f762f5",
      "metadata": {
        "colab": {
          "base_uri": "https://localhost:8080/",
          "height": 49
        },
        "id": "14f762f5",
        "outputId": "a9299344-028a-4531-d258-33040b0d37b8"
      },
      "outputs": [
        {
          "output_type": "execute_result",
          "data": {
            "text/plain": [
              "Empty DataFrame\n",
              "Columns: [record_id, service_date, service_name, service_amount, service_number, insured, sex_id, age_for_service_date, price, year, prev_visit_date, diff_days, next_insured, flag, case_id]\n",
              "Index: []"
            ],
            "text/html": [
              "\n",
              "  <div id=\"df-8d44ad11-103a-469b-ab36-c9beb5b03cc9\">\n",
              "    <div class=\"colab-df-container\">\n",
              "      <div>\n",
              "<style scoped>\n",
              "    .dataframe tbody tr th:only-of-type {\n",
              "        vertical-align: middle;\n",
              "    }\n",
              "\n",
              "    .dataframe tbody tr th {\n",
              "        vertical-align: top;\n",
              "    }\n",
              "\n",
              "    .dataframe thead th {\n",
              "        text-align: right;\n",
              "    }\n",
              "</style>\n",
              "<table border=\"1\" class=\"dataframe\">\n",
              "  <thead>\n",
              "    <tr style=\"text-align: right;\">\n",
              "      <th></th>\n",
              "      <th>record_id</th>\n",
              "      <th>service_date</th>\n",
              "      <th>service_name</th>\n",
              "      <th>service_amount</th>\n",
              "      <th>service_number</th>\n",
              "      <th>insured</th>\n",
              "      <th>sex_id</th>\n",
              "      <th>age_for_service_date</th>\n",
              "      <th>price</th>\n",
              "      <th>year</th>\n",
              "      <th>prev_visit_date</th>\n",
              "      <th>diff_days</th>\n",
              "      <th>next_insured</th>\n",
              "      <th>flag</th>\n",
              "      <th>case_id</th>\n",
              "    </tr>\n",
              "  </thead>\n",
              "  <tbody>\n",
              "  </tbody>\n",
              "</table>\n",
              "</div>\n",
              "      <button class=\"colab-df-convert\" onclick=\"convertToInteractive('df-8d44ad11-103a-469b-ab36-c9beb5b03cc9')\"\n",
              "              title=\"Convert this dataframe to an interactive table.\"\n",
              "              style=\"display:none;\">\n",
              "        \n",
              "  <svg xmlns=\"http://www.w3.org/2000/svg\" height=\"24px\"viewBox=\"0 0 24 24\"\n",
              "       width=\"24px\">\n",
              "    <path d=\"M0 0h24v24H0V0z\" fill=\"none\"/>\n",
              "    <path d=\"M18.56 5.44l.94 2.06.94-2.06 2.06-.94-2.06-.94-.94-2.06-.94 2.06-2.06.94zm-11 1L8.5 8.5l.94-2.06 2.06-.94-2.06-.94L8.5 2.5l-.94 2.06-2.06.94zm10 10l.94 2.06.94-2.06 2.06-.94-2.06-.94-.94-2.06-.94 2.06-2.06.94z\"/><path d=\"M17.41 7.96l-1.37-1.37c-.4-.4-.92-.59-1.43-.59-.52 0-1.04.2-1.43.59L10.3 9.45l-7.72 7.72c-.78.78-.78 2.05 0 2.83L4 21.41c.39.39.9.59 1.41.59.51 0 1.02-.2 1.41-.59l7.78-7.78 2.81-2.81c.8-.78.8-2.07 0-2.86zM5.41 20L4 18.59l7.72-7.72 1.47 1.35L5.41 20z\"/>\n",
              "  </svg>\n",
              "      </button>\n",
              "      \n",
              "  <style>\n",
              "    .colab-df-container {\n",
              "      display:flex;\n",
              "      flex-wrap:wrap;\n",
              "      gap: 12px;\n",
              "    }\n",
              "\n",
              "    .colab-df-convert {\n",
              "      background-color: #E8F0FE;\n",
              "      border: none;\n",
              "      border-radius: 50%;\n",
              "      cursor: pointer;\n",
              "      display: none;\n",
              "      fill: #1967D2;\n",
              "      height: 32px;\n",
              "      padding: 0 0 0 0;\n",
              "      width: 32px;\n",
              "    }\n",
              "\n",
              "    .colab-df-convert:hover {\n",
              "      background-color: #E2EBFA;\n",
              "      box-shadow: 0px 1px 2px rgba(60, 64, 67, 0.3), 0px 1px 3px 1px rgba(60, 64, 67, 0.15);\n",
              "      fill: #174EA6;\n",
              "    }\n",
              "\n",
              "    [theme=dark] .colab-df-convert {\n",
              "      background-color: #3B4455;\n",
              "      fill: #D2E3FC;\n",
              "    }\n",
              "\n",
              "    [theme=dark] .colab-df-convert:hover {\n",
              "      background-color: #434B5C;\n",
              "      box-shadow: 0px 1px 3px 1px rgba(0, 0, 0, 0.15);\n",
              "      filter: drop-shadow(0px 1px 2px rgba(0, 0, 0, 0.3));\n",
              "      fill: #FFFFFF;\n",
              "    }\n",
              "  </style>\n",
              "\n",
              "      <script>\n",
              "        const buttonEl =\n",
              "          document.querySelector('#df-8d44ad11-103a-469b-ab36-c9beb5b03cc9 button.colab-df-convert');\n",
              "        buttonEl.style.display =\n",
              "          google.colab.kernel.accessAllowed ? 'block' : 'none';\n",
              "\n",
              "        async function convertToInteractive(key) {\n",
              "          const element = document.querySelector('#df-8d44ad11-103a-469b-ab36-c9beb5b03cc9');\n",
              "          const dataTable =\n",
              "            await google.colab.kernel.invokeFunction('convertToInteractive',\n",
              "                                                     [key], {});\n",
              "          if (!dataTable) return;\n",
              "\n",
              "          const docLinkHtml = 'Like what you see? Visit the ' +\n",
              "            '<a target=\"_blank\" href=https://colab.research.google.com/notebooks/data_table.ipynb>data table notebook</a>'\n",
              "            + ' to learn more about interactive tables.';\n",
              "          element.innerHTML = '';\n",
              "          dataTable['output_type'] = 'display_data';\n",
              "          await google.colab.output.renderOutput(dataTable, element);\n",
              "          const docLink = document.createElement('div');\n",
              "          docLink.innerHTML = docLinkHtml;\n",
              "          element.appendChild(docLink);\n",
              "        }\n",
              "      </script>\n",
              "    </div>\n",
              "  </div>\n",
              "  "
            ]
          },
          "metadata": {},
          "execution_count": 57
        }
      ],
      "source": [
        "df[(df['service_name'] == 'Прием первичный') & (df['service_date'] > '2021-11-01')]"
      ]
    },
    {
      "cell_type": "markdown",
      "id": "86ae97e5",
      "metadata": {
        "id": "86ae97e5"
      },
      "source": [
        "График отражает верную информацию. Возможно эту услугу переименовали."
      ]
    },
    {
      "cell_type": "code",
      "execution_count": 58,
      "id": "926ba045",
      "metadata": {
        "colab": {
          "base_uri": "https://localhost:8080/",
          "height": 423
        },
        "id": "926ba045",
        "outputId": "4aad1d18-bcc5-4c6e-c662-4dab401b43aa"
      },
      "outputs": [
        {
          "output_type": "execute_result",
          "data": {
            "text/plain": [
              "         record_id service_date                     service_name  \\\n",
              "602    30268217203   2021-01-11                  Прием первичный   \n",
              "606    30268217603   2021-01-17                  Прием повторный   \n",
              "608    30268217803   2021-01-23                  Прием повторный   \n",
              "28849  31408907803   2021-09-21                  Прием первичный   \n",
              "28850  31408907903   2021-09-21                  Прием первичный   \n",
              "...            ...          ...                              ...   \n",
              "83611  33177839203   2022-08-18  Прием отоларинголога, первичный   \n",
              "83615  33177839603   2022-08-24  Прием отоларинголога, повторный   \n",
              "83618  33177839903   2022-08-24         Прием уролога, повторный   \n",
              "83620  33177840103   2022-08-28      Прием кардиолога, повторный   \n",
              "83621  33177840203   2022-08-31     Прием аллерголога, первичный   \n",
              "\n",
              "       service_amount  service_number  insured sex_id  age_for_service_date  \\\n",
              "602              1470               1   125073      2                    65   \n",
              "606              1313               1   125073      2                    65   \n",
              "608              1313               1   125073      2                    65   \n",
              "28849            1470               1   125073      2                    66   \n",
              "28850            1470               1   125073      2                    66   \n",
              "...               ...             ...      ...    ...                   ...   \n",
              "83611            1620               1  1306795      1                    31   \n",
              "83615            1450               1  1306795      1                    31   \n",
              "83618            1450               1  1306795      1                    31   \n",
              "83620            1450               1  1306795      1                    31   \n",
              "83621            1620               1  1306795      1                    31   \n",
              "\n",
              "        price  year prev_visit_date  diff_days  next_insured    flag  \\\n",
              "602    1470.0  2021             NaT          0        125073     1.0   \n",
              "606    1313.0  2021      2021-01-16          1        125073     1.0   \n",
              "608    1313.0  2021      2021-01-17          6        125073     1.0   \n",
              "28849  1470.0  2021      2021-01-23        241        125073     2.0   \n",
              "28850  1470.0  2021      2021-09-21          0        125073     2.0   \n",
              "...       ...   ...             ...        ...           ...     ...   \n",
              "83611  1620.0  2022      2022-08-18          0       1306795  8475.0   \n",
              "83615  1450.0  2022      2022-08-18          6       1306795  8475.0   \n",
              "83618  1450.0  2022      2022-08-24          0       1306795  8475.0   \n",
              "83620  1450.0  2022      2022-08-27          1       1306795  8475.0   \n",
              "83621  1620.0  2022      2022-08-28          3             0  8475.0   \n",
              "\n",
              "            case_id  \n",
              "602        125073_1  \n",
              "606        125073_1  \n",
              "608        125073_1  \n",
              "28849      125073_2  \n",
              "28850      125073_2  \n",
              "...             ...  \n",
              "83611  1306795_8475  \n",
              "83615  1306795_8475  \n",
              "83618  1306795_8475  \n",
              "83620  1306795_8475  \n",
              "83621  1306795_8475  \n",
              "\n",
              "[26289 rows x 15 columns]"
            ],
            "text/html": [
              "\n",
              "  <div id=\"df-68dd66c5-e1fb-4477-9be9-c08c1c39704c\">\n",
              "    <div class=\"colab-df-container\">\n",
              "      <div>\n",
              "<style scoped>\n",
              "    .dataframe tbody tr th:only-of-type {\n",
              "        vertical-align: middle;\n",
              "    }\n",
              "\n",
              "    .dataframe tbody tr th {\n",
              "        vertical-align: top;\n",
              "    }\n",
              "\n",
              "    .dataframe thead th {\n",
              "        text-align: right;\n",
              "    }\n",
              "</style>\n",
              "<table border=\"1\" class=\"dataframe\">\n",
              "  <thead>\n",
              "    <tr style=\"text-align: right;\">\n",
              "      <th></th>\n",
              "      <th>record_id</th>\n",
              "      <th>service_date</th>\n",
              "      <th>service_name</th>\n",
              "      <th>service_amount</th>\n",
              "      <th>service_number</th>\n",
              "      <th>insured</th>\n",
              "      <th>sex_id</th>\n",
              "      <th>age_for_service_date</th>\n",
              "      <th>price</th>\n",
              "      <th>year</th>\n",
              "      <th>prev_visit_date</th>\n",
              "      <th>diff_days</th>\n",
              "      <th>next_insured</th>\n",
              "      <th>flag</th>\n",
              "      <th>case_id</th>\n",
              "    </tr>\n",
              "  </thead>\n",
              "  <tbody>\n",
              "    <tr>\n",
              "      <th>602</th>\n",
              "      <td>30268217203</td>\n",
              "      <td>2021-01-11</td>\n",
              "      <td>Прием первичный</td>\n",
              "      <td>1470</td>\n",
              "      <td>1</td>\n",
              "      <td>125073</td>\n",
              "      <td>2</td>\n",
              "      <td>65</td>\n",
              "      <td>1470.0</td>\n",
              "      <td>2021</td>\n",
              "      <td>NaT</td>\n",
              "      <td>0</td>\n",
              "      <td>125073</td>\n",
              "      <td>1.0</td>\n",
              "      <td>125073_1</td>\n",
              "    </tr>\n",
              "    <tr>\n",
              "      <th>606</th>\n",
              "      <td>30268217603</td>\n",
              "      <td>2021-01-17</td>\n",
              "      <td>Прием повторный</td>\n",
              "      <td>1313</td>\n",
              "      <td>1</td>\n",
              "      <td>125073</td>\n",
              "      <td>2</td>\n",
              "      <td>65</td>\n",
              "      <td>1313.0</td>\n",
              "      <td>2021</td>\n",
              "      <td>2021-01-16</td>\n",
              "      <td>1</td>\n",
              "      <td>125073</td>\n",
              "      <td>1.0</td>\n",
              "      <td>125073_1</td>\n",
              "    </tr>\n",
              "    <tr>\n",
              "      <th>608</th>\n",
              "      <td>30268217803</td>\n",
              "      <td>2021-01-23</td>\n",
              "      <td>Прием повторный</td>\n",
              "      <td>1313</td>\n",
              "      <td>1</td>\n",
              "      <td>125073</td>\n",
              "      <td>2</td>\n",
              "      <td>65</td>\n",
              "      <td>1313.0</td>\n",
              "      <td>2021</td>\n",
              "      <td>2021-01-17</td>\n",
              "      <td>6</td>\n",
              "      <td>125073</td>\n",
              "      <td>1.0</td>\n",
              "      <td>125073_1</td>\n",
              "    </tr>\n",
              "    <tr>\n",
              "      <th>28849</th>\n",
              "      <td>31408907803</td>\n",
              "      <td>2021-09-21</td>\n",
              "      <td>Прием первичный</td>\n",
              "      <td>1470</td>\n",
              "      <td>1</td>\n",
              "      <td>125073</td>\n",
              "      <td>2</td>\n",
              "      <td>66</td>\n",
              "      <td>1470.0</td>\n",
              "      <td>2021</td>\n",
              "      <td>2021-01-23</td>\n",
              "      <td>241</td>\n",
              "      <td>125073</td>\n",
              "      <td>2.0</td>\n",
              "      <td>125073_2</td>\n",
              "    </tr>\n",
              "    <tr>\n",
              "      <th>28850</th>\n",
              "      <td>31408907903</td>\n",
              "      <td>2021-09-21</td>\n",
              "      <td>Прием первичный</td>\n",
              "      <td>1470</td>\n",
              "      <td>1</td>\n",
              "      <td>125073</td>\n",
              "      <td>2</td>\n",
              "      <td>66</td>\n",
              "      <td>1470.0</td>\n",
              "      <td>2021</td>\n",
              "      <td>2021-09-21</td>\n",
              "      <td>0</td>\n",
              "      <td>125073</td>\n",
              "      <td>2.0</td>\n",
              "      <td>125073_2</td>\n",
              "    </tr>\n",
              "    <tr>\n",
              "      <th>...</th>\n",
              "      <td>...</td>\n",
              "      <td>...</td>\n",
              "      <td>...</td>\n",
              "      <td>...</td>\n",
              "      <td>...</td>\n",
              "      <td>...</td>\n",
              "      <td>...</td>\n",
              "      <td>...</td>\n",
              "      <td>...</td>\n",
              "      <td>...</td>\n",
              "      <td>...</td>\n",
              "      <td>...</td>\n",
              "      <td>...</td>\n",
              "      <td>...</td>\n",
              "      <td>...</td>\n",
              "    </tr>\n",
              "    <tr>\n",
              "      <th>83611</th>\n",
              "      <td>33177839203</td>\n",
              "      <td>2022-08-18</td>\n",
              "      <td>Прием отоларинголога, первичный</td>\n",
              "      <td>1620</td>\n",
              "      <td>1</td>\n",
              "      <td>1306795</td>\n",
              "      <td>1</td>\n",
              "      <td>31</td>\n",
              "      <td>1620.0</td>\n",
              "      <td>2022</td>\n",
              "      <td>2022-08-18</td>\n",
              "      <td>0</td>\n",
              "      <td>1306795</td>\n",
              "      <td>8475.0</td>\n",
              "      <td>1306795_8475</td>\n",
              "    </tr>\n",
              "    <tr>\n",
              "      <th>83615</th>\n",
              "      <td>33177839603</td>\n",
              "      <td>2022-08-24</td>\n",
              "      <td>Прием отоларинголога, повторный</td>\n",
              "      <td>1450</td>\n",
              "      <td>1</td>\n",
              "      <td>1306795</td>\n",
              "      <td>1</td>\n",
              "      <td>31</td>\n",
              "      <td>1450.0</td>\n",
              "      <td>2022</td>\n",
              "      <td>2022-08-18</td>\n",
              "      <td>6</td>\n",
              "      <td>1306795</td>\n",
              "      <td>8475.0</td>\n",
              "      <td>1306795_8475</td>\n",
              "    </tr>\n",
              "    <tr>\n",
              "      <th>83618</th>\n",
              "      <td>33177839903</td>\n",
              "      <td>2022-08-24</td>\n",
              "      <td>Прием уролога, повторный</td>\n",
              "      <td>1450</td>\n",
              "      <td>1</td>\n",
              "      <td>1306795</td>\n",
              "      <td>1</td>\n",
              "      <td>31</td>\n",
              "      <td>1450.0</td>\n",
              "      <td>2022</td>\n",
              "      <td>2022-08-24</td>\n",
              "      <td>0</td>\n",
              "      <td>1306795</td>\n",
              "      <td>8475.0</td>\n",
              "      <td>1306795_8475</td>\n",
              "    </tr>\n",
              "    <tr>\n",
              "      <th>83620</th>\n",
              "      <td>33177840103</td>\n",
              "      <td>2022-08-28</td>\n",
              "      <td>Прием кардиолога, повторный</td>\n",
              "      <td>1450</td>\n",
              "      <td>1</td>\n",
              "      <td>1306795</td>\n",
              "      <td>1</td>\n",
              "      <td>31</td>\n",
              "      <td>1450.0</td>\n",
              "      <td>2022</td>\n",
              "      <td>2022-08-27</td>\n",
              "      <td>1</td>\n",
              "      <td>1306795</td>\n",
              "      <td>8475.0</td>\n",
              "      <td>1306795_8475</td>\n",
              "    </tr>\n",
              "    <tr>\n",
              "      <th>83621</th>\n",
              "      <td>33177840203</td>\n",
              "      <td>2022-08-31</td>\n",
              "      <td>Прием аллерголога, первичный</td>\n",
              "      <td>1620</td>\n",
              "      <td>1</td>\n",
              "      <td>1306795</td>\n",
              "      <td>1</td>\n",
              "      <td>31</td>\n",
              "      <td>1620.0</td>\n",
              "      <td>2022</td>\n",
              "      <td>2022-08-28</td>\n",
              "      <td>3</td>\n",
              "      <td>0</td>\n",
              "      <td>8475.0</td>\n",
              "      <td>1306795_8475</td>\n",
              "    </tr>\n",
              "  </tbody>\n",
              "</table>\n",
              "<p>26289 rows × 15 columns</p>\n",
              "</div>\n",
              "      <button class=\"colab-df-convert\" onclick=\"convertToInteractive('df-68dd66c5-e1fb-4477-9be9-c08c1c39704c')\"\n",
              "              title=\"Convert this dataframe to an interactive table.\"\n",
              "              style=\"display:none;\">\n",
              "        \n",
              "  <svg xmlns=\"http://www.w3.org/2000/svg\" height=\"24px\"viewBox=\"0 0 24 24\"\n",
              "       width=\"24px\">\n",
              "    <path d=\"M0 0h24v24H0V0z\" fill=\"none\"/>\n",
              "    <path d=\"M18.56 5.44l.94 2.06.94-2.06 2.06-.94-2.06-.94-.94-2.06-.94 2.06-2.06.94zm-11 1L8.5 8.5l.94-2.06 2.06-.94-2.06-.94L8.5 2.5l-.94 2.06-2.06.94zm10 10l.94 2.06.94-2.06 2.06-.94-2.06-.94-.94-2.06-.94 2.06-2.06.94z\"/><path d=\"M17.41 7.96l-1.37-1.37c-.4-.4-.92-.59-1.43-.59-.52 0-1.04.2-1.43.59L10.3 9.45l-7.72 7.72c-.78.78-.78 2.05 0 2.83L4 21.41c.39.39.9.59 1.41.59.51 0 1.02-.2 1.41-.59l7.78-7.78 2.81-2.81c.8-.78.8-2.07 0-2.86zM5.41 20L4 18.59l7.72-7.72 1.47 1.35L5.41 20z\"/>\n",
              "  </svg>\n",
              "      </button>\n",
              "      \n",
              "  <style>\n",
              "    .colab-df-container {\n",
              "      display:flex;\n",
              "      flex-wrap:wrap;\n",
              "      gap: 12px;\n",
              "    }\n",
              "\n",
              "    .colab-df-convert {\n",
              "      background-color: #E8F0FE;\n",
              "      border: none;\n",
              "      border-radius: 50%;\n",
              "      cursor: pointer;\n",
              "      display: none;\n",
              "      fill: #1967D2;\n",
              "      height: 32px;\n",
              "      padding: 0 0 0 0;\n",
              "      width: 32px;\n",
              "    }\n",
              "\n",
              "    .colab-df-convert:hover {\n",
              "      background-color: #E2EBFA;\n",
              "      box-shadow: 0px 1px 2px rgba(60, 64, 67, 0.3), 0px 1px 3px 1px rgba(60, 64, 67, 0.15);\n",
              "      fill: #174EA6;\n",
              "    }\n",
              "\n",
              "    [theme=dark] .colab-df-convert {\n",
              "      background-color: #3B4455;\n",
              "      fill: #D2E3FC;\n",
              "    }\n",
              "\n",
              "    [theme=dark] .colab-df-convert:hover {\n",
              "      background-color: #434B5C;\n",
              "      box-shadow: 0px 1px 3px 1px rgba(0, 0, 0, 0.15);\n",
              "      filter: drop-shadow(0px 1px 2px rgba(0, 0, 0, 0.3));\n",
              "      fill: #FFFFFF;\n",
              "    }\n",
              "  </style>\n",
              "\n",
              "      <script>\n",
              "        const buttonEl =\n",
              "          document.querySelector('#df-68dd66c5-e1fb-4477-9be9-c08c1c39704c button.colab-df-convert');\n",
              "        buttonEl.style.display =\n",
              "          google.colab.kernel.accessAllowed ? 'block' : 'none';\n",
              "\n",
              "        async function convertToInteractive(key) {\n",
              "          const element = document.querySelector('#df-68dd66c5-e1fb-4477-9be9-c08c1c39704c');\n",
              "          const dataTable =\n",
              "            await google.colab.kernel.invokeFunction('convertToInteractive',\n",
              "                                                     [key], {});\n",
              "          if (!dataTable) return;\n",
              "\n",
              "          const docLinkHtml = 'Like what you see? Visit the ' +\n",
              "            '<a target=\"_blank\" href=https://colab.research.google.com/notebooks/data_table.ipynb>data table notebook</a>'\n",
              "            + ' to learn more about interactive tables.';\n",
              "          element.innerHTML = '';\n",
              "          dataTable['output_type'] = 'display_data';\n",
              "          await google.colab.output.renderOutput(dataTable, element);\n",
              "          const docLink = document.createElement('div');\n",
              "          docLink.innerHTML = docLinkHtml;\n",
              "          element.appendChild(docLink);\n",
              "        }\n",
              "      </script>\n",
              "    </div>\n",
              "  </div>\n",
              "  "
            ]
          },
          "metadata": {},
          "execution_count": 58
        }
      ],
      "source": [
        "df[df['service_name'].str.contains('Прием', regex=False)]"
      ]
    },
    {
      "cell_type": "markdown",
      "id": "9f36121c",
      "metadata": {
        "id": "9f36121c"
      },
      "source": [
        "Судя по всему, теперь в этой услуге прописывается и конкретное направление, по которому проходит обследование."
      ]
    },
    {
      "cell_type": "markdown",
      "id": "3fdd6aaf",
      "metadata": {
        "id": "3fdd6aaf"
      },
      "source": [
        "Выясним, на сколько в среднем изменились цены на услуги в октябре 2021 и в июле 2022 года."
      ]
    },
    {
      "cell_type": "markdown",
      "id": "26423252",
      "metadata": {
        "id": "26423252"
      },
      "source": [
        "Исключим цены на услуги 'Прием первичный' и 'Прием повторный', так как их переименовали."
      ]
    },
    {
      "cell_type": "code",
      "execution_count": 59,
      "id": "8e288c78",
      "metadata": {
        "id": "8e288c78"
      },
      "outputs": [],
      "source": [
        "df_services = df_services[(df_services['service_name'] != 'Прием первичный') & (df_services['service_name'] != 'Прием повторный')]"
      ]
    },
    {
      "cell_type": "markdown",
      "id": "abe35e57",
      "metadata": {
        "id": "abe35e57"
      },
      "source": [
        "Средняя цена на самые популярные услуги до 01.10.2021г."
      ]
    },
    {
      "cell_type": "code",
      "execution_count": 60,
      "id": "14f666d8",
      "metadata": {
        "colab": {
          "base_uri": "https://localhost:8080/"
        },
        "id": "14f666d8",
        "outputId": "9386172c-f651-4aae-debd-bd03745844d7"
      },
      "outputs": [
        {
          "output_type": "execute_result",
          "data": {
            "text/plain": [
              "584.7"
            ]
          },
          "metadata": {},
          "execution_count": 60
        }
      ],
      "source": [
        "mean_price_1 = df_services[df_services['service_date'] < '2021-10-01']['price'].mean()\n",
        "round(mean_price_1, 2)"
      ]
    },
    {
      "cell_type": "markdown",
      "id": "1c14c0de",
      "metadata": {
        "id": "1c14c0de"
      },
      "source": [
        "Средняя цена на  самые популярные услуги с 01.10.2021г. по 01.07.2022г."
      ]
    },
    {
      "cell_type": "code",
      "execution_count": 61,
      "id": "87000301",
      "metadata": {
        "colab": {
          "base_uri": "https://localhost:8080/"
        },
        "id": "87000301",
        "outputId": "b11e2fe9-ad4d-4dbc-d1ef-9cc988a98e81"
      },
      "outputs": [
        {
          "output_type": "execute_result",
          "data": {
            "text/plain": [
              "623.63"
            ]
          },
          "metadata": {},
          "execution_count": 61
        }
      ],
      "source": [
        "mean_price_2 = df_services[(df_services['service_date'] > '2021-10-01') & (df_services['service_date'] < '2022-07-01')]['price'].mean()\n",
        "round(mean_price_2, 2)"
      ]
    },
    {
      "cell_type": "markdown",
      "id": "a06b6231",
      "metadata": {
        "id": "a06b6231"
      },
      "source": [
        "Изменение цены, относительно прошлого периода:"
      ]
    },
    {
      "cell_type": "code",
      "execution_count": 62,
      "id": "fb6eb58c",
      "metadata": {
        "colab": {
          "base_uri": "https://localhost:8080/",
          "height": 36
        },
        "id": "fb6eb58c",
        "outputId": "0879eb1e-96f4-4792-a4ea-f63b986034d5"
      },
      "outputs": [
        {
          "output_type": "execute_result",
          "data": {
            "text/plain": [
              "'6.66 %'"
            ],
            "application/vnd.google.colaboratory.intrinsic+json": {
              "type": "string"
            }
          },
          "metadata": {},
          "execution_count": 62
        }
      ],
      "source": [
        "f'{round(mean_price_2 / mean_price_1 * 100 - 100, 2)} %'"
      ]
    },
    {
      "cell_type": "markdown",
      "id": "f27397d8",
      "metadata": {
        "id": "f27397d8"
      },
      "source": [
        "Средняя цена на  самые популярные услуги с 01.10.2021г. по 01.07.2022г."
      ]
    },
    {
      "cell_type": "code",
      "execution_count": 63,
      "id": "905fa6df",
      "metadata": {
        "colab": {
          "base_uri": "https://localhost:8080/"
        },
        "id": "905fa6df",
        "outputId": "f2346d14-a98b-4d61-e99c-b3085eae4527"
      },
      "outputs": [
        {
          "output_type": "execute_result",
          "data": {
            "text/plain": [
              "675.59"
            ]
          },
          "metadata": {},
          "execution_count": 63
        }
      ],
      "source": [
        "mean_price_3 = df_services[df_services['service_date'] > '2022-07-01']['price'].mean()\n",
        "round(mean_price_3, 2)"
      ]
    },
    {
      "cell_type": "markdown",
      "id": "283361dd",
      "metadata": {
        "id": "283361dd"
      },
      "source": [
        "Изменение цены, относительно прошлого периода:"
      ]
    },
    {
      "cell_type": "code",
      "execution_count": 64,
      "id": "53372464",
      "metadata": {
        "colab": {
          "base_uri": "https://localhost:8080/",
          "height": 36
        },
        "id": "53372464",
        "outputId": "0b091c1a-df11-4609-b9d4-21645902e735"
      },
      "outputs": [
        {
          "output_type": "execute_result",
          "data": {
            "text/plain": [
              "'8.33 %'"
            ],
            "application/vnd.google.colaboratory.intrinsic+json": {
              "type": "string"
            }
          },
          "metadata": {},
          "execution_count": 64
        }
      ],
      "source": [
        "f'{round(mean_price_3 / mean_price_2 * 100 - 100, 2)} %'"
      ]
    },
    {
      "cell_type": "markdown",
      "id": "a59de698",
      "metadata": {
        "id": "a59de698"
      },
      "source": [
        "Итак, было два повышения цен: 01.10.2021г. цены на самые популярные услуги выросли в среднем на 6,66% и 01.07.2022г. в среднем на 8,33%. Так как на графике видно, что цены стабильны на протяжении всего периода, можно предположить, что на остальные усуги цены выросли примерно на эту же величину."
      ]
    },
    {
      "cell_type": "markdown",
      "id": "ba2b3572",
      "metadata": {
        "id": "ba2b3572"
      },
      "source": [
        "###  Изменение среднего количества оказанных услуг на один кейс <br>"
      ]
    },
    {
      "cell_type": "markdown",
      "id": "1066d0b7",
      "metadata": {
        "id": "1066d0b7"
      },
      "source": [
        "Построим сводную таблицу, посчитаем среднее количество оказанных услуг за один кейс и визуализируем эту информацию."
      ]
    },
    {
      "cell_type": "code",
      "execution_count": 65,
      "id": "8c4cd7e6",
      "metadata": {
        "id": "8c4cd7e6"
      },
      "outputs": [],
      "source": [
        "df_services_amount = df.pivot_table(index=['case_id','year'], values='record_id', aggfunc='count')\\\n",
        "                                    .reset_index().rename(columns={'record_id': 'amount'})\\\n",
        "                                    .sort_values(by='year')"
      ]
    },
    {
      "cell_type": "code",
      "execution_count": 66,
      "id": "b2babd1b",
      "metadata": {
        "colab": {
          "base_uri": "https://localhost:8080/",
          "height": 357
        },
        "id": "b2babd1b",
        "outputId": "28d3f48d-a395-4926-fb02-a9a92f363b7a"
      },
      "outputs": [
        {
          "output_type": "display_data",
          "data": {
            "text/plain": [
              "<Figure size 1080x360 with 1 Axes>"
            ],
            "image/png": "[encoded data removed]"
          },
          "metadata": {}
        }
      ],
      "source": [
        "plt.figure(figsize=(15, 5))\n",
        "sns.set_theme(style=\"whitegrid\")\n",
        "sns.boxplot(x=\"year\", y='amount', data=df_services_amount)\n",
        "plt.title('Количество оказанных услуг за один кейс по годам', fontsize=16)\n",
        "plt.show()"
      ]
    },
    {
      "cell_type": "markdown",
      "id": "2f749757",
      "metadata": {
        "id": "2f749757"
      },
      "source": [
        "Выбросами будем считать количество более 25. Построим такой же график еще раз, но без выбросов."
      ]
    },
    {
      "cell_type": "code",
      "execution_count": 67,
      "id": "dcc9982e",
      "metadata": {
        "colab": {
          "base_uri": "https://localhost:8080/",
          "height": 357
        },
        "id": "dcc9982e",
        "outputId": "a56559b0-d127-46e0-8f89-a1fdea74414e"
      },
      "outputs": [
        {
          "output_type": "display_data",
          "data": {
            "text/plain": [
              "<Figure size 1080x360 with 1 Axes>"
            ],
            "image/png": "[encoded data removed]"
          },
          "metadata": {}
        }
      ],
      "source": [
        "plt.figure(figsize=(15, 5))\n",
        "sns.set_theme(style=\"whitegrid\")\n",
        "sns.boxplot(x=\"year\", y='amount', data=df_services_amount[df_services_amount['amount'] < 25])\n",
        "plt.title('Количество оказанных услуг за один кейс по годам', fontsize=16)\n",
        "plt.show()"
      ]
    },
    {
      "cell_type": "markdown",
      "id": "0981bcdb",
      "metadata": {
        "id": "0981bcdb"
      },
      "source": [
        "На графике видно, что медианное значение количества оказанных услуг за один кейс в 2022 году действительно выросло."
      ]
    },
    {
      "cell_type": "code",
      "execution_count": 68,
      "id": "c7bba62d",
      "metadata": {
        "colab": {
          "base_uri": "https://localhost:8080/",
          "height": 143
        },
        "id": "c7bba62d",
        "outputId": "3865bf7c-13d9-46a1-b1fd-5da1bef165fa"
      },
      "outputs": [
        {
          "output_type": "execute_result",
          "data": {
            "text/plain": [
              "   year median      mean\n",
              "        amount    amount\n",
              "0  2021      4  6.432452\n",
              "1  2022      5  6.605971"
            ],
            "text/html": [
              "\n",
              "  <div id=\"df-19c01dac-8444-41c5-b9ab-ffabc1996076\">\n",
              "    <div class=\"colab-df-container\">\n",
              "      <div>\n",
              "<style scoped>\n",
              "    .dataframe tbody tr th:only-of-type {\n",
              "        vertical-align: middle;\n",
              "    }\n",
              "\n",
              "    .dataframe tbody tr th {\n",
              "        vertical-align: top;\n",
              "    }\n",
              "\n",
              "    .dataframe thead tr th {\n",
              "        text-align: left;\n",
              "    }\n",
              "</style>\n",
              "<table border=\"1\" class=\"dataframe\">\n",
              "  <thead>\n",
              "    <tr>\n",
              "      <th></th>\n",
              "      <th>year</th>\n",
              "      <th>median</th>\n",
              "      <th>mean</th>\n",
              "    </tr>\n",
              "    <tr>\n",
              "      <th></th>\n",
              "      <th></th>\n",
              "      <th>amount</th>\n",
              "      <th>amount</th>\n",
              "    </tr>\n",
              "  </thead>\n",
              "  <tbody>\n",
              "    <tr>\n",
              "      <th>0</th>\n",
              "      <td>2021</td>\n",
              "      <td>4</td>\n",
              "      <td>6.432452</td>\n",
              "    </tr>\n",
              "    <tr>\n",
              "      <th>1</th>\n",
              "      <td>2022</td>\n",
              "      <td>5</td>\n",
              "      <td>6.605971</td>\n",
              "    </tr>\n",
              "  </tbody>\n",
              "</table>\n",
              "</div>\n",
              "      <button class=\"colab-df-convert\" onclick=\"convertToInteractive('df-19c01dac-8444-41c5-b9ab-ffabc1996076')\"\n",
              "              title=\"Convert this dataframe to an interactive table.\"\n",
              "              style=\"display:none;\">\n",
              "        \n",
              "  <svg xmlns=\"http://www.w3.org/2000/svg\" height=\"24px\"viewBox=\"0 0 24 24\"\n",
              "       width=\"24px\">\n",
              "    <path d=\"M0 0h24v24H0V0z\" fill=\"none\"/>\n",
              "    <path d=\"M18.56 5.44l.94 2.06.94-2.06 2.06-.94-2.06-.94-.94-2.06-.94 2.06-2.06.94zm-11 1L8.5 8.5l.94-2.06 2.06-.94-2.06-.94L8.5 2.5l-.94 2.06-2.06.94zm10 10l.94 2.06.94-2.06 2.06-.94-2.06-.94-.94-2.06-.94 2.06-2.06.94z\"/><path d=\"M17.41 7.96l-1.37-1.37c-.4-.4-.92-.59-1.43-.59-.52 0-1.04.2-1.43.59L10.3 9.45l-7.72 7.72c-.78.78-.78 2.05 0 2.83L4 21.41c.39.39.9.59 1.41.59.51 0 1.02-.2 1.41-.59l7.78-7.78 2.81-2.81c.8-.78.8-2.07 0-2.86zM5.41 20L4 18.59l7.72-7.72 1.47 1.35L5.41 20z\"/>\n",
              "  </svg>\n",
              "      </button>\n",
              "      \n",
              "  <style>\n",
              "    .colab-df-container {\n",
              "      display:flex;\n",
              "      flex-wrap:wrap;\n",
              "      gap: 12px;\n",
              "    }\n",
              "\n",
              "    .colab-df-convert {\n",
              "      background-color: #E8F0FE;\n",
              "      border: none;\n",
              "      border-radius: 50%;\n",
              "      cursor: pointer;\n",
              "      display: none;\n",
              "      fill: #1967D2;\n",
              "      height: 32px;\n",
              "      padding: 0 0 0 0;\n",
              "      width: 32px;\n",
              "    }\n",
              "\n",
              "    .colab-df-convert:hover {\n",
              "      background-color: #E2EBFA;\n",
              "      box-shadow: 0px 1px 2px rgba(60, 64, 67, 0.3), 0px 1px 3px 1px rgba(60, 64, 67, 0.15);\n",
              "      fill: #174EA6;\n",
              "    }\n",
              "\n",
              "    [theme=dark] .colab-df-convert {\n",
              "      background-color: #3B4455;\n",
              "      fill: #D2E3FC;\n",
              "    }\n",
              "\n",
              "    [theme=dark] .colab-df-convert:hover {\n",
              "      background-color: #434B5C;\n",
              "      box-shadow: 0px 1px 3px 1px rgba(0, 0, 0, 0.15);\n",
              "      filter: drop-shadow(0px 1px 2px rgba(0, 0, 0, 0.3));\n",
              "      fill: #FFFFFF;\n",
              "    }\n",
              "  </style>\n",
              "\n",
              "      <script>\n",
              "        const buttonEl =\n",
              "          document.querySelector('#df-19c01dac-8444-41c5-b9ab-ffabc1996076 button.colab-df-convert');\n",
              "        buttonEl.style.display =\n",
              "          google.colab.kernel.accessAllowed ? 'block' : 'none';\n",
              "\n",
              "        async function convertToInteractive(key) {\n",
              "          const element = document.querySelector('#df-19c01dac-8444-41c5-b9ab-ffabc1996076');\n",
              "          const dataTable =\n",
              "            await google.colab.kernel.invokeFunction('convertToInteractive',\n",
              "                                                     [key], {});\n",
              "          if (!dataTable) return;\n",
              "\n",
              "          const docLinkHtml = 'Like what you see? Visit the ' +\n",
              "            '<a target=\"_blank\" href=https://colab.research.google.com/notebooks/data_table.ipynb>data table notebook</a>'\n",
              "            + ' to learn more about interactive tables.';\n",
              "          element.innerHTML = '';\n",
              "          dataTable['output_type'] = 'display_data';\n",
              "          await google.colab.output.renderOutput(dataTable, element);\n",
              "          const docLink = document.createElement('div');\n",
              "          docLink.innerHTML = docLinkHtml;\n",
              "          element.appendChild(docLink);\n",
              "        }\n",
              "      </script>\n",
              "    </div>\n",
              "  </div>\n",
              "  "
            ]
          },
          "metadata": {},
          "execution_count": 68
        }
      ],
      "source": [
        "df_service_diff = df_services_amount[df_services_amount['amount'] < 25].pivot_table(index='year', values='amount', aggfunc=['median', 'mean']).reset_index()\n",
        "df_service_diff"
      ]
    },
    {
      "cell_type": "markdown",
      "id": "20968927",
      "metadata": {
        "id": "20968927"
      },
      "source": [
        "Медианное значение увеличилось с 4 до 5 услуг за один кейс, а среднее с 6.43 до 6.60"
      ]
    },
    {
      "cell_type": "markdown",
      "id": "1c5b35f6",
      "metadata": {
        "id": "1c5b35f6"
      },
      "source": [
        "### Изменения поло-возрастной структуры обслуживаемых пациентов"
      ]
    },
    {
      "cell_type": "markdown",
      "id": "81d3de54",
      "metadata": {
        "id": "81d3de54"
      },
      "source": [
        "Для того чтобы правильно определить поло-возрастную структуру клиентов, нужно вспомнить, что за 2021 год имеем данные почти за весь год, начиная с 03.01.2021, а вот за 2022 год имеем данные только по 31.08.2022. Следовательно, чтобы сопоставить количество клиентов, необходимо анализ производить по аналогичным периодам год к году."
      ]
    },
    {
      "cell_type": "code",
      "execution_count": 69,
      "id": "640062c4",
      "metadata": {
        "colab": {
          "base_uri": "https://localhost:8080/"
        },
        "id": "640062c4",
        "outputId": "b4824a35-016d-4c8b-ed11-dc18af9e7f60"
      },
      "outputs": [
        {
          "output_type": "stream",
          "name": "stderr",
          "text": [
            "/usr/local/lib/python3.7/dist-packages/ipykernel_launcher.py:2: UserWarning: Boolean Series key will be reindexed to match DataFrame index.\n",
            "  \n"
          ]
        }
      ],
      "source": [
        "df_sex = df[df['sex_id'] != '0'][(df['service_date'] <= pd.to_datetime('2021-08-31')) \\\n",
        "                                   | (df['service_date'] >= pd.to_datetime('2022-01-03'))]"
      ]
    },
    {
      "cell_type": "code",
      "execution_count": 70,
      "id": "9cdca480",
      "metadata": {
        "colab": {
          "base_uri": "https://localhost:8080/",
          "height": 112
        },
        "id": "9cdca480",
        "outputId": "06ee417d-4439-465e-c909-e6fd396ec21c"
      },
      "outputs": [
        {
          "output_type": "execute_result",
          "data": {
            "text/plain": [
              "year sex_id   2021   2022  diff, %\n",
              "0         1  10171  15182    49.27\n",
              "1         2  16561  25795    55.76"
            ],
            "text/html": [
              "\n",
              "  <div id=\"df-8d131484-5ca2-4dae-a810-77f7d738d05f\">\n",
              "    <div class=\"colab-df-container\">\n",
              "      <div>\n",
              "<style scoped>\n",
              "    .dataframe tbody tr th:only-of-type {\n",
              "        vertical-align: middle;\n",
              "    }\n",
              "\n",
              "    .dataframe tbody tr th {\n",
              "        vertical-align: top;\n",
              "    }\n",
              "\n",
              "    .dataframe thead th {\n",
              "        text-align: right;\n",
              "    }\n",
              "</style>\n",
              "<table border=\"1\" class=\"dataframe\">\n",
              "  <thead>\n",
              "    <tr style=\"text-align: right;\">\n",
              "      <th>year</th>\n",
              "      <th>sex_id</th>\n",
              "      <th>2021</th>\n",
              "      <th>2022</th>\n",
              "      <th>diff, %</th>\n",
              "    </tr>\n",
              "  </thead>\n",
              "  <tbody>\n",
              "    <tr>\n",
              "      <th>0</th>\n",
              "      <td>1</td>\n",
              "      <td>10171</td>\n",
              "      <td>15182</td>\n",
              "      <td>49.27</td>\n",
              "    </tr>\n",
              "    <tr>\n",
              "      <th>1</th>\n",
              "      <td>2</td>\n",
              "      <td>16561</td>\n",
              "      <td>25795</td>\n",
              "      <td>55.76</td>\n",
              "    </tr>\n",
              "  </tbody>\n",
              "</table>\n",
              "</div>\n",
              "      <button class=\"colab-df-convert\" onclick=\"convertToInteractive('df-8d131484-5ca2-4dae-a810-77f7d738d05f')\"\n",
              "              title=\"Convert this dataframe to an interactive table.\"\n",
              "              style=\"display:none;\">\n",
              "        \n",
              "  <svg xmlns=\"http://www.w3.org/2000/svg\" height=\"24px\"viewBox=\"0 0 24 24\"\n",
              "       width=\"24px\">\n",
              "    <path d=\"M0 0h24v24H0V0z\" fill=\"none\"/>\n",
              "    <path d=\"M18.56 5.44l.94 2.06.94-2.06 2.06-.94-2.06-.94-.94-2.06-.94 2.06-2.06.94zm-11 1L8.5 8.5l.94-2.06 2.06-.94-2.06-.94L8.5 2.5l-.94 2.06-2.06.94zm10 10l.94 2.06.94-2.06 2.06-.94-2.06-.94-.94-2.06-.94 2.06-2.06.94z\"/><path d=\"M17.41 7.96l-1.37-1.37c-.4-.4-.92-.59-1.43-.59-.52 0-1.04.2-1.43.59L10.3 9.45l-7.72 7.72c-.78.78-.78 2.05 0 2.83L4 21.41c.39.39.9.59 1.41.59.51 0 1.02-.2 1.41-.59l7.78-7.78 2.81-2.81c.8-.78.8-2.07 0-2.86zM5.41 20L4 18.59l7.72-7.72 1.47 1.35L5.41 20z\"/>\n",
              "  </svg>\n",
              "      </button>\n",
              "      \n",
              "  <style>\n",
              "    .colab-df-container {\n",
              "      display:flex;\n",
              "      flex-wrap:wrap;\n",
              "      gap: 12px;\n",
              "    }\n",
              "\n",
              "    .colab-df-convert {\n",
              "      background-color: #E8F0FE;\n",
              "      border: none;\n",
              "      border-radius: 50%;\n",
              "      cursor: pointer;\n",
              "      display: none;\n",
              "      fill: #1967D2;\n",
              "      height: 32px;\n",
              "      padding: 0 0 0 0;\n",
              "      width: 32px;\n",
              "    }\n",
              "\n",
              "    .colab-df-convert:hover {\n",
              "      background-color: #E2EBFA;\n",
              "      box-shadow: 0px 1px 2px rgba(60, 64, 67, 0.3), 0px 1px 3px 1px rgba(60, 64, 67, 0.15);\n",
              "      fill: #174EA6;\n",
              "    }\n",
              "\n",
              "    [theme=dark] .colab-df-convert {\n",
              "      background-color: #3B4455;\n",
              "      fill: #D2E3FC;\n",
              "    }\n",
              "\n",
              "    [theme=dark] .colab-df-convert:hover {\n",
              "      background-color: #434B5C;\n",
              "      box-shadow: 0px 1px 3px 1px rgba(0, 0, 0, 0.15);\n",
              "      filter: drop-shadow(0px 1px 2px rgba(0, 0, 0, 0.3));\n",
              "      fill: #FFFFFF;\n",
              "    }\n",
              "  </style>\n",
              "\n",
              "      <script>\n",
              "        const buttonEl =\n",
              "          document.querySelector('#df-8d131484-5ca2-4dae-a810-77f7d738d05f button.colab-df-convert');\n",
              "        buttonEl.style.display =\n",
              "          google.colab.kernel.accessAllowed ? 'block' : 'none';\n",
              "\n",
              "        async function convertToInteractive(key) {\n",
              "          const element = document.querySelector('#df-8d131484-5ca2-4dae-a810-77f7d738d05f');\n",
              "          const dataTable =\n",
              "            await google.colab.kernel.invokeFunction('convertToInteractive',\n",
              "                                                     [key], {});\n",
              "          if (!dataTable) return;\n",
              "\n",
              "          const docLinkHtml = 'Like what you see? Visit the ' +\n",
              "            '<a target=\"_blank\" href=https://colab.research.google.com/notebooks/data_table.ipynb>data table notebook</a>'\n",
              "            + ' to learn more about interactive tables.';\n",
              "          element.innerHTML = '';\n",
              "          dataTable['output_type'] = 'display_data';\n",
              "          await google.colab.output.renderOutput(dataTable, element);\n",
              "          const docLink = document.createElement('div');\n",
              "          docLink.innerHTML = docLinkHtml;\n",
              "          element.appendChild(docLink);\n",
              "        }\n",
              "      </script>\n",
              "    </div>\n",
              "  </div>\n",
              "  "
            ]
          },
          "metadata": {},
          "execution_count": 70
        }
      ],
      "source": [
        "df_sex_by_year = df_sex.pivot_table(index='sex_id', values='case_id', columns='year', aggfunc='count').reset_index()\n",
        "df_sex_by_year['diff, %'] = round(df_sex_by_year['2022'] / df_sex_by_year['2021'] * 100 - 100, 2)\n",
        "df_sex_by_year"
      ]
    },
    {
      "cell_type": "markdown",
      "id": "32ccd423",
      "metadata": {
        "id": "32ccd423"
      },
      "source": [
        "Количество клиентов в целом выросло. Также категории различаются между собой. Пациенты категории 1 реже обращаются к врачу, чем пациенты из категории 2."
      ]
    },
    {
      "cell_type": "code",
      "execution_count": 71,
      "id": "07b599a3",
      "metadata": {
        "colab": {
          "base_uri": "https://localhost:8080/",
          "height": 400
        },
        "id": "07b599a3",
        "outputId": "2b8ead93-4a21-4c06-d8ce-a8590ceaba76"
      },
      "outputs": [
        {
          "output_type": "display_data",
          "data": {
            "text/plain": [
              "<Figure size 1080x432 with 2 Axes>"
            ],
            "image/png": "[encoded data removed]"
          },
          "metadata": {}
        }
      ],
      "source": [
        "fig, ax = plt.subplots(1, 2, figsize=(15, 6), sharey=True)\n",
        "sns.set_theme(style=\"whitegrid\")\n",
        "ax[0].pie(df_sex_by_year['2021'], labels=df_sex_by_year['sex_id'], autopct='%1.1f%%')\n",
        "ax[1].pie(df_sex_by_year['2022'], labels=df_sex_by_year['sex_id'], autopct='%1.1f%%')\n",
        "ax[0].set_title('2021', fontsize=16)\n",
        "ax[1].set_title('2022', fontsize=16)\n",
        "fig.suptitle('Распределение по полу', fontsize=16)\n",
        "plt.show()"
      ]
    },
    {
      "cell_type": "markdown",
      "id": "5c45ab95",
      "metadata": {
        "id": "5c45ab95"
      },
      "source": [
        "Видим некоторые изменения в долях пациентов пола 1 и пола 2. Насколько эти изменения значимы, проверим в третьем разделе."
      ]
    },
    {
      "cell_type": "markdown",
      "id": "e5bb168a",
      "metadata": {
        "id": "e5bb168a"
      },
      "source": [
        "Для определения возрастной структуры добавим еще один столбец с категориями возраста:<br>\n",
        "0-16 - 'дети'<br>\n",
        "16-35 - 'молодежь'<br>\n",
        "35-55 - 'взрослые'<br>\n",
        "55 и выше - 'пожилые'<br>"
      ]
    },
    {
      "cell_type": "code",
      "execution_count": 72,
      "id": "15b0463f",
      "metadata": {
        "id": "15b0463f"
      },
      "outputs": [],
      "source": [
        "def get_age_category(value):\n",
        "    if value < 16:\n",
        "        return 'дети'\n",
        "    elif 16 <= value < 35:\n",
        "        return 'молодежь'\n",
        "    elif 35 <= value < 55:\n",
        "        return 'взрослые'\n",
        "    else:\n",
        "        return 'пожилые'"
      ]
    },
    {
      "cell_type": "code",
      "execution_count": 73,
      "id": "1091b0ad",
      "metadata": {
        "id": "1091b0ad"
      },
      "outputs": [],
      "source": [
        "df['age_category'] = df['age_for_service_date'].apply(get_age_category)"
      ]
    },
    {
      "cell_type": "code",
      "execution_count": 74,
      "id": "20bfed3c",
      "metadata": {
        "colab": {
          "base_uri": "https://localhost:8080/",
          "height": 175
        },
        "id": "20bfed3c",
        "outputId": "bcf5a04e-8e68-4f01-d907-a1ab3d4761ef"
      },
      "outputs": [
        {
          "output_type": "execute_result",
          "data": {
            "text/plain": [
              "year age_category   2021   2022\n",
              "0        взрослые  11117  18213\n",
              "1            дети   2164   2686\n",
              "2        молодежь  12148  18248\n",
              "3         пожилые   1307   1830"
            ],
            "text/html": [
              "\n",
              "  <div id=\"df-9e67e76d-2b10-48d3-8ae6-ad5a7ba586ce\">\n",
              "    <div class=\"colab-df-container\">\n",
              "      <div>\n",
              "<style scoped>\n",
              "    .dataframe tbody tr th:only-of-type {\n",
              "        vertical-align: middle;\n",
              "    }\n",
              "\n",
              "    .dataframe tbody tr th {\n",
              "        vertical-align: top;\n",
              "    }\n",
              "\n",
              "    .dataframe thead th {\n",
              "        text-align: right;\n",
              "    }\n",
              "</style>\n",
              "<table border=\"1\" class=\"dataframe\">\n",
              "  <thead>\n",
              "    <tr style=\"text-align: right;\">\n",
              "      <th>year</th>\n",
              "      <th>age_category</th>\n",
              "      <th>2021</th>\n",
              "      <th>2022</th>\n",
              "    </tr>\n",
              "  </thead>\n",
              "  <tbody>\n",
              "    <tr>\n",
              "      <th>0</th>\n",
              "      <td>взрослые</td>\n",
              "      <td>11117</td>\n",
              "      <td>18213</td>\n",
              "    </tr>\n",
              "    <tr>\n",
              "      <th>1</th>\n",
              "      <td>дети</td>\n",
              "      <td>2164</td>\n",
              "      <td>2686</td>\n",
              "    </tr>\n",
              "    <tr>\n",
              "      <th>2</th>\n",
              "      <td>молодежь</td>\n",
              "      <td>12148</td>\n",
              "      <td>18248</td>\n",
              "    </tr>\n",
              "    <tr>\n",
              "      <th>3</th>\n",
              "      <td>пожилые</td>\n",
              "      <td>1307</td>\n",
              "      <td>1830</td>\n",
              "    </tr>\n",
              "  </tbody>\n",
              "</table>\n",
              "</div>\n",
              "      <button class=\"colab-df-convert\" onclick=\"convertToInteractive('df-9e67e76d-2b10-48d3-8ae6-ad5a7ba586ce')\"\n",
              "              title=\"Convert this dataframe to an interactive table.\"\n",
              "              style=\"display:none;\">\n",
              "        \n",
              "  <svg xmlns=\"http://www.w3.org/2000/svg\" height=\"24px\"viewBox=\"0 0 24 24\"\n",
              "       width=\"24px\">\n",
              "    <path d=\"M0 0h24v24H0V0z\" fill=\"none\"/>\n",
              "    <path d=\"M18.56 5.44l.94 2.06.94-2.06 2.06-.94-2.06-.94-.94-2.06-.94 2.06-2.06.94zm-11 1L8.5 8.5l.94-2.06 2.06-.94-2.06-.94L8.5 2.5l-.94 2.06-2.06.94zm10 10l.94 2.06.94-2.06 2.06-.94-2.06-.94-.94-2.06-.94 2.06-2.06.94z\"/><path d=\"M17.41 7.96l-1.37-1.37c-.4-.4-.92-.59-1.43-.59-.52 0-1.04.2-1.43.59L10.3 9.45l-7.72 7.72c-.78.78-.78 2.05 0 2.83L4 21.41c.39.39.9.59 1.41.59.51 0 1.02-.2 1.41-.59l7.78-7.78 2.81-2.81c.8-.78.8-2.07 0-2.86zM5.41 20L4 18.59l7.72-7.72 1.47 1.35L5.41 20z\"/>\n",
              "  </svg>\n",
              "      </button>\n",
              "      \n",
              "  <style>\n",
              "    .colab-df-container {\n",
              "      display:flex;\n",
              "      flex-wrap:wrap;\n",
              "      gap: 12px;\n",
              "    }\n",
              "\n",
              "    .colab-df-convert {\n",
              "      background-color: #E8F0FE;\n",
              "      border: none;\n",
              "      border-radius: 50%;\n",
              "      cursor: pointer;\n",
              "      display: none;\n",
              "      fill: #1967D2;\n",
              "      height: 32px;\n",
              "      padding: 0 0 0 0;\n",
              "      width: 32px;\n",
              "    }\n",
              "\n",
              "    .colab-df-convert:hover {\n",
              "      background-color: #E2EBFA;\n",
              "      box-shadow: 0px 1px 2px rgba(60, 64, 67, 0.3), 0px 1px 3px 1px rgba(60, 64, 67, 0.15);\n",
              "      fill: #174EA6;\n",
              "    }\n",
              "\n",
              "    [theme=dark] .colab-df-convert {\n",
              "      background-color: #3B4455;\n",
              "      fill: #D2E3FC;\n",
              "    }\n",
              "\n",
              "    [theme=dark] .colab-df-convert:hover {\n",
              "      background-color: #434B5C;\n",
              "      box-shadow: 0px 1px 3px 1px rgba(0, 0, 0, 0.15);\n",
              "      filter: drop-shadow(0px 1px 2px rgba(0, 0, 0, 0.3));\n",
              "      fill: #FFFFFF;\n",
              "    }\n",
              "  </style>\n",
              "\n",
              "      <script>\n",
              "        const buttonEl =\n",
              "          document.querySelector('#df-9e67e76d-2b10-48d3-8ae6-ad5a7ba586ce button.colab-df-convert');\n",
              "        buttonEl.style.display =\n",
              "          google.colab.kernel.accessAllowed ? 'block' : 'none';\n",
              "\n",
              "        async function convertToInteractive(key) {\n",
              "          const element = document.querySelector('#df-9e67e76d-2b10-48d3-8ae6-ad5a7ba586ce');\n",
              "          const dataTable =\n",
              "            await google.colab.kernel.invokeFunction('convertToInteractive',\n",
              "                                                     [key], {});\n",
              "          if (!dataTable) return;\n",
              "\n",
              "          const docLinkHtml = 'Like what you see? Visit the ' +\n",
              "            '<a target=\"_blank\" href=https://colab.research.google.com/notebooks/data_table.ipynb>data table notebook</a>'\n",
              "            + ' to learn more about interactive tables.';\n",
              "          element.innerHTML = '';\n",
              "          dataTable['output_type'] = 'display_data';\n",
              "          await google.colab.output.renderOutput(dataTable, element);\n",
              "          const docLink = document.createElement('div');\n",
              "          docLink.innerHTML = docLinkHtml;\n",
              "          element.appendChild(docLink);\n",
              "        }\n",
              "      </script>\n",
              "    </div>\n",
              "  </div>\n",
              "  "
            ]
          },
          "metadata": {},
          "execution_count": 74
        }
      ],
      "source": [
        "# Снова сравниваем одинаковые периоды год к году, поэтому фильтруем по дате таким же образом, как и в предыдущий раз\n",
        "df_age_by_year = df[(df['service_date'] <= pd.to_datetime('2021-08-31')) \\\n",
        "                                   | (df['service_date'] >= pd.to_datetime('2022-01-03'))]\\\n",
        "                                    .pivot_table(index='age_category', values='case_id', columns='year', aggfunc='count')\\\n",
        "                                    .reset_index()\n",
        "df_age_by_year"
      ]
    },
    {
      "cell_type": "code",
      "execution_count": 75,
      "id": "d4b3d11e",
      "metadata": {
        "colab": {
          "base_uri": "https://localhost:8080/",
          "height": 400
        },
        "id": "d4b3d11e",
        "outputId": "a21161d1-7e2f-4ce2-a47b-cb1192995f66"
      },
      "outputs": [
        {
          "output_type": "display_data",
          "data": {
            "text/plain": [
              "<Figure size 1080x432 with 2 Axes>"
            ],
            "image/png": "[encoded data removed]"
          },
          "metadata": {}
        }
      ],
      "source": [
        "fig, ax = plt.subplots(1, 2, figsize=(15, 6), sharey=True)\n",
        "sns.set_theme(style=\"whitegrid\")\n",
        "ax[0].pie(df_age_by_year['2021'], labels=df_age_by_year['age_category'], autopct='%1.1f%%')\n",
        "ax[1].pie(df_age_by_year['2022'], labels=df_age_by_year['age_category'], autopct='%1.1f%%')\n",
        "ax[0].set_title('2021', fontsize=16)\n",
        "ax[1].set_title('2022', fontsize=16)\n",
        "fig.suptitle('Распределение по возрасту', fontsize=16)\n",
        "plt.show()"
      ]
    },
    {
      "cell_type": "markdown",
      "id": "5f3c52da",
      "metadata": {
        "id": "5f3c52da"
      },
      "source": [
        "Есть некоторые изменения в долях."
      ]
    },
    {
      "cell_type": "markdown",
      "id": "8f0b278e",
      "metadata": {
        "id": "8f0b278e"
      },
      "source": [
        "Взглянем на общее распределение по возрасту"
      ]
    },
    {
      "cell_type": "code",
      "execution_count": 76,
      "id": "208f80c5",
      "metadata": {
        "colab": {
          "base_uri": "https://localhost:8080/",
          "height": 629
        },
        "id": "208f80c5",
        "outputId": "6855bd03-9f55-4f1f-8af8-f20a41004f05"
      },
      "outputs": [
        {
          "output_type": "display_data",
          "data": {
            "text/plain": [
              "<Figure size 1440x720 with 1 Axes>"
            ],
            "image/png": "[encoded data removed]"
          },
          "metadata": {}
        }
      ],
      "source": [
        "plt.figure(figsize=(20, 10))\n",
        "sns.histplot(x=df['age_for_service_date'], hue=df['year'], multiple=\"stack\", bins=50)\n",
        "plt.title('Распределение по возрасту', fontsize=16)\n",
        "plt.show()"
      ]
    },
    {
      "cell_type": "markdown",
      "id": "0f261ab3",
      "metadata": {
        "id": "0f261ab3"
      },
      "source": [
        "Распределения ожидаемо похожи на нормальные."
      ]
    },
    {
      "cell_type": "markdown",
      "id": "05a343f7",
      "metadata": {
        "id": "05a343f7"
      },
      "source": [
        "### Изменения структуры оказываемых услуг"
      ]
    },
    {
      "cell_type": "markdown",
      "id": "54064060",
      "metadata": {
        "id": "54064060"
      },
      "source": [
        "Построим boxplot для того чтобы увидеть разброс цен на услуги клиники."
      ]
    },
    {
      "cell_type": "code",
      "execution_count": 77,
      "id": "e66359e0",
      "metadata": {
        "colab": {
          "base_uri": "https://localhost:8080/",
          "height": 629
        },
        "id": "e66359e0",
        "outputId": "d437f7b1-62a9-4a5d-a60c-44d48c36e821"
      },
      "outputs": [
        {
          "output_type": "display_data",
          "data": {
            "text/plain": [
              "<Figure size 1440x720 with 1 Axes>"
            ],
            "image/png": "[encoded data removed]"
          },
          "metadata": {}
        }
      ],
      "source": [
        "plt.figure(figsize=(20, 10))\n",
        "sns.set_theme(style=\"whitegrid\")\n",
        "sns.boxplot(x=df['price'])\n",
        "plt.title('Распределение цен на услуги', fontsize=16)\n",
        "plt.show()"
      ]
    },
    {
      "cell_type": "code",
      "execution_count": 78,
      "id": "82879d48",
      "metadata": {
        "colab": {
          "base_uri": "https://localhost:8080/"
        },
        "id": "82879d48",
        "outputId": "6c870e27-d7e5-403e-b2cd-a985dcfe9d90"
      },
      "outputs": [
        {
          "output_type": "execute_result",
          "data": {
            "text/plain": [
              "1140.0"
            ]
          },
          "metadata": {},
          "execution_count": 78
        }
      ],
      "source": [
        "df['price'].median()"
      ]
    },
    {
      "cell_type": "markdown",
      "id": "b8c0482b",
      "metadata": {
        "id": "b8c0482b"
      },
      "source": [
        "Разброс цен на услуги довольно существенен, распределение явно не является симметричным. Медианная стоимость услуг составляет 1140 рублей, в то время как есть ряд дорогих услуг."
      ]
    },
    {
      "cell_type": "markdown",
      "id": "386b98bf",
      "metadata": {
        "id": "386b98bf"
      },
      "source": [
        "Для определения границы категорий стоимости услуг поступим так же, как и в случае с определением категорий общей стоимости лечения"
      ]
    },
    {
      "cell_type": "code",
      "execution_count": 79,
      "id": "b1fad3bd",
      "metadata": {
        "colab": {
          "base_uri": "https://localhost:8080/"
        },
        "id": "b1fad3bd",
        "outputId": "e6417363-5b5a-49bf-f75a-7225ad69217f"
      },
      "outputs": [
        {
          "output_type": "execute_result",
          "data": {
            "text/plain": [
              "3000.0"
            ]
          },
          "metadata": {},
          "execution_count": 79
        }
      ],
      "source": [
        "q3, q1 = np.percentile(df['price'], [75 ,25])\n",
        "iqr = q3 - q1\n",
        "df['price'].quantile(.75) + 1.5 * iqr"
      ]
    },
    {
      "cell_type": "markdown",
      "id": "b2ce11d3",
      "metadata": {
        "id": "b2ce11d3"
      },
      "source": [
        "Цены до 3 000 рублей будем считать 'низкими'."
      ]
    },
    {
      "cell_type": "code",
      "execution_count": 80,
      "id": "746c9a71",
      "metadata": {
        "colab": {
          "base_uri": "https://localhost:8080/",
          "height": 629
        },
        "id": "746c9a71",
        "outputId": "de76fcd6-95f4-4133-b5ec-c9b021788404"
      },
      "outputs": [
        {
          "output_type": "display_data",
          "data": {
            "text/plain": [
              "<Figure size 1440x720 with 1 Axes>"
            ],
            "image/png": "[encoded data removed]"
          },
          "metadata": {}
        }
      ],
      "source": [
        "plt.figure(figsize=(20, 10))\n",
        "sns.set_theme(style=\"whitegrid\")\n",
        "sns.boxplot(x=df[df['price'] > 3000]['price'])\n",
        "plt.title('Распределение цен на услуги', fontsize=16)\n",
        "plt.show()"
      ]
    },
    {
      "cell_type": "code",
      "execution_count": 81,
      "id": "ec26bdb9",
      "metadata": {
        "colab": {
          "base_uri": "https://localhost:8080/"
        },
        "id": "ec26bdb9",
        "outputId": "bf868950-082d-4dbf-b4dd-8e6128df3526"
      },
      "outputs": [
        {
          "output_type": "execute_result",
          "data": {
            "text/plain": [
              "4960.0"
            ]
          },
          "metadata": {},
          "execution_count": 81
        }
      ],
      "source": [
        "q3, q1 = np.percentile(df[df['price'] > 3000]['price'], [75 ,25])\n",
        "iqr = q3 - q1\n",
        "df[df['price'] > 3000]['price'].quantile(.75) + 1.5 * iqr"
      ]
    },
    {
      "cell_type": "markdown",
      "id": "7e877f98",
      "metadata": {
        "id": "7e877f98"
      },
      "source": [
        "Цены от 3 000 до 4 960 рублей будем считать 'средними'."
      ]
    },
    {
      "cell_type": "code",
      "execution_count": 82,
      "id": "7cc2b1aa",
      "metadata": {
        "colab": {
          "base_uri": "https://localhost:8080/",
          "height": 629
        },
        "id": "7cc2b1aa",
        "outputId": "f212a5f1-435c-4943-a0cc-36c3f0da0866"
      },
      "outputs": [
        {
          "output_type": "display_data",
          "data": {
            "text/plain": [
              "<Figure size 1440x720 with 1 Axes>"
            ],
            "image/png": "[encoded data removed]"
          },
          "metadata": {}
        }
      ],
      "source": [
        "plt.figure(figsize=(20, 10))\n",
        "sns.set_theme(style=\"whitegrid\")\n",
        "sns.boxplot(x=df[df['price'] > 4960]['price'])\n",
        "plt.title('Распределение цен на услуги', fontsize=16)\n",
        "plt.show()"
      ]
    },
    {
      "cell_type": "code",
      "execution_count": 83,
      "id": "70e31140",
      "metadata": {
        "colab": {
          "base_uri": "https://localhost:8080/"
        },
        "id": "70e31140",
        "outputId": "70310eec-084b-46f1-f452-9768063bec3a"
      },
      "outputs": [
        {
          "output_type": "execute_result",
          "data": {
            "text/plain": [
              "9028.125"
            ]
          },
          "metadata": {},
          "execution_count": 83
        }
      ],
      "source": [
        "q3, q1 = np.percentile(df[df['price'] > 4960]['price'], [75 ,25])\n",
        "iqr = q3 - q1\n",
        "df[df['price'] > 4960]['price'].quantile(.75) + 1.5 * iqr"
      ]
    },
    {
      "cell_type": "markdown",
      "id": "019b1f1c",
      "metadata": {
        "id": "019b1f1c"
      },
      "source": [
        "От 4 960 до 9 028 это цены 'высокие', а остальное выбросы."
      ]
    },
    {
      "cell_type": "code",
      "execution_count": 84,
      "id": "c794322a",
      "metadata": {
        "id": "c794322a"
      },
      "outputs": [],
      "source": [
        "def get_price_category(value):\n",
        "    if value <= 3000:\n",
        "        return 'низкая'\n",
        "    elif 3000 < value <= 4960:\n",
        "        return 'средняя'\n",
        "    elif 4960 < value <= 9028:\n",
        "        return 'высокая'\n",
        "    else:\n",
        "        return 'выбросы'"
      ]
    },
    {
      "cell_type": "code",
      "execution_count": 85,
      "id": "c2a8aa36",
      "metadata": {
        "id": "c2a8aa36"
      },
      "outputs": [],
      "source": [
        "df['price_category'] = df['price'].apply(get_price_category)"
      ]
    },
    {
      "cell_type": "code",
      "execution_count": 86,
      "id": "b56c86ec",
      "metadata": {
        "id": "b56c86ec"
      },
      "outputs": [],
      "source": [
        "df_price_by_year = df[df['price_category'] != 'выбросы']"
      ]
    },
    {
      "cell_type": "code",
      "execution_count": 87,
      "id": "4424cdcc",
      "metadata": {
        "colab": {
          "base_uri": "https://localhost:8080/",
          "height": 175
        },
        "id": "4424cdcc",
        "outputId": "b39ca966-4678-4115-bd41-5fbf810a0c42"
      },
      "outputs": [
        {
          "output_type": "execute_result",
          "data": {
            "text/plain": [
              "year price_category   2021   2022\n",
              "2            низкая  25937  39786\n",
              "3           средняя    717   1118\n",
              "1           высокая     73     72\n",
              "0           выбросы      9      1"
            ],
            "text/html": [
              "\n",
              "  <div id=\"df-b5d5c623-3a63-460d-bb9f-91d643277279\">\n",
              "    <div class=\"colab-df-container\">\n",
              "      <div>\n",
              "<style scoped>\n",
              "    .dataframe tbody tr th:only-of-type {\n",
              "        vertical-align: middle;\n",
              "    }\n",
              "\n",
              "    .dataframe tbody tr th {\n",
              "        vertical-align: top;\n",
              "    }\n",
              "\n",
              "    .dataframe thead th {\n",
              "        text-align: right;\n",
              "    }\n",
              "</style>\n",
              "<table border=\"1\" class=\"dataframe\">\n",
              "  <thead>\n",
              "    <tr style=\"text-align: right;\">\n",
              "      <th>year</th>\n",
              "      <th>price_category</th>\n",
              "      <th>2021</th>\n",
              "      <th>2022</th>\n",
              "    </tr>\n",
              "  </thead>\n",
              "  <tbody>\n",
              "    <tr>\n",
              "      <th>2</th>\n",
              "      <td>низкая</td>\n",
              "      <td>25937</td>\n",
              "      <td>39786</td>\n",
              "    </tr>\n",
              "    <tr>\n",
              "      <th>3</th>\n",
              "      <td>средняя</td>\n",
              "      <td>717</td>\n",
              "      <td>1118</td>\n",
              "    </tr>\n",
              "    <tr>\n",
              "      <th>1</th>\n",
              "      <td>высокая</td>\n",
              "      <td>73</td>\n",
              "      <td>72</td>\n",
              "    </tr>\n",
              "    <tr>\n",
              "      <th>0</th>\n",
              "      <td>выбросы</td>\n",
              "      <td>9</td>\n",
              "      <td>1</td>\n",
              "    </tr>\n",
              "  </tbody>\n",
              "</table>\n",
              "</div>\n",
              "      <button class=\"colab-df-convert\" onclick=\"convertToInteractive('df-b5d5c623-3a63-460d-bb9f-91d643277279')\"\n",
              "              title=\"Convert this dataframe to an interactive table.\"\n",
              "              style=\"display:none;\">\n",
              "        \n",
              "  <svg xmlns=\"http://www.w3.org/2000/svg\" height=\"24px\"viewBox=\"0 0 24 24\"\n",
              "       width=\"24px\">\n",
              "    <path d=\"M0 0h24v24H0V0z\" fill=\"none\"/>\n",
              "    <path d=\"M18.56 5.44l.94 2.06.94-2.06 2.06-.94-2.06-.94-.94-2.06-.94 2.06-2.06.94zm-11 1L8.5 8.5l.94-2.06 2.06-.94-2.06-.94L8.5 2.5l-.94 2.06-2.06.94zm10 10l.94 2.06.94-2.06 2.06-.94-2.06-.94-.94-2.06-.94 2.06-2.06.94z\"/><path d=\"M17.41 7.96l-1.37-1.37c-.4-.4-.92-.59-1.43-.59-.52 0-1.04.2-1.43.59L10.3 9.45l-7.72 7.72c-.78.78-.78 2.05 0 2.83L4 21.41c.39.39.9.59 1.41.59.51 0 1.02-.2 1.41-.59l7.78-7.78 2.81-2.81c.8-.78.8-2.07 0-2.86zM5.41 20L4 18.59l7.72-7.72 1.47 1.35L5.41 20z\"/>\n",
              "  </svg>\n",
              "      </button>\n",
              "      \n",
              "  <style>\n",
              "    .colab-df-container {\n",
              "      display:flex;\n",
              "      flex-wrap:wrap;\n",
              "      gap: 12px;\n",
              "    }\n",
              "\n",
              "    .colab-df-convert {\n",
              "      background-color: #E8F0FE;\n",
              "      border: none;\n",
              "      border-radius: 50%;\n",
              "      cursor: pointer;\n",
              "      display: none;\n",
              "      fill: #1967D2;\n",
              "      height: 32px;\n",
              "      padding: 0 0 0 0;\n",
              "      width: 32px;\n",
              "    }\n",
              "\n",
              "    .colab-df-convert:hover {\n",
              "      background-color: #E2EBFA;\n",
              "      box-shadow: 0px 1px 2px rgba(60, 64, 67, 0.3), 0px 1px 3px 1px rgba(60, 64, 67, 0.15);\n",
              "      fill: #174EA6;\n",
              "    }\n",
              "\n",
              "    [theme=dark] .colab-df-convert {\n",
              "      background-color: #3B4455;\n",
              "      fill: #D2E3FC;\n",
              "    }\n",
              "\n",
              "    [theme=dark] .colab-df-convert:hover {\n",
              "      background-color: #434B5C;\n",
              "      box-shadow: 0px 1px 3px 1px rgba(0, 0, 0, 0.15);\n",
              "      filter: drop-shadow(0px 1px 2px rgba(0, 0, 0, 0.3));\n",
              "      fill: #FFFFFF;\n",
              "    }\n",
              "  </style>\n",
              "\n",
              "      <script>\n",
              "        const buttonEl =\n",
              "          document.querySelector('#df-b5d5c623-3a63-460d-bb9f-91d643277279 button.colab-df-convert');\n",
              "        buttonEl.style.display =\n",
              "          google.colab.kernel.accessAllowed ? 'block' : 'none';\n",
              "\n",
              "        async function convertToInteractive(key) {\n",
              "          const element = document.querySelector('#df-b5d5c623-3a63-460d-bb9f-91d643277279');\n",
              "          const dataTable =\n",
              "            await google.colab.kernel.invokeFunction('convertToInteractive',\n",
              "                                                     [key], {});\n",
              "          if (!dataTable) return;\n",
              "\n",
              "          const docLinkHtml = 'Like what you see? Visit the ' +\n",
              "            '<a target=\"_blank\" href=https://colab.research.google.com/notebooks/data_table.ipynb>data table notebook</a>'\n",
              "            + ' to learn more about interactive tables.';\n",
              "          element.innerHTML = '';\n",
              "          dataTable['output_type'] = 'display_data';\n",
              "          await google.colab.output.renderOutput(dataTable, element);\n",
              "          const docLink = document.createElement('div');\n",
              "          docLink.innerHTML = docLinkHtml;\n",
              "          element.appendChild(docLink);\n",
              "        }\n",
              "      </script>\n",
              "    </div>\n",
              "  </div>\n",
              "  "
            ]
          },
          "metadata": {},
          "execution_count": 87
        }
      ],
      "source": [
        "df_price_by_year = df[(df['service_date'] <= pd.to_datetime('2021-08-31')) \\\n",
        "                                   | (df['service_date'] >= pd.to_datetime('2022-01-03'))]\\\n",
        "                                    .pivot_table(index='price_category', values='case_id', columns='year', aggfunc='count')\\\n",
        "                                    .reset_index().sort_values(by='2022', ascending=False)\n",
        "df_price_by_year"
      ]
    },
    {
      "cell_type": "code",
      "execution_count": 88,
      "id": "4f10d0e0",
      "metadata": {
        "colab": {
          "base_uri": "https://localhost:8080/",
          "height": 400
        },
        "id": "4f10d0e0",
        "outputId": "516db48c-c62a-41f6-d2f4-9c515b9ac775"
      },
      "outputs": [
        {
          "output_type": "display_data",
          "data": {
            "text/plain": [
              "<Figure size 1080x432 with 2 Axes>"
            ],
            "image/png": "[encoded data removed]"
          },
          "metadata": {}
        }
      ],
      "source": [
        "fig, ax = plt.subplots(1, 2, figsize=(15, 6), sharey=True)\n",
        "sns.set_theme(style=\"whitegrid\")\n",
        "ax[0].pie(df_price_by_year['2021'], labels=df_price_by_year['price_category'], autopct='%1.1f%%')\n",
        "ax[1].pie(df_price_by_year['2022'], labels=df_price_by_year['price_category'], autopct='%1.1f%%')\n",
        "ax[0].set_title('2021', fontsize=16)\n",
        "ax[1].set_title('2022', fontsize=16)\n",
        "fig.suptitle('Распределение по категориям цен на услуги', fontsize=16)\n",
        "plt.show()"
      ]
    },
    {
      "cell_type": "markdown",
      "id": "22696082",
      "metadata": {
        "id": "22696082"
      },
      "source": [
        "Доли практически не изменились. Основная доля у услуг с низкой стоимостью, что вполне объяснимо."
      ]
    },
    {
      "cell_type": "markdown",
      "id": "c2365deb",
      "metadata": {
        "id": "c2365deb"
      },
      "source": [
        "**Выводы:** В ходе исследовательского анализа данных было выявлено, что стоимость лечения в 2022г. выросла относительно 2021г., это в основном касается менее затратного лечения - в этом сегменте наблюдаем увеличение средней стоимости на 6,57%, в сегментах среднего по стоимости лечения изменилась на доли процента, а средняя стоимость дорогостоящего лечения  увеличилась на 3,2%\n",
        "\n",
        "Изменение цен происходило два раза в течение рассматриваемого периода. 01.10.2021г. было увеличение цен в среднем на 6,66% и 01.07.2022г. произошло увеличение цен на 8,33%.\n",
        "\n",
        "Изменение среднего количества оказываемых услуг и поло-возрастной структуры клиентов на первый взгяд не дает существенных различий между 2021 и 2022г., но этот факт будем проверять в следующем разделе.\n",
        "\n",
        "Структура оказываемых услуг также отличается слабо."
      ]
    },
    {
      "cell_type": "markdown",
      "id": "d361acfb",
      "metadata": {
        "id": "d361acfb"
      },
      "source": [
        "## Проверка гипотез"
      ]
    },
    {
      "cell_type": "markdown",
      "id": "760536f3",
      "metadata": {
        "id": "760536f3"
      },
      "source": [
        "### Гипотеза о влиянии изменения цен на увеличение стоимости лечения"
      ]
    },
    {
      "cell_type": "markdown",
      "id": "8a6a2ebe",
      "metadata": {
        "id": "8a6a2ebe"
      },
      "source": [
        "Н0: Средние цены на услуги в клинике не изменились<br>\n",
        "Н1: Средние цены в клинике изменились."
      ]
    },
    {
      "cell_type": "markdown",
      "id": "b5133d5a",
      "metadata": {
        "id": "b5133d5a"
      },
      "source": [
        "Так как распределение цен не является нормальным, для проверки гипотезы используем непараметрический тест Манна-Уитни. Проверим каждую категорию цен отдельно, так как цены изменились в разной степени. Границу статистической значимости примем 0.01,  так как объем выборки у нас достаточно большой.\n",
        "Так как мы проводим три попарных сравнения, применим поправку Бонферрони, чтобы снизить вероятность ошибки первого рода."
      ]
    },
    {
      "cell_type": "code",
      "execution_count": 89,
      "id": "7f4d019c",
      "metadata": {
        "id": "7f4d019c"
      },
      "outputs": [],
      "source": [
        "df_price_2021_min = np.array(df[df['year'] == '2021']['price'])\n",
        "df_price_2022_min = np.array(df[df['year'] == '2022']['price'])"
      ]
    },
    {
      "cell_type": "code",
      "execution_count": 90,
      "id": "51de83a9",
      "metadata": {
        "colab": {
          "base_uri": "https://localhost:8080/"
        },
        "id": "51de83a9",
        "outputId": "41921492-49ca-40dd-c360-eb3d78bfba36"
      },
      "outputs": [
        {
          "output_type": "stream",
          "name": "stdout",
          "text": [
            "Отвергаем нулевую гипотезу. Разница статистически значима. Значение p-value 1.9288575069390223e-104\n"
          ]
        }
      ],
      "source": [
        "alpha = .01\n",
        "result = mannwhitneyu(df_price_2021_min, df_price_2022_min)[1]\n",
        "if result < alpha:\n",
        "    print(f'Отвергаем нулевую гипотезу. Разница статистически значима. Значение p-value {result}')\n",
        "else:\n",
        "    print(f'Не получилось отвергнуть нулевую гипотезу, вывод о различии сделать нельзя. Значение p-value {result}')"
      ]
    },
    {
      "cell_type": "markdown",
      "id": "4503a2c1",
      "metadata": {
        "id": "4503a2c1"
      },
      "source": [
        "**Вывод:** Полученное значение p-value говорит о том, что разница в изменении цен на услуги статистически значима, следовательно, можно предположить, что изменение цен на 6,66% 01.10.2021 и 8,33% 01.07.2022 отразилось на разнице в стоимости лечения в 2021г. и 2022г."
      ]
    },
    {
      "cell_type": "markdown",
      "id": "f86d30da",
      "metadata": {
        "id": "f86d30da"
      },
      "source": [
        "### Гипотеза о влиянии среднего количества оказываемых услуг на стоимость лечения"
      ]
    },
    {
      "cell_type": "markdown",
      "id": "cc733242",
      "metadata": {
        "id": "cc733242"
      },
      "source": [
        "Н0: Среднее количество оказанных услуг за один кейс не изменилось в 2022г. относительно 2021г.<br>\n",
        "Н1: Среднее количество оказанных услуг за один кейс изменилось."
      ]
    },
    {
      "cell_type": "markdown",
      "id": "7ad4be15",
      "metadata": {
        "id": "7ad4be15"
      },
      "source": [
        "Здесь также распределение не является нормальным, поэтому используем тот же критерий Манна-Уитни."
      ]
    },
    {
      "cell_type": "code",
      "execution_count": 91,
      "id": "7512f29b",
      "metadata": {
        "colab": {
          "base_uri": "https://localhost:8080/"
        },
        "id": "7512f29b",
        "outputId": "f85b618a-1724-47de-f9fa-71155bd4926d"
      },
      "outputs": [
        {
          "output_type": "execute_result",
          "data": {
            "text/plain": [
              "(4533, 4108)"
            ]
          },
          "metadata": {},
          "execution_count": 91
        }
      ],
      "source": [
        "df_amount_services_2021 = np.array(df_services_amount[(df_services_amount['year'] == '2021')]['amount'])\n",
        "df_amount_services_2022 = np.array(df_services_amount[(df_services_amount['year'] == '2022')]['amount'])\n",
        "len(df_amount_services_2021), len(df_amount_services_2022)"
      ]
    },
    {
      "cell_type": "code",
      "execution_count": 92,
      "id": "1cfcd3c5",
      "metadata": {
        "colab": {
          "base_uri": "https://localhost:8080/"
        },
        "id": "1cfcd3c5",
        "outputId": "5adee392-08f9-411d-f723-56720a962d6d"
      },
      "outputs": [
        {
          "output_type": "stream",
          "name": "stdout",
          "text": [
            "Не получилось отвергнуть нулевую гипотезу, вывод о различии сделать нельзя. Значение p-value 0.020488464470790408\n"
          ]
        }
      ],
      "source": [
        "alpha = .01\n",
        "result = mannwhitneyu(df_amount_services_2021, df_amount_services_2022)[1]\n",
        "if result < alpha:\n",
        "    print(f'Отвергаем нулевую гипотезу. Разница статистически значима. Значение p-value {result}')\n",
        "else:\n",
        "    print(f'Не получилось отвергнуть нулевую гипотезу, вывод о различии сделать нельзя. Значение p-value {result}')"
      ]
    },
    {
      "cell_type": "markdown",
      "id": "97254399",
      "metadata": {
        "id": "97254399"
      },
      "source": [
        "**Вывод:** Полученное значение p-value не позволяет отвергнуть гипотезу о том, что изменение среднего количества услуг за один кейс повлияло на стоимость лечения в 2022г. относительно 2021г. Разница в среднем количестве оказанных услуг 6,43 в 2021г. и 6,60 в 2022г. не является статистически значимой."
      ]
    },
    {
      "cell_type": "markdown",
      "id": "a04226f9",
      "metadata": {
        "id": "a04226f9"
      },
      "source": [
        "### Гипотеза о влиянии изменения поло-возрастной структуры пациентов"
      ]
    },
    {
      "cell_type": "markdown",
      "id": "5c0fd856",
      "metadata": {
        "id": "5c0fd856"
      },
      "source": [
        "Н0: Средний возраст пациентов клиники не изменился в 2022г. относительно 2021г.<br>\n",
        "Н1: Средний возраст пациентов клиники изменился.<br>"
      ]
    },
    {
      "cell_type": "markdown",
      "id": "629ad0ca",
      "metadata": {
        "id": "629ad0ca"
      },
      "source": [
        "Посчитаем средний возраст пациентов в 2021 и 2022 годах"
      ]
    },
    {
      "cell_type": "code",
      "execution_count": 93,
      "id": "317c7f70",
      "metadata": {
        "colab": {
          "base_uri": "https://localhost:8080/"
        },
        "id": "317c7f70",
        "outputId": "b14626e4-5607-4601-856f-cc9dc132e33d"
      },
      "outputs": [
        {
          "output_type": "execute_result",
          "data": {
            "text/plain": [
              "33.5217381510182"
            ]
          },
          "metadata": {},
          "execution_count": 93
        }
      ],
      "source": [
        "df[df['year'] == '2021']['age_for_service_date'].mean()"
      ]
    },
    {
      "cell_type": "code",
      "execution_count": 94,
      "id": "7e26d0c6",
      "metadata": {
        "colab": {
          "base_uri": "https://localhost:8080/"
        },
        "id": "7e26d0c6",
        "outputId": "76b12f7e-f5c2-4bbb-f12c-995bb431dfb1"
      },
      "outputs": [
        {
          "output_type": "execute_result",
          "data": {
            "text/plain": [
              "34.209141713644236"
            ]
          },
          "metadata": {},
          "execution_count": 94
        }
      ],
      "source": [
        "df[df['year'] == '2022']['age_for_service_date'].mean()"
      ]
    },
    {
      "cell_type": "markdown",
      "id": "06480ad3",
      "metadata": {
        "id": "06480ad3"
      },
      "source": [
        "Так как значение возраста распределено нормально и дисперсии двух выборок одинаковы, применим t-тест для оценки наличия изменений в 2022г. относительно 2021г."
      ]
    },
    {
      "cell_type": "code",
      "execution_count": 95,
      "id": "5bcc490e",
      "metadata": {
        "colab": {
          "base_uri": "https://localhost:8080/"
        },
        "id": "5bcc490e",
        "outputId": "dceb7411-f68a-4f7c-8b05-6f5b17abc1a6"
      },
      "outputs": [
        {
          "output_type": "execute_result",
          "data": {
            "text/plain": [
              "(44392, 40977)"
            ]
          },
          "metadata": {},
          "execution_count": 95
        }
      ],
      "source": [
        "sample_1 = np.array(df[df['year'] == '2021']['age_for_service_date'])\n",
        "sample_2 = np.array(df[df['year'] == '2022']['age_for_service_date'])\n",
        "len(sample_1), len(sample_2)"
      ]
    },
    {
      "cell_type": "code",
      "execution_count": 96,
      "id": "451e05bf",
      "metadata": {
        "colab": {
          "base_uri": "https://localhost:8080/"
        },
        "id": "451e05bf",
        "outputId": "291f52fe-f96c-4274-dd54-3f0967c5056d"
      },
      "outputs": [
        {
          "output_type": "stream",
          "name": "stdout",
          "text": [
            "Отвергаем нулевую гипотезу. Разница статистически значима. Значение p-value 1.4105075395059375e-16\n"
          ]
        }
      ],
      "source": [
        "alpha = .01\n",
        "result = ttest_ind(sample_1, sample_2)[1]\n",
        "if result < alpha:\n",
        "    print(f'Отвергаем нулевую гипотезу. Разница статистически значима. Значение p-value {result}')\n",
        "else:\n",
        "    print(f'Не получилось отвергнуть нулевую гипотезу, вывод о различии сделать нельзя. Значение p-value {result}')"
      ]
    },
    {
      "cell_type": "markdown",
      "id": "0e857666",
      "metadata": {
        "id": "0e857666"
      },
      "source": [
        "**Вывод:** Полученное значение p-value  позволяет отвергнуть гипотезу о том, что увеличение среднего возраста пациентов с 33,52 до 34,21 лет не повлияло на стоимость лечения. Эта разница в среднем возрасте является статистически значимой."
      ]
    },
    {
      "cell_type": "markdown",
      "id": "c8ae535d",
      "metadata": {
        "id": "c8ae535d"
      },
      "source": [
        "Для того чтобы оценить изменения в структуре пациентов по половому признаку, необходимо сравнить разницу долей. Для этих целей применим z-статистику."
      ]
    },
    {
      "cell_type": "markdown",
      "id": "73c15929",
      "metadata": {
        "id": "73c15929"
      },
      "source": [
        "Н0: Доля пациентов клиники пола 1 не изменился в 2022г. относительно 2021г.<br>\n",
        "Н1: Доля пациентов клиники пола 1 изменилась."
      ]
    },
    {
      "cell_type": "code",
      "execution_count": 97,
      "id": "811a9ddb",
      "metadata": {
        "colab": {
          "base_uri": "https://localhost:8080/",
          "height": 112
        },
        "id": "811a9ddb",
        "outputId": "07978820-df41-400f-cf1a-de899141f487"
      },
      "outputs": [
        {
          "output_type": "execute_result",
          "data": {
            "text/plain": [
              "year sex_id   2021   2022  diff, %\n",
              "0         1  10171  15182    49.27\n",
              "1         2  16561  25795    55.76"
            ],
            "text/html": [
              "\n",
              "  <div id=\"df-9bc43404-a9cb-4d49-ab18-88da98f4dfa8\">\n",
              "    <div class=\"colab-df-container\">\n",
              "      <div>\n",
              "<style scoped>\n",
              "    .dataframe tbody tr th:only-of-type {\n",
              "        vertical-align: middle;\n",
              "    }\n",
              "\n",
              "    .dataframe tbody tr th {\n",
              "        vertical-align: top;\n",
              "    }\n",
              "\n",
              "    .dataframe thead th {\n",
              "        text-align: right;\n",
              "    }\n",
              "</style>\n",
              "<table border=\"1\" class=\"dataframe\">\n",
              "  <thead>\n",
              "    <tr style=\"text-align: right;\">\n",
              "      <th>year</th>\n",
              "      <th>sex_id</th>\n",
              "      <th>2021</th>\n",
              "      <th>2022</th>\n",
              "      <th>diff, %</th>\n",
              "    </tr>\n",
              "  </thead>\n",
              "  <tbody>\n",
              "    <tr>\n",
              "      <th>0</th>\n",
              "      <td>1</td>\n",
              "      <td>10171</td>\n",
              "      <td>15182</td>\n",
              "      <td>49.27</td>\n",
              "    </tr>\n",
              "    <tr>\n",
              "      <th>1</th>\n",
              "      <td>2</td>\n",
              "      <td>16561</td>\n",
              "      <td>25795</td>\n",
              "      <td>55.76</td>\n",
              "    </tr>\n",
              "  </tbody>\n",
              "</table>\n",
              "</div>\n",
              "      <button class=\"colab-df-convert\" onclick=\"convertToInteractive('df-9bc43404-a9cb-4d49-ab18-88da98f4dfa8')\"\n",
              "              title=\"Convert this dataframe to an interactive table.\"\n",
              "              style=\"display:none;\">\n",
              "        \n",
              "  <svg xmlns=\"http://www.w3.org/2000/svg\" height=\"24px\"viewBox=\"0 0 24 24\"\n",
              "       width=\"24px\">\n",
              "    <path d=\"M0 0h24v24H0V0z\" fill=\"none\"/>\n",
              "    <path d=\"M18.56 5.44l.94 2.06.94-2.06 2.06-.94-2.06-.94-.94-2.06-.94 2.06-2.06.94zm-11 1L8.5 8.5l.94-2.06 2.06-.94-2.06-.94L8.5 2.5l-.94 2.06-2.06.94zm10 10l.94 2.06.94-2.06 2.06-.94-2.06-.94-.94-2.06-.94 2.06-2.06.94z\"/><path d=\"M17.41 7.96l-1.37-1.37c-.4-.4-.92-.59-1.43-.59-.52 0-1.04.2-1.43.59L10.3 9.45l-7.72 7.72c-.78.78-.78 2.05 0 2.83L4 21.41c.39.39.9.59 1.41.59.51 0 1.02-.2 1.41-.59l7.78-7.78 2.81-2.81c.8-.78.8-2.07 0-2.86zM5.41 20L4 18.59l7.72-7.72 1.47 1.35L5.41 20z\"/>\n",
              "  </svg>\n",
              "      </button>\n",
              "      \n",
              "  <style>\n",
              "    .colab-df-container {\n",
              "      display:flex;\n",
              "      flex-wrap:wrap;\n",
              "      gap: 12px;\n",
              "    }\n",
              "\n",
              "    .colab-df-convert {\n",
              "      background-color: #E8F0FE;\n",
              "      border: none;\n",
              "      border-radius: 50%;\n",
              "      cursor: pointer;\n",
              "      display: none;\n",
              "      fill: #1967D2;\n",
              "      height: 32px;\n",
              "      padding: 0 0 0 0;\n",
              "      width: 32px;\n",
              "    }\n",
              "\n",
              "    .colab-df-convert:hover {\n",
              "      background-color: #E2EBFA;\n",
              "      box-shadow: 0px 1px 2px rgba(60, 64, 67, 0.3), 0px 1px 3px 1px rgba(60, 64, 67, 0.15);\n",
              "      fill: #174EA6;\n",
              "    }\n",
              "\n",
              "    [theme=dark] .colab-df-convert {\n",
              "      background-color: #3B4455;\n",
              "      fill: #D2E3FC;\n",
              "    }\n",
              "\n",
              "    [theme=dark] .colab-df-convert:hover {\n",
              "      background-color: #434B5C;\n",
              "      box-shadow: 0px 1px 3px 1px rgba(0, 0, 0, 0.15);\n",
              "      filter: drop-shadow(0px 1px 2px rgba(0, 0, 0, 0.3));\n",
              "      fill: #FFFFFF;\n",
              "    }\n",
              "  </style>\n",
              "\n",
              "      <script>\n",
              "        const buttonEl =\n",
              "          document.querySelector('#df-9bc43404-a9cb-4d49-ab18-88da98f4dfa8 button.colab-df-convert');\n",
              "        buttonEl.style.display =\n",
              "          google.colab.kernel.accessAllowed ? 'block' : 'none';\n",
              "\n",
              "        async function convertToInteractive(key) {\n",
              "          const element = document.querySelector('#df-9bc43404-a9cb-4d49-ab18-88da98f4dfa8');\n",
              "          const dataTable =\n",
              "            await google.colab.kernel.invokeFunction('convertToInteractive',\n",
              "                                                     [key], {});\n",
              "          if (!dataTable) return;\n",
              "\n",
              "          const docLinkHtml = 'Like what you see? Visit the ' +\n",
              "            '<a target=\"_blank\" href=https://colab.research.google.com/notebooks/data_table.ipynb>data table notebook</a>'\n",
              "            + ' to learn more about interactive tables.';\n",
              "          element.innerHTML = '';\n",
              "          dataTable['output_type'] = 'display_data';\n",
              "          await google.colab.output.renderOutput(dataTable, element);\n",
              "          const docLink = document.createElement('div');\n",
              "          docLink.innerHTML = docLinkHtml;\n",
              "          element.appendChild(docLink);\n",
              "        }\n",
              "      </script>\n",
              "    </div>\n",
              "  </div>\n",
              "  "
            ]
          },
          "metadata": {},
          "execution_count": 97
        }
      ],
      "source": [
        "df_sex_by_year"
      ]
    },
    {
      "cell_type": "code",
      "execution_count": 98,
      "id": "32bd6af3",
      "metadata": {
        "colab": {
          "base_uri": "https://localhost:8080/"
        },
        "id": "32bd6af3",
        "outputId": "4e40c2b7-8fbc-476c-b085-6b7e475bfc33"
      },
      "outputs": [
        {
          "output_type": "stream",
          "name": "stdout",
          "text": [
            "p-значение:  0.0087\n",
            "Отвергаем нулевую гипотезу: между долями есть значимая разница\n",
            "Доля пола 1 2021 = 0.38\n",
            "Доля пола 1 2022 = 0.371\n"
          ]
        }
      ],
      "source": [
        "# Создаем список из количества пациентов пола 1 в 2021 и 2022 годах\n",
        "sex_id_1 = np.array([df_sex_by_year['2021'][0], df_sex_by_year['2022'][0]])\n",
        "\n",
        "# Создаем список из количества пациентов пола 1 в 2021 и 2022 годах\n",
        "total = np.array([df_sex_by_year['2021'][0] + df_sex_by_year['2021'][1], df_sex_by_year['2022'][0] + df_sex_by_year['2022'][1]])\n",
        "\n",
        "# Задаем уровень статистической значимости\n",
        "alpha = .01\n",
        "\n",
        "# Рассчитываем z-статистику\n",
        "p1 = sex_id_1[0] / total[0]\n",
        "p2 = sex_id_1[1] / total[1]\n",
        "p_combined = (sex_id_1[0] + sex_id_1[1]) / (total[0] + total[1])\n",
        "difference = p1 - p2\n",
        "z_value = difference / math.sqrt(p_combined * (1 - p_combined) * (1 / total[0] + 1 / total[1]))\n",
        "\n",
        "# Рассчитываем значение p-value\n",
        "distr = st.norm(0, 1)\n",
        "p_value =  (1 - distr.cdf(abs(z_value))) * 2 \n",
        "print('p-значение: ', round(p_value, 4))\n",
        "\n",
        "if p_value < alpha:\n",
        "    print(f'Отвергаем нулевую гипотезу: между долями есть значимая разница\\nДоля пола 1 2021 = {round(p1,3)}\\nДоля пола 1 2022 = {round(p2,3)}')\n",
        "else:\n",
        "    print(f'\\nНе получилось отвергнуть нулевую гипотезу, нет оснований считать доли разными\\nДоля пола 1 2021 = {round(p1,3)}\\nДоля пола 1 2022 = {round(p2,3)}')"
      ]
    },
    {
      "cell_type": "markdown",
      "id": "c84a971c",
      "metadata": {
        "id": "c84a971c"
      },
      "source": [
        "**Вывод:** Полученное значение p-value позволяет отвергнуть нулевую гипотезу о равенстве долей пациентов в 2021г. и 2022г. Изменение доли пациентов пола 1 с 0.38 до 0.37 является статистически значимым."
      ]
    },
    {
      "cell_type": "markdown",
      "id": "bb2278c1",
      "metadata": {
        "id": "bb2278c1"
      },
      "source": [
        "### Гипотеза о влиянии структуры оказываемых услуг на увеличение стоимости лечения"
      ]
    },
    {
      "cell_type": "markdown",
      "id": "efb47713",
      "metadata": {
        "id": "efb47713"
      },
      "source": [
        "Н0: Доля услуг каждой категории не изменилась в 2022г. относительно 2021г. <br>\n",
        "Н1: Доля услуг изменилась в 2022г. относительно 2021г.<br>"
      ]
    },
    {
      "cell_type": "markdown",
      "id": "3aeb1feb",
      "metadata": {
        "id": "3aeb1feb"
      },
      "source": [
        "Здесь также сравниваем долю каждой категории лечения. Для сравнения применим z-статистику с поправокой Бонферонни с целью уменьшения вероятности ошибки первого рода, так как происходит множественное сравнение."
      ]
    },
    {
      "cell_type": "code",
      "execution_count": 99,
      "id": "eb90f25b",
      "metadata": {
        "colab": {
          "base_uri": "https://localhost:8080/",
          "height": 175
        },
        "id": "eb90f25b",
        "outputId": "d1b11f1f-889c-43ce-9908-686f740d345c"
      },
      "outputs": [
        {
          "output_type": "execute_result",
          "data": {
            "text/plain": [
              "year price_category   2021   2022\n",
              "2            низкая  25937  39786\n",
              "3           средняя    717   1118\n",
              "1           высокая     73     72\n",
              "0           выбросы      9      1"
            ],
            "text/html": [
              "\n",
              "  <div id=\"df-e0a93e44-31ce-4a0e-adac-40215f5acbbd\">\n",
              "    <div class=\"colab-df-container\">\n",
              "      <div>\n",
              "<style scoped>\n",
              "    .dataframe tbody tr th:only-of-type {\n",
              "        vertical-align: middle;\n",
              "    }\n",
              "\n",
              "    .dataframe tbody tr th {\n",
              "        vertical-align: top;\n",
              "    }\n",
              "\n",
              "    .dataframe thead th {\n",
              "        text-align: right;\n",
              "    }\n",
              "</style>\n",
              "<table border=\"1\" class=\"dataframe\">\n",
              "  <thead>\n",
              "    <tr style=\"text-align: right;\">\n",
              "      <th>year</th>\n",
              "      <th>price_category</th>\n",
              "      <th>2021</th>\n",
              "      <th>2022</th>\n",
              "    </tr>\n",
              "  </thead>\n",
              "  <tbody>\n",
              "    <tr>\n",
              "      <th>2</th>\n",
              "      <td>низкая</td>\n",
              "      <td>25937</td>\n",
              "      <td>39786</td>\n",
              "    </tr>\n",
              "    <tr>\n",
              "      <th>3</th>\n",
              "      <td>средняя</td>\n",
              "      <td>717</td>\n",
              "      <td>1118</td>\n",
              "    </tr>\n",
              "    <tr>\n",
              "      <th>1</th>\n",
              "      <td>высокая</td>\n",
              "      <td>73</td>\n",
              "      <td>72</td>\n",
              "    </tr>\n",
              "    <tr>\n",
              "      <th>0</th>\n",
              "      <td>выбросы</td>\n",
              "      <td>9</td>\n",
              "      <td>1</td>\n",
              "    </tr>\n",
              "  </tbody>\n",
              "</table>\n",
              "</div>\n",
              "      <button class=\"colab-df-convert\" onclick=\"convertToInteractive('df-e0a93e44-31ce-4a0e-adac-40215f5acbbd')\"\n",
              "              title=\"Convert this dataframe to an interactive table.\"\n",
              "              style=\"display:none;\">\n",
              "        \n",
              "  <svg xmlns=\"http://www.w3.org/2000/svg\" height=\"24px\"viewBox=\"0 0 24 24\"\n",
              "       width=\"24px\">\n",
              "    <path d=\"M0 0h24v24H0V0z\" fill=\"none\"/>\n",
              "    <path d=\"M18.56 5.44l.94 2.06.94-2.06 2.06-.94-2.06-.94-.94-2.06-.94 2.06-2.06.94zm-11 1L8.5 8.5l.94-2.06 2.06-.94-2.06-.94L8.5 2.5l-.94 2.06-2.06.94zm10 10l.94 2.06.94-2.06 2.06-.94-2.06-.94-.94-2.06-.94 2.06-2.06.94z\"/><path d=\"M17.41 7.96l-1.37-1.37c-.4-.4-.92-.59-1.43-.59-.52 0-1.04.2-1.43.59L10.3 9.45l-7.72 7.72c-.78.78-.78 2.05 0 2.83L4 21.41c.39.39.9.59 1.41.59.51 0 1.02-.2 1.41-.59l7.78-7.78 2.81-2.81c.8-.78.8-2.07 0-2.86zM5.41 20L4 18.59l7.72-7.72 1.47 1.35L5.41 20z\"/>\n",
              "  </svg>\n",
              "      </button>\n",
              "      \n",
              "  <style>\n",
              "    .colab-df-container {\n",
              "      display:flex;\n",
              "      flex-wrap:wrap;\n",
              "      gap: 12px;\n",
              "    }\n",
              "\n",
              "    .colab-df-convert {\n",
              "      background-color: #E8F0FE;\n",
              "      border: none;\n",
              "      border-radius: 50%;\n",
              "      cursor: pointer;\n",
              "      display: none;\n",
              "      fill: #1967D2;\n",
              "      height: 32px;\n",
              "      padding: 0 0 0 0;\n",
              "      width: 32px;\n",
              "    }\n",
              "\n",
              "    .colab-df-convert:hover {\n",
              "      background-color: #E2EBFA;\n",
              "      box-shadow: 0px 1px 2px rgba(60, 64, 67, 0.3), 0px 1px 3px 1px rgba(60, 64, 67, 0.15);\n",
              "      fill: #174EA6;\n",
              "    }\n",
              "\n",
              "    [theme=dark] .colab-df-convert {\n",
              "      background-color: #3B4455;\n",
              "      fill: #D2E3FC;\n",
              "    }\n",
              "\n",
              "    [theme=dark] .colab-df-convert:hover {\n",
              "      background-color: #434B5C;\n",
              "      box-shadow: 0px 1px 3px 1px rgba(0, 0, 0, 0.15);\n",
              "      filter: drop-shadow(0px 1px 2px rgba(0, 0, 0, 0.3));\n",
              "      fill: #FFFFFF;\n",
              "    }\n",
              "  </style>\n",
              "\n",
              "      <script>\n",
              "        const buttonEl =\n",
              "          document.querySelector('#df-e0a93e44-31ce-4a0e-adac-40215f5acbbd button.colab-df-convert');\n",
              "        buttonEl.style.display =\n",
              "          google.colab.kernel.accessAllowed ? 'block' : 'none';\n",
              "\n",
              "        async function convertToInteractive(key) {\n",
              "          const element = document.querySelector('#df-e0a93e44-31ce-4a0e-adac-40215f5acbbd');\n",
              "          const dataTable =\n",
              "            await google.colab.kernel.invokeFunction('convertToInteractive',\n",
              "                                                     [key], {});\n",
              "          if (!dataTable) return;\n",
              "\n",
              "          const docLinkHtml = 'Like what you see? Visit the ' +\n",
              "            '<a target=\"_blank\" href=https://colab.research.google.com/notebooks/data_table.ipynb>data table notebook</a>'\n",
              "            + ' to learn more about interactive tables.';\n",
              "          element.innerHTML = '';\n",
              "          dataTable['output_type'] = 'display_data';\n",
              "          await google.colab.output.renderOutput(dataTable, element);\n",
              "          const docLink = document.createElement('div');\n",
              "          docLink.innerHTML = docLinkHtml;\n",
              "          element.appendChild(docLink);\n",
              "        }\n",
              "      </script>\n",
              "    </div>\n",
              "  </div>\n",
              "  "
            ]
          },
          "metadata": {},
          "execution_count": 99
        }
      ],
      "source": [
        "df_price_by_year"
      ]
    },
    {
      "cell_type": "code",
      "execution_count": 100,
      "id": "e7cbe914",
      "metadata": {
        "id": "e7cbe914"
      },
      "outputs": [],
      "source": [
        "def compare_ratio(group_a, group_b):\n",
        "    my_list = np.array(df_price_by_year['price_category'][:3])\n",
        "    for i in range(len(group_a) - 1):\n",
        "        p1 = group_a[i] / sum(df_price_by_year['2021'])\n",
        "        p2 = group_b[i] / sum(df_price_by_year['2022'])\n",
        "        p_combined = (group_a[i] + group_b[i]) / (sum(df_price_by_year['2021']) + sum(df_price_by_year['2022']))\n",
        "        difference = p1 - p2\n",
        "        z_value = difference / math.sqrt(p_combined * (1 - p_combined) * (1 / sum(df_price_by_year['2021']) + 1 / sum(df_price_by_year['2022'])))\n",
        "\n",
        "        distr = st.norm(0, 1)\n",
        "        p_value =  (1 - distr.cdf(abs(z_value))) * 2 \n",
        "            \n",
        "        alpha = .01 / 3 # Применяем поправку Бонферрони\n",
        "\n",
        "        print('p-значение: ', round(p_value, 4))\n",
        "\n",
        "        if p_value < alpha:\n",
        "            print(f'{my_list[i]}\\nОтвергаем нулевую гипотезу: между долями есть значимая разница\\nДоля 2021 = {round(p1,3)}\\nДоля 2022 = {round(p2,3)}')\n",
        "            print('-' * 20)\n",
        "        else:\n",
        "            print(f'{my_list[i]}\\nНе получилось отвергнуть нулевую гипотезу, нет оснований считать доли разными\\nДоля 2021 = {round(p1,3)}\\nДоля 2022 = {round(p2,3)}')\n",
        "            print('-' * 20)"
      ]
    },
    {
      "cell_type": "code",
      "execution_count": 101,
      "id": "bb7fc30a",
      "metadata": {
        "colab": {
          "base_uri": "https://localhost:8080/"
        },
        "id": "bb7fc30a",
        "outputId": "739847cb-8ac4-43a8-b6b3-a09069e8ae4c"
      },
      "outputs": [
        {
          "output_type": "stream",
          "name": "stdout",
          "text": [
            "p-значение:  0.537\n",
            "низкая\n",
            "Не получилось отвергнуть нулевую гипотезу, нет оснований считать доли разными\n",
            "Доля 2021 = 0.97\n",
            "Доля 2022 = 0.971\n",
            "--------------------\n",
            "p-значение:  0.7152\n",
            "средняя\n",
            "Не получилось отвергнуть нулевую гипотезу, нет оснований считать доли разными\n",
            "Доля 2021 = 0.027\n",
            "Доля 2022 = 0.027\n",
            "--------------------\n",
            "p-значение:  0.0074\n",
            "высокая\n",
            "Не получилось отвергнуть нулевую гипотезу, нет оснований считать доли разными\n",
            "Доля 2021 = 0.003\n",
            "Доля 2022 = 0.002\n",
            "--------------------\n"
          ]
        }
      ],
      "source": [
        "compare_ratio(np.array(df_price_by_year['2021']), np.array(df_price_by_year['2022']))"
      ]
    },
    {
      "cell_type": "markdown",
      "id": "6d678c7f",
      "metadata": {
        "id": "6d678c7f"
      },
      "source": [
        "**Вывод:** Изменение долей услуг низкой, средней и высокой стоимости не показало значимого различия в 2022 г. относительно 2021 г."
      ]
    },
    {
      "cell_type": "markdown",
      "id": "496b8a3e",
      "metadata": {
        "id": "496b8a3e"
      },
      "source": [
        "**Общий вывод:**\n",
        "Средняя стоимость лечения в клинике выросла  с 11 019 руб. в 2021г. до 11 848 руб. в 2022г. Эта разница является статистически значимой. При этом отметим, что наибольший рост показал самый массовый сегмент низкой стоимости обслуживания. Здесь средний рост в среднем составил 6,57%.<br>\n",
        "1) При проверке гипотезы о влиянии изменения цен на услуги получено значение p-value говорящее о том, что разница в изменении цен на услуги статистически значима, следовательно, можно предположить, что изменение цен на 6,66% 01.10.2021 и 8,33% 01.07.2022 отразилось на разнице в стоимости лечения.<br>\n",
        "\n",
        "2)  Проверка гипотезы об изменении среднего количества услуг за один кейс не показало значимого различия между средними значениями 2021г. и 2022г (6,43 и 6,60 соответственно), что не является статистически значимым результатом. Нет оснований утверждать, что стоимость лечения в клинике изменилась из-за этого фактора.<br>\n",
        "\n",
        "3) В структуре пациентов по половому признаку произошло снижение пациентов пола 1 с 0.38 в 2021 г. до 0.37 в 2021 г., что является статистически значимым различием и позволяет сделать предположение о влиянии этого фактора на стоимость обслуживания в клинике. Также изменился средний возраст пациентов 33,52 до 34,21 лет, что также является статистически значимым различием.\n",
        "\n",
        "4) Структура оказанных услуг по категориям низкой, средней, высокой цены существенно не изменилась относительно 2021г., следовательно нет оснований полагать, что этот фактор оказал влияние на изменение стоимости обслуживания в клинике.\n"
      ]
    },
    {
      "cell_type": "code",
      "execution_count": 101,
      "id": "517bf435",
      "metadata": {
        "id": "517bf435"
      },
      "outputs": [],
      "source": []
    }
  ],
  "metadata": {
    "ExecuteTimeLog": [
      {
        "duration": 1462,
        "start_time": "2022-10-27T08:59:07.574Z"
      },
      {
        "duration": 174,
        "start_time": "2022-10-27T08:59:09.038Z"
      },
      {
        "duration": 0,
        "start_time": "2022-10-27T08:59:09.215Z"
      },
      {
        "duration": 0,
        "start_time": "2022-10-27T08:59:09.217Z"
      },
      {
        "duration": 0,
        "start_time": "2022-10-27T08:59:09.218Z"
      },
      {
        "duration": 0,
        "start_time": "2022-10-27T08:59:09.219Z"
      },
      {
        "duration": 0,
        "start_time": "2022-10-27T08:59:09.229Z"
      },
      {
        "duration": 0,
        "start_time": "2022-10-27T08:59:09.230Z"
      },
      {
        "duration": 0,
        "start_time": "2022-10-27T08:59:09.231Z"
      },
      {
        "duration": 0,
        "start_time": "2022-10-27T08:59:09.232Z"
      },
      {
        "duration": 0,
        "start_time": "2022-10-27T08:59:09.233Z"
      },
      {
        "duration": 0,
        "start_time": "2022-10-27T08:59:09.234Z"
      },
      {
        "duration": 0,
        "start_time": "2022-10-27T08:59:09.235Z"
      },
      {
        "duration": 0,
        "start_time": "2022-10-27T08:59:09.236Z"
      },
      {
        "duration": 0,
        "start_time": "2022-10-27T08:59:09.237Z"
      },
      {
        "duration": 0,
        "start_time": "2022-10-27T08:59:09.238Z"
      },
      {
        "duration": 0,
        "start_time": "2022-10-27T08:59:09.239Z"
      },
      {
        "duration": 0,
        "start_time": "2022-10-27T08:59:09.240Z"
      },
      {
        "duration": 0,
        "start_time": "2022-10-27T08:59:09.241Z"
      },
      {
        "duration": 0,
        "start_time": "2022-10-27T08:59:09.242Z"
      },
      {
        "duration": 0,
        "start_time": "2022-10-27T08:59:09.243Z"
      },
      {
        "duration": 0,
        "start_time": "2022-10-27T08:59:09.244Z"
      },
      {
        "duration": 0,
        "start_time": "2022-10-27T08:59:09.245Z"
      },
      {
        "duration": 0,
        "start_time": "2022-10-27T08:59:09.246Z"
      },
      {
        "duration": 0,
        "start_time": "2022-10-27T08:59:09.247Z"
      },
      {
        "duration": 0,
        "start_time": "2022-10-27T08:59:09.248Z"
      },
      {
        "duration": 0,
        "start_time": "2022-10-27T08:59:09.249Z"
      },
      {
        "duration": 0,
        "start_time": "2022-10-27T08:59:09.250Z"
      },
      {
        "duration": 0,
        "start_time": "2022-10-27T08:59:09.251Z"
      },
      {
        "duration": 0,
        "start_time": "2022-10-27T08:59:09.252Z"
      },
      {
        "duration": 0,
        "start_time": "2022-10-27T08:59:09.253Z"
      },
      {
        "duration": 0,
        "start_time": "2022-10-27T08:59:09.254Z"
      },
      {
        "duration": 0,
        "start_time": "2022-10-27T08:59:09.255Z"
      },
      {
        "duration": 0,
        "start_time": "2022-10-27T08:59:09.256Z"
      },
      {
        "duration": 0,
        "start_time": "2022-10-27T08:59:09.257Z"
      },
      {
        "duration": 0,
        "start_time": "2022-10-27T08:59:09.258Z"
      },
      {
        "duration": 1208,
        "start_time": "2022-10-27T09:00:05.573Z"
      },
      {
        "duration": 10303,
        "start_time": "2022-10-27T09:00:06.783Z"
      },
      {
        "duration": 15,
        "start_time": "2022-10-27T09:00:17.087Z"
      },
      {
        "duration": 33,
        "start_time": "2022-10-27T09:00:17.103Z"
      },
      {
        "duration": 16,
        "start_time": "2022-10-27T09:00:17.138Z"
      },
      {
        "duration": 6,
        "start_time": "2022-10-27T09:00:17.155Z"
      },
      {
        "duration": 11,
        "start_time": "2022-10-27T09:00:17.163Z"
      },
      {
        "duration": 6,
        "start_time": "2022-10-27T09:00:17.176Z"
      },
      {
        "duration": 52,
        "start_time": "2022-10-27T09:00:17.184Z"
      },
      {
        "duration": 13,
        "start_time": "2022-10-27T09:00:17.238Z"
      },
      {
        "duration": 16,
        "start_time": "2022-10-27T09:00:17.253Z"
      },
      {
        "duration": 5,
        "start_time": "2022-10-27T09:00:17.270Z"
      },
      {
        "duration": 12,
        "start_time": "2022-10-27T09:00:17.276Z"
      },
      {
        "duration": 38,
        "start_time": "2022-10-27T09:00:17.291Z"
      },
      {
        "duration": 51,
        "start_time": "2022-10-27T09:00:17.331Z"
      },
      {
        "duration": 19,
        "start_time": "2022-10-27T09:00:17.384Z"
      },
      {
        "duration": 41,
        "start_time": "2022-10-27T09:00:17.406Z"
      },
      {
        "duration": 22,
        "start_time": "2022-10-27T09:00:17.449Z"
      },
      {
        "duration": 5,
        "start_time": "2022-10-27T09:00:17.473Z"
      },
      {
        "duration": 69,
        "start_time": "2022-10-27T09:00:17.480Z"
      },
      {
        "duration": 25,
        "start_time": "2022-10-27T09:00:17.551Z"
      },
      {
        "duration": 10,
        "start_time": "2022-10-27T09:00:17.578Z"
      },
      {
        "duration": 68843,
        "start_time": "2022-10-27T09:00:17.590Z"
      },
      {
        "duration": 13,
        "start_time": "2022-10-27T09:01:26.435Z"
      },
      {
        "duration": 42,
        "start_time": "2022-10-27T09:01:26.450Z"
      },
      {
        "duration": 205,
        "start_time": "2022-10-27T09:01:26.494Z"
      },
      {
        "duration": 13,
        "start_time": "2022-10-27T09:01:26.701Z"
      },
      {
        "duration": 20,
        "start_time": "2022-10-27T09:01:26.715Z"
      },
      {
        "duration": 9,
        "start_time": "2022-10-27T09:01:26.737Z"
      },
      {
        "duration": 9,
        "start_time": "2022-10-27T09:01:26.747Z"
      },
      {
        "duration": 286,
        "start_time": "2022-10-27T09:01:26.758Z"
      },
      {
        "duration": 7,
        "start_time": "2022-10-27T09:01:27.046Z"
      },
      {
        "duration": 10,
        "start_time": "2022-10-27T09:01:27.055Z"
      },
      {
        "duration": 196,
        "start_time": "2022-10-27T09:01:27.067Z"
      },
      {
        "duration": 184,
        "start_time": "2022-10-27T09:01:27.265Z"
      },
      {
        "duration": 200,
        "start_time": "2022-10-27T09:01:27.451Z"
      },
      {
        "duration": 191,
        "start_time": "2022-10-27T09:02:13.768Z"
      },
      {
        "duration": 1026,
        "start_time": "2022-10-27T09:02:56.552Z"
      },
      {
        "duration": 329,
        "start_time": "2022-10-27T09:03:50.831Z"
      },
      {
        "duration": 378,
        "start_time": "2022-10-27T09:04:12.184Z"
      },
      {
        "duration": 22,
        "start_time": "2022-10-27T09:09:11.482Z"
      },
      {
        "duration": 163,
        "start_time": "2022-10-27T09:09:20.657Z"
      },
      {
        "duration": 207,
        "start_time": "2022-10-27T09:09:27.211Z"
      },
      {
        "duration": 116,
        "start_time": "2022-10-27T09:10:56.273Z"
      },
      {
        "duration": 97,
        "start_time": "2022-10-27T09:11:00.976Z"
      },
      {
        "duration": 98,
        "start_time": "2022-10-27T09:11:12.417Z"
      },
      {
        "duration": 15,
        "start_time": "2022-10-27T09:22:20.903Z"
      },
      {
        "duration": 15,
        "start_time": "2022-10-27T09:23:42.248Z"
      },
      {
        "duration": 20,
        "start_time": "2022-10-27T09:23:51.030Z"
      },
      {
        "duration": 18,
        "start_time": "2022-10-27T09:26:52.533Z"
      },
      {
        "duration": 4,
        "start_time": "2022-10-27T09:28:11.406Z"
      },
      {
        "duration": 19,
        "start_time": "2022-10-27T09:28:30.765Z"
      },
      {
        "duration": 24,
        "start_time": "2022-10-27T09:28:44.833Z"
      },
      {
        "duration": 9,
        "start_time": "2022-10-27T09:28:50.867Z"
      },
      {
        "duration": 64653,
        "start_time": "2022-10-27T09:28:54.364Z"
      },
      {
        "duration": 24,
        "start_time": "2022-10-27T09:34:26.280Z"
      },
      {
        "duration": 39,
        "start_time": "2022-10-27T09:34:27.951Z"
      },
      {
        "duration": 201,
        "start_time": "2022-10-27T09:34:31.863Z"
      },
      {
        "duration": 189,
        "start_time": "2022-10-27T09:34:44.862Z"
      },
      {
        "duration": 15,
        "start_time": "2022-10-27T09:34:53.174Z"
      },
      {
        "duration": 13,
        "start_time": "2022-10-27T09:35:01.647Z"
      },
      {
        "duration": 446,
        "start_time": "2022-10-27T09:35:06.718Z"
      },
      {
        "duration": 283,
        "start_time": "2022-10-27T09:35:20.054Z"
      },
      {
        "duration": 24,
        "start_time": "2022-10-27T09:36:02.390Z"
      },
      {
        "duration": 9,
        "start_time": "2022-10-27T09:49:45.603Z"
      },
      {
        "duration": 35,
        "start_time": "2022-10-27T09:49:49.047Z"
      },
      {
        "duration": 31,
        "start_time": "2022-10-27T09:50:12.299Z"
      },
      {
        "duration": 49,
        "start_time": "2022-10-27T09:50:22.874Z"
      },
      {
        "duration": 19,
        "start_time": "2022-10-27T09:51:29.459Z"
      },
      {
        "duration": 10,
        "start_time": "2022-10-27T09:59:25.308Z"
      },
      {
        "duration": 1168,
        "start_time": "2022-10-27T10:02:46.739Z"
      },
      {
        "duration": 5,
        "start_time": "2022-10-27T10:03:45.513Z"
      },
      {
        "duration": 19,
        "start_time": "2022-10-27T10:03:48.847Z"
      },
      {
        "duration": 1175,
        "start_time": "2022-10-27T10:04:20.919Z"
      },
      {
        "duration": 5,
        "start_time": "2022-10-27T10:04:48.458Z"
      },
      {
        "duration": 21,
        "start_time": "2022-10-27T10:04:52.590Z"
      },
      {
        "duration": 6,
        "start_time": "2022-10-27T10:06:03.168Z"
      },
      {
        "duration": 7,
        "start_time": "2022-10-27T10:06:27.086Z"
      },
      {
        "duration": 6,
        "start_time": "2022-10-27T10:06:43.718Z"
      },
      {
        "duration": 7,
        "start_time": "2022-10-27T10:06:45.806Z"
      },
      {
        "duration": 22,
        "start_time": "2022-10-27T10:06:57.341Z"
      },
      {
        "duration": 6,
        "start_time": "2022-10-27T11:00:27.145Z"
      },
      {
        "duration": 26,
        "start_time": "2022-10-27T11:00:28.052Z"
      },
      {
        "duration": 5,
        "start_time": "2022-10-27T11:04:44.342Z"
      },
      {
        "duration": 6,
        "start_time": "2022-10-27T11:04:47.621Z"
      },
      {
        "duration": 22,
        "start_time": "2022-10-27T11:04:48.056Z"
      },
      {
        "duration": 5,
        "start_time": "2022-10-27T11:06:40.877Z"
      },
      {
        "duration": 22,
        "start_time": "2022-10-27T11:06:41.493Z"
      },
      {
        "duration": 5,
        "start_time": "2022-10-27T11:06:58.932Z"
      },
      {
        "duration": 24,
        "start_time": "2022-10-27T11:07:00.087Z"
      },
      {
        "duration": 5,
        "start_time": "2022-10-27T11:07:04.797Z"
      },
      {
        "duration": 25,
        "start_time": "2022-10-27T11:07:05.205Z"
      },
      {
        "duration": 1216,
        "start_time": "2022-10-27T11:07:25.213Z"
      },
      {
        "duration": 9301,
        "start_time": "2022-10-27T11:07:26.431Z"
      },
      {
        "duration": 12,
        "start_time": "2022-10-27T11:07:35.734Z"
      },
      {
        "duration": 23,
        "start_time": "2022-10-27T11:07:35.748Z"
      },
      {
        "duration": 25,
        "start_time": "2022-10-27T11:07:35.773Z"
      },
      {
        "duration": 11,
        "start_time": "2022-10-27T11:07:35.800Z"
      },
      {
        "duration": 10,
        "start_time": "2022-10-27T11:07:35.813Z"
      },
      {
        "duration": 11,
        "start_time": "2022-10-27T11:07:35.829Z"
      },
      {
        "duration": 22,
        "start_time": "2022-10-27T11:07:35.841Z"
      },
      {
        "duration": 23,
        "start_time": "2022-10-27T11:07:35.866Z"
      },
      {
        "duration": 35,
        "start_time": "2022-10-27T11:07:35.891Z"
      },
      {
        "duration": 4,
        "start_time": "2022-10-27T11:07:35.927Z"
      },
      {
        "duration": 36,
        "start_time": "2022-10-27T11:07:35.932Z"
      },
      {
        "duration": 32,
        "start_time": "2022-10-27T11:07:35.969Z"
      },
      {
        "duration": 60,
        "start_time": "2022-10-27T11:07:36.002Z"
      },
      {
        "duration": 16,
        "start_time": "2022-10-27T11:07:36.063Z"
      },
      {
        "duration": 19,
        "start_time": "2022-10-27T11:07:36.080Z"
      },
      {
        "duration": 26,
        "start_time": "2022-10-27T11:07:36.101Z"
      },
      {
        "duration": 6,
        "start_time": "2022-10-27T11:07:36.129Z"
      },
      {
        "duration": 59,
        "start_time": "2022-10-27T11:07:36.136Z"
      },
      {
        "duration": 24,
        "start_time": "2022-10-27T11:07:36.197Z"
      },
      {
        "duration": 17,
        "start_time": "2022-10-27T11:07:36.229Z"
      },
      {
        "duration": 44,
        "start_time": "2022-10-27T11:07:36.248Z"
      },
      {
        "duration": 11,
        "start_time": "2022-10-27T11:07:36.295Z"
      },
      {
        "duration": 61643,
        "start_time": "2022-10-27T11:07:36.308Z"
      },
      {
        "duration": 13,
        "start_time": "2022-10-27T11:08:37.953Z"
      },
      {
        "duration": 39,
        "start_time": "2022-10-27T11:08:37.968Z"
      },
      {
        "duration": 206,
        "start_time": "2022-10-27T11:08:38.028Z"
      },
      {
        "duration": 15,
        "start_time": "2022-10-27T11:08:38.236Z"
      },
      {
        "duration": 10,
        "start_time": "2022-10-27T11:08:38.253Z"
      },
      {
        "duration": 480,
        "start_time": "2022-10-27T11:08:38.265Z"
      },
      {
        "duration": 212,
        "start_time": "2022-10-27T11:08:38.747Z"
      },
      {
        "duration": 19,
        "start_time": "2022-10-27T11:08:38.961Z"
      },
      {
        "duration": 19,
        "start_time": "2022-10-27T11:08:38.982Z"
      },
      {
        "duration": 26,
        "start_time": "2022-10-27T11:08:39.003Z"
      },
      {
        "duration": 19,
        "start_time": "2022-10-27T11:08:39.031Z"
      },
      {
        "duration": 8,
        "start_time": "2022-10-27T11:09:32.640Z"
      },
      {
        "duration": 5,
        "start_time": "2022-10-27T11:11:16.735Z"
      },
      {
        "duration": 6,
        "start_time": "2022-10-27T11:11:17.214Z"
      },
      {
        "duration": 110,
        "start_time": "2022-10-27T11:11:17.654Z"
      },
      {
        "duration": 13,
        "start_time": "2022-10-27T11:11:28.030Z"
      },
      {
        "duration": 21,
        "start_time": "2022-10-27T11:11:37.414Z"
      },
      {
        "duration": 33,
        "start_time": "2022-10-27T11:11:47.151Z"
      },
      {
        "duration": 4,
        "start_time": "2022-10-27T11:17:32.330Z"
      },
      {
        "duration": 20,
        "start_time": "2022-10-27T11:17:32.812Z"
      },
      {
        "duration": 89,
        "start_time": "2022-10-27T11:23:09.110Z"
      },
      {
        "duration": 80,
        "start_time": "2022-10-27T11:25:38.348Z"
      },
      {
        "duration": 12,
        "start_time": "2022-10-27T11:27:05.738Z"
      },
      {
        "duration": 17,
        "start_time": "2022-10-27T11:30:56.711Z"
      },
      {
        "duration": 17,
        "start_time": "2022-10-27T11:31:08.367Z"
      },
      {
        "duration": 3,
        "start_time": "2022-10-27T11:32:35.814Z"
      },
      {
        "duration": 23,
        "start_time": "2022-10-27T11:32:41.138Z"
      },
      {
        "duration": 13,
        "start_time": "2022-10-27T11:33:13.605Z"
      },
      {
        "duration": 13,
        "start_time": "2022-10-27T11:33:28.141Z"
      },
      {
        "duration": 12,
        "start_time": "2022-10-27T11:33:36.109Z"
      },
      {
        "duration": 24,
        "start_time": "2022-10-27T11:33:50.942Z"
      },
      {
        "duration": 12,
        "start_time": "2022-10-27T11:33:55.701Z"
      },
      {
        "duration": 8,
        "start_time": "2022-10-27T11:34:08.342Z"
      },
      {
        "duration": 4,
        "start_time": "2022-10-27T11:35:13.548Z"
      },
      {
        "duration": 23,
        "start_time": "2022-10-27T11:35:18.543Z"
      },
      {
        "duration": 24,
        "start_time": "2022-10-27T11:38:17.386Z"
      },
      {
        "duration": 23,
        "start_time": "2022-10-27T11:39:42.913Z"
      },
      {
        "duration": 1315,
        "start_time": "2022-10-27T11:40:27.864Z"
      },
      {
        "duration": 10134,
        "start_time": "2022-10-27T11:40:29.181Z"
      },
      {
        "duration": 15,
        "start_time": "2022-10-27T11:40:39.317Z"
      },
      {
        "duration": 31,
        "start_time": "2022-10-27T11:40:39.335Z"
      },
      {
        "duration": 25,
        "start_time": "2022-10-27T11:40:39.367Z"
      },
      {
        "duration": 6,
        "start_time": "2022-10-27T11:40:39.394Z"
      },
      {
        "duration": 37,
        "start_time": "2022-10-27T11:40:39.402Z"
      },
      {
        "duration": 8,
        "start_time": "2022-10-27T11:40:39.441Z"
      },
      {
        "duration": 16,
        "start_time": "2022-10-27T11:40:39.451Z"
      },
      {
        "duration": 15,
        "start_time": "2022-10-27T11:40:39.470Z"
      },
      {
        "duration": 64,
        "start_time": "2022-10-27T11:40:39.487Z"
      },
      {
        "duration": 5,
        "start_time": "2022-10-27T11:40:39.554Z"
      },
      {
        "duration": 12,
        "start_time": "2022-10-27T11:40:39.561Z"
      },
      {
        "duration": 21,
        "start_time": "2022-10-27T11:40:39.574Z"
      },
      {
        "duration": 71,
        "start_time": "2022-10-27T11:40:39.597Z"
      },
      {
        "duration": 16,
        "start_time": "2022-10-27T11:40:39.670Z"
      },
      {
        "duration": 12,
        "start_time": "2022-10-27T11:40:39.688Z"
      },
      {
        "duration": 38,
        "start_time": "2022-10-27T11:40:39.701Z"
      },
      {
        "duration": 7,
        "start_time": "2022-10-27T11:40:39.741Z"
      },
      {
        "duration": 49,
        "start_time": "2022-10-27T11:40:39.750Z"
      },
      {
        "duration": 42,
        "start_time": "2022-10-27T11:40:39.801Z"
      },
      {
        "duration": 4,
        "start_time": "2022-10-27T11:40:39.845Z"
      },
      {
        "duration": 29,
        "start_time": "2022-10-27T11:40:39.850Z"
      },
      {
        "duration": 10,
        "start_time": "2022-10-27T11:40:39.881Z"
      },
      {
        "duration": 40,
        "start_time": "2022-10-27T11:40:39.893Z"
      },
      {
        "duration": 50,
        "start_time": "2022-10-27T11:40:39.935Z"
      },
      {
        "duration": 224,
        "start_time": "2022-10-27T11:40:39.986Z"
      },
      {
        "duration": 15,
        "start_time": "2022-10-27T11:40:40.214Z"
      },
      {
        "duration": 13,
        "start_time": "2022-10-27T11:40:40.231Z"
      },
      {
        "duration": 10,
        "start_time": "2022-10-27T11:40:40.246Z"
      },
      {
        "duration": 417,
        "start_time": "2022-10-27T11:40:40.258Z"
      },
      {
        "duration": 238,
        "start_time": "2022-10-27T11:40:40.677Z"
      },
      {
        "duration": 28,
        "start_time": "2022-10-27T11:40:40.917Z"
      },
      {
        "duration": 26,
        "start_time": "2022-10-27T11:40:40.947Z"
      },
      {
        "duration": 12,
        "start_time": "2022-10-27T11:40:40.974Z"
      },
      {
        "duration": 49,
        "start_time": "2022-10-27T11:40:40.988Z"
      },
      {
        "duration": 36,
        "start_time": "2022-10-27T11:40:41.040Z"
      },
      {
        "duration": 7,
        "start_time": "2022-10-27T11:40:41.078Z"
      },
      {
        "duration": 5,
        "start_time": "2022-10-27T11:40:41.087Z"
      },
      {
        "duration": 49,
        "start_time": "2022-10-27T11:40:41.094Z"
      },
      {
        "duration": 90,
        "start_time": "2022-10-27T11:40:41.144Z"
      },
      {
        "duration": 19,
        "start_time": "2022-10-27T11:41:15.095Z"
      },
      {
        "duration": 25,
        "start_time": "2022-10-27T11:41:25.855Z"
      },
      {
        "duration": 25,
        "start_time": "2022-10-27T11:42:35.479Z"
      },
      {
        "duration": 81,
        "start_time": "2022-10-27T11:43:19.845Z"
      },
      {
        "duration": 81,
        "start_time": "2022-10-27T11:43:39.373Z"
      },
      {
        "duration": 91,
        "start_time": "2022-10-27T11:45:03.502Z"
      },
      {
        "duration": 87,
        "start_time": "2022-10-27T11:45:08.677Z"
      },
      {
        "duration": 72,
        "start_time": "2022-10-27T11:45:43.132Z"
      },
      {
        "duration": 4,
        "start_time": "2022-10-27T11:45:57.099Z"
      },
      {
        "duration": 20,
        "start_time": "2022-10-27T11:46:01.446Z"
      },
      {
        "duration": 111,
        "start_time": "2022-10-27T11:46:05.067Z"
      },
      {
        "duration": 5,
        "start_time": "2022-10-27T11:47:13.015Z"
      },
      {
        "duration": 413,
        "start_time": "2022-10-27T11:47:40.762Z"
      },
      {
        "duration": 76,
        "start_time": "2022-10-27T11:48:22.906Z"
      },
      {
        "duration": 4,
        "start_time": "2022-10-27T11:49:04.832Z"
      },
      {
        "duration": 31,
        "start_time": "2022-10-27T11:49:18.906Z"
      },
      {
        "duration": 4,
        "start_time": "2022-10-27T11:49:44.360Z"
      },
      {
        "duration": 24,
        "start_time": "2022-10-27T11:49:44.848Z"
      },
      {
        "duration": 4,
        "start_time": "2022-10-27T11:50:25.387Z"
      },
      {
        "duration": 53,
        "start_time": "2022-10-27T11:50:47.241Z"
      },
      {
        "duration": 1197,
        "start_time": "2022-10-27T11:51:24.074Z"
      },
      {
        "duration": 10219,
        "start_time": "2022-10-27T11:51:25.273Z"
      },
      {
        "duration": 14,
        "start_time": "2022-10-27T11:51:35.494Z"
      },
      {
        "duration": 33,
        "start_time": "2022-10-27T11:51:35.510Z"
      },
      {
        "duration": 15,
        "start_time": "2022-10-27T11:51:35.546Z"
      },
      {
        "duration": 21,
        "start_time": "2022-10-27T11:51:35.563Z"
      },
      {
        "duration": 14,
        "start_time": "2022-10-27T11:51:35.586Z"
      },
      {
        "duration": 22,
        "start_time": "2022-10-27T11:51:35.601Z"
      },
      {
        "duration": 26,
        "start_time": "2022-10-27T11:51:35.625Z"
      },
      {
        "duration": 32,
        "start_time": "2022-10-27T11:51:35.653Z"
      },
      {
        "duration": 38,
        "start_time": "2022-10-27T11:51:35.687Z"
      },
      {
        "duration": 4,
        "start_time": "2022-10-27T11:51:35.727Z"
      },
      {
        "duration": 42,
        "start_time": "2022-10-27T11:51:35.732Z"
      },
      {
        "duration": 18,
        "start_time": "2022-10-27T11:51:35.777Z"
      },
      {
        "duration": 84,
        "start_time": "2022-10-27T11:51:35.797Z"
      },
      {
        "duration": 16,
        "start_time": "2022-10-27T11:51:35.883Z"
      },
      {
        "duration": 27,
        "start_time": "2022-10-27T11:51:35.901Z"
      },
      {
        "duration": 45,
        "start_time": "2022-10-27T11:51:35.930Z"
      },
      {
        "duration": 9,
        "start_time": "2022-10-27T11:51:35.977Z"
      },
      {
        "duration": 72,
        "start_time": "2022-10-27T11:51:35.988Z"
      },
      {
        "duration": 22,
        "start_time": "2022-10-27T11:51:36.062Z"
      },
      {
        "duration": 35,
        "start_time": "2022-10-27T11:51:36.086Z"
      },
      {
        "duration": 42,
        "start_time": "2022-10-27T11:51:36.124Z"
      },
      {
        "duration": 11,
        "start_time": "2022-10-27T11:51:36.167Z"
      },
      {
        "duration": 26,
        "start_time": "2022-10-27T11:51:36.180Z"
      },
      {
        "duration": 57,
        "start_time": "2022-10-27T11:51:36.209Z"
      },
      {
        "duration": 208,
        "start_time": "2022-10-27T11:51:36.268Z"
      },
      {
        "duration": 7,
        "start_time": "2022-10-27T11:51:36.478Z"
      },
      {
        "duration": 38,
        "start_time": "2022-10-27T11:51:36.486Z"
      },
      {
        "duration": 24,
        "start_time": "2022-10-27T11:51:36.526Z"
      },
      {
        "duration": 369,
        "start_time": "2022-10-27T11:51:36.552Z"
      },
      {
        "duration": 222,
        "start_time": "2022-10-27T11:51:36.923Z"
      },
      {
        "duration": 19,
        "start_time": "2022-10-27T11:51:37.147Z"
      },
      {
        "duration": 44,
        "start_time": "2022-10-27T11:51:37.168Z"
      },
      {
        "duration": 13,
        "start_time": "2022-10-27T11:51:37.213Z"
      },
      {
        "duration": 33,
        "start_time": "2022-10-27T11:51:37.228Z"
      },
      {
        "duration": 46,
        "start_time": "2022-10-27T11:51:37.262Z"
      },
      {
        "duration": 11,
        "start_time": "2022-10-27T11:51:37.310Z"
      },
      {
        "duration": 26,
        "start_time": "2022-10-27T11:51:37.322Z"
      },
      {
        "duration": 37,
        "start_time": "2022-10-27T11:51:37.349Z"
      },
      {
        "duration": 30,
        "start_time": "2022-10-27T11:51:37.390Z"
      },
      {
        "duration": 36,
        "start_time": "2022-10-27T11:51:37.422Z"
      },
      {
        "duration": 28,
        "start_time": "2022-10-27T11:51:37.459Z"
      },
      {
        "duration": 61,
        "start_time": "2022-10-27T11:51:56.186Z"
      },
      {
        "duration": 1167,
        "start_time": "2022-10-27T11:52:02.557Z"
      },
      {
        "duration": 10251,
        "start_time": "2022-10-27T11:52:03.726Z"
      },
      {
        "duration": 14,
        "start_time": "2022-10-27T11:52:13.979Z"
      },
      {
        "duration": 19,
        "start_time": "2022-10-27T11:52:13.994Z"
      },
      {
        "duration": 24,
        "start_time": "2022-10-27T11:52:14.030Z"
      },
      {
        "duration": 8,
        "start_time": "2022-10-27T11:52:14.055Z"
      },
      {
        "duration": 12,
        "start_time": "2022-10-27T11:52:14.065Z"
      },
      {
        "duration": 6,
        "start_time": "2022-10-27T11:52:14.078Z"
      },
      {
        "duration": 57,
        "start_time": "2022-10-27T11:52:14.085Z"
      },
      {
        "duration": 14,
        "start_time": "2022-10-27T11:52:14.145Z"
      },
      {
        "duration": 30,
        "start_time": "2022-10-27T11:52:14.161Z"
      },
      {
        "duration": 6,
        "start_time": "2022-10-27T11:52:14.193Z"
      },
      {
        "duration": 36,
        "start_time": "2022-10-27T11:52:14.201Z"
      },
      {
        "duration": 8,
        "start_time": "2022-10-27T11:52:14.244Z"
      },
      {
        "duration": 70,
        "start_time": "2022-10-27T11:52:14.254Z"
      },
      {
        "duration": 24,
        "start_time": "2022-10-27T11:52:14.329Z"
      },
      {
        "duration": 10,
        "start_time": "2022-10-27T11:52:14.356Z"
      },
      {
        "duration": 20,
        "start_time": "2022-10-27T11:52:14.367Z"
      },
      {
        "duration": 8,
        "start_time": "2022-10-27T11:52:14.389Z"
      },
      {
        "duration": 84,
        "start_time": "2022-10-27T11:52:14.398Z"
      },
      {
        "duration": 21,
        "start_time": "2022-10-27T11:52:14.484Z"
      },
      {
        "duration": 4,
        "start_time": "2022-10-27T11:52:14.506Z"
      },
      {
        "duration": 32,
        "start_time": "2022-10-27T11:52:14.529Z"
      },
      {
        "duration": 10,
        "start_time": "2022-10-27T11:52:14.563Z"
      },
      {
        "duration": 15,
        "start_time": "2022-10-27T11:52:14.575Z"
      },
      {
        "duration": 79,
        "start_time": "2022-10-27T11:52:14.592Z"
      },
      {
        "duration": 231,
        "start_time": "2022-10-27T11:52:14.672Z"
      },
      {
        "duration": 6,
        "start_time": "2022-10-27T11:52:14.905Z"
      },
      {
        "duration": 33,
        "start_time": "2022-10-27T11:52:14.913Z"
      },
      {
        "duration": 10,
        "start_time": "2022-10-27T11:52:14.948Z"
      },
      {
        "duration": 438,
        "start_time": "2022-10-27T11:52:14.960Z"
      },
      {
        "duration": 246,
        "start_time": "2022-10-27T11:52:15.400Z"
      },
      {
        "duration": 20,
        "start_time": "2022-10-27T11:52:15.648Z"
      },
      {
        "duration": 21,
        "start_time": "2022-10-27T11:52:15.670Z"
      },
      {
        "duration": 37,
        "start_time": "2022-10-27T11:52:15.693Z"
      },
      {
        "duration": 25,
        "start_time": "2022-10-27T11:52:15.733Z"
      },
      {
        "duration": 22,
        "start_time": "2022-10-27T11:52:15.760Z"
      },
      {
        "duration": 4,
        "start_time": "2022-10-27T11:52:15.784Z"
      },
      {
        "duration": 4,
        "start_time": "2022-10-27T11:52:15.790Z"
      },
      {
        "duration": 64,
        "start_time": "2022-10-27T11:52:15.795Z"
      },
      {
        "duration": 3,
        "start_time": "2022-10-27T11:52:15.864Z"
      },
      {
        "duration": 21,
        "start_time": "2022-10-27T11:52:15.869Z"
      },
      {
        "duration": 4,
        "start_time": "2022-10-27T11:52:15.892Z"
      },
      {
        "duration": 514,
        "start_time": "2022-10-27T11:52:15.898Z"
      },
      {
        "duration": 4,
        "start_time": "2022-10-27T11:52:21.962Z"
      },
      {
        "duration": 6,
        "start_time": "2022-10-27T11:52:33.241Z"
      },
      {
        "duration": 50,
        "start_time": "2022-10-27T11:54:33.512Z"
      },
      {
        "duration": 1215,
        "start_time": "2022-10-27T11:54:40.166Z"
      },
      {
        "duration": 9946,
        "start_time": "2022-10-27T11:54:41.383Z"
      },
      {
        "duration": 14,
        "start_time": "2022-10-27T11:54:51.331Z"
      },
      {
        "duration": 25,
        "start_time": "2022-10-27T11:54:51.347Z"
      },
      {
        "duration": 14,
        "start_time": "2022-10-27T11:54:51.374Z"
      },
      {
        "duration": 6,
        "start_time": "2022-10-27T11:54:51.390Z"
      },
      {
        "duration": 34,
        "start_time": "2022-10-27T11:54:51.397Z"
      },
      {
        "duration": 6,
        "start_time": "2022-10-27T11:54:51.433Z"
      },
      {
        "duration": 15,
        "start_time": "2022-10-27T11:54:51.440Z"
      },
      {
        "duration": 13,
        "start_time": "2022-10-27T11:54:51.458Z"
      },
      {
        "duration": 15,
        "start_time": "2022-10-27T11:54:51.473Z"
      },
      {
        "duration": 39,
        "start_time": "2022-10-27T11:54:51.490Z"
      },
      {
        "duration": 12,
        "start_time": "2022-10-27T11:54:51.531Z"
      },
      {
        "duration": 8,
        "start_time": "2022-10-27T11:54:51.544Z"
      },
      {
        "duration": 79,
        "start_time": "2022-10-27T11:54:51.553Z"
      },
      {
        "duration": 17,
        "start_time": "2022-10-27T11:54:51.634Z"
      },
      {
        "duration": 15,
        "start_time": "2022-10-27T11:54:51.652Z"
      },
      {
        "duration": 18,
        "start_time": "2022-10-27T11:54:51.669Z"
      },
      {
        "duration": 5,
        "start_time": "2022-10-27T11:54:51.689Z"
      },
      {
        "duration": 69,
        "start_time": "2022-10-27T11:54:51.695Z"
      },
      {
        "duration": 20,
        "start_time": "2022-10-27T11:54:51.766Z"
      },
      {
        "duration": 4,
        "start_time": "2022-10-27T11:54:51.788Z"
      },
      {
        "duration": 42,
        "start_time": "2022-10-27T11:54:51.793Z"
      },
      {
        "duration": 9,
        "start_time": "2022-10-27T11:54:51.837Z"
      },
      {
        "duration": 14,
        "start_time": "2022-10-27T11:54:51.847Z"
      },
      {
        "duration": 45,
        "start_time": "2022-10-27T11:54:51.863Z"
      },
      {
        "duration": 209,
        "start_time": "2022-10-27T11:54:51.930Z"
      },
      {
        "duration": 7,
        "start_time": "2022-10-27T11:54:52.142Z"
      },
      {
        "duration": 14,
        "start_time": "2022-10-27T11:54:52.151Z"
      },
      {
        "duration": 12,
        "start_time": "2022-10-27T11:54:52.166Z"
      },
      {
        "duration": 384,
        "start_time": "2022-10-27T11:54:52.180Z"
      },
      {
        "duration": 231,
        "start_time": "2022-10-27T11:54:52.566Z"
      },
      {
        "duration": 30,
        "start_time": "2022-10-27T11:54:52.799Z"
      },
      {
        "duration": 21,
        "start_time": "2022-10-27T11:54:52.831Z"
      },
      {
        "duration": 13,
        "start_time": "2022-10-27T11:54:52.854Z"
      },
      {
        "duration": 21,
        "start_time": "2022-10-27T11:54:52.869Z"
      },
      {
        "duration": 47,
        "start_time": "2022-10-27T11:54:52.891Z"
      },
      {
        "duration": 5,
        "start_time": "2022-10-27T11:54:52.940Z"
      },
      {
        "duration": 4,
        "start_time": "2022-10-27T11:54:52.946Z"
      },
      {
        "duration": 24,
        "start_time": "2022-10-27T11:54:52.952Z"
      },
      {
        "duration": 4,
        "start_time": "2022-10-27T11:54:52.978Z"
      },
      {
        "duration": 54,
        "start_time": "2022-10-27T11:54:52.984Z"
      },
      {
        "duration": 14,
        "start_time": "2022-10-27T11:54:53.040Z"
      },
      {
        "duration": 413,
        "start_time": "2022-10-27T11:54:53.056Z"
      },
      {
        "duration": 4,
        "start_time": "2022-10-27T11:56:03.999Z"
      },
      {
        "duration": 8,
        "start_time": "2022-10-27T12:16:54.123Z"
      },
      {
        "duration": 1182,
        "start_time": "2022-10-27T12:17:15.021Z"
      },
      {
        "duration": 9898,
        "start_time": "2022-10-27T12:17:16.205Z"
      },
      {
        "duration": 15,
        "start_time": "2022-10-27T12:17:26.105Z"
      },
      {
        "duration": 20,
        "start_time": "2022-10-27T12:17:26.129Z"
      },
      {
        "duration": 17,
        "start_time": "2022-10-27T12:17:26.151Z"
      },
      {
        "duration": 7,
        "start_time": "2022-10-27T12:17:26.170Z"
      },
      {
        "duration": 11,
        "start_time": "2022-10-27T12:17:26.178Z"
      },
      {
        "duration": 39,
        "start_time": "2022-10-27T12:17:26.190Z"
      },
      {
        "duration": 15,
        "start_time": "2022-10-27T12:17:26.232Z"
      },
      {
        "duration": 14,
        "start_time": "2022-10-27T12:17:26.249Z"
      },
      {
        "duration": 15,
        "start_time": "2022-10-27T12:17:26.265Z"
      },
      {
        "duration": 6,
        "start_time": "2022-10-27T12:17:26.282Z"
      },
      {
        "duration": 46,
        "start_time": "2022-10-27T12:17:26.290Z"
      },
      {
        "duration": 21,
        "start_time": "2022-10-27T12:17:26.340Z"
      },
      {
        "duration": 77,
        "start_time": "2022-10-27T12:17:26.363Z"
      },
      {
        "duration": 17,
        "start_time": "2022-10-27T12:17:26.442Z"
      },
      {
        "duration": 10,
        "start_time": "2022-10-27T12:17:26.460Z"
      },
      {
        "duration": 20,
        "start_time": "2022-10-27T12:17:26.472Z"
      },
      {
        "duration": 5,
        "start_time": "2022-10-27T12:17:26.494Z"
      },
      {
        "duration": 45,
        "start_time": "2022-10-27T12:17:26.529Z"
      },
      {
        "duration": 20,
        "start_time": "2022-10-27T12:17:26.576Z"
      },
      {
        "duration": 4,
        "start_time": "2022-10-27T12:17:26.598Z"
      },
      {
        "duration": 46,
        "start_time": "2022-10-27T12:17:26.604Z"
      },
      {
        "duration": 8,
        "start_time": "2022-10-27T12:17:26.653Z"
      },
      {
        "duration": 15,
        "start_time": "2022-10-27T12:17:26.663Z"
      },
      {
        "duration": 64,
        "start_time": "2022-10-27T12:17:26.680Z"
      },
      {
        "duration": 214,
        "start_time": "2022-10-27T12:17:26.746Z"
      },
      {
        "duration": 7,
        "start_time": "2022-10-27T12:17:26.961Z"
      },
      {
        "duration": 14,
        "start_time": "2022-10-27T12:17:26.969Z"
      },
      {
        "duration": 10,
        "start_time": "2022-10-27T12:17:26.984Z"
      },
      {
        "duration": 394,
        "start_time": "2022-10-27T12:17:26.995Z"
      },
      {
        "duration": 229,
        "start_time": "2022-10-27T12:17:27.390Z"
      },
      {
        "duration": 24,
        "start_time": "2022-10-27T12:17:27.621Z"
      },
      {
        "duration": 27,
        "start_time": "2022-10-27T12:17:27.647Z"
      },
      {
        "duration": 14,
        "start_time": "2022-10-27T12:17:27.676Z"
      },
      {
        "duration": 37,
        "start_time": "2022-10-27T12:17:27.692Z"
      },
      {
        "duration": 22,
        "start_time": "2022-10-27T12:17:27.731Z"
      },
      {
        "duration": 4,
        "start_time": "2022-10-27T12:17:27.756Z"
      },
      {
        "duration": 20,
        "start_time": "2022-10-27T12:17:27.762Z"
      },
      {
        "duration": 27,
        "start_time": "2022-10-27T12:17:27.783Z"
      },
      {
        "duration": 5,
        "start_time": "2022-10-27T12:17:27.829Z"
      },
      {
        "duration": 21,
        "start_time": "2022-10-27T12:17:27.836Z"
      },
      {
        "duration": 4,
        "start_time": "2022-10-27T12:17:27.858Z"
      },
      {
        "duration": 9,
        "start_time": "2022-10-27T12:19:15.269Z"
      },
      {
        "duration": 1320,
        "start_time": "2022-10-27T12:19:20.564Z"
      },
      {
        "duration": 9884,
        "start_time": "2022-10-27T12:19:21.886Z"
      },
      {
        "duration": 14,
        "start_time": "2022-10-27T12:19:31.772Z"
      },
      {
        "duration": 20,
        "start_time": "2022-10-27T12:19:31.788Z"
      },
      {
        "duration": 36,
        "start_time": "2022-10-27T12:19:31.810Z"
      },
      {
        "duration": 6,
        "start_time": "2022-10-27T12:19:31.847Z"
      },
      {
        "duration": 11,
        "start_time": "2022-10-27T12:19:31.854Z"
      },
      {
        "duration": 6,
        "start_time": "2022-10-27T12:19:31.866Z"
      },
      {
        "duration": 15,
        "start_time": "2022-10-27T12:19:31.874Z"
      },
      {
        "duration": 47,
        "start_time": "2022-10-27T12:19:31.891Z"
      },
      {
        "duration": 14,
        "start_time": "2022-10-27T12:19:31.940Z"
      },
      {
        "duration": 4,
        "start_time": "2022-10-27T12:19:31.956Z"
      },
      {
        "duration": 10,
        "start_time": "2022-10-27T12:19:31.962Z"
      },
      {
        "duration": 4,
        "start_time": "2022-10-27T12:19:31.976Z"
      },
      {
        "duration": 89,
        "start_time": "2022-10-27T12:19:31.981Z"
      },
      {
        "duration": 17,
        "start_time": "2022-10-27T12:19:32.072Z"
      },
      {
        "duration": 11,
        "start_time": "2022-10-27T12:19:32.090Z"
      },
      {
        "duration": 36,
        "start_time": "2022-10-27T12:19:32.102Z"
      },
      {
        "duration": 6,
        "start_time": "2022-10-27T12:19:32.140Z"
      },
      {
        "duration": 42,
        "start_time": "2022-10-27T12:19:32.147Z"
      },
      {
        "duration": 42,
        "start_time": "2022-10-27T12:19:32.190Z"
      },
      {
        "duration": 4,
        "start_time": "2022-10-27T12:19:32.233Z"
      },
      {
        "duration": 22,
        "start_time": "2022-10-27T12:19:32.239Z"
      },
      {
        "duration": 10,
        "start_time": "2022-10-27T12:19:32.263Z"
      },
      {
        "duration": 13,
        "start_time": "2022-10-27T12:19:32.275Z"
      },
      {
        "duration": 78,
        "start_time": "2022-10-27T12:19:32.290Z"
      },
      {
        "duration": 212,
        "start_time": "2022-10-27T12:19:32.371Z"
      },
      {
        "duration": 7,
        "start_time": "2022-10-27T12:19:32.585Z"
      },
      {
        "duration": 14,
        "start_time": "2022-10-27T12:19:32.594Z"
      },
      {
        "duration": 10,
        "start_time": "2022-10-27T12:19:32.629Z"
      },
      {
        "duration": 377,
        "start_time": "2022-10-27T12:19:32.641Z"
      },
      {
        "duration": 214,
        "start_time": "2022-10-27T12:19:33.020Z"
      },
      {
        "duration": 17,
        "start_time": "2022-10-27T12:19:33.236Z"
      },
      {
        "duration": 20,
        "start_time": "2022-10-27T12:19:33.255Z"
      },
      {
        "duration": 12,
        "start_time": "2022-10-27T12:19:33.277Z"
      },
      {
        "duration": 48,
        "start_time": "2022-10-27T12:19:33.291Z"
      },
      {
        "duration": 22,
        "start_time": "2022-10-27T12:19:33.341Z"
      },
      {
        "duration": 5,
        "start_time": "2022-10-27T12:19:33.365Z"
      },
      {
        "duration": 5,
        "start_time": "2022-10-27T12:19:33.371Z"
      },
      {
        "duration": 51,
        "start_time": "2022-10-27T12:19:33.378Z"
      },
      {
        "duration": 3,
        "start_time": "2022-10-27T12:19:33.434Z"
      },
      {
        "duration": 20,
        "start_time": "2022-10-27T12:19:33.440Z"
      },
      {
        "duration": 4,
        "start_time": "2022-10-27T12:19:33.462Z"
      },
      {
        "duration": 1513,
        "start_time": "2022-10-27T12:20:11.900Z"
      },
      {
        "duration": 9807,
        "start_time": "2022-10-27T12:20:13.415Z"
      },
      {
        "duration": 14,
        "start_time": "2022-10-27T12:20:23.224Z"
      },
      {
        "duration": 18,
        "start_time": "2022-10-27T12:20:23.240Z"
      },
      {
        "duration": 15,
        "start_time": "2022-10-27T12:20:23.260Z"
      },
      {
        "duration": 7,
        "start_time": "2022-10-27T12:20:23.276Z"
      },
      {
        "duration": 11,
        "start_time": "2022-10-27T12:20:23.284Z"
      },
      {
        "duration": 36,
        "start_time": "2022-10-27T12:20:23.296Z"
      },
      {
        "duration": 16,
        "start_time": "2022-10-27T12:20:23.333Z"
      },
      {
        "duration": 13,
        "start_time": "2022-10-27T12:20:23.351Z"
      },
      {
        "duration": 15,
        "start_time": "2022-10-27T12:20:23.365Z"
      },
      {
        "duration": 4,
        "start_time": "2022-10-27T12:20:23.382Z"
      },
      {
        "duration": 50,
        "start_time": "2022-10-27T12:20:23.387Z"
      },
      {
        "duration": 21,
        "start_time": "2022-10-27T12:20:23.440Z"
      },
      {
        "duration": 47,
        "start_time": "2022-10-27T12:20:23.463Z"
      },
      {
        "duration": 30,
        "start_time": "2022-10-27T12:20:23.512Z"
      },
      {
        "duration": 20,
        "start_time": "2022-10-27T12:20:23.544Z"
      },
      {
        "duration": 32,
        "start_time": "2022-10-27T12:20:23.566Z"
      },
      {
        "duration": 6,
        "start_time": "2022-10-27T12:20:23.600Z"
      },
      {
        "duration": 69,
        "start_time": "2022-10-27T12:20:23.608Z"
      },
      {
        "duration": 21,
        "start_time": "2022-10-27T12:20:23.679Z"
      },
      {
        "duration": 11,
        "start_time": "2022-10-27T12:20:23.702Z"
      },
      {
        "duration": 39,
        "start_time": "2022-10-27T12:20:23.715Z"
      },
      {
        "duration": 9,
        "start_time": "2022-10-27T12:20:23.755Z"
      },
      {
        "duration": 30,
        "start_time": "2022-10-27T12:20:23.766Z"
      },
      {
        "duration": 64,
        "start_time": "2022-10-27T12:20:23.798Z"
      },
      {
        "duration": 194,
        "start_time": "2022-10-27T12:20:23.864Z"
      },
      {
        "duration": 7,
        "start_time": "2022-10-27T12:20:24.060Z"
      },
      {
        "duration": 25,
        "start_time": "2022-10-27T12:20:24.068Z"
      },
      {
        "duration": 22,
        "start_time": "2022-10-27T12:20:24.095Z"
      },
      {
        "duration": 362,
        "start_time": "2022-10-27T12:20:24.118Z"
      },
      {
        "duration": 229,
        "start_time": "2022-10-27T12:20:24.482Z"
      },
      {
        "duration": 24,
        "start_time": "2022-10-27T12:20:24.712Z"
      },
      {
        "duration": 32,
        "start_time": "2022-10-27T12:20:24.738Z"
      },
      {
        "duration": 18,
        "start_time": "2022-10-27T12:20:24.771Z"
      },
      {
        "duration": 26,
        "start_time": "2022-10-27T12:20:24.791Z"
      },
      {
        "duration": 42,
        "start_time": "2022-10-27T12:20:24.818Z"
      },
      {
        "duration": 15,
        "start_time": "2022-10-27T12:20:24.861Z"
      },
      {
        "duration": 7,
        "start_time": "2022-10-27T12:20:24.877Z"
      },
      {
        "duration": 38,
        "start_time": "2022-10-27T12:20:24.886Z"
      },
      {
        "duration": 19,
        "start_time": "2022-10-27T12:20:24.928Z"
      },
      {
        "duration": 25,
        "start_time": "2022-10-27T12:20:24.949Z"
      },
      {
        "duration": 18,
        "start_time": "2022-10-27T12:20:24.976Z"
      },
      {
        "duration": 541,
        "start_time": "2022-10-27T12:20:24.996Z"
      },
      {
        "duration": 5,
        "start_time": "2022-10-27T12:20:58.624Z"
      },
      {
        "duration": 315,
        "start_time": "2022-10-27T12:20:59.522Z"
      },
      {
        "duration": 4,
        "start_time": "2022-10-27T12:21:55.496Z"
      },
      {
        "duration": 303,
        "start_time": "2022-10-27T12:21:56.199Z"
      },
      {
        "duration": 320,
        "start_time": "2022-10-27T12:28:29.116Z"
      },
      {
        "duration": 22,
        "start_time": "2022-10-27T12:28:49.070Z"
      },
      {
        "duration": 5,
        "start_time": "2022-10-27T12:29:12.819Z"
      },
      {
        "duration": 22,
        "start_time": "2022-10-27T12:29:15.363Z"
      },
      {
        "duration": 343,
        "start_time": "2022-10-27T12:30:49.866Z"
      },
      {
        "duration": 4,
        "start_time": "2022-10-27T12:33:16.757Z"
      },
      {
        "duration": 285,
        "start_time": "2022-10-27T12:33:19.017Z"
      },
      {
        "duration": 4,
        "start_time": "2022-10-27T12:36:14.189Z"
      },
      {
        "duration": 23,
        "start_time": "2022-10-27T12:36:15.093Z"
      },
      {
        "duration": 390,
        "start_time": "2022-10-27T12:36:16.389Z"
      },
      {
        "duration": 6,
        "start_time": "2022-10-27T12:44:34.544Z"
      },
      {
        "duration": 1091,
        "start_time": "2022-10-27T12:44:39.951Z"
      },
      {
        "duration": 10,
        "start_time": "2022-10-27T12:44:47.567Z"
      },
      {
        "duration": 6,
        "start_time": "2022-10-27T12:44:50.567Z"
      },
      {
        "duration": 6,
        "start_time": "2022-10-27T12:45:00.910Z"
      },
      {
        "duration": 1170,
        "start_time": "2022-10-27T12:45:17.126Z"
      },
      {
        "duration": 1233,
        "start_time": "2022-10-27T12:45:38.798Z"
      },
      {
        "duration": 3,
        "start_time": "2022-10-27T12:46:36.368Z"
      },
      {
        "duration": 25,
        "start_time": "2022-10-27T12:46:36.925Z"
      },
      {
        "duration": 31,
        "start_time": "2022-10-27T12:46:37.685Z"
      },
      {
        "duration": 26,
        "start_time": "2022-10-27T12:46:41.989Z"
      },
      {
        "duration": 7,
        "start_time": "2022-10-27T12:46:59.616Z"
      },
      {
        "duration": 11,
        "start_time": "2022-10-27T12:47:11.180Z"
      },
      {
        "duration": 21,
        "start_time": "2022-10-27T12:47:29.053Z"
      },
      {
        "duration": 4,
        "start_time": "2022-10-27T12:49:33.636Z"
      },
      {
        "duration": 29,
        "start_time": "2022-10-27T12:49:37.102Z"
      },
      {
        "duration": 7,
        "start_time": "2022-10-27T12:50:13.974Z"
      },
      {
        "duration": 4,
        "start_time": "2022-10-27T12:50:40.106Z"
      },
      {
        "duration": 320,
        "start_time": "2022-10-27T12:50:42.954Z"
      },
      {
        "duration": 3,
        "start_time": "2022-10-27T12:52:51.865Z"
      },
      {
        "duration": 15,
        "start_time": "2022-10-27T12:52:53.744Z"
      },
      {
        "duration": 71,
        "start_time": "2022-10-27T12:53:32.568Z"
      },
      {
        "duration": 19,
        "start_time": "2022-10-27T12:53:55.684Z"
      },
      {
        "duration": 67,
        "start_time": "2022-10-27T12:54:13.104Z"
      },
      {
        "duration": 13,
        "start_time": "2022-10-27T12:54:19.856Z"
      },
      {
        "duration": 3,
        "start_time": "2022-10-27T12:55:27.511Z"
      },
      {
        "duration": 49190,
        "start_time": "2022-10-27T12:55:34.286Z"
      },
      {
        "duration": 21,
        "start_time": "2022-10-27T12:56:27.639Z"
      },
      {
        "duration": 38,
        "start_time": "2022-10-27T12:57:04.654Z"
      },
      {
        "duration": 3,
        "start_time": "2022-10-27T12:58:46.806Z"
      },
      {
        "duration": 95507,
        "start_time": "2022-10-27T12:58:50.188Z"
      },
      {
        "duration": 21,
        "start_time": "2022-10-27T13:00:30.021Z"
      },
      {
        "duration": 302,
        "start_time": "2022-10-27T13:02:26.539Z"
      },
      {
        "duration": 9,
        "start_time": "2022-10-27T13:03:50.969Z"
      },
      {
        "duration": 7,
        "start_time": "2022-10-27T13:06:46.751Z"
      },
      {
        "duration": 7,
        "start_time": "2022-10-27T13:08:29.280Z"
      },
      {
        "duration": 38,
        "start_time": "2022-10-27T13:08:40.844Z"
      },
      {
        "duration": 7,
        "start_time": "2022-10-27T13:08:47.757Z"
      },
      {
        "duration": 6,
        "start_time": "2022-10-27T13:09:10.138Z"
      },
      {
        "duration": 18,
        "start_time": "2022-10-27T13:09:26.308Z"
      },
      {
        "duration": 7,
        "start_time": "2022-10-27T13:09:43.244Z"
      },
      {
        "duration": 79,
        "start_time": "2022-10-27T13:10:01.268Z"
      },
      {
        "duration": 8,
        "start_time": "2022-10-27T13:10:24.484Z"
      },
      {
        "duration": 20,
        "start_time": "2022-10-27T13:11:10.611Z"
      },
      {
        "duration": 30,
        "start_time": "2022-10-27T13:14:40.952Z"
      },
      {
        "duration": 20,
        "start_time": "2022-10-27T13:14:48.047Z"
      },
      {
        "duration": 24,
        "start_time": "2022-10-27T13:15:11.185Z"
      },
      {
        "duration": 4,
        "start_time": "2022-10-27T13:18:50.628Z"
      },
      {
        "duration": 656,
        "start_time": "2022-10-27T13:20:22.844Z"
      },
      {
        "duration": 7,
        "start_time": "2022-10-27T13:20:39.171Z"
      },
      {
        "duration": 18,
        "start_time": "2022-10-27T13:20:53.307Z"
      },
      {
        "duration": 76,
        "start_time": "2022-10-27T13:22:57.345Z"
      },
      {
        "duration": 21,
        "start_time": "2022-10-27T13:23:40.433Z"
      },
      {
        "duration": 18,
        "start_time": "2022-10-27T13:24:15.697Z"
      },
      {
        "duration": 19,
        "start_time": "2022-10-27T13:24:32.009Z"
      },
      {
        "duration": 7,
        "start_time": "2022-10-27T13:25:46.714Z"
      },
      {
        "duration": 6,
        "start_time": "2022-10-27T13:26:05.599Z"
      },
      {
        "duration": 6,
        "start_time": "2022-10-27T13:26:17.888Z"
      },
      {
        "duration": 26,
        "start_time": "2022-10-27T13:26:24.328Z"
      },
      {
        "duration": 4,
        "start_time": "2022-10-27T13:28:41.357Z"
      },
      {
        "duration": 94913,
        "start_time": "2022-10-27T13:28:43.245Z"
      },
      {
        "duration": 21,
        "start_time": "2022-10-27T13:30:20.772Z"
      },
      {
        "duration": 8,
        "start_time": "2022-10-27T13:30:35.820Z"
      },
      {
        "duration": 11,
        "start_time": "2022-10-27T13:32:17.283Z"
      },
      {
        "duration": 5,
        "start_time": "2022-10-27T13:32:21.338Z"
      },
      {
        "duration": 29,
        "start_time": "2022-10-27T13:32:26.226Z"
      },
      {
        "duration": 4,
        "start_time": "2022-10-27T13:32:58.635Z"
      },
      {
        "duration": 20,
        "start_time": "2022-10-27T13:32:59.714Z"
      },
      {
        "duration": 3,
        "start_time": "2022-10-27T13:34:12.017Z"
      },
      {
        "duration": 66818,
        "start_time": "2022-10-27T13:34:24.529Z"
      },
      {
        "duration": 22,
        "start_time": "2022-10-27T13:35:47.704Z"
      },
      {
        "duration": 4,
        "start_time": "2022-10-27T13:37:09.718Z"
      },
      {
        "duration": 5,
        "start_time": "2022-10-27T13:37:12.683Z"
      },
      {
        "duration": 8,
        "start_time": "2022-10-27T13:37:18.154Z"
      },
      {
        "duration": 37820,
        "start_time": "2022-10-27T13:37:20.151Z"
      },
      {
        "duration": 22,
        "start_time": "2022-10-27T13:38:31.527Z"
      },
      {
        "duration": 13,
        "start_time": "2022-10-27T13:43:56.250Z"
      },
      {
        "duration": 6,
        "start_time": "2022-10-27T13:44:03.162Z"
      },
      {
        "duration": 4,
        "start_time": "2022-10-27T13:44:12.337Z"
      },
      {
        "duration": 22,
        "start_time": "2022-10-27T13:44:15.385Z"
      },
      {
        "duration": 6,
        "start_time": "2022-10-27T13:44:44.009Z"
      },
      {
        "duration": 20,
        "start_time": "2022-10-27T13:44:45.217Z"
      },
      {
        "duration": 1240,
        "start_time": "2022-10-27T13:45:15.078Z"
      },
      {
        "duration": 10311,
        "start_time": "2022-10-27T13:45:16.320Z"
      },
      {
        "duration": 15,
        "start_time": "2022-10-27T13:45:26.633Z"
      },
      {
        "duration": 19,
        "start_time": "2022-10-27T13:45:26.650Z"
      },
      {
        "duration": 15,
        "start_time": "2022-10-27T13:45:26.671Z"
      },
      {
        "duration": 6,
        "start_time": "2022-10-27T13:45:26.688Z"
      },
      {
        "duration": 42,
        "start_time": "2022-10-27T13:45:26.696Z"
      },
      {
        "duration": 5,
        "start_time": "2022-10-27T13:45:26.740Z"
      },
      {
        "duration": 14,
        "start_time": "2022-10-27T13:45:26.747Z"
      },
      {
        "duration": 14,
        "start_time": "2022-10-27T13:45:26.764Z"
      },
      {
        "duration": 50,
        "start_time": "2022-10-27T13:45:26.779Z"
      },
      {
        "duration": 5,
        "start_time": "2022-10-27T13:45:26.832Z"
      },
      {
        "duration": 13,
        "start_time": "2022-10-27T13:45:26.839Z"
      },
      {
        "duration": 22,
        "start_time": "2022-10-27T13:45:26.854Z"
      },
      {
        "duration": 77,
        "start_time": "2022-10-27T13:45:26.877Z"
      },
      {
        "duration": 17,
        "start_time": "2022-10-27T13:45:26.956Z"
      },
      {
        "duration": 11,
        "start_time": "2022-10-27T13:45:26.975Z"
      },
      {
        "duration": 20,
        "start_time": "2022-10-27T13:45:26.987Z"
      },
      {
        "duration": 6,
        "start_time": "2022-10-27T13:45:27.029Z"
      },
      {
        "duration": 44,
        "start_time": "2022-10-27T13:45:27.037Z"
      },
      {
        "duration": 21,
        "start_time": "2022-10-27T13:45:27.083Z"
      },
      {
        "duration": 5,
        "start_time": "2022-10-27T13:45:27.129Z"
      },
      {
        "duration": 23,
        "start_time": "2022-10-27T13:45:27.136Z"
      },
      {
        "duration": 9,
        "start_time": "2022-10-27T13:45:27.161Z"
      },
      {
        "duration": 13,
        "start_time": "2022-10-27T13:45:27.172Z"
      },
      {
        "duration": 76,
        "start_time": "2022-10-27T13:45:27.187Z"
      },
      {
        "duration": 206,
        "start_time": "2022-10-27T13:45:27.265Z"
      },
      {
        "duration": 7,
        "start_time": "2022-10-27T13:45:27.474Z"
      },
      {
        "duration": 15,
        "start_time": "2022-10-27T13:45:27.483Z"
      },
      {
        "duration": 30,
        "start_time": "2022-10-27T13:45:27.500Z"
      },
      {
        "duration": 377,
        "start_time": "2022-10-27T13:45:27.532Z"
      },
      {
        "duration": 266,
        "start_time": "2022-10-27T13:45:27.911Z"
      },
      {
        "duration": 28,
        "start_time": "2022-10-27T13:45:28.179Z"
      },
      {
        "duration": 45,
        "start_time": "2022-10-27T13:45:28.209Z"
      },
      {
        "duration": 17,
        "start_time": "2022-10-27T13:45:28.257Z"
      },
      {
        "duration": 27,
        "start_time": "2022-10-27T13:45:28.276Z"
      },
      {
        "duration": 29,
        "start_time": "2022-10-27T13:45:28.331Z"
      },
      {
        "duration": 5,
        "start_time": "2022-10-27T13:45:28.362Z"
      },
      {
        "duration": 5,
        "start_time": "2022-10-27T13:45:28.369Z"
      },
      {
        "duration": 27,
        "start_time": "2022-10-27T13:45:28.376Z"
      },
      {
        "duration": 16,
        "start_time": "2022-10-27T13:45:28.430Z"
      },
      {
        "duration": 22,
        "start_time": "2022-10-27T13:45:28.448Z"
      },
      {
        "duration": 5,
        "start_time": "2022-10-27T13:45:28.472Z"
      },
      {
        "duration": 6,
        "start_time": "2022-10-27T13:45:28.478Z"
      },
      {
        "duration": 6,
        "start_time": "2022-10-27T13:45:28.486Z"
      },
      {
        "duration": 42,
        "start_time": "2022-10-27T13:45:28.493Z"
      },
      {
        "duration": 6,
        "start_time": "2022-10-27T13:45:28.536Z"
      },
      {
        "duration": 23,
        "start_time": "2022-10-27T13:45:28.544Z"
      },
      {
        "duration": 7,
        "start_time": "2022-10-27T13:46:32.067Z"
      },
      {
        "duration": 20,
        "start_time": "2022-10-27T13:46:33.868Z"
      },
      {
        "duration": 13,
        "start_time": "2022-10-27T13:46:54.251Z"
      },
      {
        "duration": 24,
        "start_time": "2022-10-27T13:46:55.739Z"
      },
      {
        "duration": 1240,
        "start_time": "2022-10-27T13:47:08.164Z"
      },
      {
        "duration": 10000,
        "start_time": "2022-10-27T13:47:09.406Z"
      },
      {
        "duration": 14,
        "start_time": "2022-10-27T13:47:19.407Z"
      },
      {
        "duration": 20,
        "start_time": "2022-10-27T13:47:19.428Z"
      },
      {
        "duration": 17,
        "start_time": "2022-10-27T13:47:19.450Z"
      },
      {
        "duration": 7,
        "start_time": "2022-10-27T13:47:19.469Z"
      },
      {
        "duration": 11,
        "start_time": "2022-10-27T13:47:19.477Z"
      },
      {
        "duration": 45,
        "start_time": "2022-10-27T13:47:19.490Z"
      },
      {
        "duration": 17,
        "start_time": "2022-10-27T13:47:19.536Z"
      },
      {
        "duration": 13,
        "start_time": "2022-10-27T13:47:19.556Z"
      },
      {
        "duration": 16,
        "start_time": "2022-10-27T13:47:19.570Z"
      },
      {
        "duration": 4,
        "start_time": "2022-10-27T13:47:19.587Z"
      },
      {
        "duration": 42,
        "start_time": "2022-10-27T13:47:19.593Z"
      },
      {
        "duration": 6,
        "start_time": "2022-10-27T13:47:19.636Z"
      },
      {
        "duration": 65,
        "start_time": "2022-10-27T13:47:19.644Z"
      },
      {
        "duration": 35,
        "start_time": "2022-10-27T13:47:19.710Z"
      },
      {
        "duration": 10,
        "start_time": "2022-10-27T13:47:19.746Z"
      },
      {
        "duration": 19,
        "start_time": "2022-10-27T13:47:19.758Z"
      },
      {
        "duration": 5,
        "start_time": "2022-10-27T13:47:19.779Z"
      },
      {
        "duration": 73,
        "start_time": "2022-10-27T13:47:19.786Z"
      },
      {
        "duration": 21,
        "start_time": "2022-10-27T13:47:19.861Z"
      },
      {
        "duration": 4,
        "start_time": "2022-10-27T13:47:19.883Z"
      },
      {
        "duration": 47,
        "start_time": "2022-10-27T13:47:19.889Z"
      },
      {
        "duration": 9,
        "start_time": "2022-10-27T13:47:19.938Z"
      },
      {
        "duration": 13,
        "start_time": "2022-10-27T13:47:19.949Z"
      },
      {
        "duration": 66,
        "start_time": "2022-10-27T13:47:19.964Z"
      },
      {
        "duration": 201,
        "start_time": "2022-10-27T13:47:20.031Z"
      },
      {
        "duration": 6,
        "start_time": "2022-10-27T13:47:20.236Z"
      },
      {
        "duration": 14,
        "start_time": "2022-10-27T13:47:20.244Z"
      },
      {
        "duration": 10,
        "start_time": "2022-10-27T13:47:20.260Z"
      },
      {
        "duration": 406,
        "start_time": "2022-10-27T13:47:20.272Z"
      },
      {
        "duration": 234,
        "start_time": "2022-10-27T13:47:20.680Z"
      },
      {
        "duration": 25,
        "start_time": "2022-10-27T13:47:20.916Z"
      },
      {
        "duration": 20,
        "start_time": "2022-10-27T13:47:20.943Z"
      },
      {
        "duration": 14,
        "start_time": "2022-10-27T13:47:20.965Z"
      },
      {
        "duration": 21,
        "start_time": "2022-10-27T13:47:20.980Z"
      },
      {
        "duration": 23,
        "start_time": "2022-10-27T13:47:21.030Z"
      },
      {
        "duration": 4,
        "start_time": "2022-10-27T13:47:21.055Z"
      },
      {
        "duration": 4,
        "start_time": "2022-10-27T13:47:21.061Z"
      },
      {
        "duration": 21,
        "start_time": "2022-10-27T13:47:21.067Z"
      },
      {
        "duration": 4,
        "start_time": "2022-10-27T13:47:21.089Z"
      },
      {
        "duration": 53,
        "start_time": "2022-10-27T13:47:21.094Z"
      },
      {
        "duration": 4,
        "start_time": "2022-10-27T13:47:21.148Z"
      },
      {
        "duration": 8,
        "start_time": "2022-10-27T13:47:21.153Z"
      },
      {
        "duration": 19,
        "start_time": "2022-10-27T13:47:21.163Z"
      },
      {
        "duration": 6,
        "start_time": "2022-10-27T13:47:21.184Z"
      },
      {
        "duration": 55,
        "start_time": "2022-10-27T13:47:21.191Z"
      },
      {
        "duration": 60,
        "start_time": "2022-10-27T13:56:04.188Z"
      },
      {
        "duration": 1275,
        "start_time": "2022-10-27T13:56:11.353Z"
      },
      {
        "duration": 10534,
        "start_time": "2022-10-27T13:56:12.630Z"
      },
      {
        "duration": 16,
        "start_time": "2022-10-27T13:56:23.166Z"
      },
      {
        "duration": 27,
        "start_time": "2022-10-27T13:56:23.185Z"
      },
      {
        "duration": 17,
        "start_time": "2022-10-27T13:56:23.229Z"
      },
      {
        "duration": 8,
        "start_time": "2022-10-27T13:56:23.248Z"
      },
      {
        "duration": 14,
        "start_time": "2022-10-27T13:56:23.258Z"
      },
      {
        "duration": 7,
        "start_time": "2022-10-27T13:56:23.274Z"
      },
      {
        "duration": 60,
        "start_time": "2022-10-27T13:56:23.283Z"
      },
      {
        "duration": 50,
        "start_time": "2022-10-27T13:56:23.346Z"
      },
      {
        "duration": 33,
        "start_time": "2022-10-27T13:56:23.398Z"
      },
      {
        "duration": 15,
        "start_time": "2022-10-27T13:56:23.434Z"
      },
      {
        "duration": 14,
        "start_time": "2022-10-27T13:56:23.452Z"
      },
      {
        "duration": 15,
        "start_time": "2022-10-27T13:56:23.468Z"
      },
      {
        "duration": 11,
        "start_time": "2022-10-27T13:56:23.484Z"
      },
      {
        "duration": 184,
        "start_time": "2022-10-27T13:56:23.496Z"
      },
      {
        "duration": 0,
        "start_time": "2022-10-27T13:56:23.682Z"
      },
      {
        "duration": 0,
        "start_time": "2022-10-27T13:56:23.684Z"
      },
      {
        "duration": 0,
        "start_time": "2022-10-27T13:56:23.685Z"
      },
      {
        "duration": 0,
        "start_time": "2022-10-27T13:56:23.686Z"
      },
      {
        "duration": 0,
        "start_time": "2022-10-27T13:56:23.687Z"
      },
      {
        "duration": 0,
        "start_time": "2022-10-27T13:56:23.688Z"
      },
      {
        "duration": 0,
        "start_time": "2022-10-27T13:56:23.689Z"
      },
      {
        "duration": 0,
        "start_time": "2022-10-27T13:56:23.690Z"
      },
      {
        "duration": 0,
        "start_time": "2022-10-27T13:56:23.691Z"
      },
      {
        "duration": 0,
        "start_time": "2022-10-27T13:56:23.692Z"
      },
      {
        "duration": 0,
        "start_time": "2022-10-27T13:56:23.693Z"
      },
      {
        "duration": 0,
        "start_time": "2022-10-27T13:56:23.694Z"
      },
      {
        "duration": 0,
        "start_time": "2022-10-27T13:56:23.695Z"
      },
      {
        "duration": 0,
        "start_time": "2022-10-27T13:56:23.696Z"
      },
      {
        "duration": 0,
        "start_time": "2022-10-27T13:56:23.697Z"
      },
      {
        "duration": 0,
        "start_time": "2022-10-27T13:56:23.699Z"
      },
      {
        "duration": 0,
        "start_time": "2022-10-27T13:56:23.731Z"
      },
      {
        "duration": 0,
        "start_time": "2022-10-27T13:56:23.732Z"
      },
      {
        "duration": 0,
        "start_time": "2022-10-27T13:56:23.734Z"
      },
      {
        "duration": 0,
        "start_time": "2022-10-27T13:56:23.735Z"
      },
      {
        "duration": 0,
        "start_time": "2022-10-27T13:56:23.737Z"
      },
      {
        "duration": 0,
        "start_time": "2022-10-27T13:56:23.738Z"
      },
      {
        "duration": 0,
        "start_time": "2022-10-27T13:56:23.740Z"
      },
      {
        "duration": 0,
        "start_time": "2022-10-27T13:56:23.741Z"
      },
      {
        "duration": 0,
        "start_time": "2022-10-27T13:56:23.743Z"
      },
      {
        "duration": 0,
        "start_time": "2022-10-27T13:56:23.744Z"
      },
      {
        "duration": 0,
        "start_time": "2022-10-27T13:56:23.746Z"
      },
      {
        "duration": 0,
        "start_time": "2022-10-27T13:56:23.747Z"
      },
      {
        "duration": 20,
        "start_time": "2022-10-27T13:56:52.043Z"
      },
      {
        "duration": 9,
        "start_time": "2022-10-27T13:57:00.971Z"
      },
      {
        "duration": 16,
        "start_time": "2022-10-27T13:57:07.562Z"
      },
      {
        "duration": 13,
        "start_time": "2022-10-27T13:57:23.610Z"
      },
      {
        "duration": 329,
        "start_time": "2022-10-27T13:57:28.562Z"
      },
      {
        "duration": 11,
        "start_time": "2022-10-27T13:57:40.434Z"
      },
      {
        "duration": 61,
        "start_time": "2022-10-27T13:57:42.026Z"
      },
      {
        "duration": 18,
        "start_time": "2022-10-27T13:57:46.074Z"
      },
      {
        "duration": 9,
        "start_time": "2022-10-27T13:57:49.730Z"
      },
      {
        "duration": 29,
        "start_time": "2022-10-27T13:57:53.458Z"
      },
      {
        "duration": 6,
        "start_time": "2022-10-27T13:58:03.809Z"
      },
      {
        "duration": 49,
        "start_time": "2022-10-27T13:58:08.410Z"
      },
      {
        "duration": 23,
        "start_time": "2022-10-27T13:58:10.481Z"
      },
      {
        "duration": 4,
        "start_time": "2022-10-27T13:58:15.609Z"
      },
      {
        "duration": 24,
        "start_time": "2022-10-27T13:58:24.201Z"
      },
      {
        "duration": 10,
        "start_time": "2022-10-27T13:58:27.553Z"
      },
      {
        "duration": 13,
        "start_time": "2022-10-27T13:58:30.113Z"
      },
      {
        "duration": 42,
        "start_time": "2022-10-27T13:58:33.313Z"
      },
      {
        "duration": 201,
        "start_time": "2022-10-27T13:58:39.705Z"
      },
      {
        "duration": 7,
        "start_time": "2022-10-27T13:58:42.409Z"
      },
      {
        "duration": 14,
        "start_time": "2022-10-27T13:58:58.515Z"
      },
      {
        "duration": 9,
        "start_time": "2022-10-27T13:59:01.033Z"
      },
      {
        "duration": 372,
        "start_time": "2022-10-27T13:59:06.466Z"
      },
      {
        "duration": 223,
        "start_time": "2022-10-27T13:59:17.056Z"
      },
      {
        "duration": 31,
        "start_time": "2022-10-27T13:59:19.689Z"
      },
      {
        "duration": 21,
        "start_time": "2022-10-27T13:59:22.337Z"
      },
      {
        "duration": 21,
        "start_time": "2022-10-27T13:59:23.953Z"
      },
      {
        "duration": 27,
        "start_time": "2022-10-27T13:59:45.600Z"
      },
      {
        "duration": 5,
        "start_time": "2022-10-27T13:59:50.072Z"
      },
      {
        "duration": 5,
        "start_time": "2022-10-27T13:59:52.744Z"
      },
      {
        "duration": 4,
        "start_time": "2022-10-27T13:59:53.896Z"
      },
      {
        "duration": 19,
        "start_time": "2022-10-27T13:59:56.120Z"
      },
      {
        "duration": 25,
        "start_time": "2022-10-27T13:59:57.160Z"
      },
      {
        "duration": 66,
        "start_time": "2022-10-27T14:01:30.184Z"
      },
      {
        "duration": 25,
        "start_time": "2022-10-27T14:01:31.878Z"
      },
      {
        "duration": 20,
        "start_time": "2022-10-27T14:01:33.048Z"
      },
      {
        "duration": 41,
        "start_time": "2022-10-27T14:06:26.715Z"
      },
      {
        "duration": 27,
        "start_time": "2022-10-27T14:06:28.394Z"
      },
      {
        "duration": 24,
        "start_time": "2022-10-27T14:06:30.244Z"
      },
      {
        "duration": 40,
        "start_time": "2022-10-27T14:07:25.834Z"
      },
      {
        "duration": 35,
        "start_time": "2022-10-27T14:07:29.226Z"
      },
      {
        "duration": 23,
        "start_time": "2022-10-27T14:07:29.690Z"
      },
      {
        "duration": 23,
        "start_time": "2022-10-27T14:07:44.141Z"
      },
      {
        "duration": 1341,
        "start_time": "2022-10-27T14:11:10.091Z"
      },
      {
        "duration": 10913,
        "start_time": "2022-10-27T14:11:11.435Z"
      },
      {
        "duration": 14,
        "start_time": "2022-10-27T14:11:22.350Z"
      },
      {
        "duration": 20,
        "start_time": "2022-10-27T14:11:22.366Z"
      },
      {
        "duration": 41,
        "start_time": "2022-10-27T14:11:22.389Z"
      },
      {
        "duration": 9,
        "start_time": "2022-10-27T14:11:22.432Z"
      },
      {
        "duration": 11,
        "start_time": "2022-10-27T14:11:22.443Z"
      },
      {
        "duration": 8,
        "start_time": "2022-10-27T14:11:22.456Z"
      },
      {
        "duration": 21,
        "start_time": "2022-10-27T14:11:22.466Z"
      },
      {
        "duration": 21,
        "start_time": "2022-10-27T14:11:22.529Z"
      },
      {
        "duration": 17,
        "start_time": "2022-10-27T14:11:22.552Z"
      },
      {
        "duration": 7,
        "start_time": "2022-10-27T14:11:22.571Z"
      },
      {
        "duration": 17,
        "start_time": "2022-10-27T14:11:22.580Z"
      },
      {
        "duration": 23,
        "start_time": "2022-10-27T14:11:22.631Z"
      },
      {
        "duration": 73,
        "start_time": "2022-10-27T14:11:22.656Z"
      },
      {
        "duration": 19,
        "start_time": "2022-10-27T14:11:22.731Z"
      },
      {
        "duration": 11,
        "start_time": "2022-10-27T14:11:22.753Z"
      },
      {
        "duration": 23,
        "start_time": "2022-10-27T14:11:22.766Z"
      },
      {
        "duration": 37,
        "start_time": "2022-10-27T14:11:22.792Z"
      },
      {
        "duration": 46,
        "start_time": "2022-10-27T14:11:22.831Z"
      },
      {
        "duration": 49,
        "start_time": "2022-10-27T14:11:22.881Z"
      },
      {
        "duration": 5,
        "start_time": "2022-10-27T14:11:22.932Z"
      },
      {
        "duration": 23,
        "start_time": "2022-10-27T14:11:22.939Z"
      },
      {
        "duration": 13,
        "start_time": "2022-10-27T14:11:22.965Z"
      },
      {
        "duration": 57,
        "start_time": "2022-10-27T14:11:22.981Z"
      },
      {
        "duration": 44,
        "start_time": "2022-10-27T14:11:23.041Z"
      },
      {
        "duration": 273,
        "start_time": "2022-10-27T14:11:23.088Z"
      },
      {
        "duration": 11,
        "start_time": "2022-10-27T14:11:23.363Z"
      },
      {
        "duration": 20,
        "start_time": "2022-10-27T14:11:23.376Z"
      },
      {
        "duration": 37,
        "start_time": "2022-10-27T14:11:23.398Z"
      },
      {
        "duration": 397,
        "start_time": "2022-10-27T14:11:23.437Z"
      },
      {
        "duration": 260,
        "start_time": "2022-10-27T14:11:23.836Z"
      },
      {
        "duration": 31,
        "start_time": "2022-10-27T14:11:24.098Z"
      },
      {
        "duration": 14,
        "start_time": "2022-10-27T14:11:24.132Z"
      },
      {
        "duration": 25,
        "start_time": "2022-10-27T14:11:24.148Z"
      },
      {
        "duration": 8,
        "start_time": "2022-10-27T14:11:24.177Z"
      },
      {
        "duration": 7,
        "start_time": "2022-10-27T14:11:24.187Z"
      },
      {
        "duration": 34,
        "start_time": "2022-10-27T14:11:24.196Z"
      },
      {
        "duration": 8,
        "start_time": "2022-10-27T14:11:24.232Z"
      },
      {
        "duration": 22,
        "start_time": "2022-10-27T14:11:24.242Z"
      },
      {
        "duration": 7,
        "start_time": "2022-10-27T14:11:24.269Z"
      },
      {
        "duration": 56,
        "start_time": "2022-10-27T14:11:24.278Z"
      },
      {
        "duration": 6,
        "start_time": "2022-10-27T14:15:46.206Z"
      },
      {
        "duration": 8,
        "start_time": "2022-10-27T14:16:24.577Z"
      },
      {
        "duration": 8,
        "start_time": "2022-10-27T14:22:11.534Z"
      },
      {
        "duration": 124,
        "start_time": "2022-10-27T14:23:02.755Z"
      },
      {
        "duration": 3,
        "start_time": "2022-10-27T14:23:10.075Z"
      },
      {
        "duration": 14,
        "start_time": "2022-10-27T14:23:11.956Z"
      },
      {
        "duration": 12,
        "start_time": "2022-10-27T14:23:16.611Z"
      },
      {
        "duration": 7,
        "start_time": "2022-10-27T14:23:29.666Z"
      },
      {
        "duration": 7,
        "start_time": "2022-10-27T14:23:39.906Z"
      },
      {
        "duration": 125,
        "start_time": "2022-10-27T14:23:47.499Z"
      },
      {
        "duration": 7,
        "start_time": "2022-10-27T14:24:05.004Z"
      },
      {
        "duration": 9,
        "start_time": "2022-10-27T14:24:26.426Z"
      },
      {
        "duration": 9,
        "start_time": "2022-10-27T14:24:39.266Z"
      },
      {
        "duration": 8,
        "start_time": "2022-10-27T14:25:09.497Z"
      },
      {
        "duration": 14,
        "start_time": "2022-10-27T14:25:17.338Z"
      },
      {
        "duration": 10,
        "start_time": "2022-10-27T14:25:34.689Z"
      },
      {
        "duration": 8,
        "start_time": "2022-10-27T14:25:43.705Z"
      },
      {
        "duration": 9,
        "start_time": "2022-10-27T14:26:12.601Z"
      },
      {
        "duration": 8,
        "start_time": "2022-10-27T14:26:17.274Z"
      },
      {
        "duration": 11,
        "start_time": "2022-10-27T14:26:24.955Z"
      },
      {
        "duration": 8,
        "start_time": "2022-10-27T14:26:36.018Z"
      },
      {
        "duration": 9,
        "start_time": "2022-10-27T14:26:48.258Z"
      },
      {
        "duration": 5,
        "start_time": "2022-10-27T14:31:40.725Z"
      },
      {
        "duration": 25,
        "start_time": "2022-10-27T14:31:50.396Z"
      },
      {
        "duration": 5,
        "start_time": "2022-10-27T14:32:34.300Z"
      },
      {
        "duration": 24,
        "start_time": "2022-10-27T14:32:35.021Z"
      },
      {
        "duration": 15,
        "start_time": "2022-10-27T14:33:31.500Z"
      },
      {
        "duration": 27,
        "start_time": "2022-10-27T14:33:32.348Z"
      },
      {
        "duration": 1201,
        "start_time": "2022-10-27T14:33:53.374Z"
      },
      {
        "duration": 9852,
        "start_time": "2022-10-27T14:33:54.577Z"
      },
      {
        "duration": 14,
        "start_time": "2022-10-27T14:34:04.431Z"
      },
      {
        "duration": 19,
        "start_time": "2022-10-27T14:34:04.447Z"
      },
      {
        "duration": 15,
        "start_time": "2022-10-27T14:34:04.467Z"
      },
      {
        "duration": 7,
        "start_time": "2022-10-27T14:34:04.484Z"
      },
      {
        "duration": 40,
        "start_time": "2022-10-27T14:34:04.493Z"
      },
      {
        "duration": 6,
        "start_time": "2022-10-27T14:34:04.535Z"
      },
      {
        "duration": 18,
        "start_time": "2022-10-27T14:34:04.542Z"
      },
      {
        "duration": 14,
        "start_time": "2022-10-27T14:34:04.562Z"
      },
      {
        "duration": 15,
        "start_time": "2022-10-27T14:34:04.577Z"
      },
      {
        "duration": 38,
        "start_time": "2022-10-27T14:34:04.594Z"
      },
      {
        "duration": 14,
        "start_time": "2022-10-27T14:34:04.634Z"
      },
      {
        "duration": 28,
        "start_time": "2022-10-27T14:34:04.650Z"
      },
      {
        "duration": 70,
        "start_time": "2022-10-27T14:34:04.680Z"
      },
      {
        "duration": 15,
        "start_time": "2022-10-27T14:34:04.752Z"
      },
      {
        "duration": 17,
        "start_time": "2022-10-27T14:34:04.769Z"
      },
      {
        "duration": 18,
        "start_time": "2022-10-27T14:34:04.788Z"
      },
      {
        "duration": 5,
        "start_time": "2022-10-27T14:34:04.808Z"
      },
      {
        "duration": 44,
        "start_time": "2022-10-27T14:34:04.830Z"
      },
      {
        "duration": 20,
        "start_time": "2022-10-27T14:34:04.876Z"
      },
      {
        "duration": 6,
        "start_time": "2022-10-27T14:34:04.897Z"
      },
      {
        "duration": 42,
        "start_time": "2022-10-27T14:34:04.904Z"
      },
      {
        "duration": 8,
        "start_time": "2022-10-27T14:34:04.948Z"
      },
      {
        "duration": 13,
        "start_time": "2022-10-27T14:34:04.957Z"
      },
      {
        "duration": 69,
        "start_time": "2022-10-27T14:34:04.972Z"
      },
      {
        "duration": 208,
        "start_time": "2022-10-27T14:34:05.043Z"
      },
      {
        "duration": 7,
        "start_time": "2022-10-27T14:34:05.253Z"
      },
      {
        "duration": 12,
        "start_time": "2022-10-27T14:34:05.262Z"
      },
      {
        "duration": 9,
        "start_time": "2022-10-27T14:34:05.275Z"
      },
      {
        "duration": 412,
        "start_time": "2022-10-27T14:34:05.285Z"
      },
      {
        "duration": 241,
        "start_time": "2022-10-27T14:34:05.698Z"
      },
      {
        "duration": 18,
        "start_time": "2022-10-27T14:34:05.941Z"
      },
      {
        "duration": 12,
        "start_time": "2022-10-27T14:34:05.961Z"
      },
      {
        "duration": 20,
        "start_time": "2022-10-27T14:34:05.974Z"
      },
      {
        "duration": 35,
        "start_time": "2022-10-27T14:34:05.996Z"
      },
      {
        "duration": 4,
        "start_time": "2022-10-27T14:34:06.033Z"
      },
      {
        "duration": 3,
        "start_time": "2022-10-27T14:34:06.039Z"
      },
      {
        "duration": 6,
        "start_time": "2022-10-27T14:34:06.044Z"
      },
      {
        "duration": 5,
        "start_time": "2022-10-27T14:34:06.052Z"
      },
      {
        "duration": 4,
        "start_time": "2022-10-27T14:34:06.059Z"
      },
      {
        "duration": 23,
        "start_time": "2022-10-27T14:34:06.065Z"
      },
      {
        "duration": 6,
        "start_time": "2022-10-27T14:38:34.368Z"
      },
      {
        "duration": 36,
        "start_time": "2022-10-27T14:38:35.113Z"
      },
      {
        "duration": 4,
        "start_time": "2022-10-27T14:42:25.438Z"
      },
      {
        "duration": 32,
        "start_time": "2022-10-27T14:42:26.157Z"
      },
      {
        "duration": 27,
        "start_time": "2022-10-27T14:43:51.747Z"
      },
      {
        "duration": 117,
        "start_time": "2022-10-27T14:43:53.331Z"
      },
      {
        "duration": 12,
        "start_time": "2022-10-27T14:46:58.361Z"
      },
      {
        "duration": 11,
        "start_time": "2022-10-27T14:47:08.942Z"
      },
      {
        "duration": 1187,
        "start_time": "2022-10-27T14:49:03.318Z"
      },
      {
        "duration": 9439,
        "start_time": "2022-10-27T14:49:04.507Z"
      },
      {
        "duration": 16,
        "start_time": "2022-10-27T14:49:13.948Z"
      },
      {
        "duration": 19,
        "start_time": "2022-10-27T14:49:13.966Z"
      },
      {
        "duration": 15,
        "start_time": "2022-10-27T14:49:13.987Z"
      },
      {
        "duration": 30,
        "start_time": "2022-10-27T14:49:14.003Z"
      },
      {
        "duration": 10,
        "start_time": "2022-10-27T14:49:14.035Z"
      },
      {
        "duration": 5,
        "start_time": "2022-10-27T14:49:14.047Z"
      },
      {
        "duration": 15,
        "start_time": "2022-10-27T14:49:14.054Z"
      },
      {
        "duration": 14,
        "start_time": "2022-10-27T14:49:14.071Z"
      },
      {
        "duration": 53,
        "start_time": "2022-10-27T14:49:14.086Z"
      },
      {
        "duration": 4,
        "start_time": "2022-10-27T14:49:14.142Z"
      },
      {
        "duration": 13,
        "start_time": "2022-10-27T14:49:14.148Z"
      },
      {
        "duration": 6,
        "start_time": "2022-10-27T14:49:14.164Z"
      },
      {
        "duration": 93,
        "start_time": "2022-10-27T14:49:14.172Z"
      },
      {
        "duration": 18,
        "start_time": "2022-10-27T14:49:14.267Z"
      },
      {
        "duration": 18,
        "start_time": "2022-10-27T14:49:14.287Z"
      },
      {
        "duration": 33,
        "start_time": "2022-10-27T14:49:14.307Z"
      },
      {
        "duration": 8,
        "start_time": "2022-10-27T14:49:14.342Z"
      },
      {
        "duration": 48,
        "start_time": "2022-10-27T14:49:14.352Z"
      },
      {
        "duration": 44,
        "start_time": "2022-10-27T14:49:14.403Z"
      },
      {
        "duration": 4,
        "start_time": "2022-10-27T14:49:14.449Z"
      },
      {
        "duration": 23,
        "start_time": "2022-10-27T14:49:14.454Z"
      },
      {
        "duration": 9,
        "start_time": "2022-10-27T14:49:14.479Z"
      },
      {
        "duration": 43,
        "start_time": "2022-10-27T14:49:14.489Z"
      },
      {
        "duration": 43,
        "start_time": "2022-10-27T14:49:14.534Z"
      },
      {
        "duration": 214,
        "start_time": "2022-10-27T14:49:14.579Z"
      },
      {
        "duration": 6,
        "start_time": "2022-10-27T14:49:14.795Z"
      },
      {
        "duration": 28,
        "start_time": "2022-10-27T14:49:14.803Z"
      },
      {
        "duration": 9,
        "start_time": "2022-10-27T14:49:14.832Z"
      },
      {
        "duration": 388,
        "start_time": "2022-10-27T14:49:14.843Z"
      },
      {
        "duration": 233,
        "start_time": "2022-10-27T14:49:15.233Z"
      },
      {
        "duration": 31,
        "start_time": "2022-10-27T14:49:15.468Z"
      },
      {
        "duration": 4,
        "start_time": "2022-10-27T14:49:15.500Z"
      },
      {
        "duration": 40,
        "start_time": "2022-10-27T14:49:15.506Z"
      },
      {
        "duration": 1321,
        "start_time": "2022-10-27T14:49:15.548Z"
      },
      {
        "duration": 0,
        "start_time": "2022-10-27T14:49:16.871Z"
      },
      {
        "duration": 0,
        "start_time": "2022-10-27T14:49:16.872Z"
      },
      {
        "duration": 0,
        "start_time": "2022-10-27T14:49:16.873Z"
      },
      {
        "duration": 0,
        "start_time": "2022-10-27T14:49:16.875Z"
      },
      {
        "duration": 0,
        "start_time": "2022-10-27T14:49:16.876Z"
      },
      {
        "duration": 0,
        "start_time": "2022-10-27T14:49:16.877Z"
      },
      {
        "duration": 28,
        "start_time": "2022-10-27T14:53:15.301Z"
      },
      {
        "duration": 21,
        "start_time": "2022-10-27T14:53:34.420Z"
      },
      {
        "duration": 1111,
        "start_time": "2022-10-27T14:54:46.568Z"
      },
      {
        "duration": 9640,
        "start_time": "2022-10-27T14:54:47.681Z"
      },
      {
        "duration": 14,
        "start_time": "2022-10-27T14:54:57.323Z"
      },
      {
        "duration": 24,
        "start_time": "2022-10-27T14:54:57.338Z"
      },
      {
        "duration": 25,
        "start_time": "2022-10-27T14:54:57.364Z"
      },
      {
        "duration": 6,
        "start_time": "2022-10-27T14:54:57.391Z"
      },
      {
        "duration": 34,
        "start_time": "2022-10-27T14:54:57.400Z"
      },
      {
        "duration": 17,
        "start_time": "2022-10-27T14:54:57.436Z"
      },
      {
        "duration": 30,
        "start_time": "2022-10-27T14:54:57.455Z"
      },
      {
        "duration": 15,
        "start_time": "2022-10-27T14:54:57.488Z"
      },
      {
        "duration": 17,
        "start_time": "2022-10-27T14:54:57.504Z"
      },
      {
        "duration": 14,
        "start_time": "2022-10-27T14:54:57.522Z"
      },
      {
        "duration": 24,
        "start_time": "2022-10-27T14:54:57.538Z"
      },
      {
        "duration": 24,
        "start_time": "2022-10-27T14:54:57.563Z"
      },
      {
        "duration": 53,
        "start_time": "2022-10-27T14:54:57.589Z"
      },
      {
        "duration": 29,
        "start_time": "2022-10-27T14:54:57.644Z"
      },
      {
        "duration": 27,
        "start_time": "2022-10-27T14:54:57.675Z"
      },
      {
        "duration": 32,
        "start_time": "2022-10-27T14:54:57.704Z"
      },
      {
        "duration": 14,
        "start_time": "2022-10-27T14:54:57.737Z"
      },
      {
        "duration": 69,
        "start_time": "2022-10-27T14:54:57.753Z"
      },
      {
        "duration": 21,
        "start_time": "2022-10-27T14:54:57.823Z"
      },
      {
        "duration": 34,
        "start_time": "2022-10-27T14:54:57.845Z"
      },
      {
        "duration": 50,
        "start_time": "2022-10-27T14:54:57.881Z"
      },
      {
        "duration": 13,
        "start_time": "2022-10-27T14:54:57.932Z"
      },
      {
        "duration": 35,
        "start_time": "2022-10-27T14:54:57.947Z"
      },
      {
        "duration": 62,
        "start_time": "2022-10-27T14:54:57.983Z"
      },
      {
        "duration": 282,
        "start_time": "2022-10-27T14:54:58.048Z"
      },
      {
        "duration": 10,
        "start_time": "2022-10-27T14:54:58.334Z"
      },
      {
        "duration": 38,
        "start_time": "2022-10-27T14:54:58.346Z"
      },
      {
        "duration": 33,
        "start_time": "2022-10-27T14:54:58.386Z"
      },
      {
        "duration": 426,
        "start_time": "2022-10-27T14:54:58.421Z"
      },
      {
        "duration": 224,
        "start_time": "2022-10-27T14:54:58.849Z"
      },
      {
        "duration": 25,
        "start_time": "2022-10-27T14:54:59.075Z"
      },
      {
        "duration": 34,
        "start_time": "2022-10-27T14:54:59.102Z"
      },
      {
        "duration": 31,
        "start_time": "2022-10-27T14:54:59.137Z"
      },
      {
        "duration": 22,
        "start_time": "2022-10-27T14:54:59.169Z"
      },
      {
        "duration": 1515,
        "start_time": "2022-10-27T14:54:59.193Z"
      },
      {
        "duration": 0,
        "start_time": "2022-10-27T14:55:00.709Z"
      },
      {
        "duration": 0,
        "start_time": "2022-10-27T14:55:00.710Z"
      },
      {
        "duration": 0,
        "start_time": "2022-10-27T14:55:00.711Z"
      },
      {
        "duration": 0,
        "start_time": "2022-10-27T14:55:00.713Z"
      },
      {
        "duration": 0,
        "start_time": "2022-10-27T14:55:00.714Z"
      },
      {
        "duration": 0,
        "start_time": "2022-10-27T14:55:00.715Z"
      },
      {
        "duration": 52,
        "start_time": "2022-10-27T14:55:28.081Z"
      },
      {
        "duration": 21,
        "start_time": "2022-10-27T14:55:28.715Z"
      },
      {
        "duration": 36,
        "start_time": "2022-10-27T14:55:38.331Z"
      },
      {
        "duration": 39,
        "start_time": "2022-10-27T14:56:20.620Z"
      },
      {
        "duration": 26,
        "start_time": "2022-10-27T14:56:32.667Z"
      },
      {
        "duration": 44,
        "start_time": "2022-10-27T14:56:47.706Z"
      },
      {
        "duration": 29,
        "start_time": "2022-10-27T14:56:49.778Z"
      },
      {
        "duration": 54,
        "start_time": "2022-10-27T14:57:09.315Z"
      },
      {
        "duration": 773,
        "start_time": "2022-10-27T14:57:50.754Z"
      },
      {
        "duration": 27,
        "start_time": "2022-10-27T14:57:54.744Z"
      },
      {
        "duration": 927,
        "start_time": "2022-10-27T14:58:08.426Z"
      },
      {
        "duration": 38,
        "start_time": "2022-10-27T14:58:17.953Z"
      },
      {
        "duration": 23,
        "start_time": "2022-10-27T14:58:20.154Z"
      },
      {
        "duration": 1127,
        "start_time": "2022-10-27T14:58:39.750Z"
      },
      {
        "duration": 9414,
        "start_time": "2022-10-27T14:58:40.879Z"
      },
      {
        "duration": 13,
        "start_time": "2022-10-27T14:58:50.294Z"
      },
      {
        "duration": 25,
        "start_time": "2022-10-27T14:58:50.309Z"
      },
      {
        "duration": 13,
        "start_time": "2022-10-27T14:58:50.336Z"
      },
      {
        "duration": 6,
        "start_time": "2022-10-27T14:58:50.351Z"
      },
      {
        "duration": 9,
        "start_time": "2022-10-27T14:58:50.358Z"
      },
      {
        "duration": 5,
        "start_time": "2022-10-27T14:58:50.369Z"
      },
      {
        "duration": 16,
        "start_time": "2022-10-27T14:58:50.375Z"
      },
      {
        "duration": 50,
        "start_time": "2022-10-27T14:58:50.393Z"
      },
      {
        "duration": 16,
        "start_time": "2022-10-27T14:58:50.444Z"
      },
      {
        "duration": 4,
        "start_time": "2022-10-27T14:58:50.461Z"
      },
      {
        "duration": 11,
        "start_time": "2022-10-27T14:58:50.466Z"
      },
      {
        "duration": 5,
        "start_time": "2022-10-27T14:58:50.479Z"
      },
      {
        "duration": 100,
        "start_time": "2022-10-27T14:58:50.485Z"
      },
      {
        "duration": 16,
        "start_time": "2022-10-27T14:58:50.587Z"
      },
      {
        "duration": 11,
        "start_time": "2022-10-27T14:58:50.605Z"
      },
      {
        "duration": 20,
        "start_time": "2022-10-27T14:58:50.630Z"
      },
      {
        "duration": 6,
        "start_time": "2022-10-27T14:58:50.652Z"
      },
      {
        "duration": 57,
        "start_time": "2022-10-27T14:58:50.659Z"
      },
      {
        "duration": 29,
        "start_time": "2022-10-27T14:58:50.718Z"
      },
      {
        "duration": 8,
        "start_time": "2022-10-27T14:58:50.748Z"
      },
      {
        "duration": 21,
        "start_time": "2022-10-27T14:58:50.758Z"
      },
      {
        "duration": 9,
        "start_time": "2022-10-27T14:58:50.781Z"
      },
      {
        "duration": 38,
        "start_time": "2022-10-27T14:58:50.792Z"
      },
      {
        "duration": 42,
        "start_time": "2022-10-27T14:58:50.832Z"
      },
      {
        "duration": 208,
        "start_time": "2022-10-27T14:58:50.875Z"
      },
      {
        "duration": 6,
        "start_time": "2022-10-27T14:58:51.086Z"
      },
      {
        "duration": 22,
        "start_time": "2022-10-27T14:58:51.094Z"
      },
      {
        "duration": 34,
        "start_time": "2022-10-27T14:58:51.117Z"
      },
      {
        "duration": 354,
        "start_time": "2022-10-27T14:58:51.153Z"
      },
      {
        "duration": 216,
        "start_time": "2022-10-27T14:58:51.508Z"
      },
      {
        "duration": 44,
        "start_time": "2022-10-27T14:58:51.726Z"
      },
      {
        "duration": 709,
        "start_time": "2022-10-27T14:58:51.772Z"
      },
      {
        "duration": 21,
        "start_time": "2022-10-27T14:58:52.483Z"
      },
      {
        "duration": 1246,
        "start_time": "2022-10-27T14:58:52.505Z"
      },
      {
        "duration": 0,
        "start_time": "2022-10-27T14:58:53.753Z"
      },
      {
        "duration": 0,
        "start_time": "2022-10-27T14:58:53.754Z"
      },
      {
        "duration": 0,
        "start_time": "2022-10-27T14:58:53.755Z"
      },
      {
        "duration": 0,
        "start_time": "2022-10-27T14:58:53.756Z"
      },
      {
        "duration": 0,
        "start_time": "2022-10-27T14:58:53.757Z"
      },
      {
        "duration": 0,
        "start_time": "2022-10-27T14:58:53.758Z"
      },
      {
        "duration": 803,
        "start_time": "2022-10-27T15:00:45.650Z"
      },
      {
        "duration": 21,
        "start_time": "2022-10-27T15:00:46.925Z"
      },
      {
        "duration": 406,
        "start_time": "2022-10-27T15:01:12.218Z"
      },
      {
        "duration": 21,
        "start_time": "2022-10-27T15:01:12.795Z"
      },
      {
        "duration": 758,
        "start_time": "2022-10-27T15:01:25.810Z"
      },
      {
        "duration": 20,
        "start_time": "2022-10-27T15:01:26.570Z"
      },
      {
        "duration": 704,
        "start_time": "2022-10-27T15:01:31.122Z"
      },
      {
        "duration": 22,
        "start_time": "2022-10-27T15:01:31.828Z"
      },
      {
        "duration": 1317,
        "start_time": "2022-10-28T07:30:18.521Z"
      },
      {
        "duration": 9774,
        "start_time": "2022-10-28T07:30:19.840Z"
      },
      {
        "duration": 17,
        "start_time": "2022-10-28T07:30:29.616Z"
      },
      {
        "duration": 17,
        "start_time": "2022-10-28T07:30:29.635Z"
      },
      {
        "duration": 14,
        "start_time": "2022-10-28T07:30:29.654Z"
      },
      {
        "duration": 8,
        "start_time": "2022-10-28T07:30:29.669Z"
      },
      {
        "duration": 20,
        "start_time": "2022-10-28T07:30:29.678Z"
      },
      {
        "duration": 34,
        "start_time": "2022-10-28T07:30:29.699Z"
      },
      {
        "duration": 19,
        "start_time": "2022-10-28T07:30:29.734Z"
      },
      {
        "duration": 12,
        "start_time": "2022-10-28T07:30:29.755Z"
      },
      {
        "duration": 21,
        "start_time": "2022-10-28T07:30:29.769Z"
      },
      {
        "duration": 5,
        "start_time": "2022-10-28T07:30:29.792Z"
      },
      {
        "duration": 24,
        "start_time": "2022-10-28T07:30:29.799Z"
      },
      {
        "duration": 14,
        "start_time": "2022-10-28T07:30:29.826Z"
      },
      {
        "duration": 89,
        "start_time": "2022-10-28T07:30:29.842Z"
      },
      {
        "duration": 174,
        "start_time": "2022-10-28T07:30:29.933Z"
      },
      {
        "duration": 26,
        "start_time": "2022-10-28T07:30:30.109Z"
      },
      {
        "duration": 32,
        "start_time": "2022-10-28T07:30:30.137Z"
      },
      {
        "duration": 7,
        "start_time": "2022-10-28T07:30:30.171Z"
      },
      {
        "duration": 66,
        "start_time": "2022-10-28T07:30:30.179Z"
      },
      {
        "duration": 23,
        "start_time": "2022-10-28T07:30:30.246Z"
      },
      {
        "duration": 19,
        "start_time": "2022-10-28T07:30:30.270Z"
      },
      {
        "duration": 28,
        "start_time": "2022-10-28T07:30:30.291Z"
      },
      {
        "duration": 10,
        "start_time": "2022-10-28T07:30:30.320Z"
      },
      {
        "duration": 37,
        "start_time": "2022-10-28T07:30:30.332Z"
      },
      {
        "duration": 62,
        "start_time": "2022-10-28T07:30:30.372Z"
      },
      {
        "duration": 222,
        "start_time": "2022-10-28T07:30:30.436Z"
      },
      {
        "duration": 7,
        "start_time": "2022-10-28T07:30:30.660Z"
      },
      {
        "duration": 30,
        "start_time": "2022-10-28T07:30:30.669Z"
      },
      {
        "duration": 22,
        "start_time": "2022-10-28T07:30:30.701Z"
      },
      {
        "duration": 442,
        "start_time": "2022-10-28T07:30:30.726Z"
      },
      {
        "duration": 225,
        "start_time": "2022-10-28T07:30:31.169Z"
      },
      {
        "duration": 51,
        "start_time": "2022-10-28T07:30:31.396Z"
      },
      {
        "duration": 42,
        "start_time": "2022-10-28T07:30:31.448Z"
      },
      {
        "duration": 22,
        "start_time": "2022-10-28T07:30:31.492Z"
      },
      {
        "duration": 13,
        "start_time": "2022-10-28T07:30:31.515Z"
      },
      {
        "duration": 49,
        "start_time": "2022-10-28T07:30:31.530Z"
      },
      {
        "duration": 5,
        "start_time": "2022-10-28T07:30:31.580Z"
      },
      {
        "duration": 28,
        "start_time": "2022-10-28T07:30:31.587Z"
      },
      {
        "duration": 29,
        "start_time": "2022-10-28T07:30:31.616Z"
      },
      {
        "duration": 29,
        "start_time": "2022-10-28T07:30:31.648Z"
      },
      {
        "duration": 23,
        "start_time": "2022-10-28T07:30:31.678Z"
      },
      {
        "duration": 15,
        "start_time": "2022-10-28T07:30:31.702Z"
      },
      {
        "duration": 29,
        "start_time": "2022-10-28T07:30:31.718Z"
      },
      {
        "duration": 17,
        "start_time": "2022-10-28T07:58:32.430Z"
      },
      {
        "duration": 15,
        "start_time": "2022-10-28T08:15:08.401Z"
      },
      {
        "duration": 1154,
        "start_time": "2022-10-28T08:16:16.712Z"
      },
      {
        "duration": 8886,
        "start_time": "2022-10-28T08:16:17.871Z"
      },
      {
        "duration": 13,
        "start_time": "2022-10-28T08:16:26.759Z"
      },
      {
        "duration": 23,
        "start_time": "2022-10-28T08:16:26.774Z"
      },
      {
        "duration": 23,
        "start_time": "2022-10-28T08:16:26.798Z"
      },
      {
        "duration": 8,
        "start_time": "2022-10-28T08:16:26.823Z"
      },
      {
        "duration": 10,
        "start_time": "2022-10-28T08:16:26.833Z"
      },
      {
        "duration": 5,
        "start_time": "2022-10-28T08:16:26.844Z"
      },
      {
        "duration": 17,
        "start_time": "2022-10-28T08:16:26.850Z"
      },
      {
        "duration": 12,
        "start_time": "2022-10-28T08:16:26.869Z"
      },
      {
        "duration": 45,
        "start_time": "2022-10-28T08:16:26.882Z"
      },
      {
        "duration": 4,
        "start_time": "2022-10-28T08:16:26.929Z"
      },
      {
        "duration": 12,
        "start_time": "2022-10-28T08:16:26.934Z"
      },
      {
        "duration": 5,
        "start_time": "2022-10-28T08:16:26.948Z"
      },
      {
        "duration": 78,
        "start_time": "2022-10-28T08:16:26.954Z"
      },
      {
        "duration": 13,
        "start_time": "2022-10-28T08:16:27.034Z"
      },
      {
        "duration": 10,
        "start_time": "2022-10-28T08:16:27.049Z"
      },
      {
        "duration": 17,
        "start_time": "2022-10-28T08:16:27.061Z"
      },
      {
        "duration": 6,
        "start_time": "2022-10-28T08:16:27.079Z"
      },
      {
        "duration": 63,
        "start_time": "2022-10-28T08:16:27.086Z"
      },
      {
        "duration": 19,
        "start_time": "2022-10-28T08:16:27.150Z"
      },
      {
        "duration": 6,
        "start_time": "2022-10-28T08:16:27.170Z"
      },
      {
        "duration": 21,
        "start_time": "2022-10-28T08:16:27.177Z"
      },
      {
        "duration": 27,
        "start_time": "2022-10-28T08:16:27.199Z"
      },
      {
        "duration": 11,
        "start_time": "2022-10-28T08:16:27.228Z"
      },
      {
        "duration": 36,
        "start_time": "2022-10-28T08:16:27.240Z"
      },
      {
        "duration": 220,
        "start_time": "2022-10-28T08:16:27.277Z"
      },
      {
        "duration": 6,
        "start_time": "2022-10-28T08:16:27.499Z"
      },
      {
        "duration": 21,
        "start_time": "2022-10-28T08:16:27.506Z"
      },
      {
        "duration": 9,
        "start_time": "2022-10-28T08:16:27.528Z"
      },
      {
        "duration": 342,
        "start_time": "2022-10-28T08:16:27.538Z"
      },
      {
        "duration": 213,
        "start_time": "2022-10-28T08:16:27.882Z"
      },
      {
        "duration": 45,
        "start_time": "2022-10-28T08:16:28.097Z"
      },
      {
        "duration": 29,
        "start_time": "2022-10-28T08:16:28.144Z"
      },
      {
        "duration": 20,
        "start_time": "2022-10-28T08:16:28.174Z"
      },
      {
        "duration": 6,
        "start_time": "2022-10-28T08:16:28.195Z"
      },
      {
        "duration": 23,
        "start_time": "2022-10-28T08:16:28.202Z"
      },
      {
        "duration": 21,
        "start_time": "2022-10-28T08:16:28.226Z"
      },
      {
        "duration": 18,
        "start_time": "2022-10-28T08:16:28.248Z"
      },
      {
        "duration": 4,
        "start_time": "2022-10-28T08:16:28.268Z"
      },
      {
        "duration": 8,
        "start_time": "2022-10-28T08:16:28.273Z"
      },
      {
        "duration": 10,
        "start_time": "2022-10-28T08:16:28.282Z"
      },
      {
        "duration": 3,
        "start_time": "2022-10-28T08:17:44.228Z"
      },
      {
        "duration": 17,
        "start_time": "2022-10-28T08:17:50.347Z"
      },
      {
        "duration": 24,
        "start_time": "2022-10-28T08:18:14.338Z"
      },
      {
        "duration": 1118,
        "start_time": "2022-10-28T08:19:09.830Z"
      },
      {
        "duration": 9113,
        "start_time": "2022-10-28T08:19:10.950Z"
      },
      {
        "duration": 13,
        "start_time": "2022-10-28T08:19:20.065Z"
      },
      {
        "duration": 42,
        "start_time": "2022-10-28T08:19:20.079Z"
      },
      {
        "duration": 28,
        "start_time": "2022-10-28T08:19:20.123Z"
      },
      {
        "duration": 6,
        "start_time": "2022-10-28T08:19:20.152Z"
      },
      {
        "duration": 18,
        "start_time": "2022-10-28T08:19:20.160Z"
      },
      {
        "duration": 7,
        "start_time": "2022-10-28T08:19:20.179Z"
      },
      {
        "duration": 20,
        "start_time": "2022-10-28T08:19:20.187Z"
      },
      {
        "duration": 22,
        "start_time": "2022-10-28T08:19:20.209Z"
      },
      {
        "duration": 23,
        "start_time": "2022-10-28T08:19:20.233Z"
      },
      {
        "duration": 4,
        "start_time": "2022-10-28T08:19:20.257Z"
      },
      {
        "duration": 20,
        "start_time": "2022-10-28T08:19:20.263Z"
      },
      {
        "duration": 4,
        "start_time": "2022-10-28T08:19:20.286Z"
      },
      {
        "duration": 79,
        "start_time": "2022-10-28T08:19:20.291Z"
      },
      {
        "duration": 15,
        "start_time": "2022-10-28T08:19:20.372Z"
      },
      {
        "duration": 15,
        "start_time": "2022-10-28T08:19:20.388Z"
      },
      {
        "duration": 30,
        "start_time": "2022-10-28T08:19:20.404Z"
      },
      {
        "duration": 4,
        "start_time": "2022-10-28T08:19:20.436Z"
      },
      {
        "duration": 43,
        "start_time": "2022-10-28T08:19:20.442Z"
      },
      {
        "duration": 42,
        "start_time": "2022-10-28T08:19:20.487Z"
      },
      {
        "duration": 4,
        "start_time": "2022-10-28T08:19:20.531Z"
      },
      {
        "duration": 30,
        "start_time": "2022-10-28T08:19:20.537Z"
      },
      {
        "duration": 11,
        "start_time": "2022-10-28T08:19:20.568Z"
      },
      {
        "duration": 30,
        "start_time": "2022-10-28T08:19:20.581Z"
      },
      {
        "duration": 39,
        "start_time": "2022-10-28T08:19:20.613Z"
      },
      {
        "duration": 187,
        "start_time": "2022-10-28T08:19:20.653Z"
      },
      {
        "duration": 6,
        "start_time": "2022-10-28T08:19:20.842Z"
      },
      {
        "duration": 15,
        "start_time": "2022-10-28T08:19:20.849Z"
      },
      {
        "duration": 14,
        "start_time": "2022-10-28T08:19:20.866Z"
      },
      {
        "duration": 359,
        "start_time": "2022-10-28T08:19:20.882Z"
      },
      {
        "duration": 222,
        "start_time": "2022-10-28T08:19:21.243Z"
      },
      {
        "duration": 37,
        "start_time": "2022-10-28T08:19:21.467Z"
      },
      {
        "duration": 40,
        "start_time": "2022-10-28T08:19:21.506Z"
      },
      {
        "duration": 4,
        "start_time": "2022-10-28T08:19:21.549Z"
      },
      {
        "duration": 10,
        "start_time": "2022-10-28T08:19:21.555Z"
      },
      {
        "duration": 124,
        "start_time": "2022-10-28T08:19:21.567Z"
      },
      {
        "duration": 0,
        "start_time": "2022-10-28T08:19:21.692Z"
      },
      {
        "duration": 0,
        "start_time": "2022-10-28T08:19:21.694Z"
      },
      {
        "duration": 0,
        "start_time": "2022-10-28T08:19:21.695Z"
      },
      {
        "duration": 0,
        "start_time": "2022-10-28T08:19:21.696Z"
      },
      {
        "duration": 0,
        "start_time": "2022-10-28T08:19:21.697Z"
      },
      {
        "duration": 5,
        "start_time": "2022-10-28T08:20:12.648Z"
      },
      {
        "duration": 6,
        "start_time": "2022-10-28T08:20:13.319Z"
      },
      {
        "duration": 6,
        "start_time": "2022-10-28T08:20:13.860Z"
      },
      {
        "duration": 32,
        "start_time": "2022-10-28T08:20:15.396Z"
      },
      {
        "duration": 1336,
        "start_time": "2022-10-28T08:35:50.961Z"
      },
      {
        "duration": 1004,
        "start_time": "2022-10-28T08:36:24.089Z"
      },
      {
        "duration": 14,
        "start_time": "2022-10-28T08:36:43.000Z"
      },
      {
        "duration": 11,
        "start_time": "2022-10-28T08:37:57.937Z"
      },
      {
        "duration": 13,
        "start_time": "2022-10-28T08:39:25.886Z"
      },
      {
        "duration": 12,
        "start_time": "2022-10-28T08:39:58.478Z"
      },
      {
        "duration": 11,
        "start_time": "2022-10-28T08:40:06.671Z"
      },
      {
        "duration": 6,
        "start_time": "2022-10-28T08:41:23.812Z"
      },
      {
        "duration": 9,
        "start_time": "2022-10-28T08:41:32.284Z"
      },
      {
        "duration": 7,
        "start_time": "2022-10-28T08:45:39.112Z"
      },
      {
        "duration": 8,
        "start_time": "2022-10-28T08:45:50.689Z"
      },
      {
        "duration": 13,
        "start_time": "2022-10-28T08:45:59.544Z"
      },
      {
        "duration": 75,
        "start_time": "2022-10-28T08:46:32.194Z"
      },
      {
        "duration": 10,
        "start_time": "2022-10-28T08:46:45.344Z"
      },
      {
        "duration": 12,
        "start_time": "2022-10-28T08:47:10.992Z"
      },
      {
        "duration": 14,
        "start_time": "2022-10-28T08:48:30.503Z"
      },
      {
        "duration": 12,
        "start_time": "2022-10-28T08:50:11.557Z"
      },
      {
        "duration": 11,
        "start_time": "2022-10-28T08:50:44.989Z"
      },
      {
        "duration": 32,
        "start_time": "2022-10-28T08:50:52.636Z"
      },
      {
        "duration": 19,
        "start_time": "2022-10-28T08:51:08.717Z"
      },
      {
        "duration": 3,
        "start_time": "2022-10-28T08:51:31.821Z"
      },
      {
        "duration": 22,
        "start_time": "2022-10-28T08:51:33.037Z"
      },
      {
        "duration": 10,
        "start_time": "2022-10-28T08:51:37.780Z"
      },
      {
        "duration": 19,
        "start_time": "2022-10-28T08:51:43.045Z"
      },
      {
        "duration": 6183,
        "start_time": "2022-10-28T08:52:24.557Z"
      },
      {
        "duration": 23,
        "start_time": "2022-10-28T08:52:31.748Z"
      },
      {
        "duration": 22562,
        "start_time": "2022-10-28T08:55:32.658Z"
      },
      {
        "duration": 21,
        "start_time": "2022-10-28T08:56:23.362Z"
      },
      {
        "duration": 1479,
        "start_time": "2022-10-28T08:56:57.142Z"
      },
      {
        "duration": 8500,
        "start_time": "2022-10-28T08:56:58.623Z"
      },
      {
        "duration": 14,
        "start_time": "2022-10-28T08:57:07.125Z"
      },
      {
        "duration": 16,
        "start_time": "2022-10-28T08:57:07.140Z"
      },
      {
        "duration": 15,
        "start_time": "2022-10-28T08:57:07.158Z"
      },
      {
        "duration": 7,
        "start_time": "2022-10-28T08:57:07.175Z"
      },
      {
        "duration": 40,
        "start_time": "2022-10-28T08:57:07.184Z"
      },
      {
        "duration": 6,
        "start_time": "2022-10-28T08:57:07.225Z"
      },
      {
        "duration": 20,
        "start_time": "2022-10-28T08:57:07.232Z"
      },
      {
        "duration": 13,
        "start_time": "2022-10-28T08:57:07.254Z"
      },
      {
        "duration": 15,
        "start_time": "2022-10-28T08:57:07.268Z"
      },
      {
        "duration": 4,
        "start_time": "2022-10-28T08:57:07.284Z"
      },
      {
        "duration": 36,
        "start_time": "2022-10-28T08:57:07.289Z"
      },
      {
        "duration": 13,
        "start_time": "2022-10-28T08:57:07.328Z"
      },
      {
        "duration": 65,
        "start_time": "2022-10-28T08:57:07.342Z"
      },
      {
        "duration": 19,
        "start_time": "2022-10-28T08:57:07.409Z"
      },
      {
        "duration": 15,
        "start_time": "2022-10-28T08:57:07.430Z"
      },
      {
        "duration": 23,
        "start_time": "2022-10-28T08:57:07.447Z"
      },
      {
        "duration": 5,
        "start_time": "2022-10-28T08:57:07.471Z"
      },
      {
        "duration": 53,
        "start_time": "2022-10-28T08:57:07.478Z"
      },
      {
        "duration": 17,
        "start_time": "2022-10-28T08:57:07.532Z"
      },
      {
        "duration": 6,
        "start_time": "2022-10-28T08:57:07.550Z"
      },
      {
        "duration": 29,
        "start_time": "2022-10-28T08:57:07.558Z"
      },
      {
        "duration": 8,
        "start_time": "2022-10-28T08:57:07.588Z"
      },
      {
        "duration": 15,
        "start_time": "2022-10-28T08:57:07.597Z"
      },
      {
        "duration": 34,
        "start_time": "2022-10-28T08:57:07.621Z"
      },
      {
        "duration": 184,
        "start_time": "2022-10-28T08:57:07.656Z"
      },
      {
        "duration": 7,
        "start_time": "2022-10-28T08:57:07.842Z"
      },
      {
        "duration": 20,
        "start_time": "2022-10-28T08:57:07.850Z"
      },
      {
        "duration": 21,
        "start_time": "2022-10-28T08:57:07.872Z"
      },
      {
        "duration": 310,
        "start_time": "2022-10-28T08:57:07.894Z"
      },
      {
        "duration": 193,
        "start_time": "2022-10-28T08:57:08.206Z"
      },
      {
        "duration": 48,
        "start_time": "2022-10-28T08:57:08.400Z"
      },
      {
        "duration": 28,
        "start_time": "2022-10-28T08:57:08.449Z"
      },
      {
        "duration": 4,
        "start_time": "2022-10-28T08:57:08.479Z"
      },
      {
        "duration": 18,
        "start_time": "2022-10-28T08:57:08.485Z"
      },
      {
        "duration": 18,
        "start_time": "2022-10-28T08:57:08.505Z"
      },
      {
        "duration": 10,
        "start_time": "2022-10-28T08:57:08.525Z"
      },
      {
        "duration": 27,
        "start_time": "2022-10-28T08:57:08.536Z"
      },
      {
        "duration": 22086,
        "start_time": "2022-10-28T08:57:08.565Z"
      },
      {
        "duration": 23,
        "start_time": "2022-10-28T08:57:30.654Z"
      },
      {
        "duration": 23,
        "start_time": "2022-10-28T08:57:30.679Z"
      },
      {
        "duration": 34,
        "start_time": "2022-10-28T08:57:30.704Z"
      },
      {
        "duration": 41,
        "start_time": "2022-10-28T08:57:30.739Z"
      },
      {
        "duration": 41164,
        "start_time": "2022-10-28T08:59:43.034Z"
      },
      {
        "duration": 25,
        "start_time": "2022-10-28T09:00:30.202Z"
      },
      {
        "duration": 6,
        "start_time": "2022-10-28T09:01:39.128Z"
      },
      {
        "duration": 46,
        "start_time": "2022-10-28T09:03:26.119Z"
      },
      {
        "duration": 21,
        "start_time": "2022-10-28T09:03:27.160Z"
      },
      {
        "duration": 21,
        "start_time": "2022-10-28T09:04:02.677Z"
      },
      {
        "duration": 21,
        "start_time": "2022-10-28T09:04:16.942Z"
      },
      {
        "duration": 178,
        "start_time": "2022-10-28T09:07:18.916Z"
      },
      {
        "duration": 20,
        "start_time": "2022-10-28T09:07:19.829Z"
      },
      {
        "duration": 1140,
        "start_time": "2022-10-28T09:08:16.195Z"
      },
      {
        "duration": 8566,
        "start_time": "2022-10-28T09:08:17.337Z"
      },
      {
        "duration": 18,
        "start_time": "2022-10-28T09:08:25.904Z"
      },
      {
        "duration": 16,
        "start_time": "2022-10-28T09:08:25.924Z"
      },
      {
        "duration": 12,
        "start_time": "2022-10-28T09:08:25.942Z"
      },
      {
        "duration": 5,
        "start_time": "2022-10-28T09:08:25.956Z"
      },
      {
        "duration": 16,
        "start_time": "2022-10-28T09:08:25.962Z"
      },
      {
        "duration": 6,
        "start_time": "2022-10-28T09:08:25.979Z"
      },
      {
        "duration": 39,
        "start_time": "2022-10-28T09:08:25.987Z"
      },
      {
        "duration": 14,
        "start_time": "2022-10-28T09:08:26.028Z"
      },
      {
        "duration": 19,
        "start_time": "2022-10-28T09:08:26.044Z"
      },
      {
        "duration": 5,
        "start_time": "2022-10-28T09:08:26.065Z"
      },
      {
        "duration": 16,
        "start_time": "2022-10-28T09:08:26.072Z"
      },
      {
        "duration": 5,
        "start_time": "2022-10-28T09:08:26.091Z"
      },
      {
        "duration": 71,
        "start_time": "2022-10-28T09:08:26.121Z"
      },
      {
        "duration": 28,
        "start_time": "2022-10-28T09:08:26.195Z"
      },
      {
        "duration": 16,
        "start_time": "2022-10-28T09:08:26.225Z"
      },
      {
        "duration": 19,
        "start_time": "2022-10-28T09:08:26.243Z"
      },
      {
        "duration": 5,
        "start_time": "2022-10-28T09:08:26.264Z"
      },
      {
        "duration": 56,
        "start_time": "2022-10-28T09:08:26.270Z"
      },
      {
        "duration": 19,
        "start_time": "2022-10-28T09:08:26.328Z"
      },
      {
        "duration": 6,
        "start_time": "2022-10-28T09:08:26.348Z"
      },
      {
        "duration": 22,
        "start_time": "2022-10-28T09:08:26.356Z"
      },
      {
        "duration": 8,
        "start_time": "2022-10-28T09:08:26.380Z"
      },
      {
        "duration": 33,
        "start_time": "2022-10-28T09:08:26.390Z"
      },
      {
        "duration": 39,
        "start_time": "2022-10-28T09:08:26.424Z"
      },
      {
        "duration": 185,
        "start_time": "2022-10-28T09:08:26.464Z"
      },
      {
        "duration": 5,
        "start_time": "2022-10-28T09:08:26.651Z"
      },
      {
        "duration": 14,
        "start_time": "2022-10-28T09:08:26.658Z"
      },
      {
        "duration": 7,
        "start_time": "2022-10-28T09:08:26.674Z"
      },
      {
        "duration": 333,
        "start_time": "2022-10-28T09:08:26.682Z"
      },
      {
        "duration": 193,
        "start_time": "2022-10-28T09:08:27.016Z"
      },
      {
        "duration": 45,
        "start_time": "2022-10-28T09:08:27.210Z"
      },
      {
        "duration": 28,
        "start_time": "2022-10-28T09:08:27.256Z"
      },
      {
        "duration": 4,
        "start_time": "2022-10-28T09:08:27.286Z"
      },
      {
        "duration": 8,
        "start_time": "2022-10-28T09:08:27.291Z"
      },
      {
        "duration": 5,
        "start_time": "2022-10-28T09:08:27.301Z"
      },
      {
        "duration": 3,
        "start_time": "2022-10-28T09:08:27.321Z"
      },
      {
        "duration": 26,
        "start_time": "2022-10-28T09:08:27.326Z"
      },
      {
        "duration": 314337,
        "start_time": "2022-10-28T09:08:27.354Z"
      },
      {
        "duration": 28,
        "start_time": "2022-10-28T09:13:41.695Z"
      },
      {
        "duration": 23,
        "start_time": "2022-10-28T09:13:41.725Z"
      },
      {
        "duration": 4,
        "start_time": "2022-10-28T09:13:41.750Z"
      },
      {
        "duration": 9,
        "start_time": "2022-10-28T09:13:41.755Z"
      },
      {
        "duration": 6,
        "start_time": "2022-10-28T09:16:55.345Z"
      },
      {
        "duration": 23,
        "start_time": "2022-10-28T09:17:27.842Z"
      },
      {
        "duration": 82,
        "start_time": "2022-10-28T09:18:12.465Z"
      },
      {
        "duration": 17248,
        "start_time": "2022-10-28T09:18:18.584Z"
      },
      {
        "duration": 26,
        "start_time": "2022-10-28T09:18:40.755Z"
      },
      {
        "duration": 16,
        "start_time": "2022-10-28T09:19:07.688Z"
      },
      {
        "duration": 18073,
        "start_time": "2022-10-28T09:20:35.183Z"
      },
      {
        "duration": 548,
        "start_time": "2022-10-28T09:21:08.434Z"
      },
      {
        "duration": 1648,
        "start_time": "2022-10-28T09:21:40.334Z"
      },
      {
        "duration": 1843,
        "start_time": "2022-10-28T09:21:59.167Z"
      },
      {
        "duration": 1128,
        "start_time": "2022-10-28T09:22:28.157Z"
      },
      {
        "duration": 14,
        "start_time": "2022-10-28T09:23:07.773Z"
      },
      {
        "duration": 1162,
        "start_time": "2022-10-28T09:23:26.833Z"
      },
      {
        "duration": 14,
        "start_time": "2022-10-28T09:23:36.374Z"
      },
      {
        "duration": 8,
        "start_time": "2022-10-28T09:31:26.263Z"
      },
      {
        "duration": 4,
        "start_time": "2022-10-28T09:31:40.134Z"
      },
      {
        "duration": 11,
        "start_time": "2022-10-28T09:32:14.357Z"
      },
      {
        "duration": 145,
        "start_time": "2022-10-28T09:33:17.938Z"
      },
      {
        "duration": 55,
        "start_time": "2022-10-28T09:33:31.438Z"
      },
      {
        "duration": 33,
        "start_time": "2022-10-28T09:33:50.677Z"
      },
      {
        "duration": 20,
        "start_time": "2022-10-28T09:33:58.339Z"
      },
      {
        "duration": 36,
        "start_time": "2022-10-28T09:34:33.005Z"
      },
      {
        "duration": 19,
        "start_time": "2022-10-28T09:34:34.372Z"
      },
      {
        "duration": 36,
        "start_time": "2022-10-28T09:36:12.701Z"
      },
      {
        "duration": 18,
        "start_time": "2022-10-28T09:36:14.546Z"
      },
      {
        "duration": 22,
        "start_time": "2022-10-28T09:36:23.091Z"
      },
      {
        "duration": 37,
        "start_time": "2022-10-28T09:36:45.347Z"
      },
      {
        "duration": 25,
        "start_time": "2022-10-28T09:36:46.198Z"
      },
      {
        "duration": 35,
        "start_time": "2022-10-28T09:37:28.802Z"
      },
      {
        "duration": 30,
        "start_time": "2022-10-28T09:37:29.547Z"
      },
      {
        "duration": 37,
        "start_time": "2022-10-28T09:40:46.448Z"
      },
      {
        "duration": 20,
        "start_time": "2022-10-28T09:40:47.193Z"
      },
      {
        "duration": 36,
        "start_time": "2022-10-28T09:41:37.311Z"
      },
      {
        "duration": 21,
        "start_time": "2022-10-28T09:41:38.000Z"
      },
      {
        "duration": 53904,
        "start_time": "2022-10-28T09:42:27.238Z"
      },
      {
        "duration": 10,
        "start_time": "2022-10-28T09:45:06.318Z"
      },
      {
        "duration": 19,
        "start_time": "2022-10-28T09:45:09.965Z"
      },
      {
        "duration": 54193,
        "start_time": "2022-10-28T09:46:27.699Z"
      },
      {
        "duration": 21,
        "start_time": "2022-10-28T09:47:47.228Z"
      },
      {
        "duration": 54485,
        "start_time": "2022-10-28T09:48:42.506Z"
      },
      {
        "duration": 22,
        "start_time": "2022-10-28T09:49:39.074Z"
      },
      {
        "duration": 19,
        "start_time": "2022-10-28T09:50:17.378Z"
      },
      {
        "duration": 55079,
        "start_time": "2022-10-28T09:50:59.424Z"
      },
      {
        "duration": 21,
        "start_time": "2022-10-28T09:51:54.505Z"
      },
      {
        "duration": 55174,
        "start_time": "2022-10-28T09:52:55.551Z"
      },
      {
        "duration": 25,
        "start_time": "2022-10-28T09:53:50.727Z"
      },
      {
        "duration": 25,
        "start_time": "2022-10-28T09:55:13.398Z"
      },
      {
        "duration": 45,
        "start_time": "2022-10-28T10:00:01.033Z"
      },
      {
        "duration": 99,
        "start_time": "2022-10-28T10:00:14.378Z"
      },
      {
        "duration": 21,
        "start_time": "2022-10-28T10:00:21.865Z"
      },
      {
        "duration": 96,
        "start_time": "2022-10-28T10:00:42.617Z"
      },
      {
        "duration": 20,
        "start_time": "2022-10-28T10:00:43.096Z"
      },
      {
        "duration": 10,
        "start_time": "2022-10-28T11:17:46.617Z"
      },
      {
        "duration": 33,
        "start_time": "2022-10-28T11:17:55.392Z"
      },
      {
        "duration": 28,
        "start_time": "2022-10-28T11:18:05.151Z"
      },
      {
        "duration": 29,
        "start_time": "2022-10-28T11:18:27.711Z"
      },
      {
        "duration": 17,
        "start_time": "2022-10-28T11:18:58.063Z"
      },
      {
        "duration": 18,
        "start_time": "2022-10-28T11:23:37.947Z"
      },
      {
        "duration": 22,
        "start_time": "2022-10-28T11:24:36.747Z"
      },
      {
        "duration": 342,
        "start_time": "2022-10-28T11:24:52.220Z"
      },
      {
        "duration": 19,
        "start_time": "2022-10-28T11:25:37.553Z"
      },
      {
        "duration": 5,
        "start_time": "2022-10-28T11:25:53.729Z"
      },
      {
        "duration": 167,
        "start_time": "2022-10-28T11:28:34.448Z"
      },
      {
        "duration": 30,
        "start_time": "2022-10-28T11:32:24.116Z"
      },
      {
        "duration": 50,
        "start_time": "2022-10-28T11:32:58.651Z"
      },
      {
        "duration": 1142,
        "start_time": "2022-10-28T11:35:23.296Z"
      },
      {
        "duration": 9137,
        "start_time": "2022-10-28T11:35:24.440Z"
      },
      {
        "duration": 14,
        "start_time": "2022-10-28T11:35:33.579Z"
      },
      {
        "duration": 33,
        "start_time": "2022-10-28T11:35:33.595Z"
      },
      {
        "duration": 16,
        "start_time": "2022-10-28T11:35:33.630Z"
      },
      {
        "duration": 7,
        "start_time": "2022-10-28T11:35:33.648Z"
      },
      {
        "duration": 14,
        "start_time": "2022-10-28T11:35:33.657Z"
      },
      {
        "duration": 6,
        "start_time": "2022-10-28T11:35:33.672Z"
      },
      {
        "duration": 43,
        "start_time": "2022-10-28T11:35:33.680Z"
      },
      {
        "duration": 14,
        "start_time": "2022-10-28T11:35:33.725Z"
      },
      {
        "duration": 16,
        "start_time": "2022-10-28T11:35:33.740Z"
      },
      {
        "duration": 4,
        "start_time": "2022-10-28T11:35:33.757Z"
      },
      {
        "duration": 12,
        "start_time": "2022-10-28T11:35:33.763Z"
      },
      {
        "duration": 46,
        "start_time": "2022-10-28T11:35:33.777Z"
      },
      {
        "duration": 56,
        "start_time": "2022-10-28T11:35:33.825Z"
      },
      {
        "duration": 14,
        "start_time": "2022-10-28T11:35:33.883Z"
      },
      {
        "duration": 25,
        "start_time": "2022-10-28T11:35:33.899Z"
      },
      {
        "duration": 22,
        "start_time": "2022-10-28T11:35:33.926Z"
      },
      {
        "duration": 5,
        "start_time": "2022-10-28T11:35:33.949Z"
      },
      {
        "duration": 45,
        "start_time": "2022-10-28T11:35:33.956Z"
      },
      {
        "duration": 34,
        "start_time": "2022-10-28T11:35:34.003Z"
      },
      {
        "duration": 4,
        "start_time": "2022-10-28T11:35:34.039Z"
      },
      {
        "duration": 24,
        "start_time": "2022-10-28T11:35:34.045Z"
      },
      {
        "duration": 10,
        "start_time": "2022-10-28T11:35:34.070Z"
      },
      {
        "duration": 13,
        "start_time": "2022-10-28T11:35:34.081Z"
      },
      {
        "duration": 57,
        "start_time": "2022-10-28T11:35:34.096Z"
      },
      {
        "duration": 187,
        "start_time": "2022-10-28T11:35:34.155Z"
      },
      {
        "duration": 6,
        "start_time": "2022-10-28T11:35:34.345Z"
      },
      {
        "duration": 14,
        "start_time": "2022-10-28T11:35:34.352Z"
      },
      {
        "duration": 10,
        "start_time": "2022-10-28T11:35:34.367Z"
      },
      {
        "duration": 331,
        "start_time": "2022-10-28T11:35:34.378Z"
      },
      {
        "duration": 37,
        "start_time": "2022-10-28T11:35:34.711Z"
      },
      {
        "duration": 46,
        "start_time": "2022-10-28T11:35:34.749Z"
      },
      {
        "duration": 6,
        "start_time": "2022-10-28T11:35:34.796Z"
      },
      {
        "duration": 18,
        "start_time": "2022-10-28T11:35:34.803Z"
      },
      {
        "duration": 55120,
        "start_time": "2022-10-28T11:35:34.823Z"
      },
      {
        "duration": 27,
        "start_time": "2022-10-28T11:36:29.945Z"
      },
      {
        "duration": 114,
        "start_time": "2022-10-28T11:36:29.973Z"
      },
      {
        "duration": 33,
        "start_time": "2022-10-28T11:36:30.089Z"
      },
      {
        "duration": 33,
        "start_time": "2022-10-28T11:36:30.124Z"
      },
      {
        "duration": 342,
        "start_time": "2022-10-28T11:36:30.158Z"
      },
      {
        "duration": 6,
        "start_time": "2022-10-28T11:36:30.501Z"
      },
      {
        "duration": 191,
        "start_time": "2022-10-28T11:36:30.508Z"
      },
      {
        "duration": 1083,
        "start_time": "2022-10-28T11:37:38.823Z"
      },
      {
        "duration": 8659,
        "start_time": "2022-10-28T11:37:39.908Z"
      },
      {
        "duration": 13,
        "start_time": "2022-10-28T11:37:48.569Z"
      },
      {
        "duration": 19,
        "start_time": "2022-10-28T11:37:48.584Z"
      },
      {
        "duration": 23,
        "start_time": "2022-10-28T11:37:48.605Z"
      },
      {
        "duration": 6,
        "start_time": "2022-10-28T11:37:48.629Z"
      },
      {
        "duration": 9,
        "start_time": "2022-10-28T11:37:48.637Z"
      },
      {
        "duration": 5,
        "start_time": "2022-10-28T11:37:48.647Z"
      },
      {
        "duration": 21,
        "start_time": "2022-10-28T11:37:48.653Z"
      },
      {
        "duration": 11,
        "start_time": "2022-10-28T11:37:48.676Z"
      },
      {
        "duration": 39,
        "start_time": "2022-10-28T11:37:48.688Z"
      },
      {
        "duration": 3,
        "start_time": "2022-10-28T11:37:48.729Z"
      },
      {
        "duration": 11,
        "start_time": "2022-10-28T11:37:48.733Z"
      },
      {
        "duration": 19,
        "start_time": "2022-10-28T11:37:48.746Z"
      },
      {
        "duration": 67,
        "start_time": "2022-10-28T11:37:48.766Z"
      },
      {
        "duration": 12,
        "start_time": "2022-10-28T11:37:48.835Z"
      },
      {
        "duration": 20,
        "start_time": "2022-10-28T11:37:48.848Z"
      },
      {
        "duration": 17,
        "start_time": "2022-10-28T11:37:48.869Z"
      },
      {
        "duration": 5,
        "start_time": "2022-10-28T11:37:48.887Z"
      },
      {
        "duration": 63,
        "start_time": "2022-10-28T11:37:48.893Z"
      },
      {
        "duration": 18,
        "start_time": "2022-10-28T11:37:48.957Z"
      },
      {
        "duration": 6,
        "start_time": "2022-10-28T11:37:48.976Z"
      },
      {
        "duration": 41,
        "start_time": "2022-10-28T11:37:48.984Z"
      },
      {
        "duration": 10,
        "start_time": "2022-10-28T11:37:49.026Z"
      },
      {
        "duration": 13,
        "start_time": "2022-10-28T11:37:49.038Z"
      },
      {
        "duration": 36,
        "start_time": "2022-10-28T11:37:49.052Z"
      },
      {
        "duration": 202,
        "start_time": "2022-10-28T11:37:49.090Z"
      },
      {
        "duration": 6,
        "start_time": "2022-10-28T11:37:49.296Z"
      },
      {
        "duration": 23,
        "start_time": "2022-10-28T11:37:49.304Z"
      },
      {
        "duration": 8,
        "start_time": "2022-10-28T11:37:49.329Z"
      },
      {
        "duration": 346,
        "start_time": "2022-10-28T11:37:49.339Z"
      },
      {
        "duration": 37,
        "start_time": "2022-10-28T11:37:49.687Z"
      },
      {
        "duration": 44,
        "start_time": "2022-10-28T11:37:49.726Z"
      },
      {
        "duration": 6,
        "start_time": "2022-10-28T11:37:49.771Z"
      },
      {
        "duration": 6,
        "start_time": "2022-10-28T11:37:49.779Z"
      },
      {
        "duration": 54456,
        "start_time": "2022-10-28T11:37:49.786Z"
      },
      {
        "duration": 25,
        "start_time": "2022-10-28T11:38:44.243Z"
      },
      {
        "duration": 110,
        "start_time": "2022-10-28T11:38:44.269Z"
      },
      {
        "duration": 24,
        "start_time": "2022-10-28T11:38:44.381Z"
      },
      {
        "duration": 39,
        "start_time": "2022-10-28T11:38:44.407Z"
      },
      {
        "duration": 314,
        "start_time": "2022-10-28T11:38:44.448Z"
      },
      {
        "duration": 5,
        "start_time": "2022-10-28T11:38:44.763Z"
      },
      {
        "duration": 166,
        "start_time": "2022-10-28T11:38:44.770Z"
      },
      {
        "duration": 5,
        "start_time": "2022-10-28T11:42:11.500Z"
      },
      {
        "duration": 1055,
        "start_time": "2022-10-28T11:42:44.249Z"
      },
      {
        "duration": 8460,
        "start_time": "2022-10-28T11:42:45.305Z"
      },
      {
        "duration": 13,
        "start_time": "2022-10-28T11:42:53.766Z"
      },
      {
        "duration": 15,
        "start_time": "2022-10-28T11:42:53.781Z"
      },
      {
        "duration": 27,
        "start_time": "2022-10-28T11:42:53.797Z"
      },
      {
        "duration": 6,
        "start_time": "2022-10-28T11:42:53.825Z"
      },
      {
        "duration": 9,
        "start_time": "2022-10-28T11:42:53.832Z"
      },
      {
        "duration": 5,
        "start_time": "2022-10-28T11:42:53.843Z"
      },
      {
        "duration": 12,
        "start_time": "2022-10-28T11:42:53.849Z"
      },
      {
        "duration": 12,
        "start_time": "2022-10-28T11:42:53.864Z"
      },
      {
        "duration": 45,
        "start_time": "2022-10-28T11:42:53.878Z"
      },
      {
        "duration": 5,
        "start_time": "2022-10-28T11:42:53.925Z"
      },
      {
        "duration": 10,
        "start_time": "2022-10-28T11:42:53.932Z"
      },
      {
        "duration": 20,
        "start_time": "2022-10-28T11:42:53.943Z"
      },
      {
        "duration": 73,
        "start_time": "2022-10-28T11:42:53.965Z"
      },
      {
        "duration": 14,
        "start_time": "2022-10-28T11:42:54.040Z"
      },
      {
        "duration": 11,
        "start_time": "2022-10-28T11:42:54.056Z"
      },
      {
        "duration": 17,
        "start_time": "2022-10-28T11:42:54.069Z"
      },
      {
        "duration": 5,
        "start_time": "2022-10-28T11:42:54.088Z"
      },
      {
        "duration": 57,
        "start_time": "2022-10-28T11:42:54.094Z"
      },
      {
        "duration": 18,
        "start_time": "2022-10-28T11:42:54.152Z"
      },
      {
        "duration": 3,
        "start_time": "2022-10-28T11:42:54.171Z"
      },
      {
        "duration": 21,
        "start_time": "2022-10-28T11:42:54.175Z"
      },
      {
        "duration": 28,
        "start_time": "2022-10-28T11:42:54.197Z"
      },
      {
        "duration": 13,
        "start_time": "2022-10-28T11:42:54.226Z"
      },
      {
        "duration": 37,
        "start_time": "2022-10-28T11:42:54.240Z"
      },
      {
        "duration": 198,
        "start_time": "2022-10-28T11:42:54.279Z"
      },
      {
        "duration": 6,
        "start_time": "2022-10-28T11:42:54.480Z"
      },
      {
        "duration": 17,
        "start_time": "2022-10-28T11:42:54.487Z"
      },
      {
        "duration": 23,
        "start_time": "2022-10-28T11:42:54.506Z"
      },
      {
        "duration": 308,
        "start_time": "2022-10-28T11:42:54.532Z"
      },
      {
        "duration": 28,
        "start_time": "2022-10-28T11:42:54.841Z"
      },
      {
        "duration": 52,
        "start_time": "2022-10-28T11:42:54.871Z"
      },
      {
        "duration": 70,
        "start_time": "2022-10-28T11:42:54.925Z"
      },
      {
        "duration": 0,
        "start_time": "2022-10-28T11:42:54.996Z"
      },
      {
        "duration": 0,
        "start_time": "2022-10-28T11:42:54.997Z"
      },
      {
        "duration": 0,
        "start_time": "2022-10-28T11:42:54.998Z"
      },
      {
        "duration": 0,
        "start_time": "2022-10-28T11:42:54.999Z"
      },
      {
        "duration": 0,
        "start_time": "2022-10-28T11:42:55.000Z"
      },
      {
        "duration": 0,
        "start_time": "2022-10-28T11:42:55.001Z"
      },
      {
        "duration": 0,
        "start_time": "2022-10-28T11:42:55.002Z"
      },
      {
        "duration": 0,
        "start_time": "2022-10-28T11:42:55.003Z"
      },
      {
        "duration": 0,
        "start_time": "2022-10-28T11:42:55.004Z"
      },
      {
        "duration": 0,
        "start_time": "2022-10-28T11:42:55.005Z"
      },
      {
        "duration": 6,
        "start_time": "2022-10-28T11:42:56.300Z"
      },
      {
        "duration": 6,
        "start_time": "2022-10-28T11:42:57.811Z"
      },
      {
        "duration": 4,
        "start_time": "2022-10-28T11:42:59.011Z"
      },
      {
        "duration": 54303,
        "start_time": "2022-10-28T11:43:00.003Z"
      },
      {
        "duration": 25,
        "start_time": "2022-10-28T11:43:54.308Z"
      },
      {
        "duration": 103,
        "start_time": "2022-10-28T11:43:54.334Z"
      },
      {
        "duration": 20,
        "start_time": "2022-10-28T11:43:54.439Z"
      },
      {
        "duration": 25,
        "start_time": "2022-10-28T11:43:54.460Z"
      },
      {
        "duration": 322,
        "start_time": "2022-10-28T11:43:54.487Z"
      },
      {
        "duration": 10,
        "start_time": "2022-10-28T11:43:54.811Z"
      },
      {
        "duration": 172,
        "start_time": "2022-10-28T11:43:54.823Z"
      },
      {
        "duration": 24,
        "start_time": "2022-10-28T11:48:18.680Z"
      },
      {
        "duration": 1065,
        "start_time": "2022-10-28T11:49:47.440Z"
      },
      {
        "duration": 8444,
        "start_time": "2022-10-28T11:49:48.507Z"
      },
      {
        "duration": 12,
        "start_time": "2022-10-28T11:49:56.952Z"
      },
      {
        "duration": 15,
        "start_time": "2022-10-28T11:49:56.965Z"
      },
      {
        "duration": 11,
        "start_time": "2022-10-28T11:49:56.981Z"
      },
      {
        "duration": 5,
        "start_time": "2022-10-28T11:49:56.994Z"
      },
      {
        "duration": 10,
        "start_time": "2022-10-28T11:49:57.022Z"
      },
      {
        "duration": 5,
        "start_time": "2022-10-28T11:49:57.033Z"
      },
      {
        "duration": 13,
        "start_time": "2022-10-28T11:49:57.039Z"
      },
      {
        "duration": 10,
        "start_time": "2022-10-28T11:49:57.055Z"
      },
      {
        "duration": 13,
        "start_time": "2022-10-28T11:49:57.066Z"
      },
      {
        "duration": 4,
        "start_time": "2022-10-28T11:49:57.080Z"
      },
      {
        "duration": 11,
        "start_time": "2022-10-28T11:49:57.121Z"
      },
      {
        "duration": 7,
        "start_time": "2022-10-28T11:49:57.133Z"
      },
      {
        "duration": 59,
        "start_time": "2022-10-28T11:49:57.142Z"
      },
      {
        "duration": 28,
        "start_time": "2022-10-28T11:49:57.203Z"
      },
      {
        "duration": 12,
        "start_time": "2022-10-28T11:49:57.233Z"
      },
      {
        "duration": 17,
        "start_time": "2022-10-28T11:49:57.246Z"
      },
      {
        "duration": 4,
        "start_time": "2022-10-28T11:49:57.265Z"
      },
      {
        "duration": 60,
        "start_time": "2022-10-28T11:49:57.271Z"
      },
      {
        "duration": 20,
        "start_time": "2022-10-28T11:49:57.332Z"
      },
      {
        "duration": 4,
        "start_time": "2022-10-28T11:49:57.353Z"
      },
      {
        "duration": 31,
        "start_time": "2022-10-28T11:49:57.358Z"
      },
      {
        "duration": 10,
        "start_time": "2022-10-28T11:49:57.390Z"
      },
      {
        "duration": 26,
        "start_time": "2022-10-28T11:49:57.401Z"
      },
      {
        "duration": 40,
        "start_time": "2022-10-28T11:49:57.429Z"
      },
      {
        "duration": 215,
        "start_time": "2022-10-28T11:49:57.470Z"
      },
      {
        "duration": 5,
        "start_time": "2022-10-28T11:49:57.688Z"
      },
      {
        "duration": 19,
        "start_time": "2022-10-28T11:49:57.695Z"
      },
      {
        "duration": 9,
        "start_time": "2022-10-28T11:49:57.722Z"
      },
      {
        "duration": 348,
        "start_time": "2022-10-28T11:49:57.733Z"
      },
      {
        "duration": 39,
        "start_time": "2022-10-28T11:49:58.083Z"
      },
      {
        "duration": 44,
        "start_time": "2022-10-28T11:49:58.123Z"
      },
      {
        "duration": 5,
        "start_time": "2022-10-28T11:49:58.169Z"
      },
      {
        "duration": 8,
        "start_time": "2022-10-28T11:49:58.176Z"
      },
      {
        "duration": 3,
        "start_time": "2022-10-28T11:49:58.186Z"
      },
      {
        "duration": 54493,
        "start_time": "2022-10-28T11:49:58.191Z"
      },
      {
        "duration": 36,
        "start_time": "2022-10-28T11:50:52.686Z"
      },
      {
        "duration": 121,
        "start_time": "2022-10-28T11:50:52.723Z"
      },
      {
        "duration": 25,
        "start_time": "2022-10-28T11:50:52.846Z"
      },
      {
        "duration": 39,
        "start_time": "2022-10-28T11:50:52.873Z"
      },
      {
        "duration": 335,
        "start_time": "2022-10-28T11:50:52.914Z"
      },
      {
        "duration": 5,
        "start_time": "2022-10-28T11:50:53.250Z"
      },
      {
        "duration": 170,
        "start_time": "2022-10-28T11:50:53.257Z"
      },
      {
        "duration": 51,
        "start_time": "2022-10-28T12:08:31.473Z"
      },
      {
        "duration": 20,
        "start_time": "2022-10-28T12:09:10.096Z"
      },
      {
        "duration": 6,
        "start_time": "2022-10-28T12:09:25.119Z"
      },
      {
        "duration": 4,
        "start_time": "2022-10-28T12:10:06.351Z"
      },
      {
        "duration": 83,
        "start_time": "2022-10-28T12:10:39.936Z"
      },
      {
        "duration": 49,
        "start_time": "2022-10-28T12:10:47.302Z"
      },
      {
        "duration": 7,
        "start_time": "2022-10-28T12:10:49.590Z"
      },
      {
        "duration": 35,
        "start_time": "2022-10-28T12:10:57.990Z"
      },
      {
        "duration": 7,
        "start_time": "2022-10-28T12:10:58.630Z"
      },
      {
        "duration": 363,
        "start_time": "2022-10-28T12:11:33.280Z"
      },
      {
        "duration": 339,
        "start_time": "2022-10-28T12:11:51.047Z"
      },
      {
        "duration": 70,
        "start_time": "2022-10-28T12:14:19.084Z"
      },
      {
        "duration": 257,
        "start_time": "2022-10-28T12:14:23.404Z"
      },
      {
        "duration": 1607,
        "start_time": "2022-10-28T12:15:13.572Z"
      },
      {
        "duration": 8856,
        "start_time": "2022-10-28T12:15:15.181Z"
      },
      {
        "duration": 12,
        "start_time": "2022-10-28T12:15:24.039Z"
      },
      {
        "duration": 31,
        "start_time": "2022-10-28T12:15:24.053Z"
      },
      {
        "duration": 38,
        "start_time": "2022-10-28T12:15:24.085Z"
      },
      {
        "duration": 10,
        "start_time": "2022-10-28T12:15:24.125Z"
      },
      {
        "duration": 11,
        "start_time": "2022-10-28T12:15:24.137Z"
      },
      {
        "duration": 5,
        "start_time": "2022-10-28T12:15:24.149Z"
      },
      {
        "duration": 13,
        "start_time": "2022-10-28T12:15:24.155Z"
      },
      {
        "duration": 12,
        "start_time": "2022-10-28T12:15:24.170Z"
      },
      {
        "duration": 13,
        "start_time": "2022-10-28T12:15:24.183Z"
      },
      {
        "duration": 4,
        "start_time": "2022-10-28T12:15:24.222Z"
      },
      {
        "duration": 15,
        "start_time": "2022-10-28T12:15:24.227Z"
      },
      {
        "duration": 14,
        "start_time": "2022-10-28T12:15:24.243Z"
      },
      {
        "duration": 65,
        "start_time": "2022-10-28T12:15:24.258Z"
      },
      {
        "duration": 14,
        "start_time": "2022-10-28T12:15:24.325Z"
      },
      {
        "duration": 12,
        "start_time": "2022-10-28T12:15:24.340Z"
      },
      {
        "duration": 18,
        "start_time": "2022-10-28T12:15:24.354Z"
      },
      {
        "duration": 5,
        "start_time": "2022-10-28T12:15:24.374Z"
      },
      {
        "duration": 56,
        "start_time": "2022-10-28T12:15:24.380Z"
      },
      {
        "duration": 19,
        "start_time": "2022-10-28T12:15:24.437Z"
      },
      {
        "duration": 9,
        "start_time": "2022-10-28T12:15:24.457Z"
      },
      {
        "duration": 23,
        "start_time": "2022-10-28T12:15:24.467Z"
      },
      {
        "duration": 9,
        "start_time": "2022-10-28T12:15:24.491Z"
      },
      {
        "duration": 12,
        "start_time": "2022-10-28T12:15:24.522Z"
      },
      {
        "duration": 35,
        "start_time": "2022-10-28T12:15:24.535Z"
      },
      {
        "duration": 192,
        "start_time": "2022-10-28T12:15:24.572Z"
      },
      {
        "duration": 5,
        "start_time": "2022-10-28T12:15:24.767Z"
      },
      {
        "duration": 15,
        "start_time": "2022-10-28T12:15:24.774Z"
      },
      {
        "duration": 4,
        "start_time": "2022-10-28T12:15:24.792Z"
      },
      {
        "duration": 27,
        "start_time": "2022-10-28T12:15:24.798Z"
      },
      {
        "duration": 31,
        "start_time": "2022-10-28T12:15:24.827Z"
      },
      {
        "duration": 46,
        "start_time": "2022-10-28T12:15:24.860Z"
      },
      {
        "duration": 17,
        "start_time": "2022-10-28T12:15:24.908Z"
      },
      {
        "duration": 6,
        "start_time": "2022-10-28T12:15:24.927Z"
      },
      {
        "duration": 5,
        "start_time": "2022-10-28T12:15:24.934Z"
      },
      {
        "duration": 56220,
        "start_time": "2022-10-28T12:15:24.940Z"
      },
      {
        "duration": 112,
        "start_time": "2022-10-28T12:16:21.162Z"
      },
      {
        "duration": 25,
        "start_time": "2022-10-28T12:16:21.275Z"
      },
      {
        "duration": 42,
        "start_time": "2022-10-28T12:16:21.301Z"
      },
      {
        "duration": 319,
        "start_time": "2022-10-28T12:16:21.345Z"
      },
      {
        "duration": 5,
        "start_time": "2022-10-28T12:16:21.666Z"
      },
      {
        "duration": 183,
        "start_time": "2022-10-28T12:16:21.673Z"
      },
      {
        "duration": 34,
        "start_time": "2022-10-28T12:16:21.858Z"
      },
      {
        "duration": 1256,
        "start_time": "2022-10-28T12:23:47.467Z"
      },
      {
        "duration": 9466,
        "start_time": "2022-10-28T12:23:48.726Z"
      },
      {
        "duration": 11,
        "start_time": "2022-10-28T12:23:58.194Z"
      },
      {
        "duration": 24,
        "start_time": "2022-10-28T12:23:58.207Z"
      },
      {
        "duration": 13,
        "start_time": "2022-10-28T12:23:58.233Z"
      },
      {
        "duration": 6,
        "start_time": "2022-10-28T12:23:58.247Z"
      },
      {
        "duration": 13,
        "start_time": "2022-10-28T12:23:58.254Z"
      },
      {
        "duration": 5,
        "start_time": "2022-10-28T12:23:58.268Z"
      },
      {
        "duration": 14,
        "start_time": "2022-10-28T12:23:58.275Z"
      },
      {
        "duration": 44,
        "start_time": "2022-10-28T12:23:58.291Z"
      },
      {
        "duration": 19,
        "start_time": "2022-10-28T12:23:58.336Z"
      },
      {
        "duration": 4,
        "start_time": "2022-10-28T12:23:58.356Z"
      },
      {
        "duration": 14,
        "start_time": "2022-10-28T12:23:58.362Z"
      },
      {
        "duration": 5,
        "start_time": "2022-10-28T12:23:58.379Z"
      },
      {
        "duration": 85,
        "start_time": "2022-10-28T12:23:58.385Z"
      },
      {
        "duration": 15,
        "start_time": "2022-10-28T12:23:58.472Z"
      },
      {
        "duration": 14,
        "start_time": "2022-10-28T12:23:58.489Z"
      },
      {
        "duration": 27,
        "start_time": "2022-10-28T12:23:58.504Z"
      },
      {
        "duration": 7,
        "start_time": "2022-10-28T12:23:58.532Z"
      },
      {
        "duration": 46,
        "start_time": "2022-10-28T12:23:58.540Z"
      },
      {
        "duration": 43,
        "start_time": "2022-10-28T12:23:58.588Z"
      },
      {
        "duration": 4,
        "start_time": "2022-10-28T12:23:58.633Z"
      },
      {
        "duration": 25,
        "start_time": "2022-10-28T12:23:58.638Z"
      },
      {
        "duration": 7,
        "start_time": "2022-10-28T12:23:58.664Z"
      },
      {
        "duration": 11,
        "start_time": "2022-10-28T12:23:58.673Z"
      },
      {
        "duration": 71,
        "start_time": "2022-10-28T12:23:58.686Z"
      },
      {
        "duration": 198,
        "start_time": "2022-10-28T12:23:58.758Z"
      },
      {
        "duration": 5,
        "start_time": "2022-10-28T12:23:58.958Z"
      },
      {
        "duration": 14,
        "start_time": "2022-10-28T12:23:58.965Z"
      },
      {
        "duration": 7,
        "start_time": "2022-10-28T12:23:58.980Z"
      },
      {
        "duration": 32,
        "start_time": "2022-10-28T12:23:58.989Z"
      },
      {
        "duration": 31,
        "start_time": "2022-10-28T12:23:59.023Z"
      },
      {
        "duration": 44,
        "start_time": "2022-10-28T12:23:59.056Z"
      },
      {
        "duration": 24,
        "start_time": "2022-10-28T12:23:59.102Z"
      },
      {
        "duration": 7,
        "start_time": "2022-10-28T12:23:59.127Z"
      },
      {
        "duration": 10,
        "start_time": "2022-10-28T12:23:59.135Z"
      },
      {
        "duration": 54617,
        "start_time": "2022-10-28T12:23:59.146Z"
      },
      {
        "duration": 114,
        "start_time": "2022-10-28T12:24:53.765Z"
      },
      {
        "duration": 28,
        "start_time": "2022-10-28T12:24:53.881Z"
      },
      {
        "duration": 33,
        "start_time": "2022-10-28T12:24:53.921Z"
      },
      {
        "duration": 318,
        "start_time": "2022-10-28T12:24:53.957Z"
      },
      {
        "duration": 4,
        "start_time": "2022-10-28T12:24:54.277Z"
      },
      {
        "duration": 175,
        "start_time": "2022-10-28T12:24:54.283Z"
      },
      {
        "duration": 35,
        "start_time": "2022-10-28T12:24:54.460Z"
      },
      {
        "duration": 175,
        "start_time": "2022-10-28T12:24:54.496Z"
      },
      {
        "duration": 49,
        "start_time": "2022-10-28T12:27:33.419Z"
      },
      {
        "duration": 43,
        "start_time": "2022-10-28T12:27:51.400Z"
      },
      {
        "duration": 168,
        "start_time": "2022-10-28T12:27:53.945Z"
      },
      {
        "duration": 278,
        "start_time": "2022-10-28T12:28:52.588Z"
      },
      {
        "duration": 174,
        "start_time": "2022-10-28T12:29:05.651Z"
      },
      {
        "duration": 180,
        "start_time": "2022-10-28T12:29:13.123Z"
      },
      {
        "duration": 196,
        "start_time": "2022-10-28T12:30:32.498Z"
      },
      {
        "duration": 165,
        "start_time": "2022-10-28T12:30:45.237Z"
      },
      {
        "duration": 9,
        "start_time": "2022-10-28T12:43:49.688Z"
      },
      {
        "duration": 21,
        "start_time": "2022-10-28T12:43:54.760Z"
      },
      {
        "duration": 21,
        "start_time": "2022-10-28T12:44:05.687Z"
      },
      {
        "duration": 1106,
        "start_time": "2022-10-28T12:49:47.501Z"
      },
      {
        "duration": 9254,
        "start_time": "2022-10-28T12:49:48.609Z"
      },
      {
        "duration": 16,
        "start_time": "2022-10-28T12:49:57.865Z"
      },
      {
        "duration": 19,
        "start_time": "2022-10-28T12:49:57.884Z"
      },
      {
        "duration": 29,
        "start_time": "2022-10-28T12:49:57.905Z"
      },
      {
        "duration": 6,
        "start_time": "2022-10-28T12:49:57.935Z"
      },
      {
        "duration": 15,
        "start_time": "2022-10-28T12:49:57.943Z"
      },
      {
        "duration": 6,
        "start_time": "2022-10-28T12:49:57.960Z"
      },
      {
        "duration": 18,
        "start_time": "2022-10-28T12:49:57.967Z"
      },
      {
        "duration": 36,
        "start_time": "2022-10-28T12:49:57.987Z"
      },
      {
        "duration": 14,
        "start_time": "2022-10-28T12:49:58.024Z"
      },
      {
        "duration": 5,
        "start_time": "2022-10-28T12:49:58.039Z"
      },
      {
        "duration": 15,
        "start_time": "2022-10-28T12:49:58.045Z"
      },
      {
        "duration": 22,
        "start_time": "2022-10-28T12:49:58.063Z"
      },
      {
        "duration": 70,
        "start_time": "2022-10-28T12:49:58.086Z"
      },
      {
        "duration": 13,
        "start_time": "2022-10-28T12:49:58.158Z"
      },
      {
        "duration": 11,
        "start_time": "2022-10-28T12:49:58.172Z"
      },
      {
        "duration": 17,
        "start_time": "2022-10-28T12:49:58.184Z"
      },
      {
        "duration": 7,
        "start_time": "2022-10-28T12:49:58.222Z"
      },
      {
        "duration": 44,
        "start_time": "2022-10-28T12:49:58.231Z"
      },
      {
        "duration": 27,
        "start_time": "2022-10-28T12:49:58.277Z"
      },
      {
        "duration": 5,
        "start_time": "2022-10-28T12:49:58.322Z"
      },
      {
        "duration": 13,
        "start_time": "2022-10-28T12:49:58.328Z"
      },
      {
        "duration": 31,
        "start_time": "2022-10-28T12:49:58.342Z"
      },
      {
        "duration": 75,
        "start_time": "2022-10-28T12:49:58.375Z"
      },
      {
        "duration": 7,
        "start_time": "2022-10-28T12:49:58.452Z"
      },
      {
        "duration": 4,
        "start_time": "2022-10-28T12:49:58.461Z"
      },
      {
        "duration": 5,
        "start_time": "2022-10-28T12:49:58.467Z"
      },
      {
        "duration": 55504,
        "start_time": "2022-10-28T12:49:58.473Z"
      },
      {
        "duration": 102,
        "start_time": "2022-10-28T12:50:53.979Z"
      },
      {
        "duration": 25,
        "start_time": "2022-10-28T12:50:54.082Z"
      },
      {
        "duration": 32,
        "start_time": "2022-10-28T12:50:54.109Z"
      },
      {
        "duration": 15,
        "start_time": "2022-10-28T12:50:54.143Z"
      },
      {
        "duration": 13,
        "start_time": "2022-10-28T12:50:54.159Z"
      },
      {
        "duration": 71,
        "start_time": "2022-10-28T12:50:54.174Z"
      },
      {
        "duration": 185,
        "start_time": "2022-10-28T12:50:54.246Z"
      },
      {
        "duration": 5,
        "start_time": "2022-10-28T12:50:54.433Z"
      },
      {
        "duration": 20,
        "start_time": "2022-10-28T12:50:54.440Z"
      },
      {
        "duration": 6,
        "start_time": "2022-10-28T12:50:54.462Z"
      },
      {
        "duration": 17,
        "start_time": "2022-10-28T12:50:54.469Z"
      },
      {
        "duration": 44,
        "start_time": "2022-10-28T12:50:54.489Z"
      },
      {
        "duration": 302,
        "start_time": "2022-10-28T12:50:54.534Z"
      },
      {
        "duration": 5,
        "start_time": "2022-10-28T12:50:54.838Z"
      },
      {
        "duration": 162,
        "start_time": "2022-10-28T12:50:54.844Z"
      },
      {
        "duration": 69,
        "start_time": "2022-10-28T12:50:55.008Z"
      },
      {
        "duration": 0,
        "start_time": "2022-10-28T12:50:55.079Z"
      },
      {
        "duration": 21,
        "start_time": "2022-10-28T12:57:11.227Z"
      },
      {
        "duration": 168,
        "start_time": "2022-10-28T13:04:25.677Z"
      },
      {
        "duration": 7,
        "start_time": "2022-10-28T13:06:05.555Z"
      },
      {
        "duration": 97,
        "start_time": "2022-10-28T13:11:07.638Z"
      },
      {
        "duration": 5,
        "start_time": "2022-10-28T13:11:10.182Z"
      },
      {
        "duration": 11,
        "start_time": "2022-10-28T13:12:06.879Z"
      },
      {
        "duration": 33,
        "start_time": "2022-10-28T13:12:26.080Z"
      },
      {
        "duration": 172,
        "start_time": "2022-10-28T13:12:51.457Z"
      },
      {
        "duration": 7,
        "start_time": "2022-10-28T13:13:00.708Z"
      },
      {
        "duration": 10,
        "start_time": "2022-10-28T13:13:27.369Z"
      },
      {
        "duration": 151,
        "start_time": "2022-10-28T13:14:23.962Z"
      },
      {
        "duration": 6,
        "start_time": "2022-10-28T13:15:42.652Z"
      },
      {
        "duration": 6,
        "start_time": "2022-10-28T13:16:26.077Z"
      },
      {
        "duration": 9,
        "start_time": "2022-10-28T13:17:48.589Z"
      },
      {
        "duration": 33,
        "start_time": "2022-10-28T13:20:11.464Z"
      },
      {
        "duration": 39,
        "start_time": "2022-10-28T13:20:15.903Z"
      },
      {
        "duration": 10,
        "start_time": "2022-10-28T13:32:42.535Z"
      },
      {
        "duration": 71,
        "start_time": "2022-10-28T13:32:47.445Z"
      },
      {
        "duration": 3,
        "start_time": "2022-10-28T13:32:52.749Z"
      },
      {
        "duration": 21,
        "start_time": "2022-10-28T13:32:53.500Z"
      },
      {
        "duration": 1121,
        "start_time": "2022-10-28T13:33:28.003Z"
      },
      {
        "duration": 5,
        "start_time": "2022-10-28T13:33:50.539Z"
      },
      {
        "duration": 51,
        "start_time": "2022-10-28T13:35:02.576Z"
      },
      {
        "duration": 4,
        "start_time": "2022-10-28T13:35:11.192Z"
      },
      {
        "duration": 5,
        "start_time": "2022-10-28T13:35:12.143Z"
      },
      {
        "duration": 22,
        "start_time": "2022-10-28T13:35:16.504Z"
      },
      {
        "duration": 1268,
        "start_time": "2022-10-28T13:36:00.126Z"
      },
      {
        "duration": 1033,
        "start_time": "2022-10-28T13:36:09.081Z"
      },
      {
        "duration": 8696,
        "start_time": "2022-10-28T13:36:10.117Z"
      },
      {
        "duration": 15,
        "start_time": "2022-10-28T13:36:18.815Z"
      },
      {
        "duration": 15,
        "start_time": "2022-10-28T13:36:18.832Z"
      },
      {
        "duration": 13,
        "start_time": "2022-10-28T13:36:18.848Z"
      },
      {
        "duration": 7,
        "start_time": "2022-10-28T13:36:18.863Z"
      },
      {
        "duration": 11,
        "start_time": "2022-10-28T13:36:18.872Z"
      },
      {
        "duration": 6,
        "start_time": "2022-10-28T13:36:18.884Z"
      },
      {
        "duration": 42,
        "start_time": "2022-10-28T13:36:18.891Z"
      },
      {
        "duration": 12,
        "start_time": "2022-10-28T13:36:18.935Z"
      },
      {
        "duration": 14,
        "start_time": "2022-10-28T13:36:18.948Z"
      },
      {
        "duration": 4,
        "start_time": "2022-10-28T13:36:18.964Z"
      },
      {
        "duration": 15,
        "start_time": "2022-10-28T13:36:18.969Z"
      },
      {
        "duration": 46,
        "start_time": "2022-10-28T13:36:18.985Z"
      },
      {
        "duration": 43,
        "start_time": "2022-10-28T13:36:19.033Z"
      },
      {
        "duration": 13,
        "start_time": "2022-10-28T13:36:19.078Z"
      },
      {
        "duration": 14,
        "start_time": "2022-10-28T13:36:19.092Z"
      },
      {
        "duration": 28,
        "start_time": "2022-10-28T13:36:19.108Z"
      },
      {
        "duration": 6,
        "start_time": "2022-10-28T13:36:19.138Z"
      },
      {
        "duration": 40,
        "start_time": "2022-10-28T13:36:19.145Z"
      },
      {
        "duration": 40,
        "start_time": "2022-10-28T13:36:19.187Z"
      },
      {
        "duration": 13,
        "start_time": "2022-10-28T13:36:19.228Z"
      },
      {
        "duration": 47,
        "start_time": "2022-10-28T13:36:19.243Z"
      },
      {
        "duration": 38,
        "start_time": "2022-10-28T13:36:19.292Z"
      },
      {
        "duration": 49,
        "start_time": "2022-10-28T13:36:19.332Z"
      },
      {
        "duration": 5,
        "start_time": "2022-10-28T13:36:19.382Z"
      },
      {
        "duration": 6,
        "start_time": "2022-10-28T13:36:19.389Z"
      },
      {
        "duration": 9,
        "start_time": "2022-10-28T13:36:19.397Z"
      },
      {
        "duration": 55233,
        "start_time": "2022-10-28T13:36:19.421Z"
      },
      {
        "duration": 109,
        "start_time": "2022-10-28T13:37:14.655Z"
      },
      {
        "duration": 25,
        "start_time": "2022-10-28T13:37:14.765Z"
      },
      {
        "duration": 33,
        "start_time": "2022-10-28T13:37:14.792Z"
      },
      {
        "duration": 23,
        "start_time": "2022-10-28T13:37:14.827Z"
      },
      {
        "duration": 15,
        "start_time": "2022-10-28T13:37:14.851Z"
      },
      {
        "duration": 75,
        "start_time": "2022-10-28T13:37:14.867Z"
      },
      {
        "duration": 202,
        "start_time": "2022-10-28T13:37:14.944Z"
      },
      {
        "duration": 6,
        "start_time": "2022-10-28T13:37:15.147Z"
      },
      {
        "duration": 18,
        "start_time": "2022-10-28T13:37:15.155Z"
      },
      {
        "duration": 43,
        "start_time": "2022-10-28T13:37:15.174Z"
      },
      {
        "duration": 338,
        "start_time": "2022-10-28T13:37:15.218Z"
      },
      {
        "duration": 4,
        "start_time": "2022-10-28T13:37:15.558Z"
      },
      {
        "duration": 165,
        "start_time": "2022-10-28T13:37:15.564Z"
      },
      {
        "duration": 7,
        "start_time": "2022-10-28T13:37:15.731Z"
      },
      {
        "duration": 165,
        "start_time": "2022-10-28T13:37:15.740Z"
      },
      {
        "duration": 16,
        "start_time": "2022-10-28T13:37:15.906Z"
      },
      {
        "duration": 171,
        "start_time": "2022-10-28T13:37:15.924Z"
      },
      {
        "duration": 6,
        "start_time": "2022-10-28T13:37:16.098Z"
      },
      {
        "duration": 67,
        "start_time": "2022-10-28T13:37:16.106Z"
      },
      {
        "duration": 4,
        "start_time": "2022-10-28T13:37:16.176Z"
      },
      {
        "duration": 1224,
        "start_time": "2022-10-28T13:37:16.182Z"
      },
      {
        "duration": 0,
        "start_time": "2022-10-28T13:37:17.408Z"
      },
      {
        "duration": 0,
        "start_time": "2022-10-28T13:37:17.409Z"
      },
      {
        "duration": 75,
        "start_time": "2022-10-28T13:38:00.054Z"
      },
      {
        "duration": 23,
        "start_time": "2022-10-28T13:38:03.094Z"
      },
      {
        "duration": 16,
        "start_time": "2022-10-28T13:38:08.742Z"
      },
      {
        "duration": 4,
        "start_time": "2022-10-28T13:38:27.982Z"
      },
      {
        "duration": 79,
        "start_time": "2022-10-28T13:38:29.485Z"
      },
      {
        "duration": 13,
        "start_time": "2022-10-28T13:38:29.949Z"
      },
      {
        "duration": 5,
        "start_time": "2022-10-28T13:39:01.918Z"
      },
      {
        "duration": 14,
        "start_time": "2022-10-28T13:39:22.195Z"
      },
      {
        "duration": 17,
        "start_time": "2022-10-28T13:39:37.452Z"
      },
      {
        "duration": 5,
        "start_time": "2022-10-28T13:41:12.338Z"
      },
      {
        "duration": 5,
        "start_time": "2022-10-28T13:41:24.281Z"
      },
      {
        "duration": 12,
        "start_time": "2022-10-28T13:41:39.681Z"
      },
      {
        "duration": 14,
        "start_time": "2022-10-28T13:42:06.194Z"
      },
      {
        "duration": 22,
        "start_time": "2022-10-28T13:43:14.793Z"
      },
      {
        "duration": 44,
        "start_time": "2022-10-28T13:43:28.072Z"
      },
      {
        "duration": 11,
        "start_time": "2022-10-28T13:43:33.007Z"
      },
      {
        "duration": 15,
        "start_time": "2022-10-28T13:45:10.622Z"
      },
      {
        "duration": 32,
        "start_time": "2022-10-28T13:45:14.054Z"
      },
      {
        "duration": 10,
        "start_time": "2022-10-28T13:45:22.479Z"
      },
      {
        "duration": 5,
        "start_time": "2022-10-28T13:46:15.678Z"
      },
      {
        "duration": 6,
        "start_time": "2022-10-28T13:46:34.117Z"
      },
      {
        "duration": 7,
        "start_time": "2022-10-28T13:47:36.620Z"
      },
      {
        "duration": 11,
        "start_time": "2022-10-28T13:47:43.724Z"
      },
      {
        "duration": 28,
        "start_time": "2022-10-28T13:51:55.122Z"
      },
      {
        "duration": 16,
        "start_time": "2022-10-28T13:52:25.585Z"
      },
      {
        "duration": 363,
        "start_time": "2022-10-28T13:52:51.852Z"
      },
      {
        "duration": 349,
        "start_time": "2022-10-28T13:53:05.009Z"
      },
      {
        "duration": 9,
        "start_time": "2022-10-28T13:53:59.130Z"
      },
      {
        "duration": 397,
        "start_time": "2022-10-28T13:54:00.777Z"
      },
      {
        "duration": 11,
        "start_time": "2022-10-28T13:54:28.151Z"
      },
      {
        "duration": 6,
        "start_time": "2022-10-28T13:54:38.216Z"
      },
      {
        "duration": 13,
        "start_time": "2022-10-28T13:55:00.488Z"
      },
      {
        "duration": 344,
        "start_time": "2022-10-28T13:55:12.249Z"
      },
      {
        "duration": 6,
        "start_time": "2022-10-28T13:55:35.736Z"
      },
      {
        "duration": 10,
        "start_time": "2022-10-28T14:01:22.997Z"
      },
      {
        "duration": 11,
        "start_time": "2022-10-28T14:01:28.629Z"
      },
      {
        "duration": 14,
        "start_time": "2022-10-28T14:01:56.548Z"
      },
      {
        "duration": 9,
        "start_time": "2022-10-28T14:15:07.021Z"
      },
      {
        "duration": 128,
        "start_time": "2022-10-28T14:29:52.783Z"
      },
      {
        "duration": 256,
        "start_time": "2022-10-28T14:29:59.463Z"
      },
      {
        "duration": 372,
        "start_time": "2022-10-28T14:32:45.055Z"
      },
      {
        "duration": 254,
        "start_time": "2022-10-28T14:32:57.173Z"
      },
      {
        "duration": 200,
        "start_time": "2022-10-28T14:33:11.173Z"
      },
      {
        "duration": 192,
        "start_time": "2022-10-28T14:33:13.101Z"
      },
      {
        "duration": 159,
        "start_time": "2022-10-28T14:33:18.085Z"
      },
      {
        "duration": 28,
        "start_time": "2022-10-28T14:51:16.827Z"
      },
      {
        "duration": 11,
        "start_time": "2022-10-28T14:51:22.669Z"
      },
      {
        "duration": 30,
        "start_time": "2022-10-28T14:52:37.485Z"
      },
      {
        "duration": 10,
        "start_time": "2022-10-28T14:52:37.996Z"
      },
      {
        "duration": 1042,
        "start_time": "2022-10-28T14:53:05.076Z"
      },
      {
        "duration": 1006,
        "start_time": "2022-10-28T14:53:11.660Z"
      },
      {
        "duration": 1142,
        "start_time": "2022-10-28T14:53:33.350Z"
      },
      {
        "duration": 766,
        "start_time": "2022-10-28T14:54:05.324Z"
      },
      {
        "duration": 876,
        "start_time": "2022-10-28T14:55:38.090Z"
      },
      {
        "duration": 9,
        "start_time": "2022-10-28T14:57:01.193Z"
      },
      {
        "duration": 13,
        "start_time": "2022-10-28T14:57:19.721Z"
      },
      {
        "duration": 7,
        "start_time": "2022-10-28T14:57:38.307Z"
      },
      {
        "duration": 34,
        "start_time": "2022-10-28T14:58:15.505Z"
      },
      {
        "duration": 35,
        "start_time": "2022-10-28T14:58:33.952Z"
      }
    ],
    "kernelspec": {
      "display_name": "Python 3 (ipykernel)",
      "language": "python",
      "name": "python3"
    },
    "language_info": {
      "codemirror_mode": {
        "name": "ipython",
        "version": 3
      },
      "file_extension": ".py",
      "mimetype": "text/x-python",
      "name": "python",
      "nbconvert_exporter": "python",
      "pygments_lexer": "ipython3",
      "version": "3.9.7"
    },
    "toc": {
      "base_numbering": 1,
      "nav_menu": {},
      "number_sections": true,
      "sideBar": true,
      "skip_h1_title": true,
      "title_cell": "Table of Contents",
      "title_sidebar": "Contents",
      "toc_cell": true,
      "toc_position": {
        "height": "calc(100% - 180px)",
        "left": "10px",
        "top": "150px",
        "width": "403.306px"
      },
      "toc_section_display": true,
      "toc_window_display": true
    },
    "colab": {
      "provenance": []
    }
  },
  "nbformat": 4,
  "nbformat_minor": 5
}