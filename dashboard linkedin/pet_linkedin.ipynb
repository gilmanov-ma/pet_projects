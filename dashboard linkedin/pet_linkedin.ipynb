{
 "cells": [
  {
   "cell_type": "markdown",
   "id": "e1a7fd5a",
   "metadata": {
    "toc": true
   },
   "source": [
    "<h1>Table of Contents<span class=\"tocSkip\"></span></h1>\n",
    "<div class=\"toc\"><ul class=\"toc-item\"><li><span><a href=\"#Получение-данных\" data-toc-modified-id=\"Получение-данных-1\"><span class=\"toc-item-num\">1&nbsp;&nbsp;</span>Получение данных</a></span><ul class=\"toc-item\"><li><span><a href=\"#Название-вакансии\" data-toc-modified-id=\"Название-вакансии-1.1\"><span class=\"toc-item-num\">1.1&nbsp;&nbsp;</span>Название вакансии</a></span></li><li><span><a href=\"#Локация\" data-toc-modified-id=\"Локация-1.2\"><span class=\"toc-item-num\">1.2&nbsp;&nbsp;</span>Локация</a></span></li><li><span><a href=\"#Режим-работы\" data-toc-modified-id=\"Режим-работы-1.3\"><span class=\"toc-item-num\">1.3&nbsp;&nbsp;</span>Режим работы</a></span></li><li><span><a href=\"#Название-компании\" data-toc-modified-id=\"Название-компании-1.4\"><span class=\"toc-item-num\">1.4&nbsp;&nbsp;</span>Название компании</a></span></li><li><span><a href=\"#Размер-компании-и-сфера-деятельности\" data-toc-modified-id=\"Размер-компании-и-сфера-деятельности-1.5\"><span class=\"toc-item-num\">1.5&nbsp;&nbsp;</span>Размер компании и сфера деятельности</a></span></li><li><span><a href=\"#Хард-скиллы\" data-toc-modified-id=\"Хард-скиллы-1.6\"><span class=\"toc-item-num\">1.6&nbsp;&nbsp;</span>Хард скиллы</a></span></li><li><span><a href=\"#Дата-публикации\" data-toc-modified-id=\"Дата-публикации-1.7\"><span class=\"toc-item-num\">1.7&nbsp;&nbsp;</span>Дата публикации</a></span></li><li><span><a href=\"#Количество-кандидатов-на-вакансию\" data-toc-modified-id=\"Количество-кандидатов-на-вакансию-1.8\"><span class=\"toc-item-num\">1.8&nbsp;&nbsp;</span>Количество кандидатов на вакансию</a></span></li></ul></li><li><span><a href=\"#Предобработка-данных\" data-toc-modified-id=\"Предобработка-данных-2\"><span class=\"toc-item-num\">2&nbsp;&nbsp;</span>Предобработка данных</a></span><ul class=\"toc-item\"><li><span><a href=\"#Столбец-'title'\" data-toc-modified-id=\"Столбец-'title'-2.1\"><span class=\"toc-item-num\">2.1&nbsp;&nbsp;</span>Столбец 'title'</a></span></li><li><span><a href=\"#Столбец-'location'\" data-toc-modified-id=\"Столбец-'location'-2.2\"><span class=\"toc-item-num\">2.2&nbsp;&nbsp;</span>Столбец 'location'</a></span></li><li><span><a href=\"#Столбец-'type_of_employment'\" data-toc-modified-id=\"Столбец-'type_of_employment'-2.3\"><span class=\"toc-item-num\">2.3&nbsp;&nbsp;</span>Столбец 'type_of_employment'</a></span></li><li><span><a href=\"#Столбец-company_size\" data-toc-modified-id=\"Столбец-company_size-2.4\"><span class=\"toc-item-num\">2.4&nbsp;&nbsp;</span>Столбец company_size</a></span></li><li><span><a href=\"#Столбец-'date'\" data-toc-modified-id=\"Столбец-'date'-2.5\"><span class=\"toc-item-num\">2.5&nbsp;&nbsp;</span>Столбец 'date'</a></span></li><li><span><a href=\"#Столбец-'applicants'\" data-toc-modified-id=\"Столбец-'applicants'-2.6\"><span class=\"toc-item-num\">2.6&nbsp;&nbsp;</span>Столбец 'applicants'</a></span></li></ul></li><li><span><a href=\"#Выводы\" data-toc-modified-id=\"Выводы-3\"><span class=\"toc-item-num\">3&nbsp;&nbsp;</span>Выводы</a></span></li></ul></div>"
   ]
  },
  {
   "cell_type": "markdown",
   "id": "aa798974",
   "metadata": {},
   "source": [
    "# Дашборд по вакансиям на позицию \"Аналитик данных\" в LinkedIn."
   ]
  },
  {
   "cell_type": "markdown",
   "id": "d27c6a14",
   "metadata": {},
   "source": [
    "**Описание проекта:** У нас есть файл с сырыми спарсенными данными по всем вакансиям в LinkedIn в период с 01.09.2022 по 07.09.2022г. Необходимо визуализировать данные, чтобы было более ясное представление о рынке труда в Европе. \n",
    "\n",
    "**Цель проекта:** Построить дашборд в Tableau в соответствии с техническим заданием:<br>\n",
    "- фильтры — по стране и по типу занятости<br>\n",
    "- количество вакансий (абсолютные значения) – индикатор<br>\n",
    "- количество вакансий по странам (относительные значения) — stack bar chart<br>\n",
    "- количество вакансий по городам - map<br>\n",
    "- тип занятости — pie chart<br>\n",
    "- список нанимающих компаний с указанием количества вакансий, отсортированный в порядке убывания — heat map<br>\n",
    "- ТОП 10 сфер деятельности компаний, которые нанимают аналитиков — barchart<br>\n",
    "- размер компаний и количество вакансий — pie chart<br>\n",
    "- хард скилы — barchart<br>\n",
    "\n",
    "**План работы:**\n",
    "1. Распарсить предоставленный csv файл с помощью BS 4<br>\n",
    "2. Подготовить данные к визуализации:<br>\n",
    "3. Визуализация данных<br>"
   ]
  },
  {
   "cell_type": "code",
   "execution_count": 1,
   "id": "2302ff7c",
   "metadata": {},
   "outputs": [],
   "source": [
    "import pandas as pd\n",
    "from bs4 import BeautifulSoup\n",
    "import numpy as np\n",
    "from datetime import datetime, timedelta"
   ]
  },
  {
   "cell_type": "code",
   "execution_count": 2,
   "id": "7a784812",
   "metadata": {},
   "outputs": [],
   "source": [
    "df = pd.read_csv('linkedin_2022_09_07.csv')"
   ]
  },
  {
   "cell_type": "markdown",
   "id": "b89d627c",
   "metadata": {},
   "source": [
    "## Получение данных"
   ]
  },
  {
   "cell_type": "markdown",
   "id": "8a99d939",
   "metadata": {},
   "source": [
    "### Название вакансии"
   ]
  },
  {
   "cell_type": "code",
   "execution_count": 3,
   "id": "7fa3db4d",
   "metadata": {},
   "outputs": [],
   "source": [
    "df['title'] = df['html'].apply(lambda x:  BeautifulSoup(x, 'lxml').find('h2').text.strip())"
   ]
  },
  {
   "cell_type": "markdown",
   "id": "e9969cc4",
   "metadata": {},
   "source": [
    "### Локация"
   ]
  },
  {
   "cell_type": "code",
   "execution_count": 4,
   "id": "2b956f89",
   "metadata": {},
   "outputs": [],
   "source": [
    "df['location'] = df['html'].apply(lambda x:  BeautifulSoup(x, 'lxml').find('span', class_ = 'jobs-unified-top-card__bullet').text.strip()) "
   ]
  },
  {
   "cell_type": "markdown",
   "id": "e84d838f",
   "metadata": {},
   "source": [
    "### Режим работы"
   ]
  },
  {
   "cell_type": "code",
   "execution_count": 5,
   "id": "4d3d8ed5",
   "metadata": {},
   "outputs": [],
   "source": [
    "def get_type(elem):\n",
    "    try:\n",
    "        return BeautifulSoup(elem, 'lxml').find('span', class_ = 'jobs-unified-top-card__workplace-type').text.strip()\n",
    "    except:\n",
    "        return np.nan"
   ]
  },
  {
   "cell_type": "code",
   "execution_count": 6,
   "id": "dd6caa57",
   "metadata": {},
   "outputs": [],
   "source": [
    "df['type_of_employment'] = df['html'].apply(get_type)"
   ]
  },
  {
   "cell_type": "markdown",
   "id": "0024413b",
   "metadata": {},
   "source": [
    "### Название компании"
   ]
  },
  {
   "cell_type": "code",
   "execution_count": 7,
   "id": "b9bc0d74",
   "metadata": {},
   "outputs": [],
   "source": [
    "df['company'] = df['html'].apply(lambda x:  BeautifulSoup(x, 'lxml').find('h2').text.strip())"
   ]
  },
  {
   "cell_type": "code",
   "execution_count": 8,
   "id": "e69241e0",
   "metadata": {},
   "outputs": [],
   "source": [
    "def get_company_name(elem):\n",
    "    try:\n",
    "        return BeautifulSoup(elem, 'lxml').find('span', class_ = 'jobs-unified-top-card__company-name').text.strip()\n",
    "    except:\n",
    "        return np.nan"
   ]
  },
  {
   "cell_type": "code",
   "execution_count": 9,
   "id": "fbccd540",
   "metadata": {},
   "outputs": [],
   "source": [
    "df['company'] = df['html'].apply(get_company_name)"
   ]
  },
  {
   "cell_type": "markdown",
   "id": "7967729e",
   "metadata": {},
   "source": [
    "### Размер компании и сфера деятельности"
   ]
  },
  {
   "cell_type": "code",
   "execution_count": 10,
   "id": "ea743acf",
   "metadata": {},
   "outputs": [],
   "source": [
    "def get_size(elem):\n",
    "    try:\n",
    "        return BeautifulSoup(elem, 'lxml').find('li', class_='jobs-unified-top-card__job-insight')\\\n",
    "                                            .find('span').find_next().text.strip()\n",
    "    except:\n",
    "        return np.nan"
   ]
  },
  {
   "cell_type": "code",
   "execution_count": 11,
   "id": "e4e64578",
   "metadata": {},
   "outputs": [],
   "source": [
    "df['company_size'] = df['html'].apply(get_size)"
   ]
  },
  {
   "cell_type": "markdown",
   "id": "776c034d",
   "metadata": {},
   "source": [
    "### Хард скиллы"
   ]
  },
  {
   "cell_type": "code",
   "execution_count": 12,
   "id": "ba504132",
   "metadata": {},
   "outputs": [],
   "source": [
    "skills = (['datahub', 'api', 'github', 'google analytics', 'adobe analytics', 'ibm coremetrics', 'omniture'\n",
    "            'gitlab', 'erwin', 'hadoop', 'spark', 'hive'\n",
    "           'databricks', 'aws', 'gcp', 'azure','excel',\n",
    "            'redshift', 'bigquery', 'snowflake',  'hana'\n",
    "            'grafana', 'kantar', 'spss', \n",
    "           'asana', 'basecamp', 'jira', 'dbeaver','trello', 'miro', 'salesforce', \n",
    "           'rapidminer', 'thoughtspot',  'power point',  'docker', 'jenkins','integrate.io', 'talend', 'apache nifi','aws glue','pentaho','google data flow',\n",
    "             'azure data factory','xplenty','skyvia','iri voracity','xtract.io','dataddo', 'ssis',\n",
    "             'hevo data','informatica','oracle data integrator','k2view','cdata sync','querysurge', \n",
    "             'rivery', 'dbconvert', 'alooma', 'stitch', 'fivetran', 'matillion','streamsets','blendo',\n",
    "             'iri voracity','logstash', 'etleap', 'singer', 'apache camel','actian', 'airflow', 'luidgi', 'datastage',\n",
    "           'python', 'vba', 'scala', ' r ', 'java script', 'julia', 'sql', 'matlab', 'java', 'html', 'c++', 'sas',\n",
    "           'data studio', 'tableau', 'looker', 'powerbi', 'power bi', 'cognos', 'microstrategy', 'spotfire',\n",
    "             'sap business objects','microsoft sql server', 'oracle business intelligence', 'yellowfin',\n",
    "             'webfocus','sas visual analytics', 'targit', 'izenda',  'sisense', 'statsbot', 'panorama', 'inetsoft',\n",
    "             'birst', 'domo', 'metabase', 'redash', 'power bi', 'alteryx', 'dataiku', 'qlik sense', 'qlikview'\n",
    "          ]) "
   ]
  },
  {
   "cell_type": "code",
   "execution_count": 13,
   "id": "b69a4afc",
   "metadata": {},
   "outputs": [],
   "source": [
    "df['description'] = df['html'].apply(lambda x: BeautifulSoup(x, 'lxml').find('div', {'id':'job-details'}).text.strip())"
   ]
  },
  {
   "cell_type": "code",
   "execution_count": 14,
   "id": "66b73695",
   "metadata": {},
   "outputs": [],
   "source": [
    "def get_skills(elem):\n",
    "    list_skills = []\n",
    "    for skill in skills:\n",
    "        if skill in elem.lower():\n",
    "            list_skills.append(skill)\n",
    "    return list_skills"
   ]
  },
  {
   "cell_type": "code",
   "execution_count": 15,
   "id": "74ec4c3a",
   "metadata": {},
   "outputs": [],
   "source": [
    "df['description'] = df['description'].apply(get_skills)"
   ]
  },
  {
   "cell_type": "markdown",
   "id": "fb122083",
   "metadata": {},
   "source": [
    "### Дата публикации"
   ]
  },
  {
   "cell_type": "code",
   "execution_count": 16,
   "id": "3ab1d81b",
   "metadata": {},
   "outputs": [],
   "source": [
    "df['date'] = df['html'].apply(lambda x: BeautifulSoup(x, 'lxml').find('span', class_='jobs-unified-top-card__posted-date')\\\n",
    "                                                                  .text.strip())"
   ]
  },
  {
   "cell_type": "markdown",
   "id": "3b553bbb",
   "metadata": {},
   "source": [
    "### Количество кандидатов на вакансию"
   ]
  },
  {
   "cell_type": "code",
   "execution_count": 17,
   "id": "98b0da90",
   "metadata": {},
   "outputs": [],
   "source": [
    "def get_candidates(elem):\n",
    "    try:\n",
    "        return BeautifulSoup(elem, 'lxml').find('span', class_='jobs-unified-top-card__subtitle-secondary-grouping t-black--light')\\\n",
    "                                        .find('span', class_='jobs-unified-top-card__applicant-count jobs-unified-top-card__applicant-count--low t-bold')\\\n",
    "                                        .text.strip()\n",
    "    except:\n",
    "        return np.nan"
   ]
  },
  {
   "cell_type": "code",
   "execution_count": 18,
   "id": "6cad0279",
   "metadata": {},
   "outputs": [],
   "source": [
    "df['amount_of_applicants'] = df['html'].apply(get_candidates)"
   ]
  },
  {
   "cell_type": "code",
   "execution_count": 19,
   "id": "17410db1",
   "metadata": {
    "scrolled": true
   },
   "outputs": [
    {
     "data": {
      "text/html": [
       "<div>\n",
       "<style scoped>\n",
       "    .dataframe tbody tr th:only-of-type {\n",
       "        vertical-align: middle;\n",
       "    }\n",
       "\n",
       "    .dataframe tbody tr th {\n",
       "        vertical-align: top;\n",
       "    }\n",
       "\n",
       "    .dataframe thead th {\n",
       "        text-align: right;\n",
       "    }\n",
       "</style>\n",
       "<table border=\"1\" class=\"dataframe\">\n",
       "  <thead>\n",
       "    <tr style=\"text-align: right;\">\n",
       "      <th></th>\n",
       "      <th>Unnamed: 0</th>\n",
       "      <th>html</th>\n",
       "      <th>title</th>\n",
       "      <th>location</th>\n",
       "      <th>type_of_employment</th>\n",
       "      <th>company</th>\n",
       "      <th>company_size</th>\n",
       "      <th>description</th>\n",
       "      <th>date</th>\n",
       "      <th>amount_of_applicants</th>\n",
       "    </tr>\n",
       "  </thead>\n",
       "  <tbody>\n",
       "    <tr>\n",
       "      <th>0</th>\n",
       "      <td>0</td>\n",
       "      <td>\\n  &lt;div&gt;\\n    &lt;div class=\"\\n        jobs-deta...</td>\n",
       "      <td>Stage - Assistant Ingénieur Qualité - Beyrand ...</td>\n",
       "      <td>Limoges, Nouvelle-Aquitaine, France</td>\n",
       "      <td>On-site</td>\n",
       "      <td>Hermès</td>\n",
       "      <td>10,001+ employees · Retail Luxury Goods and Je...</td>\n",
       "      <td>[api, excel]</td>\n",
       "      <td>13 minutes ago</td>\n",
       "      <td>NaN</td>\n",
       "    </tr>\n",
       "    <tr>\n",
       "      <th>1</th>\n",
       "      <td>1</td>\n",
       "      <td>\\n  &lt;div&gt;\\n    &lt;div class=\"\\n        jobs-deta...</td>\n",
       "      <td>développeur matlab/simulink, secteur automobil...</td>\n",
       "      <td>Toulouse, Occitanie, France</td>\n",
       "      <td>On-site</td>\n",
       "      <td>AUSY</td>\n",
       "      <td>5,001-10,000 employees · IT Services and IT Co...</td>\n",
       "      <td>[matlab]</td>\n",
       "      <td>4 days ago</td>\n",
       "      <td>6 applicants</td>\n",
       "    </tr>\n",
       "    <tr>\n",
       "      <th>2</th>\n",
       "      <td>2</td>\n",
       "      <td>\\n  &lt;div&gt;\\n    &lt;div class=\"\\n        jobs-deta...</td>\n",
       "      <td>Online Data Analyst</td>\n",
       "      <td>Skara, Vastra Gotaland County, Sweden</td>\n",
       "      <td>Remote</td>\n",
       "      <td>TELUS International AI Data Solutions</td>\n",
       "      <td>10,001+ employees · IT Services and IT Consulting</td>\n",
       "      <td>[]</td>\n",
       "      <td>6 days ago</td>\n",
       "      <td>12 applicants</td>\n",
       "    </tr>\n",
       "    <tr>\n",
       "      <th>3</th>\n",
       "      <td>3</td>\n",
       "      <td>\\n  &lt;div&gt;\\n    &lt;div class=\"\\n        jobs-deta...</td>\n",
       "      <td>Online Data Analyst - Belgium</td>\n",
       "      <td>West Flanders, Flemish Region, Belgium</td>\n",
       "      <td>Remote</td>\n",
       "      <td>TELUS International</td>\n",
       "      <td>10,001+ employees · IT Services and IT Consulting</td>\n",
       "      <td>[]</td>\n",
       "      <td>6 days ago</td>\n",
       "      <td>11 applicants</td>\n",
       "    </tr>\n",
       "    <tr>\n",
       "      <th>4</th>\n",
       "      <td>4</td>\n",
       "      <td>\\n  &lt;div&gt;\\n    &lt;div class=\"\\n        jobs-deta...</td>\n",
       "      <td>Data Analyst</td>\n",
       "      <td>Mecklenburg-West Pomerania, Germany</td>\n",
       "      <td>Remote</td>\n",
       "      <td>TELUS International AI Data Solutions</td>\n",
       "      <td>10,001+ employees · IT Services and IT Consulting</td>\n",
       "      <td>[]</td>\n",
       "      <td>8 hours ago</td>\n",
       "      <td>NaN</td>\n",
       "    </tr>\n",
       "  </tbody>\n",
       "</table>\n",
       "</div>"
      ],
      "text/plain": [
       "   Unnamed: 0                                               html  \\\n",
       "0           0  \\n  <div>\\n    <div class=\"\\n        jobs-deta...   \n",
       "1           1  \\n  <div>\\n    <div class=\"\\n        jobs-deta...   \n",
       "2           2  \\n  <div>\\n    <div class=\"\\n        jobs-deta...   \n",
       "3           3  \\n  <div>\\n    <div class=\"\\n        jobs-deta...   \n",
       "4           4  \\n  <div>\\n    <div class=\"\\n        jobs-deta...   \n",
       "\n",
       "                                               title  \\\n",
       "0  Stage - Assistant Ingénieur Qualité - Beyrand ...   \n",
       "1  développeur matlab/simulink, secteur automobil...   \n",
       "2                                Online Data Analyst   \n",
       "3                      Online Data Analyst - Belgium   \n",
       "4                                       Data Analyst   \n",
       "\n",
       "                                 location type_of_employment  \\\n",
       "0     Limoges, Nouvelle-Aquitaine, France            On-site   \n",
       "1             Toulouse, Occitanie, France            On-site   \n",
       "2   Skara, Vastra Gotaland County, Sweden             Remote   \n",
       "3  West Flanders, Flemish Region, Belgium             Remote   \n",
       "4     Mecklenburg-West Pomerania, Germany             Remote   \n",
       "\n",
       "                                 company  \\\n",
       "0                                 Hermès   \n",
       "1                                   AUSY   \n",
       "2  TELUS International AI Data Solutions   \n",
       "3                    TELUS International   \n",
       "4  TELUS International AI Data Solutions   \n",
       "\n",
       "                                        company_size   description  \\\n",
       "0  10,001+ employees · Retail Luxury Goods and Je...  [api, excel]   \n",
       "1  5,001-10,000 employees · IT Services and IT Co...      [matlab]   \n",
       "2  10,001+ employees · IT Services and IT Consulting            []   \n",
       "3  10,001+ employees · IT Services and IT Consulting            []   \n",
       "4  10,001+ employees · IT Services and IT Consulting            []   \n",
       "\n",
       "             date amount_of_applicants  \n",
       "0  13 minutes ago                  NaN  \n",
       "1      4 days ago         6 applicants  \n",
       "2      6 days ago        12 applicants  \n",
       "3      6 days ago        11 applicants  \n",
       "4     8 hours ago                  NaN  "
      ]
     },
     "execution_count": 19,
     "metadata": {},
     "output_type": "execute_result"
    }
   ],
   "source": [
    "df.head()"
   ]
  },
  {
   "cell_type": "markdown",
   "id": "569e7db7",
   "metadata": {},
   "source": [
    "## Предобработка данных"
   ]
  },
  {
   "cell_type": "markdown",
   "id": "757986b5",
   "metadata": {},
   "source": [
    "Удалим лишние и ненужные столбцы."
   ]
  },
  {
   "cell_type": "code",
   "execution_count": 20,
   "id": "76e0431f",
   "metadata": {},
   "outputs": [],
   "source": [
    "df = df.drop(['Unnamed: 0', 'html'], axis=1)"
   ]
  },
  {
   "cell_type": "markdown",
   "id": "38cf9eca",
   "metadata": {},
   "source": [
    "Получим общую информацию о данных."
   ]
  },
  {
   "cell_type": "code",
   "execution_count": 21,
   "id": "0b43a19f",
   "metadata": {},
   "outputs": [
    {
     "name": "stdout",
     "output_type": "stream",
     "text": [
      "<class 'pandas.core.frame.DataFrame'>\n",
      "RangeIndex: 772 entries, 0 to 771\n",
      "Data columns (total 8 columns):\n",
      " #   Column                Non-Null Count  Dtype \n",
      "---  ------                --------------  ----- \n",
      " 0   title                 772 non-null    object\n",
      " 1   location              772 non-null    object\n",
      " 2   type_of_employment    641 non-null    object\n",
      " 3   company               772 non-null    object\n",
      " 4   company_size          770 non-null    object\n",
      " 5   description           772 non-null    object\n",
      " 6   date                  772 non-null    object\n",
      " 7   amount_of_applicants  350 non-null    object\n",
      "dtypes: object(8)\n",
      "memory usage: 48.4+ KB\n"
     ]
    }
   ],
   "source": [
    "df.info()"
   ]
  },
  {
   "cell_type": "markdown",
   "id": "0b859a3b",
   "metadata": {},
   "source": [
    "### Столбец 'title'"
   ]
  },
  {
   "cell_type": "markdown",
   "id": "f27bcb10",
   "metadata": {},
   "source": [
    "Переведем названия должностей в нижний регистр."
   ]
  },
  {
   "cell_type": "code",
   "execution_count": 22,
   "id": "0e105342",
   "metadata": {},
   "outputs": [],
   "source": [
    "df['title'] = df['title'].str.lower()"
   ]
  },
  {
   "cell_type": "markdown",
   "id": "7225a81c",
   "metadata": {},
   "source": [
    "Оставим в таблице только интересующие нас должности data analyst и BI аналитика."
   ]
  },
  {
   "cell_type": "code",
   "execution_count": 23,
   "id": "b0c91f77",
   "metadata": {},
   "outputs": [],
   "source": [
    "df = df[df['title'].str.contains('data analyst|bi ', regex=True)]"
   ]
  },
  {
   "cell_type": "markdown",
   "id": "831f290d",
   "metadata": {},
   "source": [
    "Осталась 261 вакансия."
   ]
  },
  {
   "cell_type": "markdown",
   "id": "7dc95c23",
   "metadata": {},
   "source": [
    "### Столбец 'location'"
   ]
  },
  {
   "cell_type": "code",
   "execution_count": 24,
   "id": "3aab3fd5",
   "metadata": {
    "scrolled": false
   },
   "outputs": [
    {
     "data": {
      "text/plain": [
       "London, England, United Kingdom                18\n",
       "Paris, Île-de-France, France                    7\n",
       "Berlin, Berlin, Germany                         7\n",
       "Manchester, England, United Kingdom             5\n",
       "Boulogne-Billancourt, Île-de-France, France     5\n",
       "                                               ..\n",
       "Zurich, Switzerland                             1\n",
       "Courbevoie, Île-de-France, France               1\n",
       "Strand, England, United Kingdom                 1\n",
       "Greater Milan Metropolitan Area                 1\n",
       "Dublin, County Dublin, Ireland                  1\n",
       "Name: location, Length: 174, dtype: int64"
      ]
     },
     "execution_count": 24,
     "metadata": {},
     "output_type": "execute_result"
    }
   ],
   "source": [
    "df['location'].value_counts()"
   ]
  },
  {
   "cell_type": "markdown",
   "id": "6d6edb59",
   "metadata": {},
   "source": [
    "Выделим страну в отдельный столбец."
   ]
  },
  {
   "cell_type": "code",
   "execution_count": 25,
   "id": "e1902a60",
   "metadata": {},
   "outputs": [],
   "source": [
    "df['country'] = df['location'].apply(lambda x: x[x.rfind(',') + 1:].strip())"
   ]
  },
  {
   "cell_type": "markdown",
   "id": "5d5ec099",
   "metadata": {},
   "source": [
    "Аналогично выделим город в отдельный столбец."
   ]
  },
  {
   "cell_type": "code",
   "execution_count": 26,
   "id": "52ffde45",
   "metadata": {},
   "outputs": [],
   "source": [
    "df['city'] = df['location'].apply(lambda x: x[:x.rfind(',')].strip())"
   ]
  },
  {
   "cell_type": "code",
   "execution_count": 27,
   "id": "a95d24cd",
   "metadata": {},
   "outputs": [
    {
     "data": {
      "text/plain": [
       "London, England                        18\n",
       "Paris, Île-de-France                    7\n",
       "Berlin, Berlin                          7\n",
       "Manchester, England                     5\n",
       "Boulogne-Billancourt, Île-de-France     5\n",
       "                                       ..\n",
       "Zurich                                  1\n",
       "Courbevoie, Île-de-France               1\n",
       "Strand, England                         1\n",
       "Greater Milan Metropolitan Are          1\n",
       "Dublin, County Dublin                   1\n",
       "Name: city, Length: 174, dtype: int64"
      ]
     },
     "execution_count": 27,
     "metadata": {},
     "output_type": "execute_result"
    }
   ],
   "source": [
    "df['city'].value_counts()"
   ]
  },
  {
   "cell_type": "code",
   "execution_count": 28,
   "id": "b0832198",
   "metadata": {},
   "outputs": [],
   "source": [
    "df['city'] = df['city'].apply(lambda x: x[:x.rfind(',')].strip())"
   ]
  },
  {
   "cell_type": "markdown",
   "id": "345f8d61",
   "metadata": {},
   "source": [
    "Заметим, что в большинстве случаев название города идет до первой запятой, поэтому повторно отсечем всё лишнее."
   ]
  },
  {
   "cell_type": "code",
   "execution_count": 29,
   "id": "c37de60a",
   "metadata": {},
   "outputs": [
    {
     "data": {
      "text/plain": [
       "London                           18\n",
       "Paris                             7\n",
       "Berlin                            7\n",
       "Manchester                        5\n",
       "Boulogne-Billancourt              5\n",
       "                                 ..\n",
       "Zuric                             1\n",
       "Courbevoie                        1\n",
       "Strand                            1\n",
       "Greater Milan Metropolitan Ar     1\n",
       "Dublin                            1\n",
       "Name: city, Length: 174, dtype: int64"
      ]
     },
     "execution_count": 29,
     "metadata": {},
     "output_type": "execute_result"
    }
   ],
   "source": [
    "df['city'].value_counts()"
   ]
  },
  {
   "cell_type": "markdown",
   "id": "818f25d8",
   "metadata": {},
   "source": [
    "### Столбец 'type_of_employment'"
   ]
  },
  {
   "cell_type": "code",
   "execution_count": 30,
   "id": "04bc82c4",
   "metadata": {},
   "outputs": [
    {
     "data": {
      "text/plain": [
       "On-site    111\n",
       "Remote      77\n",
       "Hybrid      24\n",
       "Name: type_of_employment, dtype: int64"
      ]
     },
     "execution_count": 30,
     "metadata": {},
     "output_type": "execute_result"
    }
   ],
   "source": [
    "df['type_of_employment'].value_counts()"
   ]
  },
  {
   "cell_type": "markdown",
   "id": "5df81a5c",
   "metadata": {},
   "source": [
    "Лишних значений нет, но в этом столбце есть пропуски."
   ]
  },
  {
   "cell_type": "markdown",
   "id": "d24a2dd1",
   "metadata": {},
   "source": [
    "### Столбец company_size"
   ]
  },
  {
   "cell_type": "code",
   "execution_count": 31,
   "id": "f1ea1fa7",
   "metadata": {},
   "outputs": [
    {
     "data": {
      "text/plain": [
       "10,001+ employees · IT Services and IT Consulting                          63\n",
       "201-500 employees · Staffing and Recruiting                                 8\n",
       "501-1,000 employees · IT Services and IT Consulting                         8\n",
       "1,001-5,000 employees · IT Services and IT Consulting                       8\n",
       "51-200 employees · Staffing and Recruiting                                  5\n",
       "                                                                           ..\n",
       "£30,000/yr - £35,000/yr                                                     1\n",
       "10,001+ employees · Construction                                            1\n",
       "10,001+ employees · Information Services                                    1\n",
       "1,001-5,000 employees · Retail Office Equipment                             1\n",
       "10,001+ employees · Transportation, Logistics, Supply Chain and Storage     1\n",
       "Name: company_size, Length: 123, dtype: int64"
      ]
     },
     "execution_count": 31,
     "metadata": {},
     "output_type": "execute_result"
    }
   ],
   "source": [
    "df['company_size'].value_counts()"
   ]
  },
  {
   "cell_type": "markdown",
   "id": "15754a02",
   "metadata": {},
   "source": [
    "В этом столбце оказалось сразу два нужных нам параметра - сфера деятельности компании и размер. Напишем функцию, чтобы разделить эти значения по столбцам."
   ]
  },
  {
   "cell_type": "code",
   "execution_count": 32,
   "id": "ce4b6fa5",
   "metadata": {},
   "outputs": [],
   "source": [
    "def get_field(elem):\n",
    "    try:\n",
    "        return elem[elem.find('yees') + 7:].strip()\n",
    "    except:\n",
    "        return None"
   ]
  },
  {
   "cell_type": "code",
   "execution_count": 33,
   "id": "d0f00041",
   "metadata": {},
   "outputs": [],
   "source": [
    "df['field'] = df['company_size'].apply(get_field)"
   ]
  },
  {
   "cell_type": "code",
   "execution_count": 34,
   "id": "1e5006cb",
   "metadata": {},
   "outputs": [],
   "source": [
    "def get_size(elem):\n",
    "    try:\n",
    "        return elem[: elem.find('empl') - 1].strip()\n",
    "    except:\n",
    "        return None"
   ]
  },
  {
   "cell_type": "code",
   "execution_count": 35,
   "id": "824cc086",
   "metadata": {},
   "outputs": [],
   "source": [
    "df['company_size'] = df['company_size'].apply(get_size)"
   ]
  },
  {
   "cell_type": "code",
   "execution_count": 36,
   "id": "5bbadf86",
   "metadata": {},
   "outputs": [
    {
     "data": {
      "text/plain": [
       "10,001+                                                                                           104\n",
       "1,001-5,000                                                                                        35\n",
       "51-200                                                                                             23\n",
       "501-1,000                                                                                          22\n",
       "201-500                                                                                            20\n",
       "5,001-10,000                                                                                       15\n",
       "1-10                                                                                               15\n",
       "11-50                                                                                              12\n",
       "See recent hiring trends for www.TeamQuest.pl. Unlock more Premium insights for fr                  2\n",
       "See recent hiring trends for Software * IT. Unlock more Premium insights for fr                     2\n",
       "See how you compare to 3 applicants. Unlock more Premium insights for fr                            1\n",
       "IT Services and IT Consulti                                                                         1\n",
       "See how you compare to 4 applicants. Unlock more Premium insights for fr                            1\n",
       "£19,000/yr - £28,000/                                                                               1\n",
       "Government Administrati                                                                             1\n",
       "See how you compare to 6 applicants. Unlock more Premium insights for fr                            1\n",
       "See how you compare to 14 applicants. Unlock more Premium insights for fr                           1\n",
       "£25,000/yr - £27,500/                                                                               1\n",
       "£30,000/yr - £35,000/                                                                               1\n",
       "See recent hiring trends for Ashley Kate HR &amp; Finance. Unlock more Premium insights for fr      1\n",
       "Name: company_size, dtype: int64"
      ]
     },
     "execution_count": 36,
     "metadata": {},
     "output_type": "execute_result"
    }
   ],
   "source": [
    "df['company_size'].value_counts()"
   ]
  },
  {
   "cell_type": "markdown",
   "id": "8a24c34b",
   "metadata": {},
   "source": [
    "В некоторых строках у нас какая-то ненужная информация, уберем ее."
   ]
  },
  {
   "cell_type": "code",
   "execution_count": 37,
   "id": "585b8fbe",
   "metadata": {},
   "outputs": [],
   "source": [
    "def clean_data(elem):\n",
    "    if elem is None:\n",
    "        return 'unknown'\n",
    "    elif 'See' in elem or 'Serv' in elem or '/' in elem or 'Gove' in elem:\n",
    "        return 'unknown'\n",
    "    else:\n",
    "        return elem"
   ]
  },
  {
   "cell_type": "code",
   "execution_count": 38,
   "id": "8dfb947f",
   "metadata": {},
   "outputs": [],
   "source": [
    "df['company_size'] = df['company_size'].apply(clean_data)"
   ]
  },
  {
   "cell_type": "code",
   "execution_count": 39,
   "id": "02d7811d",
   "metadata": {
    "scrolled": true
   },
   "outputs": [
    {
     "data": {
      "text/plain": [
       "10,001+         104\n",
       "1,001-5,000      35\n",
       "51-200           23\n",
       "501-1,000        22\n",
       "201-500          20\n",
       "5,001-10,000     15\n",
       "1-10             15\n",
       "unknown          15\n",
       "11-50            12\n",
       "Name: company_size, dtype: int64"
      ]
     },
     "execution_count": 39,
     "metadata": {},
     "output_type": "execute_result"
    }
   ],
   "source": [
    "df['company_size'].value_counts()"
   ]
  },
  {
   "cell_type": "markdown",
   "id": "5639b29b",
   "metadata": {},
   "source": [
    "### Столбец 'date'"
   ]
  },
  {
   "cell_type": "code",
   "execution_count": 40,
   "id": "ecf61987",
   "metadata": {},
   "outputs": [
    {
     "data": {
      "text/plain": [
       "1 day ago       61\n",
       "6 days ago      60\n",
       "5 days ago      45\n",
       "2 days ago      29\n",
       "8 hours ago     13\n",
       "4 days ago      10\n",
       "3 days ago       7\n",
       "23 hours ago     7\n",
       "2 hours ago      7\n",
       "9 hours ago      4\n",
       "21 hours ago     4\n",
       "7 hours ago      4\n",
       "19 hours ago     1\n",
       "14 hours ago     1\n",
       "3 hours ago      1\n",
       "4 hours ago      1\n",
       "16 hours ago     1\n",
       "6 hours ago      1\n",
       "18 hours ago     1\n",
       "11 hours ago     1\n",
       "1 week ago       1\n",
       "10 hours ago     1\n",
       "Name: date, dtype: int64"
      ]
     },
     "execution_count": 40,
     "metadata": {},
     "output_type": "execute_result"
    }
   ],
   "source": [
    "df['date'].value_counts()"
   ]
  },
  {
   "cell_type": "markdown",
   "id": "d3b58a31",
   "metadata": {},
   "source": [
    "Переведем этот столбец в формат даты. Данные у нас на 07.09.2022. Отнимем количество дней, указанном в этом столбце, при этом если не прошло полного дня, ничего отнимать не будем."
   ]
  },
  {
   "cell_type": "code",
   "execution_count": 41,
   "id": "6816691b",
   "metadata": {},
   "outputs": [],
   "source": [
    "def get_date(elem):\n",
    "    if 'day' in elem:\n",
    "        days = int(elem[:2].strip())\n",
    "        return datetime(2022, 9, 7) - timedelta(days=days)\n",
    "    elif 'week' in elem:\n",
    "        days = int(elem[0]) * 7\n",
    "        return datetime(2022, 9, 7) - timedelta(days=days)\n",
    "    else:\n",
    "        return datetime(2022, 9, 7)"
   ]
  },
  {
   "cell_type": "code",
   "execution_count": 42,
   "id": "8fde2439",
   "metadata": {},
   "outputs": [],
   "source": [
    "df['date'] = df['date'].apply(get_date)"
   ]
  },
  {
   "cell_type": "code",
   "execution_count": 43,
   "id": "dc0c8ecc",
   "metadata": {
    "scrolled": true
   },
   "outputs": [
    {
     "data": {
      "text/plain": [
       "2022-09-06    61\n",
       "2022-09-01    60\n",
       "2022-09-07    48\n",
       "2022-09-02    45\n",
       "2022-09-05    29\n",
       "2022-09-03    10\n",
       "2022-09-04     7\n",
       "2022-08-31     1\n",
       "Name: date, dtype: int64"
      ]
     },
     "execution_count": 43,
     "metadata": {},
     "output_type": "execute_result"
    }
   ],
   "source": [
    "df['date'].value_counts()"
   ]
  },
  {
   "cell_type": "markdown",
   "id": "c0cb6789",
   "metadata": {},
   "source": [
    "### Столбец 'applicants'"
   ]
  },
  {
   "cell_type": "code",
   "execution_count": 44,
   "id": "80b92a5f",
   "metadata": {},
   "outputs": [
    {
     "data": {
      "text/plain": [
       "11 applicants    11\n",
       "3 applicants      9\n",
       "2 applicants      9\n",
       "6 applicants      8\n",
       "5 applicants      8\n",
       "12 applicants     8\n",
       "7 applicants      8\n",
       "14 applicants     7\n",
       "1 applicant       7\n",
       "9 applicants      7\n",
       "13 applicants     5\n",
       "22 applicants     5\n",
       "10 applicants     4\n",
       "18 applicants     3\n",
       "15 applicants     3\n",
       "17 applicants     3\n",
       "20 applicants     3\n",
       "4 applicants      3\n",
       "16 applicants     2\n",
       "8 applicants      2\n",
       "21 applicants     2\n",
       "23 applicants     2\n",
       "19 applicants     1\n",
       "24 applicants     1\n",
       "Name: amount_of_applicants, dtype: int64"
      ]
     },
     "execution_count": 44,
     "metadata": {},
     "output_type": "execute_result"
    }
   ],
   "source": [
    "df['amount_of_applicants'].value_counts()"
   ]
  },
  {
   "cell_type": "markdown",
   "id": "75cfa814",
   "metadata": {},
   "source": [
    "Уберем лишнее слово 'applicants' из этого столбца."
   ]
  },
  {
   "cell_type": "code",
   "execution_count": 45,
   "id": "82ba332e",
   "metadata": {},
   "outputs": [],
   "source": [
    "def get_applicants(elem):\n",
    "    try:\n",
    "        return int(elem[: elem.find('app') - 1].strip())\n",
    "    except:\n",
    "        return np.nan"
   ]
  },
  {
   "cell_type": "code",
   "execution_count": 46,
   "id": "559c9780",
   "metadata": {},
   "outputs": [],
   "source": [
    "df['amount_of_applicants'] = df['amount_of_applicants'].apply(get_applicants)"
   ]
  },
  {
   "cell_type": "markdown",
   "id": "e6f05dfb",
   "metadata": {},
   "source": [
    "Посмотрим на итоговую таблицу"
   ]
  },
  {
   "cell_type": "code",
   "execution_count": 47,
   "id": "54edf7b7",
   "metadata": {},
   "outputs": [
    {
     "data": {
      "text/html": [
       "<div>\n",
       "<style scoped>\n",
       "    .dataframe tbody tr th:only-of-type {\n",
       "        vertical-align: middle;\n",
       "    }\n",
       "\n",
       "    .dataframe tbody tr th {\n",
       "        vertical-align: top;\n",
       "    }\n",
       "\n",
       "    .dataframe thead th {\n",
       "        text-align: right;\n",
       "    }\n",
       "</style>\n",
       "<table border=\"1\" class=\"dataframe\">\n",
       "  <thead>\n",
       "    <tr style=\"text-align: right;\">\n",
       "      <th></th>\n",
       "      <th>title</th>\n",
       "      <th>location</th>\n",
       "      <th>type_of_employment</th>\n",
       "      <th>company</th>\n",
       "      <th>company_size</th>\n",
       "      <th>description</th>\n",
       "      <th>date</th>\n",
       "      <th>amount_of_applicants</th>\n",
       "      <th>country</th>\n",
       "      <th>city</th>\n",
       "      <th>field</th>\n",
       "    </tr>\n",
       "  </thead>\n",
       "  <tbody>\n",
       "    <tr>\n",
       "      <th>2</th>\n",
       "      <td>online data analyst</td>\n",
       "      <td>Skara, Vastra Gotaland County, Sweden</td>\n",
       "      <td>Remote</td>\n",
       "      <td>TELUS International AI Data Solutions</td>\n",
       "      <td>10,001+</td>\n",
       "      <td>[]</td>\n",
       "      <td>2022-09-01</td>\n",
       "      <td>12.0</td>\n",
       "      <td>Sweden</td>\n",
       "      <td>Skara</td>\n",
       "      <td>IT Services and IT Consulting</td>\n",
       "    </tr>\n",
       "    <tr>\n",
       "      <th>3</th>\n",
       "      <td>online data analyst - belgium</td>\n",
       "      <td>West Flanders, Flemish Region, Belgium</td>\n",
       "      <td>Remote</td>\n",
       "      <td>TELUS International</td>\n",
       "      <td>10,001+</td>\n",
       "      <td>[]</td>\n",
       "      <td>2022-09-01</td>\n",
       "      <td>11.0</td>\n",
       "      <td>Belgium</td>\n",
       "      <td>West Flanders</td>\n",
       "      <td>IT Services and IT Consulting</td>\n",
       "    </tr>\n",
       "    <tr>\n",
       "      <th>4</th>\n",
       "      <td>data analyst</td>\n",
       "      <td>Mecklenburg-West Pomerania, Germany</td>\n",
       "      <td>Remote</td>\n",
       "      <td>TELUS International AI Data Solutions</td>\n",
       "      <td>10,001+</td>\n",
       "      <td>[]</td>\n",
       "      <td>2022-09-07</td>\n",
       "      <td>NaN</td>\n",
       "      <td>Germany</td>\n",
       "      <td>Mecklenburg-West Pomerani</td>\n",
       "      <td>IT Services and IT Consulting</td>\n",
       "    </tr>\n",
       "    <tr>\n",
       "      <th>5</th>\n",
       "      <td>data analyst</td>\n",
       "      <td>Hamburg, Germany</td>\n",
       "      <td>Remote</td>\n",
       "      <td>TELUS International AI Data Solutions</td>\n",
       "      <td>10,001+</td>\n",
       "      <td>[]</td>\n",
       "      <td>2022-09-07</td>\n",
       "      <td>NaN</td>\n",
       "      <td>Germany</td>\n",
       "      <td>Hambur</td>\n",
       "      <td>IT Services and IT Consulting</td>\n",
       "    </tr>\n",
       "    <tr>\n",
       "      <th>6</th>\n",
       "      <td>alternant/ alternante data analyst m/f</td>\n",
       "      <td>Rousset, Provence-Alpes-Côte d'Azur, France</td>\n",
       "      <td>On-site</td>\n",
       "      <td>STMicroelectronics</td>\n",
       "      <td>10,001+</td>\n",
       "      <td>[excel, python, sql, java, html, powerbi, powe...</td>\n",
       "      <td>2022-09-02</td>\n",
       "      <td>NaN</td>\n",
       "      <td>France</td>\n",
       "      <td>Rousset</td>\n",
       "      <td>Semiconductor Manufacturing</td>\n",
       "    </tr>\n",
       "  </tbody>\n",
       "</table>\n",
       "</div>"
      ],
      "text/plain": [
       "                                    title  \\\n",
       "2                     online data analyst   \n",
       "3           online data analyst - belgium   \n",
       "4                            data analyst   \n",
       "5                            data analyst   \n",
       "6  alternant/ alternante data analyst m/f   \n",
       "\n",
       "                                      location type_of_employment  \\\n",
       "2        Skara, Vastra Gotaland County, Sweden             Remote   \n",
       "3       West Flanders, Flemish Region, Belgium             Remote   \n",
       "4          Mecklenburg-West Pomerania, Germany             Remote   \n",
       "5                             Hamburg, Germany             Remote   \n",
       "6  Rousset, Provence-Alpes-Côte d'Azur, France            On-site   \n",
       "\n",
       "                                 company company_size  \\\n",
       "2  TELUS International AI Data Solutions      10,001+   \n",
       "3                    TELUS International      10,001+   \n",
       "4  TELUS International AI Data Solutions      10,001+   \n",
       "5  TELUS International AI Data Solutions      10,001+   \n",
       "6                     STMicroelectronics      10,001+   \n",
       "\n",
       "                                         description       date  \\\n",
       "2                                                 [] 2022-09-01   \n",
       "3                                                 [] 2022-09-01   \n",
       "4                                                 [] 2022-09-07   \n",
       "5                                                 [] 2022-09-07   \n",
       "6  [excel, python, sql, java, html, powerbi, powe... 2022-09-02   \n",
       "\n",
       "   amount_of_applicants  country                       city  \\\n",
       "2                  12.0   Sweden                      Skara   \n",
       "3                  11.0  Belgium              West Flanders   \n",
       "4                   NaN  Germany  Mecklenburg-West Pomerani   \n",
       "5                   NaN  Germany                     Hambur   \n",
       "6                   NaN   France                    Rousset   \n",
       "\n",
       "                           field  \n",
       "2  IT Services and IT Consulting  \n",
       "3  IT Services and IT Consulting  \n",
       "4  IT Services and IT Consulting  \n",
       "5  IT Services and IT Consulting  \n",
       "6    Semiconductor Manufacturing  "
      ]
     },
     "execution_count": 47,
     "metadata": {},
     "output_type": "execute_result"
    }
   ],
   "source": [
    "df.head()"
   ]
  },
  {
   "cell_type": "markdown",
   "id": "8cc327a4",
   "metadata": {},
   "source": [
    "И вспомним, что столбец с хард скиллами надо бы разбить:)"
   ]
  },
  {
   "cell_type": "code",
   "execution_count": 48,
   "id": "b42c3950",
   "metadata": {},
   "outputs": [],
   "source": [
    "df = df.explode('description')"
   ]
  },
  {
   "cell_type": "code",
   "execution_count": 49,
   "id": "b167e7ce",
   "metadata": {},
   "outputs": [
    {
     "name": "stdout",
     "output_type": "stream",
     "text": [
      "<class 'pandas.core.frame.DataFrame'>\n",
      "Int64Index: 818 entries, 2 to 693\n",
      "Data columns (total 11 columns):\n",
      " #   Column                Non-Null Count  Dtype         \n",
      "---  ------                --------------  -----         \n",
      " 0   title                 818 non-null    object        \n",
      " 1   location              818 non-null    object        \n",
      " 2   type_of_employment    614 non-null    object        \n",
      " 3   company               818 non-null    object        \n",
      " 4   company_size          818 non-null    object        \n",
      " 5   description           742 non-null    object        \n",
      " 6   date                  818 non-null    datetime64[ns]\n",
      " 7   amount_of_applicants  314 non-null    float64       \n",
      " 8   country               818 non-null    object        \n",
      " 9   city                  818 non-null    object        \n",
      " 10  field                 815 non-null    object        \n",
      "dtypes: datetime64[ns](1), float64(1), object(9)\n",
      "memory usage: 76.7+ KB\n"
     ]
    }
   ],
   "source": [
    "df.info()"
   ]
  },
  {
   "cell_type": "markdown",
   "id": "001b703b",
   "metadata": {},
   "source": [
    "Заполним пропуски во всех столбцах словом 'unknown'"
   ]
  },
  {
   "cell_type": "code",
   "execution_count": 50,
   "id": "c3538c6f",
   "metadata": {},
   "outputs": [],
   "source": [
    "df = df.fillna('unknown')"
   ]
  },
  {
   "cell_type": "markdown",
   "id": "c1a91996",
   "metadata": {},
   "source": [
    "Проверим на наличие явных дубликатов."
   ]
  },
  {
   "cell_type": "code",
   "execution_count": 51,
   "id": "7e3f719e",
   "metadata": {},
   "outputs": [
    {
     "data": {
      "text/plain": [
       "59"
      ]
     },
     "execution_count": 51,
     "metadata": {},
     "output_type": "execute_result"
    }
   ],
   "source": [
    "df.duplicated().sum()"
   ]
  },
  {
   "cell_type": "markdown",
   "id": "dc176838",
   "metadata": {},
   "source": [
    "Избавимся от них."
   ]
  },
  {
   "cell_type": "code",
   "execution_count": 52,
   "id": "3d93aa72",
   "metadata": {},
   "outputs": [],
   "source": [
    "df = df.drop_duplicates()"
   ]
  },
  {
   "cell_type": "code",
   "execution_count": 53,
   "id": "16d66324",
   "metadata": {},
   "outputs": [
    {
     "name": "stdout",
     "output_type": "stream",
     "text": [
      "<class 'pandas.core.frame.DataFrame'>\n",
      "Int64Index: 759 entries, 2 to 693\n",
      "Data columns (total 11 columns):\n",
      " #   Column                Non-Null Count  Dtype         \n",
      "---  ------                --------------  -----         \n",
      " 0   title                 759 non-null    object        \n",
      " 1   location              759 non-null    object        \n",
      " 2   type_of_employment    759 non-null    object        \n",
      " 3   company               759 non-null    object        \n",
      " 4   company_size          759 non-null    object        \n",
      " 5   description           759 non-null    object        \n",
      " 6   date                  759 non-null    datetime64[ns]\n",
      " 7   amount_of_applicants  759 non-null    object        \n",
      " 8   country               759 non-null    object        \n",
      " 9   city                  759 non-null    object        \n",
      " 10  field                 759 non-null    object        \n",
      "dtypes: datetime64[ns](1), object(10)\n",
      "memory usage: 71.2+ KB\n"
     ]
    }
   ],
   "source": [
    "df.info()"
   ]
  },
  {
   "cell_type": "markdown",
   "id": "a2d20886",
   "metadata": {},
   "source": [
    "Теперь всё готово, можно экспортировать файл в табло и готовить дашборд."
   ]
  },
  {
   "cell_type": "code",
   "execution_count": 54,
   "id": "86ad4657",
   "metadata": {},
   "outputs": [],
   "source": [
    "df.to_csv('final_data.csv')"
   ]
  },
  {
   "cell_type": "markdown",
   "id": "f1244126",
   "metadata": {},
   "source": [
    "## Выводы"
   ]
  },
  {
   "attachments": {},
   "cell_type": "markdown",
   "id": "8b0f89cf",
   "metadata": {},
   "source": [
    "С помощью библиотеки BeautifulSoup сырые данные были распарсены, подготовлены и предобратаны. На их основе можно строить дашборд, в соответствии с техническим заданием."
   ]
  },
  {
   "cell_type": "code",
   "execution_count": null,
   "id": "e38e6340",
   "metadata": {},
   "outputs": [],
   "source": []
  }
 ],
 "metadata": {
  "kernelspec": {
   "display_name": "Python 3 (ipykernel)",
   "language": "python",
   "name": "python3"
  },
  "language_info": {
   "codemirror_mode": {
    "name": "ipython",
    "version": 3
   },
   "file_extension": ".py",
   "mimetype": "text/x-python",
   "name": "python",
   "nbconvert_exporter": "python",
   "pygments_lexer": "ipython3",
   "version": "3.9.7"
  },
  "toc": {
   "base_numbering": 1,
   "nav_menu": {
    "height": "209px",
    "width": "231px"
   },
   "number_sections": true,
   "sideBar": true,
   "skip_h1_title": true,
   "title_cell": "Table of Contents",
   "title_sidebar": "Contents",
   "toc_cell": true,
   "toc_position": {
    "height": "calc(100% - 180px)",
    "left": "10px",
    "top": "150px",
    "width": "313px"
   },
   "toc_section_display": true,
   "toc_window_display": true
  }
 },
 "nbformat": 4,
 "nbformat_minor": 5
}
